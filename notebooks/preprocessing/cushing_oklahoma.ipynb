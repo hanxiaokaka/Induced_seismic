{
 "cells": [
  {
   "cell_type": "markdown",
   "id": "83d76828",
   "metadata": {},
   "source": [
    "### Preprocessing of Cushing, Oklahoma wastewater disposal and seismicity data\n",
    "\n"
   ]
  },
  {
   "cell_type": "code",
   "execution_count": 1,
   "id": "447a8b28",
   "metadata": {},
   "outputs": [],
   "source": [
    "# Load relevant packages.\n",
    "import numpy as np\n",
    "import h5py\n",
    "import pandas as pd"
   ]
  },
  {
   "cell_type": "markdown",
   "id": "d78bf509",
   "metadata": {},
   "source": [
    "### Seismic data "
   ]
  },
  {
   "cell_type": "code",
   "execution_count": 2,
   "id": "332210d6",
   "metadata": {},
   "outputs": [
    {
     "name": "stdout",
     "output_type": "stream",
     "text": [
      "List of columns in this file: \n",
      " ['b_value', 'b_value_epoch', 'depth', 'dpdt', 'easting', 'epoch', 'eventID', 'latitude', 'longitude', 'magnitude', 'northing']\n"
     ]
    }
   ],
   "source": [
    "# Seismic data.\n",
    "with h5py.File('../datasets_Jul_7/cushing_oklahoma/cushingSeismic.hdf5','r') as hdf:\n",
    "    ls = list(hdf.keys())\n",
    "    print(\"List of columns in this file: \\n\", ls)\n",
    "    epoch = np.array(hdf.get('epoch'))\n",
    "    latitude = np.array(hdf.get('latitude'))\n",
    "    longitude = np.array(hdf.get('longitude'))    \n",
    "    depth = np.array(hdf.get('depth'))\n",
    "    easting = np.array(hdf.get('easting'))\n",
    "    northing = np.array(hdf.get('northing'))\n",
    "    magnitude = np.array(hdf.get('magnitude'))"
   ]
  },
  {
   "cell_type": "code",
   "execution_count": 3,
   "id": "f61bc737",
   "metadata": {},
   "outputs": [],
   "source": [
    "# Set up and write seismic catalog.\n",
    "seismic = pd.DataFrame({'epoch': epoch,\n",
    "                        'latitude': latitude,\n",
    "                        'longitude': longitude,\n",
    "                        'depth': depth,\n",
    "                        'easting': easting,\n",
    "                        'northing': northing,\n",
    "                        'magnitude': magnitude\n",
    "                      })"
   ]
  },
  {
   "cell_type": "code",
   "execution_count": 4,
   "id": "a3965008",
   "metadata": {},
   "outputs": [
    {
     "data": {
      "text/html": [
       "<div>\n",
       "<style scoped>\n",
       "    .dataframe tbody tr th:only-of-type {\n",
       "        vertical-align: middle;\n",
       "    }\n",
       "\n",
       "    .dataframe tbody tr th {\n",
       "        vertical-align: top;\n",
       "    }\n",
       "\n",
       "    .dataframe thead th {\n",
       "        text-align: right;\n",
       "    }\n",
       "</style>\n",
       "<table border=\"1\" class=\"dataframe\">\n",
       "  <thead>\n",
       "    <tr style=\"text-align: right;\">\n",
       "      <th></th>\n",
       "      <th>epoch</th>\n",
       "      <th>latitude</th>\n",
       "      <th>longitude</th>\n",
       "      <th>depth</th>\n",
       "      <th>easting</th>\n",
       "      <th>northing</th>\n",
       "      <th>magnitude</th>\n",
       "    </tr>\n",
       "  </thead>\n",
       "  <tbody>\n",
       "    <tr>\n",
       "      <th>891</th>\n",
       "      <td>1.459508e+09</td>\n",
       "      <td>35.93570</td>\n",
       "      <td>-96.75237</td>\n",
       "      <td>3.927</td>\n",
       "      <td>702754.187443</td>\n",
       "      <td>3.979151e+06</td>\n",
       "      <td>1.84</td>\n",
       "    </tr>\n",
       "    <tr>\n",
       "      <th>826</th>\n",
       "      <td>1.457266e+09</td>\n",
       "      <td>35.92937</td>\n",
       "      <td>-96.73756</td>\n",
       "      <td>4.615</td>\n",
       "      <td>704106.666266</td>\n",
       "      <td>3.978480e+06</td>\n",
       "      <td>1.81</td>\n",
       "    </tr>\n",
       "    <tr>\n",
       "      <th>207</th>\n",
       "      <td>1.412900e+09</td>\n",
       "      <td>35.95173</td>\n",
       "      <td>-96.78008</td>\n",
       "      <td>6.458</td>\n",
       "      <td>700213.663590</td>\n",
       "      <td>3.980872e+06</td>\n",
       "      <td>1.64</td>\n",
       "    </tr>\n",
       "    <tr>\n",
       "      <th>210</th>\n",
       "      <td>1.412909e+09</td>\n",
       "      <td>35.94608</td>\n",
       "      <td>-96.78452</td>\n",
       "      <td>3.979</td>\n",
       "      <td>699827.395129</td>\n",
       "      <td>3.980237e+06</td>\n",
       "      <td>1.30</td>\n",
       "    </tr>\n",
       "    <tr>\n",
       "      <th>157</th>\n",
       "      <td>1.412702e+09</td>\n",
       "      <td>35.94511</td>\n",
       "      <td>-96.75716</td>\n",
       "      <td>5.000</td>\n",
       "      <td>702298.023893</td>\n",
       "      <td>3.980185e+06</td>\n",
       "      <td>1.42</td>\n",
       "    </tr>\n",
       "    <tr>\n",
       "      <th>473</th>\n",
       "      <td>1.425364e+09</td>\n",
       "      <td>35.94862</td>\n",
       "      <td>-96.78442</td>\n",
       "      <td>3.892</td>\n",
       "      <td>699830.016245</td>\n",
       "      <td>3.980519e+06</td>\n",
       "      <td>1.90</td>\n",
       "    </tr>\n",
       "    <tr>\n",
       "      <th>911</th>\n",
       "      <td>1.459747e+09</td>\n",
       "      <td>35.93637</td>\n",
       "      <td>-96.75243</td>\n",
       "      <td>4.482</td>\n",
       "      <td>702747.061990</td>\n",
       "      <td>3.979226e+06</td>\n",
       "      <td>2.57</td>\n",
       "    </tr>\n",
       "    <tr>\n",
       "      <th>752</th>\n",
       "      <td>1.441245e+09</td>\n",
       "      <td>35.94864</td>\n",
       "      <td>-96.77019</td>\n",
       "      <td>4.832</td>\n",
       "      <td>701113.615629</td>\n",
       "      <td>3.980550e+06</td>\n",
       "      <td>1.42</td>\n",
       "    </tr>\n",
       "  </tbody>\n",
       "</table>\n",
       "</div>"
      ],
      "text/plain": [
       "            epoch  latitude  longitude  depth        easting      northing  \\\n",
       "891  1.459508e+09  35.93570  -96.75237  3.927  702754.187443  3.979151e+06   \n",
       "826  1.457266e+09  35.92937  -96.73756  4.615  704106.666266  3.978480e+06   \n",
       "207  1.412900e+09  35.95173  -96.78008  6.458  700213.663590  3.980872e+06   \n",
       "210  1.412909e+09  35.94608  -96.78452  3.979  699827.395129  3.980237e+06   \n",
       "157  1.412702e+09  35.94511  -96.75716  5.000  702298.023893  3.980185e+06   \n",
       "473  1.425364e+09  35.94862  -96.78442  3.892  699830.016245  3.980519e+06   \n",
       "911  1.459747e+09  35.93637  -96.75243  4.482  702747.061990  3.979226e+06   \n",
       "752  1.441245e+09  35.94864  -96.77019  4.832  701113.615629  3.980550e+06   \n",
       "\n",
       "     magnitude  \n",
       "891       1.84  \n",
       "826       1.81  \n",
       "207       1.64  \n",
       "210       1.30  \n",
       "157       1.42  \n",
       "473       1.90  \n",
       "911       2.57  \n",
       "752       1.42  "
      ]
     },
     "execution_count": 4,
     "metadata": {},
     "output_type": "execute_result"
    }
   ],
   "source": [
    "seismic.sample(8)"
   ]
  },
  {
   "cell_type": "code",
   "execution_count": 5,
   "id": "9db7985d",
   "metadata": {},
   "outputs": [],
   "source": [
    "seismic.to_csv('../staging/temporal/cushing_oklahoma/seismic.csv', index=None)"
   ]
  },
  {
   "cell_type": "markdown",
   "id": "5c575f10",
   "metadata": {},
   "source": [
    "### Load well positions, injection data, and pressurization rate data."
   ]
  },
  {
   "cell_type": "code",
   "execution_count": 6,
   "id": "74256360",
   "metadata": {},
   "outputs": [
    {
     "name": "stdout",
     "output_type": "stream",
     "text": [
      "No. of samples along t = 25000\n",
      "No. of samples along x = 1\n",
      "No. of samples along y = 1\n",
      "No. of samples along z = 1\n"
     ]
    }
   ],
   "source": [
    "# Epoch (s)\n",
    "t = np.array(pd.read_csv('../datasets_Jul_7/cushing_oklahoma/pressure_table/t.csv', header=None)[0])\n",
    "print('No. of samples along t = %d'% (len(t)))\n",
    "\n",
    "# Well easting (m)\n",
    "x = np.array(pd.read_csv('../datasets_Jul_7/cushing_oklahoma/pressure_table/x.csv', header=None)[0])\n",
    "print('No. of samples along x = %d'% (len(x)))\n",
    "\n",
    "# Well northing (m)\n",
    "y = np.array(pd.read_csv('../datasets_Jul_7/cushing_oklahoma/pressure_table/y.csv', header=None)[0])\n",
    "print('No. of samples along y = %d'% (len(y)))\n",
    "\n",
    "# Well depth (m)\n",
    "z = np.array(pd.read_csv('../datasets_Jul_7/cushing_oklahoma/pressure_table/z.csv', header=None)[0])\n",
    "print('No. of samples along z = %d'% (len(z)))"
   ]
  },
  {
   "cell_type": "markdown",
   "id": "5902b621",
   "metadata": {},
   "source": [
    "It looks like we have only 1 injection well."
   ]
  },
  {
   "cell_type": "code",
   "execution_count": 7,
   "id": "ba5da804",
   "metadata": {},
   "outputs": [
    {
     "name": "stdout",
     "output_type": "stream",
     "text": [
      "No. of dp/dt samples = 25000\n"
     ]
    }
   ],
   "source": [
    "# Pressurization rate data.\n",
    "dpdt = np.array(pd.read_csv('../datasets_Jul_7/cushing_oklahoma/pressure_table/dpdt.csv', header=None)[0])\n",
    "print('No. of dp/dt samples = %d'% (len(dpdt)))"
   ]
  },
  {
   "cell_type": "code",
   "execution_count": 8,
   "id": "240188ae",
   "metadata": {},
   "outputs": [],
   "source": [
    "# Flow rate data\n",
    "df_flow = pd.read_csv('../datasets_Jul_7/cushing_oklahoma/cushingClusterCenterDPDT.csv')"
   ]
  },
  {
   "cell_type": "code",
   "execution_count": 9,
   "id": "0b74f08c",
   "metadata": {},
   "outputs": [
    {
     "data": {
      "text/html": [
       "<div>\n",
       "<style scoped>\n",
       "    .dataframe tbody tr th:only-of-type {\n",
       "        vertical-align: middle;\n",
       "    }\n",
       "\n",
       "    .dataframe tbody tr th {\n",
       "        vertical-align: top;\n",
       "    }\n",
       "\n",
       "    .dataframe thead th {\n",
       "        text-align: right;\n",
       "    }\n",
       "</style>\n",
       "<table border=\"1\" class=\"dataframe\">\n",
       "  <thead>\n",
       "    <tr style=\"text-align: right;\">\n",
       "      <th></th>\n",
       "      <th>epoch</th>\n",
       "      <th>flow_rate</th>\n",
       "    </tr>\n",
       "  </thead>\n",
       "  <tbody>\n",
       "    <tr>\n",
       "      <th>0</th>\n",
       "      <td>7.862378e+08</td>\n",
       "      <td>0.0</td>\n",
       "    </tr>\n",
       "    <tr>\n",
       "      <th>1</th>\n",
       "      <td>7.862669e+08</td>\n",
       "      <td>0.0</td>\n",
       "    </tr>\n",
       "    <tr>\n",
       "      <th>2</th>\n",
       "      <td>7.862959e+08</td>\n",
       "      <td>0.0</td>\n",
       "    </tr>\n",
       "    <tr>\n",
       "      <th>3</th>\n",
       "      <td>7.863249e+08</td>\n",
       "      <td>0.0</td>\n",
       "    </tr>\n",
       "    <tr>\n",
       "      <th>4</th>\n",
       "      <td>7.863539e+08</td>\n",
       "      <td>0.0</td>\n",
       "    </tr>\n",
       "  </tbody>\n",
       "</table>\n",
       "</div>"
      ],
      "text/plain": [
       "          epoch  flow_rate\n",
       "0  7.862378e+08        0.0\n",
       "1  7.862669e+08        0.0\n",
       "2  7.862959e+08        0.0\n",
       "3  7.863249e+08        0.0\n",
       "4  7.863539e+08        0.0"
      ]
     },
     "execution_count": 9,
     "metadata": {},
     "output_type": "execute_result"
    }
   ],
   "source": [
    "df_flow.head()"
   ]
  },
  {
   "cell_type": "code",
   "execution_count": 10,
   "id": "15e8da86",
   "metadata": {},
   "outputs": [],
   "source": [
    "injection = np.array(df_flow['flow_rate'])"
   ]
  },
  {
   "cell_type": "markdown",
   "id": "a69ed69b",
   "metadata": {},
   "source": [
    "### TO DO: Compute pressures using radial flow model in orion_light."
   ]
  },
  {
   "cell_type": "code",
   "execution_count": 11,
   "id": "16358c6f",
   "metadata": {},
   "outputs": [],
   "source": [
    "# Radial flow parameters\n",
    "\n",
    "viscosity = 1.0       # cD\n",
    "permeability = 194.5  # mD\n",
    "storativity = 0.0014 \n",
    "reservoir_depth = 100 # m\n",
    "\n",
    "# min_radius = ?"
   ]
  },
  {
   "cell_type": "markdown",
   "id": "d88323ac",
   "metadata": {},
   "source": [
    "A simple workaround is to compute pressures by integrating dp/dt over t."
   ]
  },
  {
   "cell_type": "code",
   "execution_count": 12,
   "id": "30fa3aae",
   "metadata": {},
   "outputs": [],
   "source": [
    "from orion_light.pressure_table import PressureTableModel"
   ]
  },
  {
   "cell_type": "code",
   "execution_count": 13,
   "id": "f0763ade",
   "metadata": {},
   "outputs": [],
   "source": [
    "model = PressureTableModel()"
   ]
  },
  {
   "cell_type": "code",
   "execution_count": 14,
   "id": "b9e3e8d5",
   "metadata": {},
   "outputs": [],
   "source": [
    "model.load_array(dpdt=dpdt, x=x, y=y, z=z, t=t)"
   ]
  },
  {
   "cell_type": "code",
   "execution_count": 15,
   "id": "f8e1acb9",
   "metadata": {},
   "outputs": [
    {
     "data": {
      "text/plain": [
       "{'dpdt': array([[[[0.        , 0.        , 0.        , ..., 0.01754773,\n",
       "           0.017566  , 0.01758427]]]]),\n",
       " 'x': array([0.]),\n",
       " 'y': array([0.]),\n",
       " 'z': array([0.]),\n",
       " 't': array([7.86237840e+08, 7.86266854e+08, 7.86295869e+08, ...,\n",
       "        1.51202621e+09, 1.51205523e+09, 1.51208424e+09]),\n",
       " 'pressure': array([[[[      0.        ,       0.        ,       0.        , ...,\n",
       "           7153543.25126303, 7154052.6511425 , 7154562.58097576]]]])}"
      ]
     },
     "execution_count": 15,
     "metadata": {},
     "output_type": "execute_result"
    }
   ],
   "source": [
    "model.table_data"
   ]
  },
  {
   "cell_type": "markdown",
   "id": "c4d21f82",
   "metadata": {},
   "source": [
    "Injection pressure is now computed."
   ]
  },
  {
   "cell_type": "markdown",
   "id": "f6f03e8a",
   "metadata": {},
   "source": [
    "### Set up and write injection data catalog."
   ]
  },
  {
   "cell_type": "code",
   "execution_count": 16,
   "id": "ce5cb062",
   "metadata": {},
   "outputs": [],
   "source": [
    "# Set up injection catalog.\n",
    "injection_cat = pd.DataFrame({'epoch': t,\n",
    "                              'injection': injection,\n",
    "                              'pressure': model.table_data['pressure'].squeeze(),\n",
    "                              'dpdt': dpdt\n",
    "                            })"
   ]
  },
  {
   "cell_type": "code",
   "execution_count": 17,
   "id": "da804976",
   "metadata": {},
   "outputs": [
    {
     "data": {
      "text/html": [
       "<div>\n",
       "<style scoped>\n",
       "    .dataframe tbody tr th:only-of-type {\n",
       "        vertical-align: middle;\n",
       "    }\n",
       "\n",
       "    .dataframe tbody tr th {\n",
       "        vertical-align: top;\n",
       "    }\n",
       "\n",
       "    .dataframe thead th {\n",
       "        text-align: right;\n",
       "    }\n",
       "</style>\n",
       "<table border=\"1\" class=\"dataframe\">\n",
       "  <thead>\n",
       "    <tr style=\"text-align: right;\">\n",
       "      <th></th>\n",
       "      <th>epoch</th>\n",
       "      <th>injection</th>\n",
       "      <th>pressure</th>\n",
       "      <th>dpdt</th>\n",
       "    </tr>\n",
       "  </thead>\n",
       "  <tbody>\n",
       "    <tr>\n",
       "      <th>24990</th>\n",
       "      <td>1.511823e+09</td>\n",
       "      <td>0.017420</td>\n",
       "      <td>7.149992e+06</td>\n",
       "      <td>0.017420</td>\n",
       "    </tr>\n",
       "    <tr>\n",
       "      <th>24991</th>\n",
       "      <td>1.511852e+09</td>\n",
       "      <td>0.017438</td>\n",
       "      <td>7.150498e+06</td>\n",
       "      <td>0.017438</td>\n",
       "    </tr>\n",
       "    <tr>\n",
       "      <th>24992</th>\n",
       "      <td>1.511881e+09</td>\n",
       "      <td>0.017456</td>\n",
       "      <td>7.151004e+06</td>\n",
       "      <td>0.017456</td>\n",
       "    </tr>\n",
       "    <tr>\n",
       "      <th>24993</th>\n",
       "      <td>1.511910e+09</td>\n",
       "      <td>0.017475</td>\n",
       "      <td>7.151511e+06</td>\n",
       "      <td>0.017475</td>\n",
       "    </tr>\n",
       "    <tr>\n",
       "      <th>24994</th>\n",
       "      <td>1.511939e+09</td>\n",
       "      <td>0.017493</td>\n",
       "      <td>7.152018e+06</td>\n",
       "      <td>0.017493</td>\n",
       "    </tr>\n",
       "    <tr>\n",
       "      <th>24995</th>\n",
       "      <td>1.511968e+09</td>\n",
       "      <td>0.017511</td>\n",
       "      <td>7.152526e+06</td>\n",
       "      <td>0.017511</td>\n",
       "    </tr>\n",
       "    <tr>\n",
       "      <th>24996</th>\n",
       "      <td>1.511997e+09</td>\n",
       "      <td>0.017529</td>\n",
       "      <td>7.153034e+06</td>\n",
       "      <td>0.017529</td>\n",
       "    </tr>\n",
       "    <tr>\n",
       "      <th>24997</th>\n",
       "      <td>1.512026e+09</td>\n",
       "      <td>0.017548</td>\n",
       "      <td>7.153543e+06</td>\n",
       "      <td>0.017548</td>\n",
       "    </tr>\n",
       "    <tr>\n",
       "      <th>24998</th>\n",
       "      <td>1.512055e+09</td>\n",
       "      <td>0.017566</td>\n",
       "      <td>7.154053e+06</td>\n",
       "      <td>0.017566</td>\n",
       "    </tr>\n",
       "    <tr>\n",
       "      <th>24999</th>\n",
       "      <td>1.512084e+09</td>\n",
       "      <td>0.017584</td>\n",
       "      <td>7.154563e+06</td>\n",
       "      <td>0.017584</td>\n",
       "    </tr>\n",
       "  </tbody>\n",
       "</table>\n",
       "</div>"
      ],
      "text/plain": [
       "              epoch  injection      pressure      dpdt\n",
       "24990  1.511823e+09   0.017420  7.149992e+06  0.017420\n",
       "24991  1.511852e+09   0.017438  7.150498e+06  0.017438\n",
       "24992  1.511881e+09   0.017456  7.151004e+06  0.017456\n",
       "24993  1.511910e+09   0.017475  7.151511e+06  0.017475\n",
       "24994  1.511939e+09   0.017493  7.152018e+06  0.017493\n",
       "24995  1.511968e+09   0.017511  7.152526e+06  0.017511\n",
       "24996  1.511997e+09   0.017529  7.153034e+06  0.017529\n",
       "24997  1.512026e+09   0.017548  7.153543e+06  0.017548\n",
       "24998  1.512055e+09   0.017566  7.154053e+06  0.017566\n",
       "24999  1.512084e+09   0.017584  7.154563e+06  0.017584"
      ]
     },
     "execution_count": 17,
     "metadata": {},
     "output_type": "execute_result"
    }
   ],
   "source": [
    "injection_cat.tail(10)"
   ]
  },
  {
   "cell_type": "code",
   "execution_count": 18,
   "id": "cc3995bf",
   "metadata": {},
   "outputs": [],
   "source": [
    "injection_cat.to_csv('../staging/temporal/cushing_oklahoma/injection.csv', index=None)"
   ]
  },
  {
   "cell_type": "code",
   "execution_count": null,
   "id": "7702edeb",
   "metadata": {},
   "outputs": [],
   "source": []
  }
 ],
 "metadata": {
  "kernelspec": {
   "display_name": "Python 3 (ipykernel)",
   "language": "python",
   "name": "python3"
  },
  "language_info": {
   "codemirror_mode": {
    "name": "ipython",
    "version": 3
   },
   "file_extension": ".py",
   "mimetype": "text/x-python",
   "name": "python",
   "nbconvert_exporter": "python",
   "pygments_lexer": "ipython3",
   "version": "3.9.7"
  }
 },
 "nbformat": 4,
 "nbformat_minor": 5
}
