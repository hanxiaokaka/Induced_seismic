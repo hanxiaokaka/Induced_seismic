{
 "cells": [
  {
   "cell_type": "markdown",
   "id": "fa30d274",
   "metadata": {},
   "source": [
    "# Kansas Data Preprocessing\n",
    "\n",
    "This notebook explores datasets from Kansas and uses radial flow models to calculate pressure data from injection data. The earthquake catalog is well-formatted without many changes\n",
    "\n",
    "## First Part\n",
    "The first part of the notebook process earthquake catalog data in Kansas"
   ]
  },
  {
   "cell_type": "code",
   "execution_count": 116,
   "id": "4fb16955",
   "metadata": {},
   "outputs": [],
   "source": [
    "from orion_light.seismic_catalog import SeismicCatalog\n",
    "import numpy as np\n",
    "import pandas as pd\n",
    "import matplotlib.pyplot as plt\n",
    "import h5py\n",
    "import utm\n",
    "import os"
   ]
  },
  {
   "cell_type": "code",
   "execution_count": 120,
   "id": "285bc56f",
   "metadata": {},
   "outputs": [],
   "source": [
    "# Setting path for the seismic catalog data\n",
    "seismic_csv='../datasets_Jul_7/kansas/kansasSeismicDetection.csv'"
   ]
  },
  {
   "cell_type": "code",
   "execution_count": 121,
   "id": "5e2ee784",
   "metadata": {},
   "outputs": [],
   "source": [
    "# Using pandas to load csv file\n",
    "seismic_dataset=pd.read_csv(seismic_csv)"
   ]
  },
  {
   "cell_type": "code",
   "execution_count": 119,
   "id": "e6820657",
   "metadata": {},
   "outputs": [],
   "source": [
    "# Reordering the seismic catalog data into the format that we want and save it\n",
    "seismic_reordered=pd.DataFrame({'epoch':seismic_dataset.epoch,\n",
    "                                'latitude': seismic_dataset.latitude,\n",
    "                                'longitude': seismic_dataset.longitude,\n",
    "                                'depth': seismic_dataset.depth,\n",
    "                                'easting': seismic_dataset.easting,\n",
    "                                'northing': seismic_dataset.northing,\n",
    "                                'magnitude': seismic_dataset.magnitude\n",
    "                               })\n",
    "seismic_reordered.to_csv('../Temporal_Datasets/kansas/seismic.csv',index=None)"
   ]
  },
  {
   "cell_type": "code",
   "execution_count": 131,
   "id": "488a0e5c",
   "metadata": {},
   "outputs": [],
   "source": [
    "# plt.hist(seismic_reordered['depth'])"
   ]
  },
  {
   "cell_type": "markdown",
   "id": "fc8f234d",
   "metadata": {},
   "source": [
    "## Second Part\n",
    "The second part of the notebook focuses on the processing of the injection datasets in Kansas\n",
    "### Loading Injection Dataset"
   ]
  },
  {
   "cell_type": "code",
   "execution_count": 122,
   "id": "e05624ab",
   "metadata": {},
   "outputs": [],
   "source": [
    "## Restart the work using the new datasets\n",
    "# Loading Injection data\n",
    "injection_csv='../datasets_Jul_7/Kansas/kansasInjection.csv'\n",
    "injection_dataset=pd.read_csv(injection_csv,header=None,delimiter=' ')"
   ]
  },
  {
   "cell_type": "code",
   "execution_count": 126,
   "id": "a3c50fb4",
   "metadata": {},
   "outputs": [
    {
     "data": {
      "text/html": [
       "<div>\n",
       "<style scoped>\n",
       "    .dataframe tbody tr th:only-of-type {\n",
       "        vertical-align: middle;\n",
       "    }\n",
       "\n",
       "    .dataframe tbody tr th {\n",
       "        vertical-align: top;\n",
       "    }\n",
       "\n",
       "    .dataframe thead th {\n",
       "        text-align: right;\n",
       "    }\n",
       "</style>\n",
       "<table border=\"1\" class=\"dataframe\">\n",
       "  <thead>\n",
       "    <tr style=\"text-align: right;\">\n",
       "      <th></th>\n",
       "      <th>0</th>\n",
       "      <th>1</th>\n",
       "      <th>2</th>\n",
       "      <th>3</th>\n",
       "      <th>4</th>\n",
       "      <th>5</th>\n",
       "      <th>6</th>\n",
       "      <th>7</th>\n",
       "      <th>8</th>\n",
       "      <th>9</th>\n",
       "      <th>...</th>\n",
       "      <th>93</th>\n",
       "      <th>94</th>\n",
       "      <th>95</th>\n",
       "      <th>96</th>\n",
       "      <th>97</th>\n",
       "      <th>98</th>\n",
       "      <th>99</th>\n",
       "      <th>100</th>\n",
       "      <th>101</th>\n",
       "      <th>102</th>\n",
       "    </tr>\n",
       "  </thead>\n",
       "  <tbody>\n",
       "    <tr>\n",
       "      <th>0</th>\n",
       "      <td>1.451635e+09</td>\n",
       "      <td>0.003736</td>\n",
       "      <td>0.0</td>\n",
       "      <td>0.003736</td>\n",
       "      <td>0.003171</td>\n",
       "      <td>0.003344</td>\n",
       "      <td>0.004723</td>\n",
       "      <td>0.002922</td>\n",
       "      <td>0.004140</td>\n",
       "      <td>0.001564</td>\n",
       "      <td>...</td>\n",
       "      <td>0.0</td>\n",
       "      <td>0.0</td>\n",
       "      <td>0.0</td>\n",
       "      <td>0.0</td>\n",
       "      <td>0.0</td>\n",
       "      <td>0.0</td>\n",
       "      <td>0.0</td>\n",
       "      <td>0.0</td>\n",
       "      <td>0.003162</td>\n",
       "      <td>0.003364</td>\n",
       "    </tr>\n",
       "    <tr>\n",
       "      <th>1</th>\n",
       "      <td>1.454314e+09</td>\n",
       "      <td>0.003381</td>\n",
       "      <td>0.0</td>\n",
       "      <td>0.003381</td>\n",
       "      <td>0.002659</td>\n",
       "      <td>0.003129</td>\n",
       "      <td>0.003950</td>\n",
       "      <td>0.002801</td>\n",
       "      <td>0.004018</td>\n",
       "      <td>0.001027</td>\n",
       "      <td>...</td>\n",
       "      <td>0.0</td>\n",
       "      <td>0.0</td>\n",
       "      <td>0.0</td>\n",
       "      <td>0.0</td>\n",
       "      <td>0.0</td>\n",
       "      <td>0.0</td>\n",
       "      <td>0.0</td>\n",
       "      <td>0.0</td>\n",
       "      <td>0.003003</td>\n",
       "      <td>0.003382</td>\n",
       "    </tr>\n",
       "    <tr>\n",
       "      <th>2</th>\n",
       "      <td>1.456819e+09</td>\n",
       "      <td>0.003715</td>\n",
       "      <td>0.0</td>\n",
       "      <td>0.003715</td>\n",
       "      <td>0.002627</td>\n",
       "      <td>0.003344</td>\n",
       "      <td>0.004685</td>\n",
       "      <td>0.002922</td>\n",
       "      <td>0.004140</td>\n",
       "      <td>0.001398</td>\n",
       "      <td>...</td>\n",
       "      <td>0.0</td>\n",
       "      <td>0.0</td>\n",
       "      <td>0.0</td>\n",
       "      <td>0.0</td>\n",
       "      <td>0.0</td>\n",
       "      <td>0.0</td>\n",
       "      <td>0.0</td>\n",
       "      <td>0.0</td>\n",
       "      <td>0.003179</td>\n",
       "      <td>0.003825</td>\n",
       "    </tr>\n",
       "    <tr>\n",
       "      <th>3</th>\n",
       "      <td>1.459494e+09</td>\n",
       "      <td>0.003496</td>\n",
       "      <td>0.0</td>\n",
       "      <td>0.003496</td>\n",
       "      <td>0.002981</td>\n",
       "      <td>0.003237</td>\n",
       "      <td>0.004514</td>\n",
       "      <td>0.002861</td>\n",
       "      <td>0.004079</td>\n",
       "      <td>0.001378</td>\n",
       "      <td>...</td>\n",
       "      <td>0.0</td>\n",
       "      <td>0.0</td>\n",
       "      <td>0.0</td>\n",
       "      <td>0.0</td>\n",
       "      <td>0.0</td>\n",
       "      <td>0.0</td>\n",
       "      <td>0.0</td>\n",
       "      <td>0.0</td>\n",
       "      <td>0.003029</td>\n",
       "      <td>0.003676</td>\n",
       "    </tr>\n",
       "    <tr>\n",
       "      <th>4</th>\n",
       "      <td>1.462086e+09</td>\n",
       "      <td>0.003490</td>\n",
       "      <td>0.0</td>\n",
       "      <td>0.003490</td>\n",
       "      <td>0.002763</td>\n",
       "      <td>0.003344</td>\n",
       "      <td>0.004705</td>\n",
       "      <td>0.002861</td>\n",
       "      <td>0.004140</td>\n",
       "      <td>0.001508</td>\n",
       "      <td>...</td>\n",
       "      <td>0.0</td>\n",
       "      <td>0.0</td>\n",
       "      <td>0.0</td>\n",
       "      <td>0.0</td>\n",
       "      <td>0.0</td>\n",
       "      <td>0.0</td>\n",
       "      <td>0.0</td>\n",
       "      <td>0.0</td>\n",
       "      <td>0.003141</td>\n",
       "      <td>0.003469</td>\n",
       "    </tr>\n",
       "  </tbody>\n",
       "</table>\n",
       "<p>5 rows × 103 columns</p>\n",
       "</div>"
      ],
      "text/plain": [
       "            0         1    2         3         4         5         6    \\\n",
       "0  1.451635e+09  0.003736  0.0  0.003736  0.003171  0.003344  0.004723   \n",
       "1  1.454314e+09  0.003381  0.0  0.003381  0.002659  0.003129  0.003950   \n",
       "2  1.456819e+09  0.003715  0.0  0.003715  0.002627  0.003344  0.004685   \n",
       "3  1.459494e+09  0.003496  0.0  0.003496  0.002981  0.003237  0.004514   \n",
       "4  1.462086e+09  0.003490  0.0  0.003490  0.002763  0.003344  0.004705   \n",
       "\n",
       "        7         8         9    ...  93   94   95   96   97   98   99   100  \\\n",
       "0  0.002922  0.004140  0.001564  ...  0.0  0.0  0.0  0.0  0.0  0.0  0.0  0.0   \n",
       "1  0.002801  0.004018  0.001027  ...  0.0  0.0  0.0  0.0  0.0  0.0  0.0  0.0   \n",
       "2  0.002922  0.004140  0.001398  ...  0.0  0.0  0.0  0.0  0.0  0.0  0.0  0.0   \n",
       "3  0.002861  0.004079  0.001378  ...  0.0  0.0  0.0  0.0  0.0  0.0  0.0  0.0   \n",
       "4  0.002861  0.004140  0.001508  ...  0.0  0.0  0.0  0.0  0.0  0.0  0.0  0.0   \n",
       "\n",
       "        101       102  \n",
       "0  0.003162  0.003364  \n",
       "1  0.003003  0.003382  \n",
       "2  0.003179  0.003825  \n",
       "3  0.003029  0.003676  \n",
       "4  0.003141  0.003469  \n",
       "\n",
       "[5 rows x 103 columns]"
      ]
     },
     "execution_count": 126,
     "metadata": {},
     "output_type": "execute_result"
    }
   ],
   "source": [
    "# Transposing the dataset\n",
    "injection_dataset_transpose = injection_dataset.transpose()\n",
    "injection_dataset_transpose.head()"
   ]
  },
  {
   "cell_type": "code",
   "execution_count": 547,
   "id": "95338066",
   "metadata": {},
   "outputs": [
    {
     "data": {
      "text/plain": [
       "[<matplotlib.lines.Line2D at 0x7fe950b8d6d0>]"
      ]
     },
     "execution_count": 547,
     "metadata": {},
     "output_type": "execute_result"
    },
    {
     "data": {
      "image/png": "[encoded data removed]",
      "text/plain": [
       "<Figure size 432x288 with 1 Axes>"
      ]
     },
     "metadata": {
      "needs_background": "light"
     },
     "output_type": "display_data"
    }
   ],
   "source": [
    "plt.plot(injection_dataset_transpose[4])"
   ]
  },
  {
   "cell_type": "markdown",
   "id": "4077cd39",
   "metadata": {},
   "source": [
    "### Loading datasets with site information"
   ]
  },
  {
   "cell_type": "code",
   "execution_count": 549,
   "id": "d8d68661",
   "metadata": {},
   "outputs": [
    {
     "data": {
      "text/html": [
       "<div>\n",
       "<style scoped>\n",
       "    .dataframe tbody tr th:only-of-type {\n",
       "        vertical-align: middle;\n",
       "    }\n",
       "\n",
       "    .dataframe tbody tr th {\n",
       "        vertical-align: top;\n",
       "    }\n",
       "\n",
       "    .dataframe thead th {\n",
       "        text-align: right;\n",
       "    }\n",
       "</style>\n",
       "<table border=\"1\" class=\"dataframe\">\n",
       "  <thead>\n",
       "    <tr style=\"text-align: right;\">\n",
       "      <th></th>\n",
       "      <th>api</th>\n",
       "      <th>lat</th>\n",
       "      <th>lon</th>\n",
       "    </tr>\n",
       "  </thead>\n",
       "  <tbody>\n",
       "    <tr>\n",
       "      <th>0</th>\n",
       "      <td>15077001230001</td>\n",
       "      <td>37.325</td>\n",
       "      <td>-98.248</td>\n",
       "    </tr>\n",
       "    <tr>\n",
       "      <th>1</th>\n",
       "      <td>15077010450002</td>\n",
       "      <td>37.124</td>\n",
       "      <td>-98.014</td>\n",
       "    </tr>\n",
       "    <tr>\n",
       "      <th>2</th>\n",
       "      <td>15077010820000</td>\n",
       "      <td>37.321</td>\n",
       "      <td>-98.256</td>\n",
       "    </tr>\n",
       "    <tr>\n",
       "      <th>3</th>\n",
       "      <td>15077100640001</td>\n",
       "      <td>37.362</td>\n",
       "      <td>-98.236</td>\n",
       "    </tr>\n",
       "    <tr>\n",
       "      <th>4</th>\n",
       "      <td>15077200120001</td>\n",
       "      <td>37.306</td>\n",
       "      <td>-98.214</td>\n",
       "    </tr>\n",
       "  </tbody>\n",
       "</table>\n",
       "</div>"
      ],
      "text/plain": [
       "              api     lat     lon\n",
       "0  15077001230001  37.325 -98.248\n",
       "1  15077010450002  37.124 -98.014\n",
       "2  15077010820000  37.321 -98.256\n",
       "3  15077100640001  37.362 -98.236\n",
       "4  15077200120001  37.306 -98.214"
      ]
     },
     "execution_count": 549,
     "metadata": {},
     "output_type": "execute_result"
    }
   ],
   "source": [
    "# Loading site locations\n",
    "site_csv = pd.read_csv('../datasets_Jul_7/kansas/kansas_well_apiLocation.txt',delimiter=' ')\n",
    "site_csv.head()"
   ]
  },
  {
   "cell_type": "code",
   "execution_count": 133,
   "id": "f647f3ef",
   "metadata": {},
   "outputs": [],
   "source": [
    "from orion_light.seismic_catalog import SeismicCatalog"
   ]
  },
  {
   "cell_type": "code",
   "execution_count": 556,
   "id": "7db32a0f",
   "metadata": {},
   "outputs": [],
   "source": [
    "# Manually using calculate utm coordinates function\n",
    "import utm\n",
    "def calculate_utm_coordinates(latitude, longitude):\n",
    "    \"\"\"\n",
    "    Convert catalog lat/lon coordinates to UTM\n",
    "    \"\"\"\n",
    "    tmp = utm.from_latlon(latitude, longitude)\n",
    "    easting = tmp[0]\n",
    "    northing = tmp[1]\n",
    "    utm_zone = str(tmp[2]) + tmp[3]\n",
    "    return easting, northing, utm_zone"
   ]
  },
  {
   "cell_type": "code",
   "execution_count": 557,
   "id": "448d4ad5",
   "metadata": {},
   "outputs": [],
   "source": [
    "x = np.zeros(len(site_csv['lat']))\n",
    "y = np.zeros(len(site_csv['lon']))\n",
    "z = np.zeros(len(site_csv['lon'])) # all zeros\n",
    "utm_list = [str(x) for x in site_csv['lat']]\n",
    "for i in range(len(site_csv['lat'])):\n",
    "    x[i],y[i],utm_list[i] = calculate_utm_coordinates(\n",
    "        site_csv['lat'][i],site_csv['lon'][i])"
   ]
  },
  {
   "cell_type": "code",
   "execution_count": 558,
   "id": "a0d574f8",
   "metadata": {},
   "outputs": [],
   "source": [
    "locations_kansas = pd.DataFrame(x,columns=['x'])"
   ]
  },
  {
   "cell_type": "code",
   "execution_count": 559,
   "id": "be8eaef7",
   "metadata": {},
   "outputs": [],
   "source": [
    "locations_kansas['y'] = y\n",
    "locations_kansas['z'] = z\n",
    "locations_kansas['utms'] = utm_list"
   ]
  },
  {
   "cell_type": "code",
   "execution_count": 560,
   "id": "ed6032d5",
   "metadata": {},
   "outputs": [],
   "source": [
    "# storing locations in Kansas to an external file\n",
    "locations_kansas.to_csv('../Temporal_Datasets/Kansas/locations.csv',index=None)"
   ]
  },
  {
   "cell_type": "code",
   "execution_count": 561,
   "id": "bf9e8c84",
   "metadata": {},
   "outputs": [],
   "source": [
    "# Calculate for the first well\n",
    "index = 0\n",
    "epochs = injection_dataset_transpose[index]\n",
    "x_loc = x[index]\n",
    "y_loc = y[index]\n",
    "z_loc = y[index]"
   ]
  },
  {
   "cell_type": "code",
   "execution_count": 562,
   "id": "841ebcd6",
   "metadata": {},
   "outputs": [],
   "source": [
    "# Getting epochs data\n",
    "epochs = np.array(epochs)"
   ]
  },
  {
   "cell_type": "code",
   "execution_count": 563,
   "id": "bd336e4b",
   "metadata": {},
   "outputs": [],
   "source": [
    "# Add injection data to the dataframe locations_kansas as 'q'\n",
    "(np.array(injection_dataset[1:])).shape\n",
    "locations_kansas['q'] = np.array(injection_dataset[1:]).tolist()"
   ]
  },
  {
   "cell_type": "code",
   "execution_count": 564,
   "id": "ad3204ab",
   "metadata": {},
   "outputs": [
    {
     "data": {
      "text/plain": [
       "0    1.451635e+09\n",
       "1    1.454314e+09\n",
       "2    1.456819e+09\n",
       "3    1.459494e+09\n",
       "4    1.462086e+09\n",
       "Name: 0, dtype: float64"
      ]
     },
     "execution_count": 564,
     "metadata": {},
     "output_type": "execute_result"
    }
   ],
   "source": [
    "# Show epochs data\n",
    "injection_dataset_transpose[0].head()"
   ]
  },
  {
   "cell_type": "code",
   "execution_count": 565,
   "id": "fb9eb5ee",
   "metadata": {},
   "outputs": [],
   "source": [
    "# saving wells in the format as used in well_tests.py\n",
    "wells=[]\n",
    "for index in range(len(locations_kansas.x)):\n",
    "    wells.append({'x':locations_kansas.x[index],'y':locations_kansas.y[index],'z':locations_kansas.z[index],\n",
    "                  't':epochs,'q':locations_kansas['q'][index]})"
   ]
  },
  {
   "cell_type": "code",
   "execution_count": 566,
   "id": "cad30ee1",
   "metadata": {},
   "outputs": [
    {
     "data": {
      "text/plain": [
       "Text(0, 0.5, 'Northing (m)')"
      ]
     },
     "execution_count": 566,
     "metadata": {},
     "output_type": "execute_result"
    },
    {
     "data": {
      "image/png": "[encoded data removed]",
      "text/plain": [
       "<Figure size 576x432 with 1 Axes>"
      ]
     },
     "metadata": {
      "needs_background": "light"
     },
     "output_type": "display_data"
    }
   ],
   "source": [
    "# wells location in Kansas\n",
    "wells_idx = 0\n",
    "fig = plt.figure(figsize=(8,6))\n",
    "plt.scatter(x,y,marker='o',s=4)\n",
    "plt.scatter(x[wells_idx],y[wells_idx],marker='d',s=20) # Labelling the first well in Kansas/\n",
    "plt.xlabel('Easting (m)', fontsize=16)\n",
    "plt.ylabel('Northing (m)', fontsize=16)"
   ]
  },
  {
   "cell_type": "code",
   "execution_count": 637,
   "id": "63f25d80",
   "metadata": {},
   "outputs": [
    {
     "data": {
      "text/plain": [
       "657753.5414096521"
      ]
     },
     "execution_count": 637,
     "metadata": {},
     "output_type": "execute_result"
    }
   ],
   "source": [
    "from orion_light import radial_flow, pressure_table\n",
    "flow_model = radial_flow.RadialFlowModel()\n",
    "flow_model.viscosity = 1.0\n",
    "flow_model.permeability = 194.5 \n",
    "flow_model.storativity = 0.0014 \n",
    "flow_model.payzone_thickness = 500.0\n",
    "flow_model.setup_model(wells) # Using only one well to test radial flow model\n",
    "# setting up grid spacing\n",
    "\n",
    "pressurization_range = 100 # determine the grid range \n",
    "# for the radial flow model \n",
    "number_of_points = 3 # determine the number of grid points in each direction\n",
    "x_list = np.linspace(wells[wells_idx]['x']-pressurization_range,wells[wells_idx]['x']+pressurization_range,number_of_points)\n",
    "y_list = np.linspace(wells[wells_idx]['y']-pressurization_range,wells[wells_idx]['y']+pressurization_range,number_of_points)\n",
    "z_list = np.array([0.0,100.0])\n",
    "t_list = np.linspace(epochs[0],epochs[-1],num=200)\n",
    "G = np.meshgrid(x_list,y_list,z_list,t_list,indexing='ij')\n",
    "# plot a 2D image to verify results, x, y as coordinates\n",
    "# 2D slices or 3D surface plot\n",
    "np.max(x)\n",
    "\n",
    "\n",
    "# Using smoother to smooth the pressure\n",
    "# x_list\n",
    "# G = np.meshgrid(np.array(wells[0]['x']),np.array(wells[0]['y']),\n",
    "#                     np.array(wells[0]['z']),t_list,indexing='ij')"
   ]
  },
  {
   "cell_type": "code",
   "execution_count": 653,
   "id": "063c396c",
   "metadata": {},
   "outputs": [],
   "source": [
    "x_list = np.linspace(np.min(x),np.max(x),20)\n",
    "y_list = np.linspace(np.min(y),np.max(y),20)"
   ]
  },
  {
   "cell_type": "code",
   "execution_count": 654,
   "id": "d33cb6d6",
   "metadata": {},
   "outputs": [],
   "source": [
    "G = np.meshgrid(x_list,y_list,z_list,t_list,indexing='ij')"
   ]
  },
  {
   "cell_type": "code",
   "execution_count": 655,
   "id": "c8aa4922",
   "metadata": {},
   "outputs": [],
   "source": [
    "p = flow_model(*G)"
   ]
  },
  {
   "cell_type": "code",
   "execution_count": 659,
   "id": "9b4f6f2b",
   "metadata": {},
   "outputs": [
    {
     "data": {
      "text/plain": [
       "Text(0, 0.5, 'Pressure (kPa)')"
      ]
     },
     "execution_count": 659,
     "metadata": {},
     "output_type": "execute_result"
    },
    {
     "data": {
      "image/png": "[encoded data removed]",
      "text/plain": [
       "<Figure size 432x288 with 1 Axes>"
      ]
     },
     "metadata": {
      "needs_background": "light"
     },
     "output_type": "display_data"
    }
   ],
   "source": [
    "pressure_data = p[:,:,0,:]\n",
    "# pressure_data_p_sum = np.sum(pressure_data,axis=2)\n",
    "# pressure_data_p_sum.shape\n",
    "t_scale = 24 * 60 * 60\n",
    "plt.figure()\n",
    "p_b = np.squeeze(p[4,4,0,:])*1e-3\n",
    "plt.plot(np.squeeze(t_list) / t_scale, p_b,'b')\n",
    "plt.xlabel('Time (days)')\n",
    "plt.ylabel('Pressure (kPa)')\n",
    "\n",
    "\n",
    "# Plotting the pressure data for one certain time\n",
    "# np.squeeze(pressure_data[:,:,100])\n",
    "# plt.imshow(pressure_data[:,:,100],aspect='auto',interpolation='nearest',origin='lower',\n",
    "#            extent=[x_list[0], x_list[-1], y_list[0], y_list[-1]])"
   ]
  },
  {
   "cell_type": "code",
   "execution_count": 666,
   "id": "d78d3fc9",
   "metadata": {},
   "outputs": [
    {
     "data": {
      "text/plain": [
       "<matplotlib.contour.QuadContourSet at 0x7fe9722b4610>"
      ]
     },
     "execution_count": 666,
     "metadata": {},
     "output_type": "execute_result"
    },
    {
     "data": {
      "image/png": "[encoded data removed]",
      "text/plain": [
       "<Figure size 432x288 with 1 Axes>"
      ]
     },
     "metadata": {
      "needs_background": "light"
     },
     "output_type": "display_data"
    }
   ],
   "source": [
    "plt.contour(x_list,y_list,p_b)"
   ]
  },
  {
   "cell_type": "code",
   "execution_count": 668,
   "id": "ed2c83d0",
   "metadata": {},
   "outputs": [],
   "source": [
    "output_root = \"../Temporal_Datasets/kansas/wells\"\n",
    "os.makedirs(output_root,exist_ok=True)"
   ]
  },
  {
   "cell_type": "code",
   "execution_count": 669,
   "id": "6baf53ec",
   "metadata": {},
   "outputs": [],
   "source": [
    "np.savetxt(os.path.join(output_root,'x.csv'),x_list,delimiter=',')\n",
    "np.savetxt(os.path.join(output_root,'y.csv'),y_list,delimiter=',')\n",
    "np.savetxt(os.path.join(output_root,'z.csv'),z_list,delimiter=',')\n",
    "np.savetxt(os.path.join(output_root,'t.csv'),t_list,delimiter=',')\n"
   ]
  },
  {
   "cell_type": "code",
   "execution_count": 670,
   "id": "30ba480c",
   "metadata": {},
   "outputs": [],
   "source": [
    "pressure_flat = np.reshape(p,(-1),order='F')\n",
    "np.savetxt(os.path.join(output_root,'pressure.csv'),pressure_flat,delimiter=',')"
   ]
  },
  {
   "cell_type": "code",
   "execution_count": 539,
   "id": "580d849a",
   "metadata": {},
   "outputs": [],
   "source": [
    "# t_scale = 60.0 * 60.0 * 24.0\n",
    "# p_b = np.squeeze(p[0,0,0,:])*1e-3\n",
    "# plt.plot(np.squeeze(t_list) / t_scale, p_b, 'b')\n"
   ]
  },
  {
   "cell_type": "code",
   "execution_count": 671,
   "id": "53adcdaa",
   "metadata": {},
   "outputs": [],
   "source": [
    "flow_model = pressure_table.PressureTableModel()\n",
    "data = {k: np.loadtxt(os.path.join(output_root, '%s.csv' % (k))) for k in ['x', 'y', 'z', 't', 'pressure']}\n",
    "flow_model.load_array(**data)"
   ]
  },
  {
   "cell_type": "code",
   "execution_count": 672,
   "id": "10ad7b94",
   "metadata": {},
   "outputs": [],
   "source": [
    "t_scale = 60.0 * 60.0 * 24.0\n",
    "x_list = np.linspace(np.min(x),np.max(x),20)\n",
    "y_list = np.linspace(np.min(y),np.max(y),20)\n",
    "z_list = np.array([0.0,100.0])\n",
    "t_list = np.linspace(epochs[0],epochs[-1],num=200)\n",
    "G = np.meshgrid(x_list,y_list,z_list,t_list,indexing='ij')\n",
    "p = flow_model.p(*G)"
   ]
  },
  {
   "cell_type": "code",
   "execution_count": 673,
   "id": "fe04cd33",
   "metadata": {},
   "outputs": [],
   "source": [
    "dpdt = flow_model.dpdt(*G)"
   ]
  },
  {
   "cell_type": "code",
   "execution_count": 674,
   "id": "0568cea5",
   "metadata": {},
   "outputs": [
    {
     "data": {
      "text/plain": [
       "Text(0, 0.5, 'Pressurization Rate')"
      ]
     },
     "execution_count": 674,
     "metadata": {},
     "output_type": "execute_result"
    },
    {
     "data": {
      "image/png": "[encoded data removed]",
      "text/plain": [
       "<Figure size 432x288 with 1 Axes>"
      ]
     },
     "metadata": {
      "needs_background": "light"
     },
     "output_type": "display_data"
    }
   ],
   "source": [
    "plt.figure()\n",
    "p_b = np.squeeze(dpdt[0,0,0,:])\n",
    "plt.plot(np.squeeze(t_list) / t_scale, p_b,'b')\n",
    "plt.xlabel('Time (days)')\n",
    "plt.ylabel('Pressurization Rate')"
   ]
  },
  {
   "cell_type": "code",
   "execution_count": null,
   "id": "f8bb9c30",
   "metadata": {},
   "outputs": [],
   "source": [
    "injection_data = pd.DataFrame({'epoch': t_list,\n",
    "                              'flow_rate':wells[wells_idx] })"
   ]
  },
  {
   "cell_type": "code",
   "execution_count": 700,
   "id": "7e1c5dff",
   "metadata": {},
   "outputs": [],
   "source": [
    "for i in range(0,20):\n",
    "    for j in range(0,20):\n",
    "        output_root = \"../Temporal_Datasets/kansas/grid_points/grid_point_\"+str(i)+'_'+str(j)\n",
    "        injection_cat = pd.DataFrame({\n",
    "            'epoch': t_list,\n",
    "#             'injection': injection_dataset\n",
    "            'pressure': p[i,j,0,:],\n",
    "            'dpdt': dpdt[i,j,0,:]\n",
    "        })\n",
    "        injection_cat.to_csv(output_root+str('_injection.csv'),index=None)"
   ]
  },
  {
   "cell_type": "code",
   "execution_count": 689,
   "id": "12747f54",
   "metadata": {},
   "outputs": [],
   "source": [
    "i = j = 0\n",
    "injection_cat = pd.DataFrame({\n",
    "            'epoch': t_list,\n",
    "#             'injection': injection_dataset\n",
    "            'pressure': p[i,j,0,:],\n",
    "            'dpdt': dpdt[i,j,0,:]\n",
    "        })\n",
    "\n",
    "output_root = \"../Temporal_Datasets/kansas/grid_point\"+str(i)+str(j)"
   ]
  },
  {
   "cell_type": "code",
   "execution_count": 688,
   "id": "5aa04b94",
   "metadata": {},
   "outputs": [
    {
     "data": {
      "text/html": [
       "<div>\n",
       "<style scoped>\n",
       "    .dataframe tbody tr th:only-of-type {\n",
       "        vertical-align: middle;\n",
       "    }\n",
       "\n",
       "    .dataframe tbody tr th {\n",
       "        vertical-align: top;\n",
       "    }\n",
       "\n",
       "    .dataframe thead th {\n",
       "        text-align: right;\n",
       "    }\n",
       "</style>\n",
       "<table border=\"1\" class=\"dataframe\">\n",
       "  <thead>\n",
       "    <tr style=\"text-align: right;\">\n",
       "      <th></th>\n",
       "      <th>epoch</th>\n",
       "      <th>pressure</th>\n",
       "      <th>dpdt</th>\n",
       "    </tr>\n",
       "  </thead>\n",
       "  <tbody>\n",
       "    <tr>\n",
       "      <th>0</th>\n",
       "      <td>1.451635e+09</td>\n",
       "      <td>1.368400e-39</td>\n",
       "      <td>0.000000</td>\n",
       "    </tr>\n",
       "    <tr>\n",
       "      <th>1</th>\n",
       "      <td>1.452415e+09</td>\n",
       "      <td>1.368400e-39</td>\n",
       "      <td>0.000000</td>\n",
       "    </tr>\n",
       "    <tr>\n",
       "      <th>2</th>\n",
       "      <td>1.453195e+09</td>\n",
       "      <td>1.368400e-39</td>\n",
       "      <td>0.000000</td>\n",
       "    </tr>\n",
       "    <tr>\n",
       "      <th>3</th>\n",
       "      <td>1.453975e+09</td>\n",
       "      <td>1.368400e-39</td>\n",
       "      <td>0.000000</td>\n",
       "    </tr>\n",
       "    <tr>\n",
       "      <th>4</th>\n",
       "      <td>1.454754e+09</td>\n",
       "      <td>1.368400e-39</td>\n",
       "      <td>0.000000</td>\n",
       "    </tr>\n",
       "    <tr>\n",
       "      <th>...</th>\n",
       "      <td>...</td>\n",
       "      <td>...</td>\n",
       "      <td>...</td>\n",
       "    </tr>\n",
       "    <tr>\n",
       "      <th>195</th>\n",
       "      <td>1.603691e+09</td>\n",
       "      <td>2.620587e+02</td>\n",
       "      <td>0.000014</td>\n",
       "    </tr>\n",
       "    <tr>\n",
       "      <th>196</th>\n",
       "      <td>1.604470e+09</td>\n",
       "      <td>2.730790e+02</td>\n",
       "      <td>0.000014</td>\n",
       "    </tr>\n",
       "    <tr>\n",
       "      <th>197</th>\n",
       "      <td>1.605250e+09</td>\n",
       "      <td>2.844386e+02</td>\n",
       "      <td>0.000015</td>\n",
       "    </tr>\n",
       "    <tr>\n",
       "      <th>198</th>\n",
       "      <td>1.606030e+09</td>\n",
       "      <td>2.961437e+02</td>\n",
       "      <td>0.000015</td>\n",
       "    </tr>\n",
       "    <tr>\n",
       "      <th>199</th>\n",
       "      <td>1.606810e+09</td>\n",
       "      <td>3.082003e+02</td>\n",
       "      <td>0.000015</td>\n",
       "    </tr>\n",
       "  </tbody>\n",
       "</table>\n",
       "<p>200 rows × 3 columns</p>\n",
       "</div>"
      ],
      "text/plain": [
       "            epoch      pressure      dpdt\n",
       "0    1.451635e+09  1.368400e-39  0.000000\n",
       "1    1.452415e+09  1.368400e-39  0.000000\n",
       "2    1.453195e+09  1.368400e-39  0.000000\n",
       "3    1.453975e+09  1.368400e-39  0.000000\n",
       "4    1.454754e+09  1.368400e-39  0.000000\n",
       "..            ...           ...       ...\n",
       "195  1.603691e+09  2.620587e+02  0.000014\n",
       "196  1.604470e+09  2.730790e+02  0.000014\n",
       "197  1.605250e+09  2.844386e+02  0.000015\n",
       "198  1.606030e+09  2.961437e+02  0.000015\n",
       "199  1.606810e+09  3.082003e+02  0.000015\n",
       "\n",
       "[200 rows x 3 columns]"
      ]
     },
     "execution_count": 688,
     "metadata": {},
     "output_type": "execute_result"
    }
   ],
   "source": [
    "injection_cat.to_csv()"
   ]
  },
  {
   "cell_type": "code",
   "execution_count": 692,
   "id": "cee5db50",
   "metadata": {},
   "outputs": [],
   "source": [
    "injection_cat.to_csv(output_root,index=None)"
   ]
  },
  {
   "cell_type": "code",
   "execution_count": null,
   "id": "70bedb97",
   "metadata": {},
   "outputs": [],
   "source": []
  }
 ],
 "metadata": {
  "kernelspec": {
   "display_name": "Python 3 (ipykernel)",
   "language": "python",
   "name": "python3"
  },
  "language_info": {
   "codemirror_mode": {
    "name": "ipython",
    "version": 3
   },
   "file_extension": ".py",
   "mimetype": "text/x-python",
   "name": "python",
   "nbconvert_exporter": "python",
   "pygments_lexer": "ipython3",
   "version": "3.7.13"
  },
  "vscode": {
   "interpreter": {
    "hash": "31f2aee4e71d21fbe5cf8b01ff0e069b9275f58929596ceb00d14d90e3e16cd6"
   }
  }
 },
 "nbformat": 4,
 "nbformat_minor": 5
}
