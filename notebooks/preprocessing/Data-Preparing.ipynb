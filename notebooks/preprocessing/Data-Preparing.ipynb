{
 "cells": [
  {
   "cell_type": "code",
   "execution_count": 1,
   "id": "447a8b28",
   "metadata": {},
   "outputs": [],
   "source": [
    "import numpy as np\n",
    "import h5py\n",
    "import pandas as pd\n",
    "import datetime as dt"
   ]
  },
  {
   "cell_type": "code",
   "execution_count": 2,
   "id": "ba5da804",
   "metadata": {},
   "outputs": [
    {
     "name": "stdout",
     "output_type": "stream",
     "text": [
      "List of datsets in this file: \n",
      " ['dpdt', 't']\n",
      "shape of dataset: \n",
      " (25000,)\n"
     ]
    }
   ],
   "source": [
    "with h5py.File('cushing_oklahoma/cushingPressure.hdf5','r') as hdf:\n",
    "    ls = list(hdf.keys())\n",
    "    print(\"List of datsets in this file: \\n\",ls)\n",
    "    data = hdf.get(\"dpdt\")\n",
    "    dataset_cushingPressure = np.array(data)\n",
    "    print(\"shape of dataset: \\n\",dataset_cushingPressure.shape)"
   ]
  },
  {
   "cell_type": "code",
   "execution_count": 3,
   "id": "240188ae",
   "metadata": {},
   "outputs": [
    {
     "data": {
      "text/plain": [
       "(25000,)"
      ]
     },
     "execution_count": 3,
     "metadata": {},
     "output_type": "execute_result"
    }
   ],
   "source": [
    "dataset_cushingPressure.shape"
   ]
  },
  {
   "cell_type": "code",
   "execution_count": 4,
   "id": "ce5cb062",
   "metadata": {},
   "outputs": [
    {
     "name": "stdout",
     "output_type": "stream",
     "text": [
      "List of datsets in this file: \n",
      " ['b_value', 'b_value_epoch', 'depth', 'dpdt', 'easting', 'epoch', 'eventID', 'latitude', 'longitude', 'magnitude', 'northing']\n"
     ]
    }
   ],
   "source": [
    "with h5py.File('cushing_oklahoma/cushingSeismic.hdf5','r') as hdf:\n",
    "    ls = list(hdf.keys())\n",
    "    print(\"List of datsets in this file: \\n\",ls)\n",
    "    b_value = hdf.get(\"b_value\")\n",
    "    dpdt = hdf.get(\"dpdt\")\n",
    "    \n",
    "    \n",
    "#     dataset_cushingSeismic = np.array(data)\n",
    "#     print(\"shape of dataset: \\n\",dataset_cushingSeismic.shape)"
   ]
  },
  {
   "cell_type": "code",
   "execution_count": 5,
   "id": "9007bbc9",
   "metadata": {},
   "outputs": [],
   "source": [
    "# Dataset geyes from geysers_california\n",
    "dataset_geyers = pd.read_csv('geysers_california/geysers.csv',header=1)\n",
    "dataset_geyers_reordered = dataset_geyers[['epoch', 'latitude', 'longitude', 'depth', 'easting', 'northing', 'magnitude']]"
   ]
  },
  {
   "cell_type": "code",
   "execution_count": 6,
   "id": "a25879b1",
   "metadata": {},
   "outputs": [
    {
     "data": {
      "text/html": [
       "<div>\n",
       "<style scoped>\n",
       "    .dataframe tbody tr th:only-of-type {\n",
       "        vertical-align: middle;\n",
       "    }\n",
       "\n",
       "    .dataframe tbody tr th {\n",
       "        vertical-align: top;\n",
       "    }\n",
       "\n",
       "    .dataframe thead th {\n",
       "        text-align: right;\n",
       "    }\n",
       "</style>\n",
       "<table border=\"1\" class=\"dataframe\">\n",
       "  <thead>\n",
       "    <tr style=\"text-align: right;\">\n",
       "      <th></th>\n",
       "      <th>depth</th>\n",
       "      <th>easting</th>\n",
       "      <th>epoch</th>\n",
       "      <th>latitude</th>\n",
       "      <th>longitude</th>\n",
       "      <th>magnitude</th>\n",
       "      <th>northing</th>\n",
       "    </tr>\n",
       "  </thead>\n",
       "  <tbody>\n",
       "    <tr>\n",
       "      <th>0</th>\n",
       "      <td>2000.0</td>\n",
       "      <td>518411.601239</td>\n",
       "      <td>1.233530e+08</td>\n",
       "      <td>38.790000</td>\n",
       "      <td>-122.788000</td>\n",
       "      <td>3.50</td>\n",
       "      <td>4.293494e+06</td>\n",
       "    </tr>\n",
       "    <tr>\n",
       "      <th>1</th>\n",
       "      <td>3979.0</td>\n",
       "      <td>522624.160806</td>\n",
       "      <td>1.262527e+08</td>\n",
       "      <td>38.742667</td>\n",
       "      <td>-122.739667</td>\n",
       "      <td>3.14</td>\n",
       "      <td>4.288253e+06</td>\n",
       "    </tr>\n",
       "    <tr>\n",
       "      <th>2</th>\n",
       "      <td>2077.0</td>\n",
       "      <td>520198.315961</td>\n",
       "      <td>1.270916e+08</td>\n",
       "      <td>38.767500</td>\n",
       "      <td>-122.767500</td>\n",
       "      <td>2.79</td>\n",
       "      <td>4.291002e+06</td>\n",
       "    </tr>\n",
       "    <tr>\n",
       "      <th>3</th>\n",
       "      <td>4335.0</td>\n",
       "      <td>515965.103537</td>\n",
       "      <td>1.310117e+08</td>\n",
       "      <td>38.791333</td>\n",
       "      <td>-122.816167</td>\n",
       "      <td>2.82</td>\n",
       "      <td>4.293637e+06</td>\n",
       "    </tr>\n",
       "    <tr>\n",
       "      <th>4</th>\n",
       "      <td>3008.0</td>\n",
       "      <td>517308.025690</td>\n",
       "      <td>1.311477e+08</td>\n",
       "      <td>38.804500</td>\n",
       "      <td>-122.800667</td>\n",
       "      <td>3.63</td>\n",
       "      <td>4.295101e+06</td>\n",
       "    </tr>\n",
       "  </tbody>\n",
       "</table>\n",
       "</div>"
      ],
      "text/plain": [
       "    depth        easting         epoch   latitude   longitude  magnitude  \\\n",
       "0  2000.0  518411.601239  1.233530e+08  38.790000 -122.788000       3.50   \n",
       "1  3979.0  522624.160806  1.262527e+08  38.742667 -122.739667       3.14   \n",
       "2  2077.0  520198.315961  1.270916e+08  38.767500 -122.767500       2.79   \n",
       "3  4335.0  515965.103537  1.310117e+08  38.791333 -122.816167       2.82   \n",
       "4  3008.0  517308.025690  1.311477e+08  38.804500 -122.800667       3.63   \n",
       "\n",
       "       northing  \n",
       "0  4.293494e+06  \n",
       "1  4.288253e+06  \n",
       "2  4.291002e+06  \n",
       "3  4.293637e+06  \n",
       "4  4.295101e+06  "
      ]
     },
     "execution_count": 6,
     "metadata": {},
     "output_type": "execute_result"
    }
   ],
   "source": [
    "dataset_geyers.head()"
   ]
  },
  {
   "cell_type": "code",
   "execution_count": 8,
   "id": "bd5571bb",
   "metadata": {},
   "outputs": [],
   "source": [
    "dataset_geyers_reordered.head()\n",
    "dataset_geyers_reordered.to_csv('geyers_reordered.csv',mode='w',index='None')"
   ]
  },
  {
   "cell_type": "code",
   "execution_count": 10,
   "id": "a5cec1f5",
   "metadata": {},
   "outputs": [
    {
     "data": {
      "text/html": [
       "<div>\n",
       "<style scoped>\n",
       "    .dataframe tbody tr th:only-of-type {\n",
       "        vertical-align: middle;\n",
       "    }\n",
       "\n",
       "    .dataframe tbody tr th {\n",
       "        vertical-align: top;\n",
       "    }\n",
       "\n",
       "    .dataframe thead th {\n",
       "        text-align: right;\n",
       "    }\n",
       "</style>\n",
       "<table border=\"1\" class=\"dataframe\">\n",
       "  <thead>\n",
       "    <tr style=\"text-align: right;\">\n",
       "      <th></th>\n",
       "      <th>b_value</th>\n",
       "      <th>b_value_epoch</th>\n",
       "      <th>depth</th>\n",
       "      <th>easting</th>\n",
       "      <th>epoch</th>\n",
       "      <th>event_id</th>\n",
       "      <th>latitude</th>\n",
       "      <th>longitude</th>\n",
       "      <th>magnitude</th>\n",
       "      <th>northing</th>\n",
       "      <th>source_radius</th>\n",
       "      <th>stress_drop</th>\n",
       "    </tr>\n",
       "  </thead>\n",
       "  <tbody>\n",
       "    <tr>\n",
       "      <th>0</th>\n",
       "      <td>1.170935</td>\n",
       "      <td>1.329991e+09</td>\n",
       "      <td>1911.542213</td>\n",
       "      <td>337462.383</td>\n",
       "      <td>1.323939e+09</td>\n",
       "      <td>2.0</td>\n",
       "      <td>39.875313</td>\n",
       "      <td>-88.900634</td>\n",
       "      <td>-1.74</td>\n",
       "      <td>4415647.002</td>\n",
       "      <td>1.292289</td>\n",
       "      <td>0.0141</td>\n",
       "    </tr>\n",
       "    <tr>\n",
       "      <th>1</th>\n",
       "      <td>0.955601</td>\n",
       "      <td>1.330300e+09</td>\n",
       "      <td>1898.448644</td>\n",
       "      <td>337552.609</td>\n",
       "      <td>1.324167e+09</td>\n",
       "      <td>3.0</td>\n",
       "      <td>39.880334</td>\n",
       "      <td>-88.899718</td>\n",
       "      <td>-1.81</td>\n",
       "      <td>4416202.666</td>\n",
       "      <td>2.377324</td>\n",
       "      <td>0.0073</td>\n",
       "    </tr>\n",
       "    <tr>\n",
       "      <th>2</th>\n",
       "      <td>0.991938</td>\n",
       "      <td>1.330384e+09</td>\n",
       "      <td>1927.357513</td>\n",
       "      <td>337564.471</td>\n",
       "      <td>1.326163e+09</td>\n",
       "      <td>4.0</td>\n",
       "      <td>39.879892</td>\n",
       "      <td>-88.899567</td>\n",
       "      <td>-1.17</td>\n",
       "      <td>4416153.331</td>\n",
       "      <td>2.474855</td>\n",
       "      <td>0.0190</td>\n",
       "    </tr>\n",
       "    <tr>\n",
       "      <th>3</th>\n",
       "      <td>0.951056</td>\n",
       "      <td>1.330414e+09</td>\n",
       "      <td>1931.414203</td>\n",
       "      <td>337570.748</td>\n",
       "      <td>1.326244e+09</td>\n",
       "      <td>5.0</td>\n",
       "      <td>39.879616</td>\n",
       "      <td>-88.899486</td>\n",
       "      <td>-1.23</td>\n",
       "      <td>4416122.548</td>\n",
       "      <td>2.502286</td>\n",
       "      <td>0.0143</td>\n",
       "    </tr>\n",
       "    <tr>\n",
       "      <th>4</th>\n",
       "      <td>0.940638</td>\n",
       "      <td>1.330426e+09</td>\n",
       "      <td>1811.475160</td>\n",
       "      <td>337609.589</td>\n",
       "      <td>1.326526e+09</td>\n",
       "      <td>6.0</td>\n",
       "      <td>39.868442</td>\n",
       "      <td>-88.898723</td>\n",
       "      <td>-1.52</td>\n",
       "      <td>4414880.914</td>\n",
       "      <td>1.295337</td>\n",
       "      <td>0.0302</td>\n",
       "    </tr>\n",
       "  </tbody>\n",
       "</table>\n",
       "</div>"
      ],
      "text/plain": [
       "    b_value  b_value_epoch        depth     easting         epoch  event_id  \\\n",
       "0  1.170935   1.329991e+09  1911.542213  337462.383  1.323939e+09       2.0   \n",
       "1  0.955601   1.330300e+09  1898.448644  337552.609  1.324167e+09       3.0   \n",
       "2  0.991938   1.330384e+09  1927.357513  337564.471  1.326163e+09       4.0   \n",
       "3  0.951056   1.330414e+09  1931.414203  337570.748  1.326244e+09       5.0   \n",
       "4  0.940638   1.330426e+09  1811.475160  337609.589  1.326526e+09       6.0   \n",
       "\n",
       "    latitude  longitude  magnitude     northing  source_radius  stress_drop  \n",
       "0  39.875313 -88.900634      -1.74  4415647.002       1.292289       0.0141  \n",
       "1  39.880334 -88.899718      -1.81  4416202.666       2.377324       0.0073  \n",
       "2  39.879892 -88.899567      -1.17  4416153.331       2.474855       0.0190  \n",
       "3  39.879616 -88.899486      -1.23  4416122.548       2.502286       0.0143  \n",
       "4  39.868442 -88.898723      -1.52  4414880.914       1.295337       0.0302  "
      ]
     },
     "execution_count": 10,
     "metadata": {},
     "output_type": "execute_result"
    }
   ],
   "source": [
    "# Dataset decatur from decatur_illinois\n",
    "dataset_decatur = pd.read_csv('decatur_illinois/decaturSeismic.csv')\n",
    "dataset_decatur.head()"
   ]
  },
  {
   "cell_type": "code",
   "execution_count": 11,
   "id": "9c33bdb7",
   "metadata": {},
   "outputs": [],
   "source": [
    "dataset_decatur_reordered = dataset_decatur[['epoch', 'latitude', 'longitude', 'depth', 'easting', 'northing', 'magnitude']]"
   ]
  },
  {
   "cell_type": "code",
   "execution_count": 12,
   "id": "e6c65c88",
   "metadata": {},
   "outputs": [],
   "source": [
    "dataset_decatur_reordered.to_csv('decatur_reordered.csv', mode='w', index='None')"
   ]
  },
  {
   "cell_type": "code",
   "execution_count": 13,
   "id": "619b6e37",
   "metadata": {},
   "outputs": [],
   "source": [
    "dataset_decatur_injection = pd.read_csv('decatur_illinois/decaturInjection.csv')\n",
    "dataset_decatur_injection_reordered= pd.DataFrame(dataset_decatur_injection['epoch'])\n",
    "dataset_decatur_injection_reordered['injection'] = dataset_decatur_injection['flow_rate']\n",
    "dataset_decatur_injection_reordered.to_csv('decatur_injection_reordered.csv')"
   ]
  },
  {
   "cell_type": "code",
   "execution_count": 14,
   "id": "6581e33f",
   "metadata": {},
   "outputs": [
    {
     "data": {
      "text/html": [
       "<div>\n",
       "<style scoped>\n",
       "    .dataframe tbody tr th:only-of-type {\n",
       "        vertical-align: middle;\n",
       "    }\n",
       "\n",
       "    .dataframe tbody tr th {\n",
       "        vertical-align: top;\n",
       "    }\n",
       "\n",
       "    .dataframe thead th {\n",
       "        text-align: right;\n",
       "    }\n",
       "</style>\n",
       "<table border=\"1\" class=\"dataframe\">\n",
       "  <thead>\n",
       "    <tr style=\"text-align: right;\">\n",
       "      <th></th>\n",
       "      <th>depth</th>\n",
       "      <th>easting</th>\n",
       "      <th>epoch</th>\n",
       "      <th>eventID</th>\n",
       "      <th>latitude</th>\n",
       "      <th>longitude</th>\n",
       "      <th>magnitude</th>\n",
       "      <th>northing</th>\n",
       "    </tr>\n",
       "  </thead>\n",
       "  <tbody>\n",
       "    <tr>\n",
       "      <th>0</th>\n",
       "      <td>5.950</td>\n",
       "      <td>597537.075641</td>\n",
       "      <td>1.395915e+09</td>\n",
       "      <td>1.0</td>\n",
       "      <td>37.19420</td>\n",
       "      <td>-97.90100</td>\n",
       "      <td>1.46</td>\n",
       "      <td>4.116981e+06</td>\n",
       "    </tr>\n",
       "    <tr>\n",
       "      <th>1</th>\n",
       "      <td>8.490</td>\n",
       "      <td>601907.403939</td>\n",
       "      <td>1.396163e+09</td>\n",
       "      <td>2.0</td>\n",
       "      <td>37.09220</td>\n",
       "      <td>-97.85330</td>\n",
       "      <td>1.17</td>\n",
       "      <td>4.105716e+06</td>\n",
       "    </tr>\n",
       "    <tr>\n",
       "      <th>2</th>\n",
       "      <td>8.490</td>\n",
       "      <td>601907.403939</td>\n",
       "      <td>1.396164e+09</td>\n",
       "      <td>3.0</td>\n",
       "      <td>37.09220</td>\n",
       "      <td>-97.85330</td>\n",
       "      <td>1.45</td>\n",
       "      <td>4.105716e+06</td>\n",
       "    </tr>\n",
       "    <tr>\n",
       "      <th>3</th>\n",
       "      <td>8.539</td>\n",
       "      <td>602026.605367</td>\n",
       "      <td>1.396164e+09</td>\n",
       "      <td>4.0</td>\n",
       "      <td>37.09278</td>\n",
       "      <td>-97.85195</td>\n",
       "      <td>1.69</td>\n",
       "      <td>4.105781e+06</td>\n",
       "    </tr>\n",
       "    <tr>\n",
       "      <th>4</th>\n",
       "      <td>8.490</td>\n",
       "      <td>601907.403939</td>\n",
       "      <td>1.396168e+09</td>\n",
       "      <td>5.0</td>\n",
       "      <td>37.09220</td>\n",
       "      <td>-97.85330</td>\n",
       "      <td>1.48</td>\n",
       "      <td>4.105716e+06</td>\n",
       "    </tr>\n",
       "  </tbody>\n",
       "</table>\n",
       "</div>"
      ],
      "text/plain": [
       "   depth        easting         epoch  eventID  latitude  longitude  \\\n",
       "0  5.950  597537.075641  1.395915e+09      1.0  37.19420  -97.90100   \n",
       "1  8.490  601907.403939  1.396163e+09      2.0  37.09220  -97.85330   \n",
       "2  8.490  601907.403939  1.396164e+09      3.0  37.09220  -97.85330   \n",
       "3  8.539  602026.605367  1.396164e+09      4.0  37.09278  -97.85195   \n",
       "4  8.490  601907.403939  1.396168e+09      5.0  37.09220  -97.85330   \n",
       "\n",
       "   magnitude      northing  \n",
       "0       1.46  4.116981e+06  \n",
       "1       1.17  4.105716e+06  \n",
       "2       1.45  4.105716e+06  \n",
       "3       1.69  4.105781e+06  \n",
       "4       1.48  4.105716e+06  "
      ]
     },
     "execution_count": 14,
     "metadata": {},
     "output_type": "execute_result"
    }
   ],
   "source": [
    "dataset_kansas = pd.read_csv('kansas/kansasSeismicDetection.csv')\n",
    "dataset_kansas.head()"
   ]
  },
  {
   "cell_type": "code",
   "execution_count": 15,
   "id": "47835034",
   "metadata": {},
   "outputs": [],
   "source": [
    "dataset_kansas_reordered = dataset_kansas[['epoch', 'latitude', 'longitude', 'depth', 'easting', 'northing', 'magnitude']]"
   ]
  },
  {
   "cell_type": "code",
   "execution_count": 16,
   "id": "eb865918",
   "metadata": {},
   "outputs": [],
   "source": [
    "dataset_kansas_reordered.to_csv('kansas_reordered.csv',mode='w',index='None')"
   ]
  },
  {
   "cell_type": "code",
   "execution_count": 17,
   "id": "b8adbc6f",
   "metadata": {},
   "outputs": [],
   "source": [
    "dataset_geyser_injection = pd.read_excel('geysers_california/geysers_fluid_injection.xls')"
   ]
  },
  {
   "cell_type": "code",
   "execution_count": 18,
   "id": "4122c631",
   "metadata": {},
   "outputs": [
    {
     "data": {
      "text/html": [
       "<div>\n",
       "<style scoped>\n",
       "    .dataframe tbody tr th:only-of-type {\n",
       "        vertical-align: middle;\n",
       "    }\n",
       "\n",
       "    .dataframe tbody tr th {\n",
       "        vertical-align: top;\n",
       "    }\n",
       "\n",
       "    .dataframe thead th {\n",
       "        text-align: right;\n",
       "    }\n",
       "</style>\n",
       "<table border=\"1\" class=\"dataframe\">\n",
       "  <thead>\n",
       "    <tr style=\"text-align: right;\">\n",
       "      <th></th>\n",
       "      <th>Year</th>\n",
       "      <th>Month</th>\n",
       "      <th>Production (kilograms times 1,000)</th>\n",
       "      <th>Injection (kilograms times 1,000)</th>\n",
       "    </tr>\n",
       "  </thead>\n",
       "  <tbody>\n",
       "    <tr>\n",
       "      <th>0</th>\n",
       "      <td>1969</td>\n",
       "      <td>5</td>\n",
       "      <td>5.716140e+05</td>\n",
       "      <td>2.983200e+04</td>\n",
       "    </tr>\n",
       "    <tr>\n",
       "      <th>1</th>\n",
       "      <td>1969</td>\n",
       "      <td>6</td>\n",
       "      <td>5.502270e+05</td>\n",
       "      <td>6.076600e+04</td>\n",
       "    </tr>\n",
       "    <tr>\n",
       "      <th>2</th>\n",
       "      <td>1969</td>\n",
       "      <td>7</td>\n",
       "      <td>5.700110e+05</td>\n",
       "      <td>6.110900e+04</td>\n",
       "    </tr>\n",
       "    <tr>\n",
       "      <th>3</th>\n",
       "      <td>1969</td>\n",
       "      <td>8</td>\n",
       "      <td>6.056120e+05</td>\n",
       "      <td>4.627700e+04</td>\n",
       "    </tr>\n",
       "    <tr>\n",
       "      <th>4</th>\n",
       "      <td>1969</td>\n",
       "      <td>9</td>\n",
       "      <td>6.243150e+05</td>\n",
       "      <td>5.106100e+04</td>\n",
       "    </tr>\n",
       "    <tr>\n",
       "      <th>...</th>\n",
       "      <td>...</td>\n",
       "      <td>...</td>\n",
       "      <td>...</td>\n",
       "      <td>...</td>\n",
       "    </tr>\n",
       "    <tr>\n",
       "      <th>629</th>\n",
       "      <td>2021</td>\n",
       "      <td>10</td>\n",
       "      <td>4.121020e+06</td>\n",
       "      <td>2.944824e+06</td>\n",
       "    </tr>\n",
       "    <tr>\n",
       "      <th>630</th>\n",
       "      <td>2021</td>\n",
       "      <td>11</td>\n",
       "      <td>4.198204e+06</td>\n",
       "      <td>2.920091e+06</td>\n",
       "    </tr>\n",
       "    <tr>\n",
       "      <th>631</th>\n",
       "      <td>2021</td>\n",
       "      <td>12</td>\n",
       "      <td>4.306343e+06</td>\n",
       "      <td>3.969918e+06</td>\n",
       "    </tr>\n",
       "    <tr>\n",
       "      <th>632</th>\n",
       "      <td>2022</td>\n",
       "      <td>1</td>\n",
       "      <td>4.382633e+06</td>\n",
       "      <td>4.119455e+06</td>\n",
       "    </tr>\n",
       "    <tr>\n",
       "      <th>633</th>\n",
       "      <td>2022</td>\n",
       "      <td>2</td>\n",
       "      <td>3.941216e+06</td>\n",
       "      <td>3.203905e+06</td>\n",
       "    </tr>\n",
       "  </tbody>\n",
       "</table>\n",
       "<p>634 rows × 4 columns</p>\n",
       "</div>"
      ],
      "text/plain": [
       "     Year  Month  Production (kilograms times 1,000)  \\\n",
       "0    1969      5                        5.716140e+05   \n",
       "1    1969      6                        5.502270e+05   \n",
       "2    1969      7                        5.700110e+05   \n",
       "3    1969      8                        6.056120e+05   \n",
       "4    1969      9                        6.243150e+05   \n",
       "..    ...    ...                                 ...   \n",
       "629  2021     10                        4.121020e+06   \n",
       "630  2021     11                        4.198204e+06   \n",
       "631  2021     12                        4.306343e+06   \n",
       "632  2022      1                        4.382633e+06   \n",
       "633  2022      2                        3.941216e+06   \n",
       "\n",
       "     Injection (kilograms times 1,000)  \n",
       "0                         2.983200e+04  \n",
       "1                         6.076600e+04  \n",
       "2                         6.110900e+04  \n",
       "3                         4.627700e+04  \n",
       "4                         5.106100e+04  \n",
       "..                                 ...  \n",
       "629                       2.944824e+06  \n",
       "630                       2.920091e+06  \n",
       "631                       3.969918e+06  \n",
       "632                       4.119455e+06  \n",
       "633                       3.203905e+06  \n",
       "\n",
       "[634 rows x 4 columns]"
      ]
     },
     "execution_count": 18,
     "metadata": {},
     "output_type": "execute_result"
    }
   ],
   "source": [
    "dataset_geyser_injection"
   ]
  },
  {
   "cell_type": "code",
   "execution_count": 19,
   "id": "5efce7d8",
   "metadata": {},
   "outputs": [],
   "source": [
    "dataset_geyser_injection['Day'] = 15"
   ]
  },
  {
   "cell_type": "code",
   "execution_count": 22,
   "id": "9ab4a3d5",
   "metadata": {},
   "outputs": [],
   "source": [
    "dataset_geyser_injection['DateTime'] = dataset_geyser_injection[['Year', 'Month','Day']].apply(lambda s : dt.datetime(*s),axis = 1)"
   ]
  },
  {
   "cell_type": "code",
   "execution_count": 23,
   "id": "8c7d3abc",
   "metadata": {},
   "outputs": [
    {
     "data": {
      "text/plain": [
       "0      -231 days\n",
       "1      -200 days\n",
       "2      -170 days\n",
       "3      -139 days\n",
       "4      -108 days\n",
       "         ...    \n",
       "629   18915 days\n",
       "630   18946 days\n",
       "631   18976 days\n",
       "632   19007 days\n",
       "633   19038 days\n",
       "Name: DateTime, Length: 634, dtype: timedelta64[ns]"
      ]
     },
     "execution_count": 23,
     "metadata": {},
     "output_type": "execute_result"
    }
   ],
   "source": [
    "dataset_geyser_injection['DateTime'].apply(lambda s: s - dt.datetime(1970,1,1))"
   ]
  },
  {
   "cell_type": "code",
   "execution_count": 25,
   "id": "db1f5ee4",
   "metadata": {},
   "outputs": [],
   "source": [
    "dataset_geyser_injection['epoch'] = (dataset_geyser_injection['DateTime'].apply(lambda s: s - dt.datetime(1970,1,1))).dt.total_seconds()"
   ]
  },
  {
   "cell_type": "code",
   "execution_count": 26,
   "id": "8e9234ba",
   "metadata": {},
   "outputs": [],
   "source": [
    "dataset_geyser_injection_reordered = pd.DataFrame(dataset_geyser_injection['epoch'])"
   ]
  },
  {
   "cell_type": "code",
   "execution_count": 27,
   "id": "9f3e064f",
   "metadata": {},
   "outputs": [
    {
     "data": {
      "text/html": [
       "<div>\n",
       "<style scoped>\n",
       "    .dataframe tbody tr th:only-of-type {\n",
       "        vertical-align: middle;\n",
       "    }\n",
       "\n",
       "    .dataframe tbody tr th {\n",
       "        vertical-align: top;\n",
       "    }\n",
       "\n",
       "    .dataframe thead th {\n",
       "        text-align: right;\n",
       "    }\n",
       "</style>\n",
       "<table border=\"1\" class=\"dataframe\">\n",
       "  <thead>\n",
       "    <tr style=\"text-align: right;\">\n",
       "      <th></th>\n",
       "      <th>epoch</th>\n",
       "    </tr>\n",
       "  </thead>\n",
       "  <tbody>\n",
       "    <tr>\n",
       "      <th>0</th>\n",
       "      <td>-1.995840e+07</td>\n",
       "    </tr>\n",
       "    <tr>\n",
       "      <th>1</th>\n",
       "      <td>-1.728000e+07</td>\n",
       "    </tr>\n",
       "    <tr>\n",
       "      <th>2</th>\n",
       "      <td>-1.468800e+07</td>\n",
       "    </tr>\n",
       "    <tr>\n",
       "      <th>3</th>\n",
       "      <td>-1.200960e+07</td>\n",
       "    </tr>\n",
       "    <tr>\n",
       "      <th>4</th>\n",
       "      <td>-9.331200e+06</td>\n",
       "    </tr>\n",
       "    <tr>\n",
       "      <th>...</th>\n",
       "      <td>...</td>\n",
       "    </tr>\n",
       "    <tr>\n",
       "      <th>629</th>\n",
       "      <td>1.634256e+09</td>\n",
       "    </tr>\n",
       "    <tr>\n",
       "      <th>630</th>\n",
       "      <td>1.636934e+09</td>\n",
       "    </tr>\n",
       "    <tr>\n",
       "      <th>631</th>\n",
       "      <td>1.639526e+09</td>\n",
       "    </tr>\n",
       "    <tr>\n",
       "      <th>632</th>\n",
       "      <td>1.642205e+09</td>\n",
       "    </tr>\n",
       "    <tr>\n",
       "      <th>633</th>\n",
       "      <td>1.644883e+09</td>\n",
       "    </tr>\n",
       "  </tbody>\n",
       "</table>\n",
       "<p>634 rows × 1 columns</p>\n",
       "</div>"
      ],
      "text/plain": [
       "            epoch\n",
       "0   -1.995840e+07\n",
       "1   -1.728000e+07\n",
       "2   -1.468800e+07\n",
       "3   -1.200960e+07\n",
       "4   -9.331200e+06\n",
       "..            ...\n",
       "629  1.634256e+09\n",
       "630  1.636934e+09\n",
       "631  1.639526e+09\n",
       "632  1.642205e+09\n",
       "633  1.644883e+09\n",
       "\n",
       "[634 rows x 1 columns]"
      ]
     },
     "execution_count": 27,
     "metadata": {},
     "output_type": "execute_result"
    }
   ],
   "source": [
    "dataset_geyser_injection_reordered"
   ]
  },
  {
   "cell_type": "code",
   "execution_count": 28,
   "id": "d5f42d36",
   "metadata": {},
   "outputs": [],
   "source": [
    "dataset_geyser_injection_reordered['injection'] = dataset_geyser_injection['Injection (kilograms times 1,000)']"
   ]
  },
  {
   "cell_type": "code",
   "execution_count": 29,
   "id": "458edc6f",
   "metadata": {},
   "outputs": [],
   "source": [
    "dataset_geyser_injection_reordered['production'] = dataset_geyser_injection['Production (kilograms times 1,000)']"
   ]
  },
  {
   "cell_type": "code",
   "execution_count": 34,
   "id": "a862e556",
   "metadata": {},
   "outputs": [],
   "source": [
    "dataset_geyser_injection_reordered.to_csv('geyser_injection_reordered.csv',index='None')"
   ]
  },
  {
   "cell_type": "code",
   "execution_count": 31,
   "id": "26578aae",
   "metadata": {},
   "outputs": [],
   "source": [
    "dataset_cushing_injection = pd.read_csv('cushing_oklahoma/cushingClusterCenterDPDT.csv')"
   ]
  },
  {
   "cell_type": "code",
   "execution_count": 32,
   "id": "688e63c8",
   "metadata": {},
   "outputs": [],
   "source": [
    "dataset_cushing_injection_reordered = pd.DataFrame(dataset_cushing_injection['epoch'])\n",
    "dataset_cushing_injection_reordered['injection'] = dataset_cushing_injection['flow_rate']"
   ]
  },
  {
   "cell_type": "code",
   "execution_count": 33,
   "id": "a534d92c",
   "metadata": {},
   "outputs": [],
   "source": [
    "dataset_cushing_injection_reordered\n",
    "dataset_cushing_injection_reordered.to_csv('cushing_injection_reordered.csv',index='None')"
   ]
  },
  {
   "cell_type": "code",
   "execution_count": null,
   "id": "51c812c0",
   "metadata": {},
   "outputs": [],
   "source": []
  }
 ],
 "metadata": {
  "kernelspec": {
   "display_name": "Python 3 (ipykernel)",
   "language": "python",
   "name": "python3"
  },
  "language_info": {
   "codemirror_mode": {
    "name": "ipython",
    "version": 3
   },
   "file_extension": ".py",
   "mimetype": "text/x-python",
   "name": "python",
   "nbconvert_exporter": "python",
   "pygments_lexer": "ipython3",
   "version": "3.7.13"
  }
 },
 "nbformat": 4,
 "nbformat_minor": 5
}
