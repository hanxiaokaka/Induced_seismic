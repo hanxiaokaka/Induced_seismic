{
 "cells": [
  {
   "cell_type": "markdown",
   "id": "83d76828",
   "metadata": {},
   "source": [
    "### Preprocessing of 2014 Cushing, Oklahoma wastewater disposal and seismicity data\n",
    "\n",
    "In this notebook, we will investigate the seismicity induced by underground wasterwater disposal in Cushing, Oklahoma during the year 2014. Let's begin by studying the spatial distribution of induced seismic events. At the centroid of the induced seismicity, we will evaluate time series of pressure and pressurization rate."
   ]
  },
  {
   "cell_type": "code",
   "execution_count": 1,
   "id": "5ba152b7",
   "metadata": {},
   "outputs": [],
   "source": [
    "# Load relevant packages.\n",
    "import utm\n",
    "import numpy as np\n",
    "import pandas as pd\n",
    "import matplotlib.pyplot as plt\n",
    "from datetime import datetime, timedelta\n",
    "from orion_light.radial_flow import RadialFlowModel\n",
    "from orion_light.pressure_table import PressureTableModel\n",
    "from orion_light.seismic_catalog import SeismicCatalog"
   ]
  },
  {
   "cell_type": "code",
   "execution_count": 2,
   "id": "805073dc",
   "metadata": {},
   "outputs": [],
   "source": [
    "# Conversion factor from 1 year to 1 second\n",
    "t_scale = 60*60*24*365.25 "
   ]
  },
  {
   "cell_type": "code",
   "execution_count": 3,
   "id": "92b9a24c",
   "metadata": {},
   "outputs": [],
   "source": [
    "# Boolean flag to decide whether to write data to GCP.\n",
    "write_to_GCP = True"
   ]
  },
  {
   "cell_type": "markdown",
   "id": "20d2ae73",
   "metadata": {},
   "source": [
    "### 1. Seismic Data "
   ]
  },
  {
   "cell_type": "code",
   "execution_count": 4,
   "id": "6dc592c4",
   "metadata": {},
   "outputs": [],
   "source": [
    "# Read in seismic data.\n",
    "seismic_df = pd.read_csv('gs://us-geomechanicsforco2-landing/data_sources/cushing_2014_oklahoma/cushingSeismic.csv')"
   ]
  },
  {
   "cell_type": "code",
   "execution_count": 5,
   "id": "c921d499",
   "metadata": {},
   "outputs": [
    {
     "data": {
      "text/html": [
       "<div>\n",
       "<style scoped>\n",
       "    .dataframe tbody tr th:only-of-type {\n",
       "        vertical-align: middle;\n",
       "    }\n",
       "\n",
       "    .dataframe tbody tr th {\n",
       "        vertical-align: top;\n",
       "    }\n",
       "\n",
       "    .dataframe thead th {\n",
       "        text-align: right;\n",
       "    }\n",
       "</style>\n",
       "<table border=\"1\" class=\"dataframe\">\n",
       "  <thead>\n",
       "    <tr style=\"text-align: right;\">\n",
       "      <th></th>\n",
       "      <th>epoch</th>\n",
       "      <th>magnitude</th>\n",
       "      <th>longitude</th>\n",
       "      <th>latitude</th>\n",
       "      <th>depth</th>\n",
       "      <th>easting</th>\n",
       "      <th>northing</th>\n",
       "    </tr>\n",
       "  </thead>\n",
       "  <tbody>\n",
       "    <tr>\n",
       "      <th>0</th>\n",
       "      <td>1.367956e+09</td>\n",
       "      <td>1.60</td>\n",
       "      <td>-96.74708</td>\n",
       "      <td>35.95636</td>\n",
       "      <td>3.308</td>\n",
       "      <td>703178.532034</td>\n",
       "      <td>3.981454e+06</td>\n",
       "    </tr>\n",
       "    <tr>\n",
       "      <th>1</th>\n",
       "      <td>1.367959e+09</td>\n",
       "      <td>1.43</td>\n",
       "      <td>-96.74708</td>\n",
       "      <td>35.95636</td>\n",
       "      <td>3.308</td>\n",
       "      <td>703178.532034</td>\n",
       "      <td>3.981454e+06</td>\n",
       "    </tr>\n",
       "    <tr>\n",
       "      <th>2</th>\n",
       "      <td>1.367965e+09</td>\n",
       "      <td>1.74</td>\n",
       "      <td>-96.75397</td>\n",
       "      <td>35.96083</td>\n",
       "      <td>2.536</td>\n",
       "      <td>702545.639896</td>\n",
       "      <td>3.981936e+06</td>\n",
       "    </tr>\n",
       "    <tr>\n",
       "      <th>3</th>\n",
       "      <td>1.368742e+09</td>\n",
       "      <td>1.37</td>\n",
       "      <td>-96.75089</td>\n",
       "      <td>35.95847</td>\n",
       "      <td>3.165</td>\n",
       "      <td>702829.475339</td>\n",
       "      <td>3.981681e+06</td>\n",
       "    </tr>\n",
       "    <tr>\n",
       "      <th>4</th>\n",
       "      <td>1.370684e+09</td>\n",
       "      <td>1.33</td>\n",
       "      <td>-96.77579</td>\n",
       "      <td>35.93718</td>\n",
       "      <td>5.000</td>\n",
       "      <td>700637.438947</td>\n",
       "      <td>3.979267e+06</td>\n",
       "    </tr>\n",
       "    <tr>\n",
       "      <th>5</th>\n",
       "      <td>1.370687e+09</td>\n",
       "      <td>1.17</td>\n",
       "      <td>-96.77579</td>\n",
       "      <td>35.93718</td>\n",
       "      <td>5.000</td>\n",
       "      <td>700637.438947</td>\n",
       "      <td>3.979267e+06</td>\n",
       "    </tr>\n",
       "    <tr>\n",
       "      <th>6</th>\n",
       "      <td>1.371269e+09</td>\n",
       "      <td>1.30</td>\n",
       "      <td>-96.77579</td>\n",
       "      <td>35.93718</td>\n",
       "      <td>5.000</td>\n",
       "      <td>700637.438947</td>\n",
       "      <td>3.979267e+06</td>\n",
       "    </tr>\n",
       "    <tr>\n",
       "      <th>7</th>\n",
       "      <td>1.381895e+09</td>\n",
       "      <td>1.47</td>\n",
       "      <td>-96.78317</td>\n",
       "      <td>35.93931</td>\n",
       "      <td>5.000</td>\n",
       "      <td>699966.244432</td>\n",
       "      <td>3.979488e+06</td>\n",
       "    </tr>\n",
       "    <tr>\n",
       "      <th>8</th>\n",
       "      <td>1.388010e+09</td>\n",
       "      <td>1.47</td>\n",
       "      <td>-96.78189</td>\n",
       "      <td>35.94675</td>\n",
       "      <td>4.908</td>\n",
       "      <td>700062.957628</td>\n",
       "      <td>3.980316e+06</td>\n",
       "    </tr>\n",
       "    <tr>\n",
       "      <th>9</th>\n",
       "      <td>1.388236e+09</td>\n",
       "      <td>2.17</td>\n",
       "      <td>-96.77901</td>\n",
       "      <td>35.94395</td>\n",
       "      <td>3.342</td>\n",
       "      <td>700329.832565</td>\n",
       "      <td>3.980012e+06</td>\n",
       "    </tr>\n",
       "  </tbody>\n",
       "</table>\n",
       "</div>"
      ],
      "text/plain": [
       "          epoch  magnitude  longitude  latitude  depth        easting  \\\n",
       "0  1.367956e+09       1.60  -96.74708  35.95636  3.308  703178.532034   \n",
       "1  1.367959e+09       1.43  -96.74708  35.95636  3.308  703178.532034   \n",
       "2  1.367965e+09       1.74  -96.75397  35.96083  2.536  702545.639896   \n",
       "3  1.368742e+09       1.37  -96.75089  35.95847  3.165  702829.475339   \n",
       "4  1.370684e+09       1.33  -96.77579  35.93718  5.000  700637.438947   \n",
       "5  1.370687e+09       1.17  -96.77579  35.93718  5.000  700637.438947   \n",
       "6  1.371269e+09       1.30  -96.77579  35.93718  5.000  700637.438947   \n",
       "7  1.381895e+09       1.47  -96.78317  35.93931  5.000  699966.244432   \n",
       "8  1.388010e+09       1.47  -96.78189  35.94675  4.908  700062.957628   \n",
       "9  1.388236e+09       2.17  -96.77901  35.94395  3.342  700329.832565   \n",
       "\n",
       "       northing  \n",
       "0  3.981454e+06  \n",
       "1  3.981454e+06  \n",
       "2  3.981936e+06  \n",
       "3  3.981681e+06  \n",
       "4  3.979267e+06  \n",
       "5  3.979267e+06  \n",
       "6  3.979267e+06  \n",
       "7  3.979488e+06  \n",
       "8  3.980316e+06  \n",
       "9  3.980012e+06  "
      ]
     },
     "execution_count": 5,
     "metadata": {},
     "output_type": "execute_result"
    }
   ],
   "source": [
    "seismic_df.head(10)"
   ]
  },
  {
   "cell_type": "code",
   "execution_count": 6,
   "id": "830c0556",
   "metadata": {},
   "outputs": [],
   "source": [
    "# Start time of seismic data\n",
    "seismic_start = datetime.fromtimestamp(seismic_df['epoch'].min())"
   ]
  },
  {
   "cell_type": "code",
   "execution_count": 7,
   "id": "a7bd4aff",
   "metadata": {},
   "outputs": [
    {
     "name": "stdout",
     "output_type": "stream",
     "text": [
      "Do we have missing entries in our seismic data?\n",
      "False\n"
     ]
    }
   ],
   "source": [
    "print('Do we have missing entries in our seismic data?') \n",
    "print(seismic_df.isnull().values.any())"
   ]
  },
  {
   "cell_type": "markdown",
   "id": "147f559b",
   "metadata": {},
   "source": [
    "The seismic data appear to be in good shape already. Let's save it directly to `staging` on GCP."
   ]
  },
  {
   "cell_type": "code",
   "execution_count": 8,
   "id": "4d398d5c",
   "metadata": {},
   "outputs": [],
   "source": [
    "base_path = 'gs://us-geomechanicsforco2-dev-staging/temporal_datasets/cushing_2014_oklahoma'\n",
    "if write_to_GCP:\n",
    "    seismic_df.to_csv(base_path + '/seismic.csv', index=None)"
   ]
  },
  {
   "cell_type": "code",
   "execution_count": 9,
   "id": "a34691fd",
   "metadata": {},
   "outputs": [],
   "source": [
    "# Prepare arrays for producing time series of cumulative earthquake counts.\n",
    "t_vals_quakes = np.linspace(seismic_df['epoch'].min(), seismic_df['epoch'].max(), 100)\n",
    "idx_quakes = np.digitize(seismic_df['epoch'], t_vals_quakes, right=False)\n",
    "\n",
    "# Number of earthquakes per time bin\n",
    "counts_per_bin = np.zeros(len(t_vals_quakes))\n",
    "for n in range(1, len(t_vals_quakes)+1):\n",
    "    counts_per_bin[n-1] = np.size(np.where(idx_quakes==n))\n",
    "    \n",
    "# Cumulative no. of earthquakes\n",
    "cum_counts = np.cumsum(counts_per_bin)"
   ]
  },
  {
   "cell_type": "code",
   "execution_count": 10,
   "id": "54fa92b8",
   "metadata": {},
   "outputs": [
    {
     "data": {
      "image/png": "[encoded data removed]",
      "text/plain": [
       "<Figure size 432x288 with 1 Axes>"
      ]
     },
     "metadata": {
      "needs_background": "light"
     },
     "output_type": "display_data"
    }
   ],
   "source": [
    "# Plot time series of cumulative earthquake counts.\n",
    "fig = plt.figure(tight_layout=True)\n",
    "plt.plot((t_vals_quakes-t_vals_quakes[0])/t_scale, cum_counts, '-k')\n",
    "plt.xlabel('Time (years) since %s'% (seismic_start.strftime('%Y - %m - %d')), fontsize=14)\n",
    "plt.ylabel('Cumulative earthquake count', fontsize=14)\n",
    "plt.grid(linestyle=':', alpha=0.7)\n",
    "plt.show()"
   ]
  },
  {
   "cell_type": "code",
   "execution_count": 11,
   "id": "c8d506c9",
   "metadata": {},
   "outputs": [],
   "source": [
    "# Compute centroid of induced seismicity as the arithmetic mean of coordinates of induced earthquakes. \n",
    "x_seismic_center = seismic_df['easting'].mean()\n",
    "y_seismic_center = seismic_df['northing'].mean()\n",
    "z_seismic_center = seismic_df['depth'].mean()"
   ]
  },
  {
   "cell_type": "code",
   "execution_count": 12,
   "id": "1bdd643b",
   "metadata": {},
   "outputs": [
    {
     "name": "stdout",
     "output_type": "stream",
     "text": [
      "Easting range or x-span of induced seismicity = 6.37 km\n",
      "Northing range or y-span of induced seismicity = 4.15 km\n"
     ]
    }
   ],
   "source": [
    "x_seismic_span = (seismic_df['easting'].max() - seismic_df['easting'].min())*1e-3\n",
    "y_seismic_span = (seismic_df['northing'].max() - seismic_df['northing'].min())*1e-3\n",
    "print('Easting range or x-span of induced seismicity = %.2f km'% (x_seismic_span))\n",
    "print('Northing range or y-span of induced seismicity = %.2f km'% (y_seismic_span))"
   ]
  },
  {
   "cell_type": "code",
   "execution_count": 13,
   "id": "a5a2874d",
   "metadata": {},
   "outputs": [
    {
     "name": "stdout",
     "output_type": "stream",
     "text": [
      "Depth range or z-span of induced seismicity = 4.80 m\n",
      "Minimum depth of seismic events = 2.54 m\n",
      "Maximum depth of seismic events = 7.33 m\n"
     ]
    }
   ],
   "source": [
    "z_seismic_span = (seismic_df['depth'].max() - seismic_df['depth'].min())\n",
    "print('Depth range or z-span of induced seismicity = %.2f m'% (z_seismic_span))\n",
    "print('Minimum depth of seismic events = %.2f m'% (seismic_df['depth'].min()))\n",
    "print('Maximum depth of seismic events = %.2f m'% (seismic_df['depth'].max()))"
   ]
  },
  {
   "cell_type": "code",
   "execution_count": 14,
   "id": "33d66d4e",
   "metadata": {},
   "outputs": [
    {
     "name": "stdout",
     "output_type": "stream",
     "text": [
      "Time span of seismic data = 3.54 years\n"
     ]
    }
   ],
   "source": [
    "t_seismic_span = (seismic_df['epoch'].max() - seismic_df['epoch'].min())/t_scale # years\n",
    "print('Time span of seismic data = %.2f years'% (t_seismic_span))"
   ]
  },
  {
   "cell_type": "markdown",
   "id": "62dc14cf",
   "metadata": {},
   "source": [
    "### 2. Location of injection wells"
   ]
  },
  {
   "cell_type": "code",
   "execution_count": 15,
   "id": "29991a05",
   "metadata": {},
   "outputs": [],
   "source": [
    "well_loc_df = pd.read_csv('gs://us-geomechanicsforco2-landing/data_sources/cushing_2014_oklahoma/cushing_well_location.csv', delimiter=' ')"
   ]
  },
  {
   "cell_type": "code",
   "execution_count": 16,
   "id": "2f916b20",
   "metadata": {},
   "outputs": [
    {
     "data": {
      "text/html": [
       "<div>\n",
       "<style scoped>\n",
       "    .dataframe tbody tr th:only-of-type {\n",
       "        vertical-align: middle;\n",
       "    }\n",
       "\n",
       "    .dataframe tbody tr th {\n",
       "        vertical-align: top;\n",
       "    }\n",
       "\n",
       "    .dataframe thead th {\n",
       "        text-align: right;\n",
       "    }\n",
       "</style>\n",
       "<table border=\"1\" class=\"dataframe\">\n",
       "  <thead>\n",
       "    <tr style=\"text-align: right;\">\n",
       "      <th></th>\n",
       "      <th>longitude</th>\n",
       "      <th>latitude</th>\n",
       "      <th>easting</th>\n",
       "      <th>northing</th>\n",
       "    </tr>\n",
       "  </thead>\n",
       "  <tbody>\n",
       "    <tr>\n",
       "      <th>0</th>\n",
       "      <td>-96.8062</td>\n",
       "      <td>35.9007</td>\n",
       "      <td>697984.8</td>\n",
       "      <td>3975158</td>\n",
       "    </tr>\n",
       "    <tr>\n",
       "      <th>1</th>\n",
       "      <td>-96.8385</td>\n",
       "      <td>35.9702</td>\n",
       "      <td>694898.6</td>\n",
       "      <td>3982803</td>\n",
       "    </tr>\n",
       "    <tr>\n",
       "      <th>2</th>\n",
       "      <td>-96.8336</td>\n",
       "      <td>36.0008</td>\n",
       "      <td>695265.0</td>\n",
       "      <td>3986208</td>\n",
       "    </tr>\n",
       "    <tr>\n",
       "      <th>3</th>\n",
       "      <td>-96.8007</td>\n",
       "      <td>36.0170</td>\n",
       "      <td>698190.3</td>\n",
       "      <td>3988071</td>\n",
       "    </tr>\n",
       "    <tr>\n",
       "      <th>4</th>\n",
       "      <td>-96.8474</td>\n",
       "      <td>35.9994</td>\n",
       "      <td>694024.4</td>\n",
       "      <td>3986025</td>\n",
       "    </tr>\n",
       "    <tr>\n",
       "      <th>5</th>\n",
       "      <td>-96.8747</td>\n",
       "      <td>35.9283</td>\n",
       "      <td>691735.3</td>\n",
       "      <td>3978083</td>\n",
       "    </tr>\n",
       "    <tr>\n",
       "      <th>6</th>\n",
       "      <td>-96.6609</td>\n",
       "      <td>35.9411</td>\n",
       "      <td>710992.6</td>\n",
       "      <td>3979944</td>\n",
       "    </tr>\n",
       "    <tr>\n",
       "      <th>7</th>\n",
       "      <td>-96.8201</td>\n",
       "      <td>36.0307</td>\n",
       "      <td>696407.8</td>\n",
       "      <td>3989552</td>\n",
       "    </tr>\n",
       "    <tr>\n",
       "      <th>8</th>\n",
       "      <td>-96.6589</td>\n",
       "      <td>35.9303</td>\n",
       "      <td>711201.7</td>\n",
       "      <td>3978751</td>\n",
       "    </tr>\n",
       "    <tr>\n",
       "      <th>9</th>\n",
       "      <td>-96.8987</td>\n",
       "      <td>35.9711</td>\n",
       "      <td>689467.5</td>\n",
       "      <td>3982784</td>\n",
       "    </tr>\n",
       "  </tbody>\n",
       "</table>\n",
       "</div>"
      ],
      "text/plain": [
       "   longitude  latitude   easting  northing\n",
       "0   -96.8062   35.9007  697984.8   3975158\n",
       "1   -96.8385   35.9702  694898.6   3982803\n",
       "2   -96.8336   36.0008  695265.0   3986208\n",
       "3   -96.8007   36.0170  698190.3   3988071\n",
       "4   -96.8474   35.9994  694024.4   3986025\n",
       "5   -96.8747   35.9283  691735.3   3978083\n",
       "6   -96.6609   35.9411  710992.6   3979944\n",
       "7   -96.8201   36.0307  696407.8   3989552\n",
       "8   -96.6589   35.9303  711201.7   3978751\n",
       "9   -96.8987   35.9711  689467.5   3982784"
      ]
     },
     "execution_count": 16,
     "metadata": {},
     "output_type": "execute_result"
    }
   ],
   "source": [
    "well_loc_df.head(10)"
   ]
  },
  {
   "cell_type": "code",
   "execution_count": 17,
   "id": "f3d49c88",
   "metadata": {},
   "outputs": [
    {
     "name": "stdout",
     "output_type": "stream",
     "text": [
      "No. of wells in data set = 21\n"
     ]
    }
   ],
   "source": [
    "N_wells = len(well_loc_df)\n",
    "print('No. of wells in data set = %d'% (N_wells))"
   ]
  },
  {
   "cell_type": "code",
   "execution_count": 18,
   "id": "b269f6e8",
   "metadata": {},
   "outputs": [
    {
     "data": {
      "image/png": "[encoded data removed]",
      "text/plain": [
       "<Figure size 576x432 with 2 Axes>"
      ]
     },
     "metadata": {
      "needs_background": "light"
     },
     "output_type": "display_data"
    }
   ],
   "source": [
    "# Plot spatial distribution of induced earthquakes.\n",
    "fig = plt.figure(figsize=(8,6))\n",
    "im = plt.scatter(seismic_df['easting'], seismic_df['northing'], c=seismic_df['magnitude'], \n",
    "                 marker='o', s=4, cmap='viridis')\n",
    "plt.plot(x_seismic_center, y_seismic_center, linestyle='None', marker='*', ms=20, color='maroon',\n",
    "        label='Seismicity centroid')\n",
    "plt.plot(well_loc_df['easting'], well_loc_df['northing'], linestyle='None', marker='d', ms=5, color='magenta', \n",
    "         label='Injection  wells')\n",
    "plt.xlabel('Easting (m)', fontsize=16)\n",
    "plt.ylabel('Northing (m)', fontsize=16)\n",
    "h = plt.colorbar(im)\n",
    "h.set_label('Magnitude', fontsize=16)\n",
    "plt.legend(loc='best', prop={'size': 14})\n",
    "plt.title('Decatur, Illinois', fontsize=16)\n",
    "plt.grid(alpha=0.7, linestyle=':')\n",
    "plt.tight_layout()\n",
    "plt.show()"
   ]
  },
  {
   "cell_type": "markdown",
   "id": "1e469272",
   "metadata": {},
   "source": [
    "### 3. Injection flow rate data "
   ]
  },
  {
   "cell_type": "code",
   "execution_count": 19,
   "id": "e1bf54cc",
   "metadata": {},
   "outputs": [],
   "source": [
    "inj_csv = 'gs://us-geomechanicsforco2-landing/data_sources/cushing_2014_oklahoma/cushingInjection.csv'\n",
    "inj_data = np.ascontiguousarray(pd.read_csv(inj_csv, header=None, delimiter=' ').to_numpy(copy=True))"
   ]
  },
  {
   "cell_type": "code",
   "execution_count": 20,
   "id": "d01f63a4",
   "metadata": {},
   "outputs": [
    {
     "data": {
      "text/plain": [
       "(22, 277)"
      ]
     },
     "execution_count": 20,
     "metadata": {},
     "output_type": "execute_result"
    }
   ],
   "source": [
    "inj_data.shape"
   ]
  },
  {
   "cell_type": "markdown",
   "id": "53fb0a55",
   "metadata": {},
   "source": [
    "The first row of `inj_data` specifies the time of injection flow rate measurements in decimal years. Subsequent rows correspond to injection flow rates for wells 0 – 20."
   ]
  },
  {
   "cell_type": "code",
   "execution_count": 21,
   "id": "3210b773",
   "metadata": {},
   "outputs": [
    {
     "name": "stdout",
     "output_type": "stream",
     "text": [
      "[1994.915 1995.    1995.085 1995.162 1995.247 1995.329 1995.414 1995.496\n",
      " 1995.581 1995.666]\n"
     ]
    }
   ],
   "source": [
    "t = np.copy(inj_data[0])\n",
    "print(t[:10])"
   ]
  },
  {
   "cell_type": "code",
   "execution_count": 22,
   "id": "a379e1d1",
   "metadata": {},
   "outputs": [],
   "source": [
    "def convert_decimalyear_to_epoch(year: float, reference_year: int =1994) -> float:\n",
    "    '''\n",
    "    Convert time in decimal years to epoch values in seconds.\n",
    "    \n",
    "    Parameters:\n",
    "    -------------\n",
    "    year: float\n",
    "        Decimal year (e.g., 1994.915)\n",
    "    \n",
    "    reference_year: integer\n",
    "        Reference year (default: 1994)\n",
    "    \n",
    "    Returns:\n",
    "    ------------\n",
    "    epoch: float\n",
    "        Epoch in seconds\n",
    "    '''\n",
    "    ref_datetime = datetime(reference_year, 1, 1)\n",
    "    obj = ref_datetime + timedelta(days=(year-reference_year)*365.25)\n",
    "    epoch = obj.timestamp()\n",
    "    return epoch"
   ]
  },
  {
   "cell_type": "code",
   "execution_count": 23,
   "id": "2796bfc5",
   "metadata": {},
   "outputs": [
    {
     "name": "stdout",
     "output_type": "stream",
     "text": [
      "Computed epochs in seconds. Printing first 10 epochs\n",
      "[7.86286404e+08 7.88968800e+08 7.91651196e+08 7.94081131e+08\n",
      " 7.96763527e+08 7.99347650e+08 8.02030046e+08 8.04617770e+08\n",
      " 8.07300166e+08 8.09982562e+08]\n"
     ]
    }
   ],
   "source": [
    "epochs = np.zeros(len(t))\n",
    "for i in range(len(t)):\n",
    "    epochs[i] = convert_decimalyear_to_epoch(t[i])\n",
    "print('Computed epochs in seconds. Printing first 10 epochs')\n",
    "print(epochs[:10])"
   ]
  },
  {
   "cell_type": "markdown",
   "id": "ad932fa8",
   "metadata": {},
   "source": [
    "For convenience, let us assume zero depth for all wells."
   ]
  },
  {
   "cell_type": "code",
   "execution_count": 24,
   "id": "7f25df03",
   "metadata": {},
   "outputs": [],
   "source": [
    "z = np.zeros(N_wells)"
   ]
  },
  {
   "cell_type": "code",
   "execution_count": 25,
   "id": "577fae0d",
   "metadata": {},
   "outputs": [],
   "source": [
    "# Construct list of dictionaries of well data.\n",
    "wells = []\n",
    "for i in range(N_wells):\n",
    "    dict_data = {'x': well_loc_df.loc[i, 'easting'],\n",
    "                 'y': well_loc_df.loc[i, 'northing'],\n",
    "                 'z': z[i],\n",
    "                 't': epochs.tolist(),\n",
    "                 'q': inj_data[i+1].tolist()\n",
    "                }\n",
    "    wells.append(dict_data)"
   ]
  },
  {
   "cell_type": "markdown",
   "id": "7d984268",
   "metadata": {},
   "source": [
    "### 4. Use radial flow model to compute pressures and pressurization rates on a x-y-z-t grid."
   ]
  },
  {
   "cell_type": "code",
   "execution_count": 26,
   "id": "43fc3bed",
   "metadata": {},
   "outputs": [],
   "source": [
    "flow_model = RadialFlowModel()\n",
    "# Radial flow parameters \n",
    "flow_model.viscosity = 1.0\n",
    "flow_model.permeability = 192.0 \n",
    "flow_model.storativity = 1.2e-4\n",
    "flow_model.payzone_thickness = 500.0\n",
    "flow_model.setup_model(wells)"
   ]
  },
  {
   "cell_type": "code",
   "execution_count": 27,
   "id": "93aa5a0d",
   "metadata": {},
   "outputs": [
    {
     "name": "stdout",
     "output_type": "stream",
     "text": [
      "Along easting, we have 100 grid samples with a spacing of 0.27 km.\n",
      "Along northing, we have 100 grid samples with a spacing of 0.20 km.\n",
      "Grid shape (x, y, z, t) = 100 100 5 300\n"
     ]
    }
   ],
   "source": [
    "# Set up custom x-y-z-t grid.\n",
    "x_grid = np.linspace(well_loc_df['easting'].min(),well_loc_df['easting'].max(), 100)\n",
    "print('Along easting, we have %d grid samples with a spacing of %.2f km.'% (len(x_grid), (x_grid[1]-x_grid[0])*1.e-3))\n",
    "\n",
    "y_grid = np.linspace(well_loc_df['northing'].min(),well_loc_df['northing'].max(), 100)\n",
    "print('Along northing, we have %d grid samples with a spacing of %.2f km.'% (len(y_grid), (y_grid[1]-y_grid[0])*1.e-3))\n",
    "\n",
    "z_grid = np.linspace(0., seismic_df['depth'].max(), 5)\n",
    "\n",
    "t0 = min(epochs.min(), seismic_df['epoch'].min())\n",
    "t1 = max(epochs.max(), seismic_df['epoch'].max())\n",
    "t_grid = np.linspace(t0, t1, 300)\n",
    "print('Grid shape (x, y, z, t) =', len(x_grid), len(y_grid), len(z_grid), len(t_grid))\n",
    "\n",
    "G = np.meshgrid(x_grid, y_grid, z_grid, t_grid, indexing='ij')"
   ]
  },
  {
   "cell_type": "code",
   "execution_count": 28,
   "id": "ac7f2c19",
   "metadata": {},
   "outputs": [],
   "source": [
    "#p = flow_model.p(*G)\n",
    "#dpdt = flow_model.p(*G)"
   ]
  },
  {
   "cell_type": "code",
   "execution_count": 29,
   "id": "80b71cd9",
   "metadata": {},
   "outputs": [],
   "source": [
    "# TO DO: Write spatiotemporal data products (p and dp/dt)  to file. "
   ]
  },
  {
   "cell_type": "markdown",
   "id": "e49d35f6",
   "metadata": {},
   "source": [
    "### 5. Evaluate pressure and `dp/dt` at the centroid of induced seismicity."
   ]
  },
  {
   "cell_type": "code",
   "execution_count": 30,
   "id": "b7d61c2e",
   "metadata": {},
   "outputs": [],
   "source": [
    "G_centroid = np.meshgrid(np.array([x_seismic_center]), np.array([y_seismic_center]),\n",
    "                         np.array([z_seismic_center]), t_grid, indexing='ij')"
   ]
  },
  {
   "cell_type": "code",
   "execution_count": 31,
   "id": "7156345d",
   "metadata": {},
   "outputs": [
    {
     "name": "stdout",
     "output_type": "stream",
     "text": [
      "Pressure and dp/dt computed.\n"
     ]
    }
   ],
   "source": [
    "# Evaluate pressure and dp/dt at seismicity centroid using flow model.\n",
    "p_centroid = flow_model.p(*G_centroid).squeeze()\n",
    "dpdt_centroid = flow_model.dpdt(*G_centroid).squeeze()\n",
    "print('Pressure and dp/dt computed.')"
   ]
  },
  {
   "cell_type": "code",
   "execution_count": 32,
   "id": "5d6ddf81",
   "metadata": {},
   "outputs": [
    {
     "name": "stdout",
     "output_type": "stream",
     "text": [
      "Write to GCP finished.\n"
     ]
    }
   ],
   "source": [
    "# Write temporal data set to GCP.\n",
    "if write_to_GCP:\n",
    "    pressure_df = pd.DataFrame({'epoch': t_grid, 'pressure': p_centroid, 'dpdt': dpdt_centroid})\n",
    "    pressure_df.to_csv(base_path+'/pressure.csv',index=None)\n",
    "    print('Write to GCP finished.')"
   ]
  },
  {
   "cell_type": "code",
   "execution_count": 33,
   "id": "48718215",
   "metadata": {},
   "outputs": [
    {
     "data": {
      "image/png": "[encoded data removed]",
      "text/plain": [
       "<Figure size 432x288 with 2 Axes>"
      ]
     },
     "metadata": {
      "needs_background": "light"
     },
     "output_type": "display_data"
    }
   ],
   "source": [
    "t0_date = datetime.fromtimestamp(t0)\n",
    "\n",
    "# Plot pressure time series alongside that of cumulative earthquake counts.\n",
    "fig, ax = plt.subplots(nrows=1, ncols=1, tight_layout=True)\n",
    "# Cumulative earthquake counts\n",
    "ax.plot((t_vals_quakes-t0)/t_scale, cum_counts, '-k')\n",
    "ax.grid(linestyle=':', alpha=0.7)\n",
    "ax.set_xlabel('Time (years) since %s'% (t0_date.strftime('%Y - %m - %d')), fontsize=14)\n",
    "ax.set_ylabel('Cumulative earthquake count', fontsize=14)\n",
    "# Pressure data\n",
    "ax2 = ax.twinx()\n",
    "ax2.plot((t_grid-t0)/t_scale, p_centroid*1.0e-6, ':r')\n",
    "ax2.set_ylabel('Pressure (MPa)', fontsize=14, color='r')\n",
    "ax2.spines['right'].set_color('red')\n",
    "ax2.tick_params(axis='y', colors='red')\n",
    "plt.show()"
   ]
  },
  {
   "cell_type": "code",
   "execution_count": 34,
   "id": "e7f8d815",
   "metadata": {},
   "outputs": [
    {
     "data": {
      "image/png": "[encoded data removed]",
      "text/plain": [
       "<Figure size 432x288 with 2 Axes>"
      ]
     },
     "metadata": {
      "needs_background": "light"
     },
     "output_type": "display_data"
    }
   ],
   "source": [
    "# Plot pressurization rate time series alongside that of cumulative earthquake counts.\n",
    "fig, ax = plt.subplots(nrows=1, ncols=1, tight_layout=True)\n",
    "# Cumulative earthquake counts\n",
    "ax.plot((t_vals_quakes-t0)/t_scale, cum_counts, '-k')\n",
    "ax.grid(linestyle=':', alpha=0.7)\n",
    "ax.set_xlabel('Time (years) since %s'% (t0_date.strftime('%Y - %m - %d')), fontsize=14)\n",
    "ax.set_ylabel('Cumulative earthquake count', fontsize=14)\n",
    "# Pressure data\n",
    "ax2 = ax.twinx()\n",
    "ax2.plot((t_grid-t0)/t_scale, dpdt_centroid, ':b')\n",
    "ax2.set_ylabel('Pressurization rate (Pa/s)', fontsize=14, color='b')\n",
    "ax2.spines['right'].set_color('b')\n",
    "ax2.tick_params(axis='y', colors='b')\n",
    "plt.show()"
   ]
  },
  {
   "cell_type": "code",
   "execution_count": null,
   "id": "cb152a67",
   "metadata": {},
   "outputs": [],
   "source": []
  }
 ],
 "metadata": {
  "kernelspec": {
   "display_name": "Python 3 (ipykernel)",
   "language": "python",
   "name": "python3"
  },
  "language_info": {
   "codemirror_mode": {
    "name": "ipython",
    "version": 3
   },
   "file_extension": ".py",
   "mimetype": "text/x-python",
   "name": "python",
   "nbconvert_exporter": "python",
   "pygments_lexer": "ipython3",
   "version": "3.9.7"
  }
 },
 "nbformat": 4,
 "nbformat_minor": 5
}
