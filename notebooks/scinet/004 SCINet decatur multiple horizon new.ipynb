{
 "cells": [
  {
   "cell_type": "code",
   "execution_count": 1,
   "metadata": {},
   "outputs": [],
   "source": [
    "import numpy as np\n",
    "import torch\n",
    "import torch.nn as nn\n",
    "import matplotlib.pyplot as plt\n",
    "import torch.nn.functional as F\n",
    "import torch.optim as optim\n",
    "from saif.crs_model.peakdetector import pk_indxs\n",
    "import saif.scinet.model as scinet\n",
    "# plt.style.use('ggplot')\n",
    "\n",
    "%matplotlib inline"
   ]
  },
  {
   "cell_type": "code",
   "execution_count": 2,
   "metadata": {},
   "outputs": [],
   "source": [
    "# from saif.scinet.dataset import daily_seismic_and_interpolated_pressure\n",
    "# from saif.scinet.dataset import construct_time_series_dataset\n",
    "\n",
    "from dataset import daily_seismic_and_interpolated_pressure\n",
    "from saif.ml_utils.data_utils import daily_seismic_and_interpolated_pressure\n",
    "from dataset import construct_time_series_dataset\n",
    "\n",
    "\n",
    "from torch.utils.data import DataLoader"
   ]
  },
  {
   "cell_type": "code",
   "execution_count": 3,
   "metadata": {},
   "outputs": [],
   "source": [
    "import pandas as pd\n",
    "seismic = pd.read_csv(\"../../../temporal_datasets/decatur_illinois/seismic.csv\")\n",
    "pressure = pd.read_csv(\"../../../temporal_datasets/decatur_illinois/pressure.csv\")\n",
    "\n",
    "pressure[\"epoch\"] = pressure[\"epoch\"]\n",
    "\n"
   ]
  },
  {
   "cell_type": "code",
   "execution_count": 4,
   "metadata": {},
   "outputs": [],
   "source": [
    "features, _, target_vals = daily_seismic_and_interpolated_pressure(seismic, pressure)\n",
    "# daily_seismic_and_interpolated_pressure(seismic, pressure)"
   ]
  },
  {
   "cell_type": "code",
   "execution_count": 5,
   "metadata": {},
   "outputs": [],
   "source": [
    "# input_len = 16 # try wider window power of 2\n",
    "# horizon = 7 # prediction window\n",
    "\n",
    "# Trying out different input_len and horizon\n",
    "input_len = 64\n",
    "horizon = 7"
   ]
  },
  {
   "cell_type": "code",
   "execution_count": 6,
   "metadata": {},
   "outputs": [],
   "source": [
    "features = features[['pressure','dpdt']]"
   ]
  },
  {
   "cell_type": "code",
   "execution_count": 7,
   "metadata": {},
   "outputs": [],
   "source": [
    "features['seismic'] = target_vals"
   ]
  },
  {
   "cell_type": "markdown",
   "metadata": {},
   "source": [
    "Visualization of the train / test split"
   ]
  },
  {
   "cell_type": "code",
   "execution_count": 8,
   "metadata": {},
   "outputs": [
    {
     "data": {
      "text/plain": [
       "Text(0, 0.5, 'normalized cumulative counts')"
      ]
     },
     "execution_count": 8,
     "metadata": {},
     "output_type": "execute_result"
    },
    {
     "data": {
      "image/png": "[encoded data removed]",
      "text/plain": [
       "<Figure size 432x288 with 1 Axes>"
      ]
     },
     "metadata": {
      "needs_background": "light"
     },
     "output_type": "display_data"
    }
   ],
   "source": [
    "train_dset, test_dset, x_scaler, y_scaler = construct_time_series_dataset(\n",
    "    features, target_vals, \n",
    "    input_len, horizon, features.columns, \n",
    "    train_test_split=0.8, normalize_data=True # try train_test_split=0.75\n",
    "    # train_test_split=0.75, normalize_data=True\n",
    ")\n",
    "\n",
    "plt.figure()\n",
    "plt.plot(np.arange(len(train_dset.Y)), train_dset.Y, label='training')\n",
    "plt.plot(np.arange(len(test_dset.Y)) + len(train_dset.Y), test_dset.Y, label='test')\n",
    "plt.legend()\n",
    "plt.xlabel('days')\n",
    "plt.ylabel('normalized cumulative counts')"
   ]
  },
  {
   "cell_type": "markdown",
   "metadata": {},
   "source": [
    "### Model Architecture"
   ]
  },
  {
   "cell_type": "code",
   "execution_count": 9,
   "metadata": {},
   "outputs": [],
   "source": [
    "class SimpleSCINet(nn.Module):\n",
    "    def __init__(\n",
    "        self, \n",
    "        input_len, output_len,\n",
    "        input_dim, num_levels, kernel_size, dropout, groups, hidden_size\n",
    "    ):\n",
    "        super().__init__()\n",
    "        \n",
    "        self.input_len = input_len\n",
    "        self.output_len = output_len\n",
    "        self.input_dim = input_dim\n",
    "        self.hidden_size = hidden_size\n",
    "        self.num_levels = num_levels\n",
    "        self.groups = groups\n",
    "        self.kernel_size = kernel_size\n",
    "        self.dropout = dropout\n",
    "        \n",
    "        self.bn1 = nn.BatchNorm1d(self.input_dim)\n",
    "        self.bn2 = nn.BatchNorm1d(self.input_dim)\n",
    "        \n",
    "        self.block1 = scinet.EncoderTree(\n",
    "            in_planes=self.input_dim,\n",
    "            num_levels=self.num_levels,\n",
    "            kernel_size=self.kernel_size,\n",
    "            dropout=self.dropout,\n",
    "            groups=self.groups,\n",
    "            hidden_size=self.hidden_size,\n",
    "            INN=True\n",
    "        )\n",
    "        \n",
    "        # I'm a bit iffy on using a projector like this across features\n",
    "        # But this is what they do in scinet\n",
    "        # It should be fine, kernel size is 1, it's essentially just an\n",
    "        # aggregation operation\n",
    "        self.time_projector = nn.Conv1d(\n",
    "            self.input_len, self.output_len,\n",
    "            kernel_size=1, stride=1, bias=False\n",
    "        )\n",
    "        \n",
    "        self.channel_projector = nn.Conv1d(\n",
    "            self.input_dim, 1, kernel_size=1, stride=1, bias=True\n",
    "        )\n",
    "    \n",
    "    def forward(self, x):\n",
    "        out = x.permute(0, 2, 1)\n",
    "        out = self.bn1(out)\n",
    "        out = out.permute(0, 2, 1)\n",
    "        \n",
    "        out = self.block1(out)\n",
    "        out += out\n",
    "        \n",
    "        out = F.relu(out)\n",
    "        out = self.time_projector(out)\n",
    "        \n",
    "        out = out.permute(0, 2, 1)\n",
    "        out = self.bn2(out)\n",
    "        out = F.relu(out)\n",
    "        \n",
    "        out = self.channel_projector(out).squeeze(1)\n",
    "        \n",
    "        #Enforcing monotonicity\n",
    "        #out = torch.exp(out)\n",
    "        #out = F.relu(out)\n",
    "        # Exp has numerical issues, and relu was collapsing.\n",
    "        # Squaring is also a positive operation\n",
    "        out = out ** 2\n",
    "        #out = torch.sigmoid(out)\n",
    "        out = out.cumsum(-1) + x[:, -1, -1, None]\n",
    "        \n",
    "        return out"
   ]
  },
  {
   "cell_type": "markdown",
   "metadata": {},
   "source": [
    "### Hyperparameters"
   ]
  },
  {
   "cell_type": "code",
   "execution_count": 10,
   "metadata": {},
   "outputs": [],
   "source": [
    "input_dim = train_dset.X.shape[1]\n",
    "num_levels = 2 # number of levels in the scinet tree\n",
    "kernel_size = 4 # kernel size for the conv1D operations\n",
    "dropout = 0.4 # dropout regularization params\n",
    "groups = 1 # number of groups in the conv1D operation\n",
    "hidden_size = 3 # scaling factor for the hidden dimension\n",
    "\n",
    "lr = 1e-3 # learning rate\n",
    "# n_epoch = 64 # number of epochs\n",
    "n_epoch = 128\n",
    "\n",
    "# Choose your loss function!/\n",
    "# criterion = nn.MSELoss() # L2 loss\n",
    "criterion = nn.HuberLoss() #An alternative, smoother version of the L1 Loss\n",
    "# Less sensitive to outliers, less prone to exploding gradients"
   ]
  },
  {
   "cell_type": "markdown",
   "metadata": {},
   "source": [
    "### Run Training"
   ]
  },
  {
   "cell_type": "code",
   "execution_count": 11,
   "metadata": {},
   "outputs": [],
   "source": [
    "\n",
    "from tqdm.notebook import tqdm"
   ]
  },
  {
   "cell_type": "code",
   "execution_count": 12,
   "metadata": {},
   "outputs": [
    {
     "data": {
      "application/vnd.jupyter.widget-view+json": {
       "model_id": "7e217cb60c8147b497b1a3b6e18173bc",
       "version_major": 2,
       "version_minor": 0
      },
      "text/plain": [
       "  0%|          | 0/128 [00:00<?, ?it/s]"
      ]
     },
     "metadata": {},
     "output_type": "display_data"
    }
   ],
   "source": [
    "torch.manual_seed(0) # Use different seeds for 10 times\n",
    "\n",
    "train_loader = DataLoader(\n",
    "    train_dset,\n",
    "    batch_size=32,\n",
    "    shuffle=True,\n",
    "    num_workers=1\n",
    ")\n",
    "\n",
    "test_loader = DataLoader(\n",
    "    test_dset,\n",
    "    batch_size=32,\n",
    "    shuffle=False,\n",
    "    num_workers=1\n",
    ")\n",
    "\n",
    "model = SimpleSCINet(\n",
    "    input_len, horizon,\n",
    "    input_dim, num_levels, kernel_size, \n",
    "    dropout, groups, hidden_size\n",
    ")\n",
    "\n",
    "optimizer = optim.Adam(model.parameters(), lr=lr)\n",
    "\n",
    "train_loss_vals = []\n",
    "test_loss_vals = []\n",
    "\n",
    "\n",
    "for epoch in tqdm(range(n_epoch)):\n",
    "    #train loop\n",
    "    model.train()\n",
    "    batch_loss_vals = []\n",
    "    for (batch_x, batch_y) in train_loader:\n",
    "        optimizer.zero_grad()\n",
    "        \n",
    "        outputs = model(batch_x)\n",
    "        loss = criterion(outputs, batch_y)\n",
    "        loss.backward()\n",
    "        optimizer.step()\n",
    "        \n",
    "        batch_loss_vals.append(loss.item())\n",
    "    train_loss_vals.append(np.mean(batch_loss_vals))\n",
    "    \n",
    "    #eval loop\n",
    "    model.eval()\n",
    "    batch_loss_vals = []\n",
    "    for (batch_x, batch_y) in test_loader:        \n",
    "        outputs = model(batch_x)\n",
    "        loss = criterion(outputs, batch_y)\n",
    "        batch_loss_vals.append(loss.item())\n",
    "    test_loss_vals.append(np.mean(batch_loss_vals))"
   ]
  },
  {
   "cell_type": "code",
   "execution_count": 13,
   "metadata": {},
   "outputs": [
    {
     "data": {
      "text/plain": [
       "[0.03899929467588663,\n",
       " 0.012656776327639818,\n",
       " 0.0037504657986573873,\n",
       " 0.0014197856071405113,\n",
       " 0.000954528187867254,\n",
       " 0.0007348670333158225,\n",
       " 0.0005775002704467624,\n",
       " 0.0005976502114208415,\n",
       " 0.0005818345031002537,\n",
       " 0.0005346356658264995,\n",
       " 0.00046455822593998163,\n",
       " 0.00043783262080978604,\n",
       " 0.0005072227751952596,\n",
       " 0.000481591752031818,\n",
       " 0.00043860224832315,\n",
       " 0.0004987646607332863,\n",
       " 0.0004372476774733514,\n",
       " 0.0004603531058819499,\n",
       " 0.0004654099539038725,\n",
       " 0.0004274459453881718,\n",
       " 0.0004993771828594618,\n",
       " 0.0004938055863021873,\n",
       " 0.0004621188789315056,\n",
       " 0.0004694520001066849,\n",
       " 0.00043117954337503763,\n",
       " 0.00044349751842673866,\n",
       " 0.0004300270549720153,\n",
       " 0.00048561935691395777,\n",
       " 0.00047353764675790445,\n",
       " 0.000466256334038917,\n",
       " 0.00047365761129185556,\n",
       " 0.0004753748442453798,\n",
       " 0.00046432604794972577,\n",
       " 0.0004922137384710367,\n",
       " 0.0004801709845196456,\n",
       " 0.00047828374699747654,\n",
       " 0.0004967809372828924,\n",
       " 0.00047462463735428175,\n",
       " 0.0004696699787018588,\n",
       " 0.0004747443475935142,\n",
       " 0.00046934136589698027,\n",
       " 0.00044240306087885985,\n",
       " 0.0004454578476725146,\n",
       " 0.0004548853077722015,\n",
       " 0.00044159076678624843,\n",
       " 0.0004645155562684522,\n",
       " 0.00045542437483163666,\n",
       " 0.0004662494083277124,\n",
       " 0.0004407723471558711,\n",
       " 0.00046647368017147526,\n",
       " 0.00044789352959924146,\n",
       " 0.000443688771520101,\n",
       " 0.00043421649970696306,\n",
       " 0.0004319268326071324,\n",
       " 0.0004113164453883655,\n",
       " 0.0003962556009355467,\n",
       " 0.00041113713377853854,\n",
       " 0.00042149730143137276,\n",
       " 0.00037537493772106246,\n",
       " 0.00043968891659460494,\n",
       " 0.0003912521024176385,\n",
       " 0.0003802319530223031,\n",
       " 0.00038585676375078035,\n",
       " 0.0003915292676538229,\n",
       " 0.0003836407297058031,\n",
       " 0.0003904950384821859,\n",
       " 0.000363178581756074,\n",
       " 0.00036767223500646653,\n",
       " 0.0003468192095169798,\n",
       " 0.0004001594694273081,\n",
       " 0.0004145054623222677,\n",
       " 0.000397128879558295,\n",
       " 0.0004045146886710427,\n",
       " 0.0004056612890053657,\n",
       " 0.00038638432342850135,\n",
       " 0.000377956855299999,\n",
       " 0.00036239335604477675,\n",
       " 0.0003688107019115705,\n",
       " 0.0003622199219535105,\n",
       " 0.0003448268864303827,\n",
       " 0.0003922389092622325,\n",
       " 0.00035639138186525086,\n",
       " 0.00036561927572620334,\n",
       " 0.00033894638254423627,\n",
       " 0.00036181371078782833,\n",
       " 0.00036889666644128737,\n",
       " 0.00033768531429814177,\n",
       " 0.0003747124022083881,\n",
       " 0.00033543138051754794,\n",
       " 0.0003395505918888375,\n",
       " 0.0003137227344268467,\n",
       " 0.0003020627867954317,\n",
       " 0.00030657178140245376,\n",
       " 0.0003426612965995446,\n",
       " 0.0003218240657588467,\n",
       " 0.0003554471401002957,\n",
       " 0.00031354546663351355,\n",
       " 0.00037306861404431404,\n",
       " 0.0003389149708709738,\n",
       " 0.00032465239564771764,\n",
       " 0.0003697536729305284,\n",
       " 0.00032697050846763887,\n",
       " 0.0003628285467129899,\n",
       " 0.00033253523488383505,\n",
       " 0.0003402962458494585,\n",
       " 0.0003152862097522302,\n",
       " 0.0003165263759001391,\n",
       " 0.0003055543227674207,\n",
       " 0.000300025086835376,\n",
       " 0.0003939519736377406,\n",
       " 0.00031169468456937466,\n",
       " 0.00032644912917021427,\n",
       " 0.00032731038627389355,\n",
       " 0.0003141456109005958,\n",
       " 0.0003646545462288486,\n",
       " 0.00034979654528797253,\n",
       " 0.00032912699334701755,\n",
       " 0.00032887673878576604,\n",
       " 0.0003461402831817395,\n",
       " 0.0003459235971604357,\n",
       " 0.0003249420293286676,\n",
       " 0.0003200395398380351,\n",
       " 0.0003689106515594176,\n",
       " 0.00032954828639049084,\n",
       " 0.00035399372663960096,\n",
       " 0.00034734672062768367,\n",
       " 0.0003201702635124093,\n",
       " 0.0003424628393986495]"
      ]
     },
     "execution_count": 13,
     "metadata": {},
     "output_type": "execute_result"
    }
   ],
   "source": [
    "# print Huber Loss\n",
    "test_loss_vals"
   ]
  },
  {
   "cell_type": "code",
   "execution_count": 14,
   "metadata": {},
   "outputs": [
    {
     "data": {
      "image/png": "[encoded data removed]",
      "text/plain": [
       "<Figure size 432x288 with 1 Axes>"
      ]
     },
     "metadata": {
      "needs_background": "light"
     },
     "output_type": "display_data"
    }
   ],
   "source": [
    "plt.plot(train_loss_vals, color='g', label='train')\n",
    "plt.plot(test_loss_vals, color='r', label='test')\n",
    "plt.legend()\n",
    "plt.ylabel('Huberloss')\n",
    "# plt.ylim([0,2])\n",
    "plt.yscale('log')\n",
    "plt.xlabel('Epoch')\n",
    "pd.DataFrame({\n",
    "    'epoch_number':range(n_epoch),\n",
    "    'train_loss': train_loss_vals,\n",
    "    'test_loss':test_loss_vals\n",
    "}).to_csv('decatur_losscurve.csv')"
   ]
  },
  {
   "cell_type": "code",
   "execution_count": 15,
   "metadata": {},
   "outputs": [
    {
     "data": {
      "image/png": "[encoded data removed]",
      "text/plain": [
       "<Figure size 576x576 with 1 Axes>"
      ]
     },
     "metadata": {
      "needs_background": "light"
     },
     "output_type": "display_data"
    }
   ],
   "source": [
    "start_input = 0\n",
    "end_input = start_input + input_len\n",
    "end_output = end_input + horizon\n",
    "\n",
    "sample_x = torch.clone(test_dset.X[start_input:end_input])\n",
    "input_y = torch.clone(test_dset.Y[start_input:end_input+1])\n",
    "output_y = torch.clone(test_dset.Y[end_input:end_output])\n",
    "\n",
    "def monte_carlo_sample(model, x, n_samples=50, seed=0):\n",
    "    torch.manual_seed(seed)\n",
    "    model.train()\n",
    "    \n",
    "    # We want the model to be in training mode\n",
    "    # Except for the BN.\n",
    "    # There is potentially a more elegant way to do this\n",
    "    # Ex by making a different \"mode\" in our own model groups\n",
    "    model.bn1.training = False\n",
    "    model.bn2.training = False\n",
    "    \n",
    "    samples = []\n",
    "    for _ in range(n_samples):\n",
    "        samples.append(model(x).data)\n",
    "    samples = torch.stack(samples)\n",
    "    \n",
    "    model.eval()\n",
    "    return samples.permute(1, 0, 2)\n",
    "\n",
    "model.eval()\n",
    "pred_y = model(sample_x[None, :, :]).squeeze(0).data\n",
    "\n",
    "samples = monte_carlo_sample(model, sample_x[None, :, :], n_samples=10)\n",
    "samples = samples.squeeze(0).data.numpy()\n",
    "\n",
    "sample_mean = samples.mean(0)\n",
    "sample_std = samples.std(0)\n",
    "\n",
    "## You can use mean +/- std, or percentile, to visualize the distribtion\n",
    "\n",
    "# Uncomment to use mean +/- std\n",
    "#sample_ub = sample_mean + sample_std\n",
    "#sample_lb = sample_mean - sample_std\n",
    "\n",
    "# Use percentiles\n",
    "sample_ub = np.percentile(samples, 90, axis=0)\n",
    "sample_lb = np.percentile(samples, 10, axis=0)\n",
    "\n",
    "sample_max = samples.max(0)\n",
    "sample_min = samples.min(0)\n",
    "\n",
    "fig, ax = plt.subplots(1, 1, figsize=(8,8))\n",
    "\n",
    "ax.plot(np.arange(start_input, end_input+1), input_y, 'r', marker='o', label='observed')\n",
    "ax.plot(np.arange(end_input, end_output), output_y, 'r', marker='o')\n",
    "ax.fill_between(np.arange(end_input, end_output), sample_ub, sample_lb, alpha=0.1, color='b')\n",
    "ax.fill_between(np.arange(end_input, end_output), sample_max, sample_min, alpha=0.05, color='b')\n",
    "ax.plot(np.arange(end_input, end_output), pred_y, 'b', marker='o', label='forecast')\n",
    "\n",
    "plt.xlabel('days')\n",
    "plt.ylabel('normalized cumulative counts')\n",
    "plt.legend(loc='lower right')\n",
    "plt.show()"
   ]
  },
  {
   "cell_type": "markdown",
   "metadata": {},
   "source": [
    "Visualize the forecast"
   ]
  },
  {
   "cell_type": "markdown",
   "metadata": {},
   "source": []
  },
  {
   "cell_type": "markdown",
   "metadata": {},
   "source": [
    "## Trying out new prediction routine "
   ]
  },
  {
   "cell_type": "code",
   "execution_count": 16,
   "metadata": {},
   "outputs": [],
   "source": [
    "n_horizons_forcast = len(test_dset.Y) // horizon + 1\n",
    "end_input = start_input + input_len\n",
    "end_output = end_input + n_horizons_forcast*horizon\n",
    "\n",
    "# sample_x = torch.clone(test_dset.X[start_input:end_input])\n",
    "# input_y = torch.clone(test_dset.Y[start_input:end_input+1])\n",
    "# output_y = torch.clone(test_dset.Y[end_input:end_output])\n",
    "\n",
    "sample_x = torch.clone(train_dset.X[-input_len:])\n",
    "input_y = torch.clone(train_dset.Y[-input_len:])\n",
    "# output_y = torch.clone(test_dset.Y[start_input:start_input+n_horizons_forcast*horizon])\n",
    "\n",
    "\n",
    "# forecast_X = torch.clone(train_dset.X[-input_len:])\n",
    "forecast_X = torch.cat((torch.clone(train_dset.X[-input_len:]),torch.clone(test_dset.X)))\n",
    "# output_y = torch.cat((\n",
    "#     # torch.clone(train_dset.Y[-input_len:]),\n",
    "#     torch.clone(test_dset.Y)\n",
    "# ))\n",
    "output_y = torch.clone(test_dset.Y[:-1])\n"
   ]
  },
  {
   "cell_type": "code",
   "execution_count": 17,
   "metadata": {},
   "outputs": [
    {
     "data": {
      "text/plain": [
       "tensor([1.1563, 1.1604, 1.1620, 1.1628, 1.1644, 1.1652, 1.1660, 1.1676, 1.1676,\n",
       "        1.1701, 1.1733, 1.1781, 1.1806, 1.1814, 1.1830, 1.1854, 1.1894, 1.1902,\n",
       "        1.1910, 1.2023, 1.2144, 1.2241, 1.2257, 1.2274, 1.2290, 1.2362, 1.2370,\n",
       "        1.2403, 1.2435, 1.2508, 1.2548, 1.2612, 1.2653, 1.2685, 1.2709, 1.2742,\n",
       "        1.2766, 1.2782, 1.2814, 1.2855, 1.2871, 1.2943, 1.3056, 1.3177, 1.3226,\n",
       "        1.3306, 1.3323, 1.3355, 1.3411, 1.3597, 1.3613, 1.3637, 1.3645, 1.3686,\n",
       "        1.3710, 1.3815, 1.3896, 1.3952, 1.4065, 1.4113, 1.4251, 1.4323, 1.4372,\n",
       "        1.4444, 1.4476, 1.4541, 1.4573, 1.4694, 1.4743, 1.4775, 1.4904, 1.4945,\n",
       "        1.4993, 1.5098, 1.5170, 1.5227, 1.5267, 1.5324, 1.5396, 1.5461, 1.5526,\n",
       "        1.5582, 1.5598, 1.5630, 1.6179, 1.6284, 1.6357, 1.6389, 1.6534, 1.6631,\n",
       "        1.6712, 1.6833, 1.6881, 1.6913, 1.6986, 1.7381, 1.7535, 1.7688, 1.7728,\n",
       "        1.7841, 1.7962, 1.8011, 1.8075, 1.8116, 1.8124, 1.8132, 1.8148, 1.8172,\n",
       "        1.8213, 1.8261, 1.8277, 1.8293, 1.8309, 1.8947, 1.9270, 1.9455, 1.9568,\n",
       "        1.9641, 1.9714, 1.9746, 1.9778, 1.9843, 1.9875, 1.9899, 1.9980, 2.0004,\n",
       "        2.0044, 2.0077, 2.0101, 2.0133, 2.0182, 2.0190, 2.0206, 2.0214, 2.0222,\n",
       "        2.0254, 2.0286, 2.0311, 2.0327, 2.0343, 2.0383, 2.0391, 2.0399, 2.0440,\n",
       "        2.0504, 2.0561, 2.0601, 2.0682, 2.0803, 2.0843, 2.0964, 2.1093, 2.1134,\n",
       "        2.1182, 2.1206, 2.1231, 2.1263, 2.1327, 2.1368, 2.1368, 2.1368, 2.1384,\n",
       "        2.1392, 2.1416, 2.1440, 2.1448, 2.1457, 2.1457, 2.1481, 2.1489, 2.1489,\n",
       "        2.1497, 2.1505, 2.1505, 2.1529, 2.1545, 2.1561, 2.1561, 2.1578, 2.1594,\n",
       "        2.1618, 2.1626, 2.1626, 2.1642, 2.1650, 2.1699, 2.1715, 2.1731, 2.1731,\n",
       "        2.1731, 2.1731, 2.1747, 2.1763, 2.1771, 2.1787, 2.1795, 2.1836, 2.1844,\n",
       "        2.1860, 2.1876, 2.1876, 2.1941, 2.1949, 2.1957, 2.1965, 2.1981, 2.1997,\n",
       "        2.1997, 2.2021, 2.2038, 2.2046, 2.2054, 2.2070, 2.2078, 2.2086, 2.2102,\n",
       "        2.2126, 2.2134, 2.2167, 2.2167, 2.2191, 2.2199])"
      ]
     },
     "execution_count": 17,
     "metadata": {},
     "output_type": "execute_result"
    }
   ],
   "source": [
    "test_dset.Y"
   ]
  },
  {
   "cell_type": "code",
   "execution_count": 18,
   "metadata": {},
   "outputs": [],
   "source": [
    "torch.manual_seed(0)\n",
    "model.eval()\n",
    "predictions = []\n",
    "outputs_y = []\n",
    "sample_x = torch.clone(forecast_X[start_input:end_input])\n",
    "for i in range(n_horizons_forcast):\n",
    "    _predict = model(sample_x[None,:,:])\n",
    "    predictions.append(_predict.data.squeeze()) # output?\n",
    "    sample_x = torch.clone(forecast_X[start_input+i*horizon:end_input+i*horizon])\n",
    "    sample_x[None,-horizon:,-1] = _predict.data.squeeze() # replacing last seismic data with the prediction\n",
    "    # model.eval()\n",
    "\n",
    "\n",
    "\n",
    "# outputs_y.append(output_y)\n",
    "# _predict = model(sample_x[None,:,:])\n",
    "# predictions.append(_predict.data.squeeze())"
   ]
  },
  {
   "cell_type": "code",
   "execution_count": 19,
   "metadata": {},
   "outputs": [
    {
     "data": {
      "text/plain": [
       "<matplotlib.legend.Legend at 0x29ce92ac0>"
      ]
     },
     "execution_count": 19,
     "metadata": {},
     "output_type": "execute_result"
    },
    {
     "data": {
      "image/png": "[encoded data removed]",
      "text/plain": [
       "<Figure size 432x288 with 1 Axes>"
      ]
     },
     "metadata": {
      "needs_background": "light"
     },
     "output_type": "display_data"
    }
   ],
   "source": [
    "plt.plot(np.arange(0,len(train_dset.Y)),train_dset.Y,'r',label='observations')\n",
    "plt.plot(np.arange(len(train_dset.Y),len(train_dset.Y)+len(torch.cat(predictions))),torch.cat(predictions).squeeze(),'b',label='predictions')\n",
    "plt.plot(np.arange(len(train_dset.Y),len(train_dset.Y)+len(output_y)),output_y,'r')\n",
    "plt.legend()"
   ]
  },
  {
   "cell_type": "markdown",
   "metadata": {},
   "source": []
  },
  {
   "cell_type": "code",
   "execution_count": 20,
   "metadata": {},
   "outputs": [],
   "source": [
    "predictions_array = np.array(torch.cat(predictions))"
   ]
  },
  {
   "cell_type": "code",
   "execution_count": 21,
   "metadata": {},
   "outputs": [],
   "source": [
    "forecast_df = pd.DataFrame({\n",
    "    'days':np.arange(len(train_dset.Y),len(train_dset.Y)+len(output_y)),\n",
    "    'observations': output_y,\n",
    "    'predictions':predictions_array[0:len(output_y)]\n",
    "})"
   ]
  },
  {
   "cell_type": "code",
   "execution_count": 22,
   "metadata": {},
   "outputs": [],
   "source": [
    "forecast_df.to_csv('decatur_forecasting_0.8.csv',index=None)"
   ]
  },
  {
   "cell_type": "code",
   "execution_count": 23,
   "metadata": {},
   "outputs": [],
   "source": [
    "predictions_cumulative = y_scaler.inverse_transform(np.array(torch.cat(predictions)).reshape(-1,1)).squeeze()"
   ]
  },
  {
   "cell_type": "code",
   "execution_count": 24,
   "metadata": {},
   "outputs": [],
   "source": [
    "output_y_cumulative = y_scaler.inverse_transform(np.array(output_y).reshape(-1,1))"
   ]
  },
  {
   "cell_type": "code",
   "execution_count": 25,
   "metadata": {},
   "outputs": [],
   "source": [
    "train_y_cumulative = y_scaler.inverse_transform(np.array(train_dset.Y).reshape(-1,1))"
   ]
  },
  {
   "cell_type": "code",
   "execution_count": 26,
   "metadata": {},
   "outputs": [],
   "source": [
    "train_days = np.arange(0,len(train_dset.Y))\n",
    "train_years = train_days / 365.25"
   ]
  },
  {
   "cell_type": "code",
   "execution_count": 29,
   "metadata": {},
   "outputs": [
    {
     "data": {
      "image/png": "[encoded data removed]",
      "text/plain": [
       "<Figure size 432x288 with 1 Axes>"
      ]
     },
     "metadata": {
      "needs_background": "light"
     },
     "output_type": "display_data"
    }
   ],
   "source": [
    "# plt.style.use('classic')\n",
    "# plt.rcParams[\"figure.figsize\"] = (8,6)\n",
    "fig = plt.figure()\n",
    "# plt.plot(np.arange(0,len(train_dset.Y)) / 365.25,train_y_cumulative,'-k',label='observations')\n",
    "line1, = plt.plot(np.arange(0,len(train_dset.Y)) / 365.25,train_y_cumulative,'-k')\n",
    "# plt.plot(np.arange(len(train_dset.Y),len(train_dset.Y)+len(torch.cat(predictions))) / 365.25 ,predictions_cumulative,':r',label='predictions')\n",
    "line2, = plt.plot(np.arange(len(train_dset.Y),len(train_dset.Y)+len(torch.cat(predictions))) / 365.25 ,predictions_cumulative,':r')\n",
    "line3, =plt.plot(np.arange(len(train_dset.Y),len(train_dset.Y)+len(output_y)) / 365.25,output_y_cumulative,'r')\n",
    "# plt.legend()\n",
    "first_legend = plt.legend(handles=[line1,line2,line3],labels=['training data','predictions','test data'])\n",
    "plt.gca().add_artist(first_legend)\n",
    "plt.ylabel('Cumulative earthquake count', fontsize=14)\n",
    "plt.xlabel('Time (years)', fontsize=14)\n",
    "plt.grid(linestyle=':', alpha=0.7)\n",
    "# plt.tight_layout()"
   ]
  },
  {
   "cell_type": "code",
   "execution_count": null,
   "metadata": {},
   "outputs": [],
   "source": []
  }
 ],
 "metadata": {
  "kernelspec": {
   "display_name": "Python 3.8.9 64-bit",
   "language": "python",
   "name": "python3"
  },
  "language_info": {
   "codemirror_mode": {
    "name": "ipython",
    "version": 3
   },
   "file_extension": ".py",
   "mimetype": "text/x-python",
   "name": "python",
   "nbconvert_exporter": "python",
   "pygments_lexer": "ipython3",
   "version": "3.8.9"
  },
  "vscode": {
   "interpreter": {
    "hash": "31f2aee4e71d21fbe5cf8b01ff0e069b9275f58929596ceb00d14d90e3e16cd6"
   }
  }
 },
 "nbformat": 4,
 "nbformat_minor": 4
}
