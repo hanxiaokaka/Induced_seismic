{
 "cells": [
  {
   "cell_type": "code",
   "execution_count": 1,
   "metadata": {},
   "outputs": [],
   "source": [
    "import numpy as np\n",
    "import torch\n",
    "import torch.nn as nn\n",
    "import matplotlib.pyplot as plt\n",
    "import torch.nn.functional as F\n",
    "import torch.optim as optim\n",
    "from saif.crs_model.peakdetector import pk_indxs\n",
    "import saif.scinet.model as scinet\n",
    "# plt.style.use('ggplot')\n",
    "\n",
    "%matplotlib inline"
   ]
  },
  {
   "cell_type": "code",
   "execution_count": 2,
   "metadata": {},
   "outputs": [],
   "source": [
    "# from saif.scinet.dataset import daily_seismic_and_interpolated_pressure\n",
    "# from saif.scinet.dataset import construct_time_series_dataset\n",
    "\n",
    "from dataset import daily_seismic_and_interpolated_pressure\n",
    "from dataset import construct_time_series_dataset\n",
    "from dataset import overlap_and_interpolate\n",
    "from dataset import aggregate_seismic\n",
    "\n",
    "from torch.utils.data import DataLoader"
   ]
  },
  {
   "cell_type": "code",
   "execution_count": 4,
   "metadata": {},
   "outputs": [],
   "source": [
    "import pandas as pd\n",
    "\n",
    "\n",
    "seismic = pd.read_csv(\"../../../dataset_preparing/Temporal_Datasets/kansas/loc1/seismic.csv\",index_col=None)\n",
    "pressure = pd.read_csv(\"../../../dataset_preparing/Temporal_Datasets/kansas/loc1/pressure.csv\",index_col=None)\n",
    "\n",
    "\n"
   ]
  },
  {
   "cell_type": "code",
   "execution_count": 5,
   "metadata": {},
   "outputs": [],
   "source": [
    "import wandb"
   ]
  },
  {
   "cell_type": "code",
   "execution_count": 7,
   "metadata": {},
   "outputs": [],
   "source": [
    "features, target_vals = daily_seismic_and_interpolated_pressure(seismic, pressure)\n"
   ]
  },
  {
   "cell_type": "code",
   "execution_count": 8,
   "metadata": {},
   "outputs": [],
   "source": [
    "# input_len = 16 # try wider window power of 2\n",
    "# horizon = 7 # prediction window\n",
    "\n",
    "# Trying out different input_len and horizon\n",
    "input_len = 16\n",
    "horizon = 7"
   ]
  },
  {
   "cell_type": "code",
   "execution_count": 9,
   "metadata": {},
   "outputs": [],
   "source": [
    "features = features[['pressure','dpdt','seismic']]"
   ]
  },
  {
   "cell_type": "code",
   "execution_count": 10,
   "metadata": {},
   "outputs": [],
   "source": [
    "features = features[:-1]\n",
    "target_vals = target_vals[:-1]"
   ]
  },
  {
   "cell_type": "markdown",
   "metadata": {},
   "source": [
    "Visualization of the train / test split"
   ]
  },
  {
   "cell_type": "code",
   "execution_count": 11,
   "metadata": {},
   "outputs": [
    {
     "data": {
      "text/plain": [
       "Text(0, 0.5, 'normalized cumulative counts')"
      ]
     },
     "execution_count": 11,
     "metadata": {},
     "output_type": "execute_result"
    },
    {
     "data": {
      "image/png": "[encoded data removed]",
      "text/plain": [
       "<Figure size 432x288 with 1 Axes>"
      ]
     },
     "metadata": {
      "needs_background": "light"
     },
     "output_type": "display_data"
    }
   ],
   "source": [
    "train_dset, test_dset, x_scaler, y_scaler = construct_time_series_dataset(\n",
    "    features, target_vals, \n",
    "    input_len, horizon, features.columns, \n",
    "    # train_test_split=0.8, normalize_data=True # try train_test_split=0.75\n",
    "    train_test_split=0.8, normalize_data=True\n",
    ")\n",
    "\n",
    "plt.figure()\n",
    "plt.plot(np.arange(len(train_dset.Y)), train_dset.Y, label='training')\n",
    "plt.plot(np.arange(len(test_dset.Y)) + len(train_dset.Y), test_dset.Y, label='test')\n",
    "plt.legend()\n",
    "plt.xlabel('days')\n",
    "plt.ylabel('normalized cumulative counts')"
   ]
  },
  {
   "cell_type": "markdown",
   "metadata": {},
   "source": [
    "### Model Architecture"
   ]
  },
  {
   "cell_type": "code",
   "execution_count": 12,
   "metadata": {},
   "outputs": [],
   "source": [
    "class SimpleSCINet(nn.Module):\n",
    "    def __init__(\n",
    "        self, \n",
    "        input_len, output_len,\n",
    "        input_dim, num_levels, kernel_size, dropout, groups, hidden_size\n",
    "    ):\n",
    "        super().__init__()\n",
    "        \n",
    "        self.input_len = input_len\n",
    "        self.output_len = output_len\n",
    "        self.input_dim = input_dim\n",
    "        self.hidden_size = hidden_size\n",
    "        self.num_levels = num_levels\n",
    "        self.groups = groups\n",
    "        self.kernel_size = kernel_size\n",
    "        self.dropout = dropout\n",
    "        \n",
    "        self.bn1 = nn.BatchNorm1d(self.input_dim)\n",
    "        self.bn2 = nn.BatchNorm1d(self.input_dim)\n",
    "        \n",
    "        self.block1 = scinet.EncoderTree(\n",
    "            in_planes=self.input_dim,\n",
    "            num_levels=self.num_levels,\n",
    "            kernel_size=self.kernel_size,\n",
    "            dropout=self.dropout,\n",
    "            groups=self.groups,\n",
    "            hidden_size=self.hidden_size,\n",
    "            INN=True\n",
    "        )\n",
    "        \n",
    "        # I'm a bit iffy on using a projector like this across features\n",
    "        # But this is what they do in scinet\n",
    "        # It should be fine, kernel size is 1, it's essentially just an\n",
    "        # aggregation operation\n",
    "        self.time_projector = nn.Conv1d(\n",
    "            self.input_len, self.output_len,\n",
    "            kernel_size=1, stride=1, bias=False\n",
    "        )\n",
    "        \n",
    "        self.channel_projector = nn.Conv1d(\n",
    "            self.input_dim, 1, kernel_size=1, stride=1, bias=True\n",
    "        )\n",
    "    \n",
    "    def forward(self, x):\n",
    "        out = x.permute(0, 2, 1)\n",
    "        out = self.bn1(out)\n",
    "        out = out.permute(0, 2, 1)\n",
    "        \n",
    "        out = self.block1(out)\n",
    "        out += out\n",
    "        \n",
    "        out = F.relu(out)\n",
    "        out = self.time_projector(out)\n",
    "        \n",
    "        out = out.permute(0, 2, 1)\n",
    "        out = self.bn2(out)\n",
    "        out = F.relu(out)\n",
    "        \n",
    "        out = self.channel_projector(out).squeeze(1)\n",
    "        \n",
    "        #Enforcing monotonicity\n",
    "        #out = torch.exp(out)\n",
    "        #out = F.relu(out)\n",
    "        # Exp has numerical issues, and relu was collapsing.\n",
    "        # Squaring is also a positive operation\n",
    "        out = out ** 2\n",
    "        #out = torch.sigmoid(out)\n",
    "        out = out.cumsum(-1) + x[:, -1, -1, None]\n",
    "        \n",
    "        return out"
   ]
  },
  {
   "cell_type": "markdown",
   "metadata": {},
   "source": [
    "### Hyperparameters"
   ]
  },
  {
   "cell_type": "code",
   "execution_count": 16,
   "metadata": {},
   "outputs": [],
   "source": [
    "input_dim = train_dset.X.shape[1]\n",
    "num_levels = 3 # number of levels in the scinet tree\n",
    "kernel_size = 2 # kernel size for the conv1D operations\n",
    "dropout = 0.5 # dropout regularization params\n",
    "groups = 1 # number of groups in the conv1D operation\n",
    "hidden_size = 3 # scaling factor for the hidden dimension\n",
    "\n",
    "lr = 1e-3 # learning rate\n",
    "# n_epoch = 64 # number of epochs\n",
    "n_epoch = 64\n",
    "\n",
    "# Choose your loss function!/\n",
    "# criterion = nn.MSELoss() # L2 loss\n",
    "criterion = nn.HuberLoss() #An alternative, smoother version of the L1 Loss\n",
    "# Less sensitive to outliers, less prone to exploding gradients"
   ]
  },
  {
   "cell_type": "markdown",
   "metadata": {},
   "source": [
    "### Run Training"
   ]
  },
  {
   "cell_type": "code",
   "execution_count": 17,
   "metadata": {},
   "outputs": [],
   "source": [
    "\n",
    "from tqdm.notebook import tqdm"
   ]
  },
  {
   "cell_type": "code",
   "execution_count": 18,
   "metadata": {},
   "outputs": [
    {
     "data": {
      "text/plain": [
       "4"
      ]
     },
     "execution_count": 18,
     "metadata": {},
     "output_type": "execute_result"
    }
   ],
   "source": [
    "test_loader = DataLoader(\n",
    "    test_dset,\n",
    "    batch_size=32 ,\n",
    "    shuffle=False,\n",
    "    num_workers=1\n",
    ")\n",
    "len(test_loader)"
   ]
  },
  {
   "cell_type": "markdown",
   "metadata": {},
   "source": [
    "## Trying out sweep"
   ]
  },
  {
   "cell_type": "code",
   "execution_count": 22,
   "metadata": {},
   "outputs": [],
   "source": [
    "config_defaults = {\n",
    "        'input_dim': train_dset.X.shape[1],\n",
    "        'num_levels' : 3, # number of levels in the scinet tree\n",
    "        'kernel_size' : 2, # kernel size for the conv1D operations\n",
    "        'dropout' : 0.5, # dropout regularization params\n",
    "        'groups' : 1, # number of groups in the conv1D operation\n",
    "        'hidden_size' :3, # scaling factor for the hidden dimension\n",
    "        'lr' : 1e-3, # learning rate\n",
    "        'n_epoch' : 64,\n",
    "        'criterion': nn.HuberLoss()\n",
    "}\n",
    "criterion = nn.HuberLoss() #An alternative, smoother version of the L1 Loss"
   ]
  },
  {
   "cell_type": "code",
   "execution_count": 23,
   "metadata": {},
   "outputs": [
    {
     "data": {
      "text/plain": [
       "3"
      ]
     },
     "execution_count": 23,
     "metadata": {},
     "output_type": "execute_result"
    }
   ],
   "source": [
    "config_defaults['num_levels']"
   ]
  },
  {
   "cell_type": "code",
   "execution_count": 24,
   "metadata": {},
   "outputs": [
    {
     "name": "stderr",
     "output_type": "stream",
     "text": [
      "\u001b[34m\u001b[1mwandb\u001b[0m: Currently logged in as: \u001b[33malexandrechen\u001b[0m. Use \u001b[1m`wandb login --relogin`\u001b[0m to force relogin\n"
     ]
    },
    {
     "data": {
      "text/html": [
       "Tracking run with wandb version 0.12.21"
      ],
      "text/plain": [
       "<IPython.core.display.HTML object>"
      ]
     },
     "metadata": {},
     "output_type": "display_data"
    },
    {
     "data": {
      "text/html": [
       "Run data is saved locally in <code>/Users/alexandrechen/Github/GeomechanicsForCO2/saif/notebooks/scinet/wandb/run-20220801_163756-3hzod7x7</code>"
      ],
      "text/plain": [
       "<IPython.core.display.HTML object>"
      ]
     },
     "metadata": {},
     "output_type": "display_data"
    },
    {
     "data": {
      "text/html": [
       "Syncing run <strong><a href=\"https://wandb.ai/alexandrechen/saif-notebooks_scinet/runs/3hzod7x7\" target=\"_blank\">pious-puddle-3</a></strong> to <a href=\"https://wandb.ai/alexandrechen/saif-notebooks_scinet\" target=\"_blank\">Weights & Biases</a> (<a href=\"https://wandb.me/run\" target=\"_blank\">docs</a>)<br/>"
      ],
      "text/plain": [
       "<IPython.core.display.HTML object>"
      ]
     },
     "metadata": {},
     "output_type": "display_data"
    }
   ],
   "source": [
    "wandb.init(config=config_defaults)\n",
    "config = wandb.config"
   ]
  },
  {
   "cell_type": "code",
   "execution_count": 25,
   "metadata": {},
   "outputs": [
    {
     "data": {
      "text/plain": [
       "2"
      ]
     },
     "execution_count": 25,
     "metadata": {},
     "output_type": "execute_result"
    }
   ],
   "source": [
    "config.kernel_size"
   ]
  },
  {
   "cell_type": "code",
   "execution_count": 28,
   "metadata": {},
   "outputs": [
    {
     "name": "stdout",
     "output_type": "stream",
     "text": [
      "Create sweep with ID: nnmpxk8v\n",
      "Sweep URL: https://wandb.ai/alexandrechen/test_scinet/sweeps/nnmpxk8v\n"
     ]
    }
   ],
   "source": [
    "sweep_config = {\n",
    "    'method': 'random', #grid, random\n",
    "    'metric': {\n",
    "      'name': 'accuracy',\n",
    "      'goal': 'maximize'   \n",
    "    },\n",
    "    'parameters': {\n",
    "        'dropout': {\n",
    "          'values': [0.5, 0.6, 0.7, 0.8]\n",
    "        },\n",
    "        'num_levels': {\n",
    "          'values': [2,3,4]\n",
    "        },\n",
    "        'kernel_size': {\n",
    "          'values': [2,3,4]\n",
    "        },\n",
    "        'hidden_size': {\n",
    "          'values': [2,3,4]\n",
    "        }\n",
    "    }\n",
    "        \n",
    "}\n",
    "sweep_id = wandb.sweep(sweep_config, entity=\"alexandrechen\", project=\"test_scinet\")"
   ]
  },
  {
   "cell_type": "code",
   "execution_count": 29,
   "metadata": {},
   "outputs": [
    {
     "name": "stderr",
     "output_type": "stream",
     "text": [
      "\u001b[34m\u001b[1mwandb\u001b[0m: \u001b[33mWARNING\u001b[0m Calling wandb.login() after wandb.init() has no effect.\n",
      "\u001b[34m\u001b[1mwandb\u001b[0m: Agent Starting Run: h8iq72oq with config:\n",
      "\u001b[34m\u001b[1mwandb\u001b[0m: \tdropout: 0.8\n",
      "\u001b[34m\u001b[1mwandb\u001b[0m: \thidden_size: 4\n",
      "\u001b[34m\u001b[1mwandb\u001b[0m: \tkernel_size: 2\n",
      "\u001b[34m\u001b[1mwandb\u001b[0m: \tnum_levels: 2\n"
     ]
    },
    {
     "data": {
      "text/html": [
       "Tracking run with wandb version 0.12.21"
      ],
      "text/plain": [
       "<IPython.core.display.HTML object>"
      ]
     },
     "metadata": {},
     "output_type": "display_data"
    },
    {
     "data": {
      "text/html": [
       "Run data is saved locally in <code>/Users/alexandrechen/Github/GeomechanicsForCO2/saif/notebooks/scinet/wandb/run-20220801_164014-h8iq72oq</code>"
      ],
      "text/plain": [
       "<IPython.core.display.HTML object>"
      ]
     },
     "metadata": {},
     "output_type": "display_data"
    },
    {
     "data": {
      "text/html": [
       "Syncing run <strong><a href=\"https://wandb.ai/alexandrechen/test_scinet/runs/h8iq72oq\" target=\"_blank\">fine-sweep-1</a></strong> to <a href=\"https://wandb.ai/alexandrechen/test_scinet\" target=\"_blank\">Weights & Biases</a> (<a href=\"https://wandb.me/run\" target=\"_blank\">docs</a>)<br/>Sweep page:  <a href=\"https://wandb.ai/alexandrechen/test_scinet/sweeps/nnmpxk8v\" target=\"_blank\">https://wandb.ai/alexandrechen/test_scinet/sweeps/nnmpxk8v</a>"
      ],
      "text/plain": [
       "<IPython.core.display.HTML object>"
      ]
     },
     "metadata": {},
     "output_type": "display_data"
    },
    {
     "data": {
      "application/vnd.jupyter.widget-view+json": {
       "model_id": "e131640658844bd98d829c06114b233f",
       "version_major": 2,
       "version_minor": 0
      },
      "text/plain": [
       "  0%|          | 0/64 [00:00<?, ?it/s]"
      ]
     },
     "metadata": {},
     "output_type": "display_data"
    },
    {
     "name": "stdout",
     "output_type": "stream",
     "text": [
      "0 0.2520462932686011 12.842640042304993\n",
      "1 0.061685884112699166 1.597850888967514\n",
      "2 0.024424541586389143 0.38258652621880174\n",
      "3 0.011145195070033273 0.21185422874987125\n",
      "4 0.00979787695945965 0.14464234467595816\n",
      "5 0.0063750780472118 0.08820840460248291\n",
      "6 0.00624702491849247 0.04489064181689173\n",
      "7 0.004230622784234583 0.03149692504666746\n",
      "8 0.0043836967346982825 0.0375685136532411\n",
      "9 0.0035306517966091633 0.03274530282942578\n",
      "10 0.0026159242131850785 0.03465393197257072\n",
      "11 0.002540257630041904 0.023859099193941802\n",
      "12 0.002672906699849086 0.0191499880165793\n",
      "13 0.00228680148979442 0.014712960051838309\n",
      "14 0.002100010538318505 0.009369190811412409\n",
      "15 0.0019892867163030636 0.006620443222345784\n"
     ]
    }
   ],
   "source": [
    "def train():\n",
    "    config_defaults = {\n",
    "        'input_dim': train_dset.X.shape[1],\n",
    "        'num_levels' : 3, # number of levels in the scinet tree\n",
    "        'kernel_size' : 2, # kernel size for the conv1D operations\n",
    "        'dropout' : 0.5, # dropout regularization params\n",
    "        'groups' : 1, # number of groups in the conv1D operation\n",
    "        'hidden_size' :3, # scaling factor for the hidden dimension\n",
    "        'lr' : 1e-3, # learning rate\n",
    "        'n_epoch' : 64,\n",
    "        'criterion': nn.HuberLoss()\n",
    "    }\n",
    "    criterion = nn.HuberLoss() #An alternative, smoother version of the L1 Loss\n",
    "\n",
    "    wandb.init(config=config_defaults)\n",
    "    input_dim = config.input_dim\n",
    "    num_levels = config.num_levels\n",
    "    kernel_size = config.kernel_size\n",
    "    dropout = config.dropout\n",
    "    groups = config.groups\n",
    "    hidden_size = config.hidden_size\n",
    "    lr = config.lr\n",
    "    n_epoch = config.n_epoch\n",
    "\n",
    "    train_loader = DataLoader(\n",
    "    train_dset,\n",
    "    batch_size=32, # change batch size\n",
    "    shuffle=True,\n",
    "    num_workers=1\n",
    "    )\n",
    "\n",
    "\n",
    "    test_loader = DataLoader(\n",
    "        test_dset,\n",
    "        batch_size=32,\n",
    "        shuffle=False,\n",
    "        num_workers=1\n",
    "    )\n",
    "\n",
    "    model = SimpleSCINet(\n",
    "        input_len, horizon,\n",
    "        input_dim, num_levels, kernel_size, \n",
    "        dropout, groups, hidden_size\n",
    "    )\n",
    "\n",
    "    optimizer = optim.Adam(model.parameters(), lr=lr)\n",
    "\n",
    "    train_loss_vals = []\n",
    "    test_loss_vals = []\n",
    "\n",
    "\n",
    "    for epoch in tqdm(range(n_epoch)):\n",
    "        #train loop\n",
    "        model.train()\n",
    "        batch_loss_vals = []\n",
    "        for (batch_x, batch_y) in train_loader:\n",
    "            optimizer.zero_grad()\n",
    "        \n",
    "            outputs = model(batch_x)\n",
    "            loss = criterion(outputs, batch_y)\n",
    "            loss.backward()\n",
    "            optimizer.step()\n",
    "        \n",
    "            batch_loss_vals.append(loss.item())\n",
    "        train_loss_vals.append(np.mean(batch_loss_vals))\n",
    "    \n",
    "        #eval loop\n",
    "        model.eval()\n",
    "        batch_loss_vals = []\n",
    "        for (batch_x, batch_y) in test_loader:        \n",
    "            outputs = model(batch_x)\n",
    "            loss = criterion(outputs, batch_y)\n",
    "            batch_loss_vals.append(loss.item())\n",
    "            metrics = {\"train/train_loss\": train_loss_vals[-1],\n",
    "            \"train/epoch\": epoch,\n",
    "            }\n",
    "            wandb.log(metrics)\n",
    "        test_loss_vals.append(np.mean(batch_loss_vals))\n",
    "        print(epoch,train_loss_vals[-1],test_loss_vals[-1])\n",
    "    \n",
    "        val_metrics = {\"test/test_loss\":test_loss_vals[-1]}\n",
    "        wandb.log(val_metrics)\n",
    "    wandb.finish()\n",
    "    \n",
    "wandb.agent(sweep_id, train)"
   ]
  },
  {
   "cell_type": "markdown",
   "metadata": {},
   "source": [
    "Visualize the forecast"
   ]
  }
 ],
 "metadata": {
  "environment": {
   "kernel": "python3",
   "name": "pytorch-gpu.1-10.m90",
   "type": "gcloud",
   "uri": "gcr.io/deeplearning-platform-release/pytorch-gpu.1-10:m90"
  },
  "kernelspec": {
   "display_name": "Python 3",
   "language": "python",
   "name": "python3"
  },
  "language_info": {
   "codemirror_mode": {
    "name": "ipython",
    "version": 3
   },
   "file_extension": ".py",
   "mimetype": "text/x-python",
   "name": "python",
   "nbconvert_exporter": "python",
   "pygments_lexer": "ipython3",
   "version": "3.7.12"
  },
  "vscode": {
   "interpreter": {
    "hash": "31f2aee4e71d21fbe5cf8b01ff0e069b9275f58929596ceb00d14d90e3e16cd6"
   }
  }
 },
 "nbformat": 4,
 "nbformat_minor": 4
}
