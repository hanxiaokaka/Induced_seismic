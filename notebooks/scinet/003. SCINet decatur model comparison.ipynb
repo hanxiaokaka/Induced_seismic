{
 "cells": [
  {
   "cell_type": "code",
   "execution_count": 3,
   "metadata": {},
   "outputs": [],
   "source": [
    "import numpy as np\n",
    "import torch\n",
    "import torch.nn as nn\n",
    "import matplotlib.pyplot as plt\n",
    "import torch.nn.functional as F\n",
    "import torch.optim as optim\n",
    "from saif.crs_model.peakdetector import pk_indxs\n",
    "import saif.scinet.model as scinet\n",
    "plt.style.use('ggplot')\n",
    "\n",
    "%matplotlib inline"
   ]
  },
  {
   "cell_type": "code",
   "execution_count": 4,
   "metadata": {},
   "outputs": [],
   "source": [
    "# from saif.scinet.dataset import daily_seismic_and_interpolated_pressure\n",
    "# from saif.scinet.dataset import construct_time_series_dataset\n",
    "\n",
    "from dataset import daily_seismic_and_interpolated_pressure\n",
    "from dataset import construct_time_series_dataset\n",
    "from dataset import overlap_and_interpolate\n",
    "from dataset import aggregate_seismic\n",
    "\n",
    "from torch.utils.data import DataLoader"
   ]
  },
  {
   "cell_type": "code",
   "execution_count": 5,
   "metadata": {},
   "outputs": [],
   "source": [
    "import pandas as pd\n",
    "# seismic = pd.read_csv(\"../../data/02_intermediate/seismic.csv\", index_col=0)\n",
    "# pressure = pd.read_csv(\"../../data/02_intermediate/pressure.csv\", index_col=0)\n",
    "\n",
    "seismic_original = pd.read_csv(\"seismic.csv\",index_col=0)\n",
    "pressure_original = pd.read_csv(\"pressure.csv\",index_col=0)\n",
    "\n",
    "# seismic = seismic.drop(columns=['kmeans'])\n",
    "\n",
    "seismic = pd.read_csv(\"temporal_datasets_decatur_illinois_seismic_new.csv\",index_col=None)\n",
    "pressure = pd.read_csv(\"temporal_datasets_decatur_illinois_pressure_new.csv\",index_col=None)\n",
    "\n",
    "pressure[\"epoch\"] = pressure[\"epoch\"]\n",
    "\n"
   ]
  },
  {
   "cell_type": "code",
   "execution_count": 6,
   "metadata": {},
   "outputs": [],
   "source": [
    "input_len = 16 # try wider window power of 2\n",
    "horizon = 7 # prediction window"
   ]
  },
  {
   "cell_type": "code",
   "execution_count": 7,
   "metadata": {},
   "outputs": [],
   "source": [
    "features_original, target_vals_original = daily_seismic_and_interpolated_pressure(seismic_original, pressure_original)\n"
   ]
  },
  {
   "cell_type": "code",
   "execution_count": 8,
   "metadata": {},
   "outputs": [],
   "source": [
    "features, target_vals = daily_seismic_and_interpolated_pressure(seismic, pressure)\n"
   ]
  },
  {
   "cell_type": "code",
   "execution_count": 9,
   "metadata": {},
   "outputs": [],
   "source": [
    "import math\n",
    "\n",
    "import numpy as np\n",
    "import pandas as pd\n",
    "import torch\n",
    "\n",
    "from torch.utils.data import Dataset\n",
    "\n",
    "from scipy.interpolate import interp1d\n",
    "from sklearn.preprocessing import RobustScaler\n",
    "\n",
    "seismic_start = seismic.epoch.values[0]\n",
    "seismic_end = seismic.epoch.values[-1]\n",
    "    \n",
    "pressure_start = pressure.epoch.values[0]\n",
    "pressure_end = pressure.epoch.values[-1]\n",
    "t0 = max(seismic_start, pressure_start)\n",
    "t1 = min(seismic_end, pressure_end)"
   ]
  },
  {
   "cell_type": "markdown",
   "metadata": {},
   "source": [
    "Visualization of the train / test split"
   ]
  },
  {
   "cell_type": "code",
   "execution_count": 10,
   "metadata": {},
   "outputs": [
    {
     "data": {
      "text/plain": [
       "Text(0, 0.5, 'normalized cumulative counts')"
      ]
     },
     "execution_count": 10,
     "metadata": {},
     "output_type": "execute_result"
    },
    {
     "data": {
      "image/png": "[encoded data removed]",
      "text/plain": [
       "<Figure size 432x288 with 1 Axes>"
      ]
     },
     "metadata": {
      "needs_background": "light"
     },
     "output_type": "display_data"
    }
   ],
   "source": [
    "train_dset, test_dset, x_scaler, y_scaler = construct_time_series_dataset(\n",
    "    features, target_vals, \n",
    "    input_len, horizon, features.columns, \n",
    "    train_test_split=0.8, normalize_data=True\n",
    ")\n",
    "\n",
    "plt.figure()\n",
    "plt.plot(np.arange(len(train_dset.Y)), train_dset.Y, label='training')\n",
    "plt.plot(np.arange(len(test_dset.Y)) + len(train_dset.Y), test_dset.Y, label='test')\n",
    "plt.legend()\n",
    "plt.xlabel('days')\n",
    "plt.ylabel('normalized cumulative counts')"
   ]
  },
  {
   "cell_type": "code",
   "execution_count": 11,
   "metadata": {},
   "outputs": [
    {
     "data": {
      "text/plain": [
       "888"
      ]
     },
     "execution_count": 11,
     "metadata": {},
     "output_type": "execute_result"
    }
   ],
   "source": [
    "len(train_dset.X) "
   ]
  },
  {
   "cell_type": "markdown",
   "metadata": {},
   "source": [
    "### Model Architecture"
   ]
  },
  {
   "cell_type": "code",
   "execution_count": 12,
   "metadata": {},
   "outputs": [],
   "source": [
    "class SimpleSCINet(nn.Module):\n",
    "    def __init__(\n",
    "        self, \n",
    "        input_len, output_len,\n",
    "        input_dim, num_levels, kernel_size, dropout, groups, hidden_size\n",
    "    ):\n",
    "        super().__init__()\n",
    "        \n",
    "        self.input_len = input_len\n",
    "        self.output_len = output_len\n",
    "        self.input_dim = input_dim\n",
    "        self.hidden_size = hidden_size\n",
    "        self.num_levels = num_levels\n",
    "        self.groups = groups\n",
    "        self.kernel_size = kernel_size\n",
    "        self.dropout = dropout\n",
    "        \n",
    "        self.bn1 = nn.BatchNorm1d(self.input_dim)\n",
    "        self.bn2 = nn.BatchNorm1d(self.input_dim)\n",
    "        \n",
    "        self.block1 = scinet.EncoderTree(\n",
    "            in_planes=self.input_dim,\n",
    "            num_levels=self.num_levels,\n",
    "            kernel_size=self.kernel_size,\n",
    "            dropout=self.dropout,\n",
    "            groups=self.groups,\n",
    "            hidden_size=self.hidden_size,\n",
    "            INN=True\n",
    "        )\n",
    "        \n",
    "        # I'm a bit iffy on using a projector like this across features\n",
    "        # But this is what they do in scinet\n",
    "        # It should be fine, kernel size is 1, it's essentially just an\n",
    "        # aggregation operation\n",
    "        self.time_projector = nn.Conv1d(\n",
    "            self.input_len, self.output_len,\n",
    "            kernel_size=1, stride=1, bias=False\n",
    "        )\n",
    "        \n",
    "        self.channel_projector = nn.Conv1d(\n",
    "            self.input_dim, 1, kernel_size=1, stride=1, bias=True\n",
    "        )\n",
    "    \n",
    "    def forward(self, x):\n",
    "        out = x.permute(0, 2, 1)\n",
    "        out = self.bn1(out)\n",
    "        out = out.permute(0, 2, 1)\n",
    "        \n",
    "        out = self.block1(out)\n",
    "        out += out\n",
    "        \n",
    "        out = F.relu(out)\n",
    "        out = self.time_projector(out)\n",
    "        \n",
    "        out = out.permute(0, 2, 1)\n",
    "        out = self.bn2(out)\n",
    "        out = F.relu(out)\n",
    "        \n",
    "        out = self.channel_projector(out).squeeze(1)\n",
    "        \n",
    "        #Enforcing monotonicity\n",
    "        #out = torch.exp(out)\n",
    "        #out = F.relu(out)\n",
    "        # Exp has numerical issues, and relu was collapsing.\n",
    "        # Squaring is also a positive operation\n",
    "        out = out ** 2\n",
    "        #out = torch.sigmoid(out)\n",
    "        out = out.cumsum(-1) + x[:, -1, -1, None]\n",
    "        \n",
    "        return out"
   ]
  },
  {
   "cell_type": "markdown",
   "metadata": {},
   "source": [
    "### Hyperparameters"
   ]
  },
  {
   "cell_type": "code",
   "execution_count": 13,
   "metadata": {},
   "outputs": [],
   "source": [
    "input_dim = train_dset.X.shape[1]\n",
    "num_levels = 2 # number of levels in the scinet tree\n",
    "kernel_size = 4 # kernel size for the conv1D operations\n",
    "dropout = 0.5 # dropout regularization params\n",
    "groups = 1 # number of groups in the conv1D operation\n",
    "hidden_size = 3 # scaling factor for the hidden dimension\n",
    "\n",
    "lr = 1e-3 # learning rate\n",
    "n_epoch = 64 # number of epochs\n",
    "\n",
    "# Choose your loss function!\n",
    "# criterion = nn.MSELoss() # L2 loss\n",
    "criterion = nn.HuberLoss() #An alternative, smoother version of the L1 Loss\n",
    "# Less sensitive to outliers, less prone to exploding gradients"
   ]
  },
  {
   "cell_type": "markdown",
   "metadata": {},
   "source": [
    "### Run Training"
   ]
  },
  {
   "cell_type": "markdown",
   "metadata": {},
   "source": [
    "### Trial 1"
   ]
  },
  {
   "cell_type": "code",
   "execution_count": 14,
   "metadata": {},
   "outputs": [],
   "source": [
    "\n",
    "from tqdm.notebook import tqdm"
   ]
  },
  {
   "cell_type": "code",
   "execution_count": 15,
   "metadata": {},
   "outputs": [
    {
     "data": {
      "application/vnd.jupyter.widget-view+json": {
       "model_id": "0aae38d9d1d0423d996386d09f3ea761",
       "version_major": 2,
       "version_minor": 0
      },
      "text/plain": [
       "  0%|          | 0/64 [00:00<?, ?it/s]"
      ]
     },
     "metadata": {},
     "output_type": "display_data"
    }
   ],
   "source": [
    "torch.manual_seed(0) # Use different seeds for 10 times\n",
    "\n",
    "train_loader = DataLoader(\n",
    "    train_dset,\n",
    "    batch_size=32,\n",
    "    shuffle=True,\n",
    "    num_workers=1\n",
    ")\n",
    "\n",
    "test_loader = DataLoader(\n",
    "    test_dset,\n",
    "    batch_size=32,\n",
    "    shuffle=False,\n",
    "    num_workers=1\n",
    ")\n",
    "\n",
    "model = SimpleSCINet(\n",
    "    input_len, horizon,\n",
    "    input_dim, num_levels, kernel_size, \n",
    "    dropout, groups, hidden_size\n",
    ")\n",
    "\n",
    "optimizer = optim.Adam(model.parameters(), lr=lr)\n",
    "\n",
    "train_loss_vals = []\n",
    "test_loss_vals = []\n",
    "\n",
    "\n",
    "for epoch in tqdm(range(n_epoch)):\n",
    "    #train loop\n",
    "    model.train()\n",
    "    batch_loss_vals = []\n",
    "    for (batch_x, batch_y) in train_loader:\n",
    "        optimizer.zero_grad()\n",
    "        \n",
    "        outputs = model(batch_x)\n",
    "        loss = criterion(outputs, batch_y)\n",
    "        loss.backward()\n",
    "        optimizer.step()\n",
    "        \n",
    "        batch_loss_vals.append(loss.item())\n",
    "    train_loss_vals.append(np.mean(batch_loss_vals))\n",
    "    \n",
    "    #eval loop\n",
    "    model.eval()\n",
    "    batch_loss_vals = []\n",
    "    for (batch_x, batch_y) in test_loader:        \n",
    "        outputs = model(batch_x)\n",
    "        loss = criterion(outputs, batch_y)\n",
    "        batch_loss_vals.append(loss.item())\n",
    "    test_loss_vals.append(np.mean(batch_loss_vals))\n",
    "test_loss_vals_1 = test_loss_vals\n",
    "train_loss_vals_1 = train_loss_vals"
   ]
  },
  {
   "cell_type": "code",
   "execution_count": 16,
   "metadata": {},
   "outputs": [
    {
     "data": {
      "text/plain": [
       "Text(0.5, 0, 'Epoch')"
      ]
     },
     "execution_count": 16,
     "metadata": {},
     "output_type": "execute_result"
    },
    {
     "data": {
      "image/png": "[encoded data removed]",
      "text/plain": [
       "<Figure size 432x288 with 1 Axes>"
      ]
     },
     "metadata": {
      "needs_background": "light"
     },
     "output_type": "display_data"
    }
   ],
   "source": [
    "plt.plot(train_loss_vals, color='g', label='train')\n",
    "plt.plot(test_loss_vals, color='r', label='test')\n",
    "plt.ylabel('Huberloss')\n",
    "# plt.ylim([0,2])\n",
    "plt.yscale('log')\n",
    "plt.xlabel('Epoch')\n",
    "\n"
   ]
  },
  {
   "cell_type": "code",
   "execution_count": 17,
   "metadata": {},
   "outputs": [
    {
     "data": {
      "text/plain": [
       "[0.29098896256514956,\n",
       " 0.06553025809781891,\n",
       " 0.05677916282521827,\n",
       " 0.04737821673708303,\n",
       " 0.04993432347795793,\n",
       " 0.0409367718467755,\n",
       " 0.031214894128165076,\n",
       " 0.021056217972987464,\n",
       " 0.022981771766873344,\n",
       " 0.014639159248742675,\n",
       " 0.025636213598772883,\n",
       " 0.03038941416889429,\n",
       " 0.013192262633570604,\n",
       " 0.01779236373425062,\n",
       " 0.012745222309604287,\n",
       " 0.014056129489160542,\n",
       " 0.009699023598971377,\n",
       " 0.013446540721426052,\n",
       " 0.0070370555747233865,\n",
       " 0.010355894166942952,\n",
       " 0.008819117830301235,\n",
       " 0.007400038743591202,\n",
       " 0.0047656773198728585,\n",
       " 0.00705814389844558,\n",
       " 0.00421005511972388,\n",
       " 0.003672173770610243,\n",
       " 0.005570014152908698,\n",
       " 0.0042805841824572,\n",
       " 0.003656650217765543,\n",
       " 0.0023775200742030783,\n",
       " 0.0028990584645985757,\n",
       " 0.003113653398551313,\n",
       " 0.0027119752776343375,\n",
       " 0.0021743754561092438,\n",
       " 0.002331003742126216,\n",
       " 0.003519616212413114,\n",
       " 0.002723751400480978,\n",
       " 0.002130534894864208,\n",
       " 0.003031771596787231,\n",
       " 0.002509659844300976,\n",
       " 0.002746211414757584,\n",
       " 0.002093419908695588,\n",
       " 0.0028954180182024303,\n",
       " 0.0018741457357204386,\n",
       " 0.0012574388996914162,\n",
       " 0.0021751989053362714,\n",
       " 0.0016219254487493475,\n",
       " 0.002143305740901269,\n",
       " 0.0018263082664426683,\n",
       " 0.0014558851315606652,\n",
       " 0.0017615053989824706,\n",
       " 0.0025244872210480806,\n",
       " 0.0018582680142052205,\n",
       " 0.0017436227374543836,\n",
       " 0.0025565285073493476,\n",
       " 0.0020623979528733927,\n",
       " 0.0017952654909874713,\n",
       " 0.0018506215232524223,\n",
       " 0.0018248295132902318,\n",
       " 0.0016371323103417776,\n",
       " 0.0019218219760140137,\n",
       " 0.0015950540130558824,\n",
       " 0.001296644663463147,\n",
       " 0.0020321866759331897]"
      ]
     },
     "execution_count": 17,
     "metadata": {},
     "output_type": "execute_result"
    }
   ],
   "source": [
    "# print Huber Loss\n",
    "test_loss_vals_1 = test_loss_vals\n",
    "test_loss_vals_1"
   ]
  },
  {
   "cell_type": "markdown",
   "metadata": {},
   "source": [
    "### Trial 2"
   ]
  },
  {
   "cell_type": "code",
   "execution_count": 18,
   "metadata": {},
   "outputs": [
    {
     "data": {
      "application/vnd.jupyter.widget-view+json": {
       "model_id": "5d31441de76544e3a985fe9a6d35f465",
       "version_major": 2,
       "version_minor": 0
      },
      "text/plain": [
       "  0%|          | 0/64 [00:00<?, ?it/s]"
      ]
     },
     "metadata": {},
     "output_type": "display_data"
    },
    {
     "data": {
      "text/plain": [
       "Text(0.5, 0, 'Epoch')"
      ]
     },
     "execution_count": 18,
     "metadata": {},
     "output_type": "execute_result"
    },
    {
     "data": {
      "image/png": "[encoded data removed]",
      "text/plain": [
       "<Figure size 432x288 with 1 Axes>"
      ]
     },
     "metadata": {
      "needs_background": "light"
     },
     "output_type": "display_data"
    }
   ],
   "source": [
    "torch.manual_seed(1) # Use different seeds for 10 times\n",
    "\n",
    "train_loader = DataLoader(\n",
    "    train_dset,\n",
    "    batch_size=32,\n",
    "    shuffle=True,\n",
    "    num_workers=1\n",
    ")\n",
    "\n",
    "test_loader = DataLoader(\n",
    "    test_dset,\n",
    "    batch_size=32,\n",
    "    shuffle=False,\n",
    "    num_workers=1\n",
    ")\n",
    "\n",
    "model = SimpleSCINet(\n",
    "    input_len, horizon,\n",
    "    input_dim, num_levels, kernel_size, \n",
    "    dropout, groups, hidden_size\n",
    ")\n",
    "\n",
    "optimizer = optim.Adam(model.parameters(), lr=lr)\n",
    "\n",
    "train_loss_vals = []\n",
    "test_loss_vals = []\n",
    "\n",
    "\n",
    "n_epoch = 64\n",
    "for epoch in tqdm(range(n_epoch)):\n",
    "    #train loop\n",
    "    model.train()\n",
    "    batch_loss_vals = []\n",
    "    for (batch_x, batch_y) in train_loader:\n",
    "        optimizer.zero_grad()\n",
    "        \n",
    "        outputs = model(batch_x)\n",
    "        loss = criterion(outputs, batch_y)\n",
    "        loss.backward()\n",
    "        optimizer.step()\n",
    "        \n",
    "        batch_loss_vals.append(loss.item())\n",
    "    train_loss_vals.append(np.mean(batch_loss_vals))\n",
    "    \n",
    "    #eval loop\n",
    "    model.eval()\n",
    "    batch_loss_vals = []\n",
    "    for (batch_x, batch_y) in test_loader:        \n",
    "        outputs = model(batch_x)\n",
    "        loss = criterion(outputs, batch_y)\n",
    "        batch_loss_vals.append(loss.item())\n",
    "    test_loss_vals.append(np.mean(batch_loss_vals))\n",
    "\n",
    "test_loss_vals_2 = test_loss_vals\n",
    "train_loss_vals_2 = train_loss_vals\n",
    "\n",
    "plt.plot(train_loss_vals, color='g', label='train')\n",
    "plt.plot(test_loss_vals, color='r', label='test')\n",
    "plt.ylabel('Huberloss')\n",
    "# plt.ylim([0,2])\n",
    "plt.yscale('log')\n",
    "plt.xlabel('Epoch')"
   ]
  },
  {
   "cell_type": "markdown",
   "metadata": {},
   "source": [
    "### Trial 3"
   ]
  },
  {
   "cell_type": "code",
   "execution_count": 19,
   "metadata": {},
   "outputs": [
    {
     "data": {
      "application/vnd.jupyter.widget-view+json": {
       "model_id": "1c6c2643e12e461db0c92760ff83df99",
       "version_major": 2,
       "version_minor": 0
      },
      "text/plain": [
       "  0%|          | 0/64 [00:00<?, ?it/s]"
      ]
     },
     "metadata": {},
     "output_type": "display_data"
    },
    {
     "data": {
      "text/plain": [
       "Text(0.5, 0, 'Epoch')"
      ]
     },
     "execution_count": 19,
     "metadata": {},
     "output_type": "execute_result"
    },
    {
     "data": {
      "image/png": "[encoded data removed]",
      "text/plain": [
       "<Figure size 432x288 with 1 Axes>"
      ]
     },
     "metadata": {
      "needs_background": "light"
     },
     "output_type": "display_data"
    }
   ],
   "source": [
    "torch.manual_seed(3) # Use different seeds for 10 times\n",
    "\n",
    "train_loader = DataLoader(\n",
    "    train_dset,\n",
    "    batch_size=32,\n",
    "    shuffle=True,\n",
    "    num_workers=1\n",
    ")\n",
    "\n",
    "test_loader = DataLoader(\n",
    "    test_dset,\n",
    "    batch_size=32,\n",
    "    shuffle=False,\n",
    "    num_workers=1\n",
    ")\n",
    "\n",
    "model = SimpleSCINet(\n",
    "    input_len, horizon,\n",
    "    input_dim, num_levels, kernel_size, \n",
    "    dropout, groups, hidden_size\n",
    ")\n",
    "\n",
    "optimizer = optim.Adam(model.parameters(), lr=lr)\n",
    "\n",
    "\n",
    "train_loss_vals = []\n",
    "test_loss_vals = []\n",
    "\n",
    "n_epoch = 64\n",
    "\n",
    "for epoch in tqdm(range(n_epoch)):\n",
    "    #train loop\n",
    "    model.train()\n",
    "    batch_loss_vals = []\n",
    "    for (batch_x, batch_y) in train_loader:\n",
    "        optimizer.zero_grad()\n",
    "        \n",
    "        outputs = model(batch_x)\n",
    "        loss = criterion(outputs, batch_y)\n",
    "        loss.backward()\n",
    "        optimizer.step()\n",
    "        \n",
    "        batch_loss_vals.append(loss.item())\n",
    "    train_loss_vals.append(np.mean(batch_loss_vals))\n",
    "    \n",
    "    #eval loop\n",
    "    model.eval()\n",
    "    batch_loss_vals = []\n",
    "    for (batch_x, batch_y) in test_loader:        \n",
    "        outputs = model(batch_x)\n",
    "        loss = criterion(outputs, batch_y)\n",
    "        batch_loss_vals.append(loss.item())\n",
    "    test_loss_vals.append(np.mean(batch_loss_vals))\n",
    "\n",
    "test_loss_vals_3 = test_loss_vals\n",
    "train_loss_vals_3 = train_loss_vals\n",
    "\n",
    "plt.plot(train_loss_vals, color='g', label='train')\n",
    "plt.plot(test_loss_vals, color='r', label='test')\n",
    "plt.ylabel('Huberloss')\n",
    "# plt.ylim([0,2])\n",
    "plt.yscale('log')\n",
    "plt.xlabel('Epoch')\n"
   ]
  },
  {
   "cell_type": "markdown",
   "metadata": {},
   "source": [
    "### Trial 4"
   ]
  },
  {
   "cell_type": "code",
   "execution_count": 20,
   "metadata": {},
   "outputs": [
    {
     "data": {
      "application/vnd.jupyter.widget-view+json": {
       "model_id": "b43a16d1288e482b849c023366240e92",
       "version_major": 2,
       "version_minor": 0
      },
      "text/plain": [
       "  0%|          | 0/64 [00:00<?, ?it/s]"
      ]
     },
     "metadata": {},
     "output_type": "display_data"
    },
    {
     "data": {
      "text/plain": [
       "Text(0.5, 0, 'Epoch')"
      ]
     },
     "execution_count": 20,
     "metadata": {},
     "output_type": "execute_result"
    },
    {
     "data": {
      "image/png": "[encoded data removed]",
      "text/plain": [
       "<Figure size 432x288 with 1 Axes>"
      ]
     },
     "metadata": {
      "needs_background": "light"
     },
     "output_type": "display_data"
    }
   ],
   "source": [
    "torch.manual_seed(4) # Use different seeds for 10 times\n",
    "\n",
    "train_loader = DataLoader(\n",
    "    train_dset,\n",
    "    batch_size=32,\n",
    "    shuffle=True,\n",
    "    num_workers=1\n",
    ")\n",
    "\n",
    "test_loader = DataLoader(\n",
    "    test_dset,\n",
    "    batch_size=32,\n",
    "    shuffle=False,\n",
    "    num_workers=1\n",
    ")\n",
    "\n",
    "model = SimpleSCINet(\n",
    "    input_len, horizon,\n",
    "    input_dim, num_levels, kernel_size, \n",
    "    dropout, groups, hidden_size\n",
    ")\n",
    "\n",
    "optimizer = optim.Adam(model.parameters(), lr=lr)\n",
    "\n",
    "\n",
    "train_loss_vals = []\n",
    "test_loss_vals = []\n",
    "\n",
    "n_epoch = 64\n",
    "\n",
    "for epoch in tqdm(range(n_epoch)):\n",
    "    #train loop\n",
    "    model.train()\n",
    "    batch_loss_vals = []\n",
    "    for (batch_x, batch_y) in train_loader:\n",
    "        optimizer.zero_grad()\n",
    "        \n",
    "        outputs = model(batch_x)\n",
    "        loss = criterion(outputs, batch_y)\n",
    "        loss.backward()\n",
    "        optimizer.step()\n",
    "        \n",
    "        batch_loss_vals.append(loss.item())\n",
    "    train_loss_vals.append(np.mean(batch_loss_vals))\n",
    "    \n",
    "    #eval loop\n",
    "    model.eval()\n",
    "    batch_loss_vals = []\n",
    "    for (batch_x, batch_y) in test_loader:        \n",
    "        outputs = model(batch_x)\n",
    "        loss = criterion(outputs, batch_y)\n",
    "        batch_loss_vals.append(loss.item())\n",
    "    test_loss_vals.append(np.mean(batch_loss_vals))\n",
    "\n",
    "test_loss_vals_4 = test_loss_vals\n",
    "train_loss_vals_4 = train_loss_vals\n",
    "\n",
    "\n",
    "plt.plot(train_loss_vals, color='g', label='train')\n",
    "plt.plot(test_loss_vals, color='r', label='test')\n",
    "plt.ylabel('Huberloss')\n",
    "# plt.ylim([0,2])\n",
    "plt.yscale('log')\n",
    "plt.xlabel('Epoch')\n"
   ]
  },
  {
   "cell_type": "markdown",
   "metadata": {},
   "source": [
    "### Trial 5"
   ]
  },
  {
   "cell_type": "code",
   "execution_count": 21,
   "metadata": {},
   "outputs": [
    {
     "data": {
      "application/vnd.jupyter.widget-view+json": {
       "model_id": "640fd8a95e5e425799358b523225adb6",
       "version_major": 2,
       "version_minor": 0
      },
      "text/plain": [
       "  0%|          | 0/64 [00:00<?, ?it/s]"
      ]
     },
     "metadata": {},
     "output_type": "display_data"
    },
    {
     "data": {
      "text/plain": [
       "Text(0.5, 0, 'Epoch')"
      ]
     },
     "execution_count": 21,
     "metadata": {},
     "output_type": "execute_result"
    },
    {
     "data": {
      "image/png": "[encoded data removed]",
      "text/plain": [
       "<Figure size 432x288 with 1 Axes>"
      ]
     },
     "metadata": {
      "needs_background": "light"
     },
     "output_type": "display_data"
    }
   ],
   "source": [
    "torch.manual_seed(5) # Use different seeds for 10 times\n",
    "\n",
    "train_loader = DataLoader(\n",
    "    train_dset,\n",
    "    batch_size=32,\n",
    "    shuffle=True,\n",
    "    num_workers=1\n",
    ")\n",
    "\n",
    "test_loader = DataLoader(\n",
    "    test_dset,\n",
    "    batch_size=32,\n",
    "    shuffle=False,\n",
    "    num_workers=1\n",
    ")\n",
    "\n",
    "model = SimpleSCINet(\n",
    "    input_len, horizon,\n",
    "    input_dim, num_levels, kernel_size, \n",
    "    dropout, groups, hidden_size\n",
    ")\n",
    "\n",
    "optimizer = optim.Adam(model.parameters(), lr=lr)\n",
    "\n",
    "\n",
    "train_loss_vals = []\n",
    "test_loss_vals = []\n",
    "\n",
    "n_epoch = 64\n",
    "\n",
    "for epoch in tqdm(range(n_epoch)):\n",
    "    #train loop\n",
    "    model.train()\n",
    "    batch_loss_vals = []\n",
    "    for (batch_x, batch_y) in train_loader:\n",
    "        optimizer.zero_grad()\n",
    "        \n",
    "        outputs = model(batch_x)\n",
    "        loss = criterion(outputs, batch_y)\n",
    "        loss.backward()\n",
    "        optimizer.step()\n",
    "        \n",
    "        batch_loss_vals.append(loss.item())\n",
    "    train_loss_vals.append(np.mean(batch_loss_vals))\n",
    "    \n",
    "    #eval loop\n",
    "    model.eval()\n",
    "    batch_loss_vals = []\n",
    "    for (batch_x, batch_y) in test_loader:        \n",
    "        outputs = model(batch_x)\n",
    "        loss = criterion(outputs, batch_y)\n",
    "        batch_loss_vals.append(loss.item())\n",
    "    test_loss_vals.append(np.mean(batch_loss_vals))\n",
    "\n",
    "test_loss_vals_5 = test_loss_vals\n",
    "train_loss_vals_5 = train_loss_vals\n",
    "\n",
    "\n",
    "plt.plot(train_loss_vals, color='g', label='train')\n",
    "plt.plot(test_loss_vals, color='r', label='test')\n",
    "plt.ylabel('Huberloss')\n",
    "# plt.ylim([0,2])\n",
    "plt.yscale('log')\n",
    "plt.xlabel('Epoch')\n"
   ]
  },
  {
   "cell_type": "markdown",
   "metadata": {},
   "source": [
    "### Trial 6"
   ]
  },
  {
   "cell_type": "code",
   "execution_count": 22,
   "metadata": {},
   "outputs": [
    {
     "data": {
      "application/vnd.jupyter.widget-view+json": {
       "model_id": "c84c23dd81e64e39b36f17ff29e8a423",
       "version_major": 2,
       "version_minor": 0
      },
      "text/plain": [
       "  0%|          | 0/64 [00:00<?, ?it/s]"
      ]
     },
     "metadata": {},
     "output_type": "display_data"
    },
    {
     "data": {
      "text/plain": [
       "Text(0.5, 0, 'Epoch')"
      ]
     },
     "execution_count": 22,
     "metadata": {},
     "output_type": "execute_result"
    },
    {
     "data": {
      "image/png": "[encoded data removed]",
      "text/plain": [
       "<Figure size 432x288 with 1 Axes>"
      ]
     },
     "metadata": {
      "needs_background": "light"
     },
     "output_type": "display_data"
    }
   ],
   "source": [
    "torch.manual_seed(6) # Use different seeds for 10 times\n",
    "\n",
    "train_loader = DataLoader(\n",
    "    train_dset,\n",
    "    batch_size=32,\n",
    "    shuffle=True,\n",
    "    num_workers=1\n",
    ")\n",
    "\n",
    "test_loader = DataLoader(\n",
    "    test_dset,\n",
    "    batch_size=32,\n",
    "    shuffle=False,\n",
    "    num_workers=1\n",
    ")\n",
    "\n",
    "model = SimpleSCINet(\n",
    "    input_len, horizon,\n",
    "    input_dim, num_levels, kernel_size, \n",
    "    dropout, groups, hidden_size\n",
    ")\n",
    "\n",
    "optimizer = optim.Adam(model.parameters(), lr=lr)\n",
    "\n",
    "\n",
    "train_loss_vals = []\n",
    "test_loss_vals = []\n",
    "\n",
    "n_epoch = 64\n",
    "\n",
    "for epoch in tqdm(range(n_epoch)):\n",
    "    #train loop\n",
    "    model.train()\n",
    "    batch_loss_vals = []\n",
    "    for (batch_x, batch_y) in train_loader:\n",
    "        optimizer.zero_grad()\n",
    "        \n",
    "        outputs = model(batch_x)\n",
    "        loss = criterion(outputs, batch_y)\n",
    "        loss.backward()\n",
    "        optimizer.step()\n",
    "        \n",
    "        batch_loss_vals.append(loss.item())\n",
    "    train_loss_vals.append(np.mean(batch_loss_vals))\n",
    "    \n",
    "    #eval loop\n",
    "    model.eval()\n",
    "    batch_loss_vals = []\n",
    "    for (batch_x, batch_y) in test_loader:        \n",
    "        outputs = model(batch_x)\n",
    "        loss = criterion(outputs, batch_y)\n",
    "        batch_loss_vals.append(loss.item())\n",
    "    test_loss_vals.append(np.mean(batch_loss_vals))\n",
    "\n",
    "test_loss_vals_6 = test_loss_vals\n",
    "train_loss_vals_6 = train_loss_vals\n",
    "\n",
    "\n",
    "plt.plot(train_loss_vals, color='g', label='train')\n",
    "plt.plot(test_loss_vals, color='r', label='test')\n",
    "plt.ylabel('Huberloss')\n",
    "# plt.ylim([0,2])\n",
    "plt.yscale('log')\n",
    "plt.xlabel('Epoch')\n"
   ]
  },
  {
   "cell_type": "markdown",
   "metadata": {},
   "source": [
    "### Trial 7"
   ]
  },
  {
   "cell_type": "code",
   "execution_count": 23,
   "metadata": {},
   "outputs": [
    {
     "data": {
      "application/vnd.jupyter.widget-view+json": {
       "model_id": "c9cf35d2d818402bb8fc9e73cbc70347",
       "version_major": 2,
       "version_minor": 0
      },
      "text/plain": [
       "  0%|          | 0/64 [00:00<?, ?it/s]"
      ]
     },
     "metadata": {},
     "output_type": "display_data"
    },
    {
     "data": {
      "text/plain": [
       "Text(0.5, 0, 'Epoch')"
      ]
     },
     "execution_count": 23,
     "metadata": {},
     "output_type": "execute_result"
    },
    {
     "data": {
      "image/png": "[encoded data removed]",
      "text/plain": [
       "<Figure size 432x288 with 1 Axes>"
      ]
     },
     "metadata": {
      "needs_background": "light"
     },
     "output_type": "display_data"
    }
   ],
   "source": [
    "torch.manual_seed(7) # Use different seeds for 10 times\n",
    "\n",
    "train_loader = DataLoader(\n",
    "    train_dset,\n",
    "    batch_size=32,\n",
    "    shuffle=True,\n",
    "    num_workers=1\n",
    ")\n",
    "\n",
    "test_loader = DataLoader(\n",
    "    test_dset,\n",
    "    batch_size=32,\n",
    "    shuffle=False,\n",
    "    num_workers=1\n",
    ")\n",
    "\n",
    "model = SimpleSCINet(\n",
    "    input_len, horizon,\n",
    "    input_dim, num_levels, kernel_size, \n",
    "    dropout, groups, hidden_size\n",
    ")\n",
    "\n",
    "optimizer = optim.Adam(model.parameters(), lr=lr)\n",
    "\n",
    "\n",
    "train_loss_vals = []\n",
    "test_loss_vals = []\n",
    "\n",
    "n_epoch = 64\n",
    "\n",
    "for epoch in tqdm(range(n_epoch)):\n",
    "    #train loop\n",
    "    model.train()\n",
    "    batch_loss_vals = []\n",
    "    for (batch_x, batch_y) in train_loader:\n",
    "        optimizer.zero_grad()\n",
    "        \n",
    "        outputs = model(batch_x)\n",
    "        loss = criterion(outputs, batch_y)\n",
    "        loss.backward()\n",
    "        optimizer.step()\n",
    "        \n",
    "        batch_loss_vals.append(loss.item())\n",
    "    train_loss_vals.append(np.mean(batch_loss_vals))\n",
    "    \n",
    "    #eval loop\n",
    "    model.eval()\n",
    "    batch_loss_vals = []\n",
    "    for (batch_x, batch_y) in test_loader:        \n",
    "        outputs = model(batch_x)\n",
    "        loss = criterion(outputs, batch_y)\n",
    "        batch_loss_vals.append(loss.item())\n",
    "    test_loss_vals.append(np.mean(batch_loss_vals))\n",
    "\n",
    "test_loss_vals_7 = test_loss_vals\n",
    "train_loss_vals_7 = train_loss_vals\n",
    "\n",
    "\n",
    "plt.plot(train_loss_vals, color='g', label='train')\n",
    "plt.plot(test_loss_vals, color='r', label='test')\n",
    "plt.ylabel('Huberloss')\n",
    "# plt.ylim([0,2])\n",
    "plt.yscale('log')\n",
    "plt.xlabel('Epoch')\n"
   ]
  },
  {
   "cell_type": "markdown",
   "metadata": {},
   "source": [
    "### Trial 8"
   ]
  },
  {
   "cell_type": "code",
   "execution_count": 24,
   "metadata": {},
   "outputs": [
    {
     "data": {
      "application/vnd.jupyter.widget-view+json": {
       "model_id": "0a8597d5437340619bb5b476e850dbd9",
       "version_major": 2,
       "version_minor": 0
      },
      "text/plain": [
       "  0%|          | 0/64 [00:00<?, ?it/s]"
      ]
     },
     "metadata": {},
     "output_type": "display_data"
    },
    {
     "data": {
      "text/plain": [
       "Text(0.5, 0, 'Epoch')"
      ]
     },
     "execution_count": 24,
     "metadata": {},
     "output_type": "execute_result"
    },
    {
     "data": {
      "image/png": "[encoded data removed]",
      "text/plain": [
       "<Figure size 432x288 with 1 Axes>"
      ]
     },
     "metadata": {
      "needs_background": "light"
     },
     "output_type": "display_data"
    }
   ],
   "source": [
    "torch.manual_seed(8) # Use different seeds for 10 times\n",
    "\n",
    "train_loader = DataLoader(\n",
    "    train_dset,\n",
    "    batch_size=32,\n",
    "    shuffle=True,\n",
    "    num_workers=1\n",
    ")\n",
    "\n",
    "test_loader = DataLoader(\n",
    "    test_dset,\n",
    "    batch_size=32,\n",
    "    shuffle=False,\n",
    "    num_workers=1\n",
    ")\n",
    "\n",
    "model = SimpleSCINet(\n",
    "    input_len, horizon,\n",
    "    input_dim, num_levels, kernel_size, \n",
    "    dropout, groups, hidden_size\n",
    ")\n",
    "\n",
    "optimizer = optim.Adam(model.parameters(), lr=lr)\n",
    "\n",
    "\n",
    "train_loss_vals = []\n",
    "test_loss_vals = []\n",
    "\n",
    "n_epoch = 64\n",
    "\n",
    "for epoch in tqdm(range(n_epoch)):\n",
    "    #train loop\n",
    "    model.train()\n",
    "    batch_loss_vals = []\n",
    "    for (batch_x, batch_y) in train_loader:\n",
    "        optimizer.zero_grad()\n",
    "        \n",
    "        outputs = model(batch_x)\n",
    "        loss = criterion(outputs, batch_y)\n",
    "        loss.backward()\n",
    "        optimizer.step()\n",
    "        \n",
    "        batch_loss_vals.append(loss.item())\n",
    "    train_loss_vals.append(np.mean(batch_loss_vals))\n",
    "    \n",
    "    #eval loop\n",
    "    model.eval()\n",
    "    batch_loss_vals = []\n",
    "    for (batch_x, batch_y) in test_loader:        \n",
    "        outputs = model(batch_x)\n",
    "        loss = criterion(outputs, batch_y)\n",
    "        batch_loss_vals.append(loss.item())\n",
    "    test_loss_vals.append(np.mean(batch_loss_vals))\n",
    "\n",
    "test_loss_vals_8 = test_loss_vals\n",
    "train_loss_vals_8 = train_loss_vals\n",
    "\n",
    "\n",
    "plt.plot(train_loss_vals, color='g', label='train')\n",
    "plt.plot(test_loss_vals, color='r', label='test')\n",
    "plt.ylabel('Huberloss')\n",
    "# plt.ylim([0,2])\n",
    "plt.yscale('log')\n",
    "plt.xlabel('Epoch')\n"
   ]
  },
  {
   "cell_type": "markdown",
   "metadata": {},
   "source": [
    "### Trial 9"
   ]
  },
  {
   "cell_type": "code",
   "execution_count": 25,
   "metadata": {},
   "outputs": [
    {
     "data": {
      "application/vnd.jupyter.widget-view+json": {
       "model_id": "b849fdc303f04a5f9bdaabcdd01bea28",
       "version_major": 2,
       "version_minor": 0
      },
      "text/plain": [
       "  0%|          | 0/64 [00:00<?, ?it/s]"
      ]
     },
     "metadata": {},
     "output_type": "display_data"
    },
    {
     "data": {
      "text/plain": [
       "Text(0.5, 0, 'Epoch')"
      ]
     },
     "execution_count": 25,
     "metadata": {},
     "output_type": "execute_result"
    },
    {
     "data": {
      "image/png": "[encoded data removed]",
      "text/plain": [
       "<Figure size 432x288 with 1 Axes>"
      ]
     },
     "metadata": {
      "needs_background": "light"
     },
     "output_type": "display_data"
    }
   ],
   "source": [
    "torch.manual_seed(9) # Use different seeds for 10 times\n",
    "\n",
    "train_loader = DataLoader(\n",
    "    train_dset,\n",
    "    batch_size=32,\n",
    "    shuffle=True,\n",
    "    num_workers=1\n",
    ")\n",
    "\n",
    "test_loader = DataLoader(\n",
    "    test_dset,\n",
    "    batch_size=32,\n",
    "    shuffle=False,\n",
    "    num_workers=1\n",
    ")\n",
    "\n",
    "model = SimpleSCINet(\n",
    "    input_len, horizon,\n",
    "    input_dim, num_levels, kernel_size, \n",
    "    dropout, groups, hidden_size\n",
    ")\n",
    "\n",
    "optimizer = optim.Adam(model.parameters(), lr=lr)\n",
    "\n",
    "\n",
    "train_loss_vals = []\n",
    "test_loss_vals = []\n",
    "\n",
    "n_epoch = 64\n",
    "\n",
    "for epoch in tqdm(range(n_epoch)):\n",
    "    #train loop\n",
    "    model.train()\n",
    "    batch_loss_vals = []\n",
    "    for (batch_x, batch_y) in train_loader:\n",
    "        optimizer.zero_grad()\n",
    "        \n",
    "        outputs = model(batch_x)\n",
    "        loss = criterion(outputs, batch_y)\n",
    "        loss.backward()\n",
    "        optimizer.step()\n",
    "        \n",
    "        batch_loss_vals.append(loss.item())\n",
    "    train_loss_vals.append(np.mean(batch_loss_vals))\n",
    "    \n",
    "    #eval loop\n",
    "    model.eval()\n",
    "    batch_loss_vals = []\n",
    "    for (batch_x, batch_y) in test_loader:        \n",
    "        outputs = model(batch_x)\n",
    "        loss = criterion(outputs, batch_y)\n",
    "        batch_loss_vals.append(loss.item())\n",
    "    test_loss_vals.append(np.mean(batch_loss_vals))\n",
    "\n",
    "test_loss_vals_9 = test_loss_vals\n",
    "train_loss_vals_9 = train_loss_vals\n",
    "\n",
    "\n",
    "plt.plot(train_loss_vals, color='g', label='train')\n",
    "plt.plot(test_loss_vals, color='r', label='test')\n",
    "plt.ylabel('Huberloss')\n",
    "# plt.ylim([0,2])\n",
    "plt.yscale('log')\n",
    "plt.xlabel('Epoch')\n"
   ]
  },
  {
   "cell_type": "markdown",
   "metadata": {},
   "source": [
    "### Trial 10"
   ]
  },
  {
   "cell_type": "code",
   "execution_count": 26,
   "metadata": {},
   "outputs": [
    {
     "data": {
      "application/vnd.jupyter.widget-view+json": {
       "model_id": "9c06ea88b81a47e5a834024781735a96",
       "version_major": 2,
       "version_minor": 0
      },
      "text/plain": [
       "  0%|          | 0/64 [00:00<?, ?it/s]"
      ]
     },
     "metadata": {},
     "output_type": "display_data"
    },
    {
     "data": {
      "text/plain": [
       "Text(0.5, 0, 'Epoch')"
      ]
     },
     "execution_count": 26,
     "metadata": {},
     "output_type": "execute_result"
    },
    {
     "data": {
      "image/png": "[encoded data removed]",
      "text/plain": [
       "<Figure size 432x288 with 1 Axes>"
      ]
     },
     "metadata": {
      "needs_background": "light"
     },
     "output_type": "display_data"
    }
   ],
   "source": [
    "torch.manual_seed(10) # Use different seeds for 10 times\n",
    "\n",
    "train_loader = DataLoader(\n",
    "    train_dset,\n",
    "    batch_size=32,\n",
    "    shuffle=True,\n",
    "    num_workers=1\n",
    ")\n",
    "\n",
    "test_loader = DataLoader(\n",
    "    test_dset,\n",
    "    batch_size=32,\n",
    "    shuffle=False,\n",
    "    num_workers=1\n",
    ")\n",
    "\n",
    "model = SimpleSCINet(\n",
    "    input_len, horizon,\n",
    "    input_dim, num_levels, kernel_size, \n",
    "    dropout, groups, hidden_size\n",
    ")\n",
    "\n",
    "optimizer = optim.Adam(model.parameters(), lr=lr)\n",
    "\n",
    "\n",
    "train_loss_vals = []\n",
    "test_loss_vals = []\n",
    "\n",
    "n_epoch = 64\n",
    "\n",
    "for epoch in tqdm(range(n_epoch)):\n",
    "    #train loop\n",
    "    model.train()\n",
    "    batch_loss_vals = []\n",
    "    for (batch_x, batch_y) in train_loader:\n",
    "        optimizer.zero_grad()\n",
    "        \n",
    "        outputs = model(batch_x)\n",
    "        loss = criterion(outputs, batch_y)\n",
    "        loss.backward()\n",
    "        optimizer.step()\n",
    "        \n",
    "        batch_loss_vals.append(loss.item())\n",
    "    train_loss_vals.append(np.mean(batch_loss_vals))\n",
    "    \n",
    "    #eval loop\n",
    "    model.eval()\n",
    "    batch_loss_vals = []\n",
    "    for (batch_x, batch_y) in test_loader:        \n",
    "        outputs = model(batch_x)\n",
    "        loss = criterion(outputs, batch_y)\n",
    "        batch_loss_vals.append(loss.item())\n",
    "    test_loss_vals.append(np.mean(batch_loss_vals))\n",
    "\n",
    "test_loss_vals_10 = test_loss_vals\n",
    "train_loss_vals_10 = train_loss_vals\n",
    "\n",
    "\n",
    "plt.plot(train_loss_vals, color='g', label='train')\n",
    "plt.plot(test_loss_vals, color='r', label='test')\n",
    "plt.ylabel('Huberloss')\n",
    "# plt.ylim([0,2])\n",
    "plt.yscale('log')\n",
    "plt.xlabel('Epoch')\n"
   ]
  },
  {
   "cell_type": "markdown",
   "metadata": {},
   "source": [
    "Visualize the forecast"
   ]
  },
  {
   "cell_type": "markdown",
   "metadata": {},
   "source": [
    "## Calculate mean Huber Loss and STD"
   ]
  },
  {
   "cell_type": "markdown",
   "metadata": {},
   "source": []
  },
  {
   "cell_type": "code",
   "execution_count": 27,
   "metadata": {},
   "outputs": [],
   "source": [
    "final_test_loss = np.array([test_loss_vals_1[-1],test_loss_vals_2[-1],\n",
    "                test_loss_vals_3[-1],test_loss_vals_4[-1],\n",
    "                test_loss_vals_5[-1],test_loss_vals_6[-1],\n",
    "                test_loss_vals_7[-1],test_loss_vals_8[-1],\n",
    "                test_loss_vals_9[-1],test_loss_vals_10[-1]])"
   ]
  },
  {
   "cell_type": "markdown",
   "metadata": {},
   "source": [
    "final_test_loss"
   ]
  },
  {
   "cell_type": "code",
   "execution_count": 28,
   "metadata": {},
   "outputs": [
    {
     "data": {
      "text/plain": [
       "0.00126157937858287"
      ]
     },
     "execution_count": 28,
     "metadata": {},
     "output_type": "execute_result"
    }
   ],
   "source": [
    "# print average\n",
    "np.mean(final_test_loss)"
   ]
  },
  {
   "cell_type": "code",
   "execution_count": 29,
   "metadata": {},
   "outputs": [
    {
     "data": {
      "text/plain": [
       "0.0010503389036738545"
      ]
     },
     "execution_count": 29,
     "metadata": {},
     "output_type": "execute_result"
    }
   ],
   "source": [
    "# print std\n",
    "np.std(final_test_loss)"
   ]
  },
  {
   "cell_type": "code",
   "execution_count": 30,
   "metadata": {},
   "outputs": [],
   "source": [
    "train_loss = np.array([train_loss_vals_1,train_loss_vals_2,\n",
    "                train_loss_vals_3,train_loss_vals_4,\n",
    "                train_loss_vals_5,train_loss_vals_6,\n",
    "                train_loss_vals_7,train_loss_vals_8,\n",
    "                train_loss_vals_9,train_loss_vals_10])"
   ]
  },
  {
   "cell_type": "code",
   "execution_count": 31,
   "metadata": {},
   "outputs": [],
   "source": [
    "test_losses = np.array([test_loss_vals_1,test_loss_vals_2,\n",
    "                test_loss_vals_3,test_loss_vals_4,\n",
    "                test_loss_vals_5,test_loss_vals_6,\n",
    "                test_loss_vals_7,test_loss_vals_8,\n",
    "                test_loss_vals_9,test_loss_vals_10])"
   ]
  },
  {
   "cell_type": "code",
   "execution_count": 32,
   "metadata": {},
   "outputs": [],
   "source": [
    "pd.DataFrame(test_losses).transpose().to_csv('test_losses.csv')"
   ]
  },
  {
   "cell_type": "code",
   "execution_count": 41,
   "metadata": {},
   "outputs": [],
   "source": [
    "loss_trial_5 = pd.DataFrame({'epoch':np.arange(64),\n",
    "                        'train_loss':train_loss_vals_5,\n",
    "                        'test_loss':test_loss_vals_5})\n",
    "loss_trial_5.to_csv('huber_loss.csv',index=None)"
   ]
  },
  {
   "cell_type": "code",
   "execution_count": 46,
   "metadata": {},
   "outputs": [
    {
     "data": {
      "image/png": "[encoded data removed]",
      "text/plain": [
       "<Figure size 864x576 with 1 Axes>"
      ]
     },
     "metadata": {
      "needs_background": "light"
     },
     "output_type": "display_data"
    }
   ],
   "source": [
    "plt.rcParams[\"figure.figsize\"] = (12,8)\n",
    "plt.plot(train_loss_vals_5, color='g', label='train')\n",
    "plt.plot(test_loss_vals_5, color='r', label='test')\n",
    "plt.ylabel('Huberloss')\n",
    "plt.legend()\n",
    "# plt.ylim([0,2])\n",
    "plt.yscale('log')\n",
    "plt.xlabel('Epoch')\n",
    "plt.savefig('huber_loss.png')"
   ]
  },
  {
   "cell_type": "markdown",
   "metadata": {},
   "source": []
  },
  {
   "cell_type": "markdown",
   "metadata": {},
   "source": []
  }
 ],
 "metadata": {
  "kernelspec": {
   "display_name": "Python 3.8.9 64-bit",
   "language": "python",
   "name": "python3"
  },
  "language_info": {
   "codemirror_mode": {
    "name": "ipython",
    "version": 3
   },
   "file_extension": ".py",
   "mimetype": "text/x-python",
   "name": "python",
   "nbconvert_exporter": "python",
   "pygments_lexer": "ipython3",
   "version": "3.8.9"
  },
  "vscode": {
   "interpreter": {
    "hash": "31f2aee4e71d21fbe5cf8b01ff0e069b9275f58929596ceb00d14d90e3e16cd6"
   }
  }
 },
 "nbformat": 4,
 "nbformat_minor": 4
}
