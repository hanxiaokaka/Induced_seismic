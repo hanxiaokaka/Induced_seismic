{
 "cells": [
  {
   "cell_type": "code",
   "execution_count": 1,
   "metadata": {},
   "outputs": [],
   "source": [
    "import numpy as np\n",
    "import torch\n",
    "import torch.nn as nn\n",
    "import matplotlib.pyplot as plt\n",
    "import torch.nn.functional as F\n",
    "import torch.optim as optim\n",
    "from saif.crs_model.peakdetector import pk_indxs\n",
    "import saif.scinet.model as scinet\n",
    "plt.style.use('ggplot')\n",
    "\n",
    "%matplotlib inline"
   ]
  },
  {
   "cell_type": "code",
   "execution_count": 2,
   "metadata": {},
   "outputs": [],
   "source": [
    "# from saif.scinet.dataset import daily_seismic_and_interpolated_pressure\n",
    "# from saif.scinet.dataset import construct_time_series_dataset\n",
    "\n",
    "from dataset import daily_seismic_and_interpolated_pressure\n",
    "from dataset import construct_time_series_dataset\n",
    "from dataset import overlap_and_interpolate\n",
    "from dataset import aggregate_seismic\n",
    "\n",
    "from torch.utils.data import DataLoader"
   ]
  },
  {
   "cell_type": "code",
   "execution_count": 3,
   "metadata": {},
   "outputs": [],
   "source": [
    "import pandas as pd\n",
    "# seismic = pd.read_csv(\"../../data/02_intermediate/seismic.csv\", index_col=0)\n",
    "# pressure = pd.read_csv(\"../../data/02_intermediate/pressure.csv\", index_col=0)\n",
    "\n",
    "seismic_original = pd.read_csv(\"seismic.csv\",index_col=0)\n",
    "pressure_original = pd.read_csv(\"pressure.csv\",index_col=0)\n",
    "\n",
    "# seismic = seismic.drop(columns=['kmeans'])\n",
    "\n",
    "seismic = pd.read_csv(\"temporal_datasets_decatur_illinois_seismic_new.csv\",index_col=None)\n",
    "pressure = pd.read_csv(\"temporal_datasets_decatur_illinois_pressure_new.csv\",index_col=None)\n",
    "\n",
    "pressure[\"epoch\"] = pressure[\"epoch\"]\n",
    "\n"
   ]
  },
  {
   "cell_type": "code",
   "execution_count": 4,
   "metadata": {},
   "outputs": [],
   "source": [
    "input_len = 16 # try wider window power of 2\n",
    "horizon = 7 # prediction window\n",
    "\n",
    "# Trying out different input_len and horizon\n",
    "# input_len = 64\n",
    "# horizon = 30"
   ]
  },
  {
   "cell_type": "code",
   "execution_count": 5,
   "metadata": {},
   "outputs": [],
   "source": [
    "features_original, target_vals_original = daily_seismic_and_interpolated_pressure(seismic_original, pressure_original)\n"
   ]
  },
  {
   "cell_type": "code",
   "execution_count": 6,
   "metadata": {},
   "outputs": [],
   "source": [
    "features, target_vals = daily_seismic_and_interpolated_pressure(seismic, pressure)\n"
   ]
  },
  {
   "cell_type": "code",
   "execution_count": 7,
   "metadata": {},
   "outputs": [],
   "source": [
    "_features = ['depth', 'easting', 'northing', 'magnitude', 't']\n",
    "\n",
    "s,p,b=overlap_and_interpolate(seismic, pressure)"
   ]
  },
  {
   "cell_type": "code",
   "execution_count": 8,
   "metadata": {},
   "outputs": [
    {
     "data": {
      "text/html": [
       "<div>\n",
       "<style scoped>\n",
       "    .dataframe tbody tr th:only-of-type {\n",
       "        vertical-align: middle;\n",
       "    }\n",
       "\n",
       "    .dataframe tbody tr th {\n",
       "        vertical-align: top;\n",
       "    }\n",
       "\n",
       "    .dataframe thead th {\n",
       "        text-align: right;\n",
       "    }\n",
       "</style>\n",
       "<table border=\"1\" class=\"dataframe\">\n",
       "  <thead>\n",
       "    <tr style=\"text-align: right;\">\n",
       "      <th></th>\n",
       "      <th>days</th>\n",
       "    </tr>\n",
       "    <tr>\n",
       "      <th>t</th>\n",
       "      <th></th>\n",
       "    </tr>\n",
       "  </thead>\n",
       "  <tbody>\n",
       "    <tr>\n",
       "      <th>1</th>\n",
       "      <td>1</td>\n",
       "    </tr>\n",
       "    <tr>\n",
       "      <th>3</th>\n",
       "      <td>1</td>\n",
       "    </tr>\n",
       "    <tr>\n",
       "      <th>26</th>\n",
       "      <td>1</td>\n",
       "    </tr>\n",
       "    <tr>\n",
       "      <th>27</th>\n",
       "      <td>1</td>\n",
       "    </tr>\n",
       "    <tr>\n",
       "      <th>30</th>\n",
       "      <td>1</td>\n",
       "    </tr>\n",
       "    <tr>\n",
       "      <th>...</th>\n",
       "      <td>...</td>\n",
       "    </tr>\n",
       "    <tr>\n",
       "      <th>1106</th>\n",
       "      <td>1</td>\n",
       "    </tr>\n",
       "    <tr>\n",
       "      <th>1107</th>\n",
       "      <td>4</td>\n",
       "    </tr>\n",
       "    <tr>\n",
       "      <th>1109</th>\n",
       "      <td>3</td>\n",
       "    </tr>\n",
       "    <tr>\n",
       "      <th>1110</th>\n",
       "      <td>1</td>\n",
       "    </tr>\n",
       "    <tr>\n",
       "      <th>1111</th>\n",
       "      <td>530</td>\n",
       "    </tr>\n",
       "  </tbody>\n",
       "</table>\n",
       "<p>888 rows × 1 columns</p>\n",
       "</div>"
      ],
      "text/plain": [
       "      days\n",
       "t         \n",
       "1        1\n",
       "3        1\n",
       "26       1\n",
       "27       1\n",
       "30       1\n",
       "...    ...\n",
       "1106     1\n",
       "1107     4\n",
       "1109     3\n",
       "1110     1\n",
       "1111   530\n",
       "\n",
       "[888 rows x 1 columns]"
      ]
     },
     "execution_count": 8,
     "metadata": {},
     "output_type": "execute_result"
    }
   ],
   "source": [
    "p\n",
    "# seismic_features, target_vals = aggregate_seismic(s, len(b), _features, bin_name='days')\n",
    "seismic_counts = s[['days','t']].groupby('t').agg('count')\n",
    "seismic_counts"
   ]
  },
  {
   "cell_type": "code",
   "execution_count": 9,
   "metadata": {},
   "outputs": [
    {
     "data": {
      "text/html": [
       "<div>\n",
       "<style scoped>\n",
       "    .dataframe tbody tr th:only-of-type {\n",
       "        vertical-align: middle;\n",
       "    }\n",
       "\n",
       "    .dataframe tbody tr th {\n",
       "        vertical-align: top;\n",
       "    }\n",
       "\n",
       "    .dataframe thead tr th {\n",
       "        text-align: left;\n",
       "    }\n",
       "\n",
       "    .dataframe thead tr:last-of-type th {\n",
       "        text-align: right;\n",
       "    }\n",
       "</style>\n",
       "<table border=\"1\" class=\"dataframe\">\n",
       "  <thead>\n",
       "    <tr>\n",
       "      <th></th>\n",
       "      <th colspan=\"2\" halign=\"left\">depth</th>\n",
       "      <th colspan=\"2\" halign=\"left\">easting</th>\n",
       "      <th colspan=\"2\" halign=\"left\">northing</th>\n",
       "      <th colspan=\"2\" halign=\"left\">magnitude</th>\n",
       "    </tr>\n",
       "    <tr>\n",
       "      <th></th>\n",
       "      <th>mean</th>\n",
       "      <th>std</th>\n",
       "      <th>mean</th>\n",
       "      <th>std</th>\n",
       "      <th>mean</th>\n",
       "      <th>std</th>\n",
       "      <th>mean</th>\n",
       "      <th>std</th>\n",
       "    </tr>\n",
       "    <tr>\n",
       "      <th>t</th>\n",
       "      <th></th>\n",
       "      <th></th>\n",
       "      <th></th>\n",
       "      <th></th>\n",
       "      <th></th>\n",
       "      <th></th>\n",
       "      <th></th>\n",
       "      <th></th>\n",
       "    </tr>\n",
       "  </thead>\n",
       "  <tbody>\n",
       "    <tr>\n",
       "      <th>1</th>\n",
       "      <td>1911.542213</td>\n",
       "      <td>0.000000</td>\n",
       "      <td>337462.383000</td>\n",
       "      <td>0.000000</td>\n",
       "      <td>4.415647e+06</td>\n",
       "      <td>0.000000</td>\n",
       "      <td>-1.740000</td>\n",
       "      <td>0.000000</td>\n",
       "    </tr>\n",
       "    <tr>\n",
       "      <th>3</th>\n",
       "      <td>1898.448644</td>\n",
       "      <td>0.000000</td>\n",
       "      <td>337552.609000</td>\n",
       "      <td>0.000000</td>\n",
       "      <td>4.416203e+06</td>\n",
       "      <td>0.000000</td>\n",
       "      <td>-1.810000</td>\n",
       "      <td>0.000000</td>\n",
       "    </tr>\n",
       "    <tr>\n",
       "      <th>26</th>\n",
       "      <td>1927.357513</td>\n",
       "      <td>0.000000</td>\n",
       "      <td>337564.471000</td>\n",
       "      <td>0.000000</td>\n",
       "      <td>4.416153e+06</td>\n",
       "      <td>0.000000</td>\n",
       "      <td>-1.170000</td>\n",
       "      <td>0.000000</td>\n",
       "    </tr>\n",
       "    <tr>\n",
       "      <th>27</th>\n",
       "      <td>1931.414203</td>\n",
       "      <td>0.000000</td>\n",
       "      <td>337570.748000</td>\n",
       "      <td>0.000000</td>\n",
       "      <td>4.416123e+06</td>\n",
       "      <td>0.000000</td>\n",
       "      <td>-1.230000</td>\n",
       "      <td>0.000000</td>\n",
       "    </tr>\n",
       "    <tr>\n",
       "      <th>30</th>\n",
       "      <td>1811.475160</td>\n",
       "      <td>0.000000</td>\n",
       "      <td>337609.589000</td>\n",
       "      <td>0.000000</td>\n",
       "      <td>4.414881e+06</td>\n",
       "      <td>0.000000</td>\n",
       "      <td>-1.520000</td>\n",
       "      <td>0.000000</td>\n",
       "    </tr>\n",
       "    <tr>\n",
       "      <th>...</th>\n",
       "      <td>...</td>\n",
       "      <td>...</td>\n",
       "      <td>...</td>\n",
       "      <td>...</td>\n",
       "      <td>...</td>\n",
       "      <td>...</td>\n",
       "      <td>...</td>\n",
       "      <td>...</td>\n",
       "    </tr>\n",
       "    <tr>\n",
       "      <th>1106</th>\n",
       "      <td>2088.729046</td>\n",
       "      <td>0.000000</td>\n",
       "      <td>338505.371000</td>\n",
       "      <td>0.000000</td>\n",
       "      <td>4.416540e+06</td>\n",
       "      <td>0.000000</td>\n",
       "      <td>-1.550000</td>\n",
       "      <td>0.000000</td>\n",
       "    </tr>\n",
       "    <tr>\n",
       "      <th>1107</th>\n",
       "      <td>2014.708168</td>\n",
       "      <td>88.488599</td>\n",
       "      <td>337748.769500</td>\n",
       "      <td>708.086158</td>\n",
       "      <td>4.416369e+06</td>\n",
       "      <td>696.820946</td>\n",
       "      <td>-1.245000</td>\n",
       "      <td>0.104722</td>\n",
       "    </tr>\n",
       "    <tr>\n",
       "      <th>1109</th>\n",
       "      <td>2020.795489</td>\n",
       "      <td>32.663965</td>\n",
       "      <td>337981.979333</td>\n",
       "      <td>628.363621</td>\n",
       "      <td>4.416724e+06</td>\n",
       "      <td>294.071551</td>\n",
       "      <td>-1.110000</td>\n",
       "      <td>0.117898</td>\n",
       "    </tr>\n",
       "    <tr>\n",
       "      <th>1110</th>\n",
       "      <td>2058.649802</td>\n",
       "      <td>0.000000</td>\n",
       "      <td>338095.812000</td>\n",
       "      <td>0.000000</td>\n",
       "      <td>4.416600e+06</td>\n",
       "      <td>0.000000</td>\n",
       "      <td>-1.490000</td>\n",
       "      <td>0.000000</td>\n",
       "    </tr>\n",
       "    <tr>\n",
       "      <th>1111</th>\n",
       "      <td>2028.530476</td>\n",
       "      <td>92.608550</td>\n",
       "      <td>337912.428394</td>\n",
       "      <td>632.561216</td>\n",
       "      <td>4.416506e+06</td>\n",
       "      <td>739.479549</td>\n",
       "      <td>-1.105283</td>\n",
       "      <td>0.457878</td>\n",
       "    </tr>\n",
       "  </tbody>\n",
       "</table>\n",
       "<p>888 rows × 8 columns</p>\n",
       "</div>"
      ],
      "text/plain": [
       "            depth                   easting                  northing  \\\n",
       "             mean        std           mean         std          mean   \n",
       "t                                                                       \n",
       "1     1911.542213   0.000000  337462.383000    0.000000  4.415647e+06   \n",
       "3     1898.448644   0.000000  337552.609000    0.000000  4.416203e+06   \n",
       "26    1927.357513   0.000000  337564.471000    0.000000  4.416153e+06   \n",
       "27    1931.414203   0.000000  337570.748000    0.000000  4.416123e+06   \n",
       "30    1811.475160   0.000000  337609.589000    0.000000  4.414881e+06   \n",
       "...           ...        ...            ...         ...           ...   \n",
       "1106  2088.729046   0.000000  338505.371000    0.000000  4.416540e+06   \n",
       "1107  2014.708168  88.488599  337748.769500  708.086158  4.416369e+06   \n",
       "1109  2020.795489  32.663965  337981.979333  628.363621  4.416724e+06   \n",
       "1110  2058.649802   0.000000  338095.812000    0.000000  4.416600e+06   \n",
       "1111  2028.530476  92.608550  337912.428394  632.561216  4.416506e+06   \n",
       "\n",
       "                 magnitude            \n",
       "             std      mean       std  \n",
       "t                                     \n",
       "1       0.000000 -1.740000  0.000000  \n",
       "3       0.000000 -1.810000  0.000000  \n",
       "26      0.000000 -1.170000  0.000000  \n",
       "27      0.000000 -1.230000  0.000000  \n",
       "30      0.000000 -1.520000  0.000000  \n",
       "...          ...       ...       ...  \n",
       "1106    0.000000 -1.550000  0.000000  \n",
       "1107  696.820946 -1.245000  0.104722  \n",
       "1109  294.071551 -1.110000  0.117898  \n",
       "1110    0.000000 -1.490000  0.000000  \n",
       "1111  739.479549 -1.105283  0.457878  \n",
       "\n",
       "[888 rows x 8 columns]"
      ]
     },
     "execution_count": 9,
     "metadata": {},
     "output_type": "execute_result"
    }
   ],
   "source": [
    "seismic_features = s[_features].groupby('t').agg([np.mean, np.std]).fillna(0)\n",
    "seismic_features\n"
   ]
  },
  {
   "cell_type": "code",
   "execution_count": 10,
   "metadata": {},
   "outputs": [
    {
     "data": {
      "text/plain": [
       "array([[0., 0., 0., ..., 0., 0., 0.],\n",
       "       [0., 0., 0., ..., 0., 0., 0.],\n",
       "       [0., 0., 0., ..., 0., 0., 0.],\n",
       "       ...,\n",
       "       [0., 0., 0., ..., 0., 0., 0.],\n",
       "       [0., 0., 0., ..., 0., 0., 0.],\n",
       "       [0., 0., 0., ..., 0., 0., 0.]])"
      ]
     },
     "execution_count": 10,
     "metadata": {},
     "output_type": "execute_result"
    }
   ],
   "source": [
    "seismic_features.columns = ['_'.join(col).strip() for col in seismic_features.columns.values]\n",
    "seismic_features.columns\n",
    "n_features = len(seismic_features.columns)\n",
    "n_features\n",
    "output_vals = np.zeros((len(b), n_features))\n",
    "output_vals"
   ]
  },
  {
   "cell_type": "code",
   "execution_count": 11,
   "metadata": {},
   "outputs": [
    {
     "data": {
      "text/plain": [
       "array([[ 1.91154221e+03,  0.00000000e+00,  3.37462383e+05, ...,\n",
       "         0.00000000e+00, -1.74000000e+00,  0.00000000e+00],\n",
       "       [ 1.89844864e+03,  0.00000000e+00,  3.37552609e+05, ...,\n",
       "         0.00000000e+00, -1.81000000e+00,  0.00000000e+00],\n",
       "       [ 1.92735751e+03,  0.00000000e+00,  3.37564471e+05, ...,\n",
       "         0.00000000e+00, -1.17000000e+00,  0.00000000e+00],\n",
       "       ...,\n",
       "       [ 2.02079549e+03,  3.26639648e+01,  3.37981979e+05, ...,\n",
       "         2.94071551e+02, -1.11000000e+00,  1.17898261e-01],\n",
       "       [ 2.05864980e+03,  0.00000000e+00,  3.38095812e+05, ...,\n",
       "         0.00000000e+00, -1.49000000e+00,  0.00000000e+00],\n",
       "       [ 2.02853048e+03,  9.26085504e+01,  3.37912428e+05, ...,\n",
       "         7.39479549e+02, -1.10528302e+00,  4.57877918e-01]])"
      ]
     },
     "execution_count": 11,
     "metadata": {},
     "output_type": "execute_result"
    }
   ],
   "source": [
    "seismic_features.values"
   ]
  },
  {
   "cell_type": "code",
   "execution_count": 12,
   "metadata": {},
   "outputs": [],
   "source": [
    "output_vals[seismic_features.index.values-1] = seismic_features.values\n",
    "output_df = pd.DataFrame(output_vals, columns=seismic_features.columns)\n",
    "target_vals = np.zeros((len(b),))\n",
    "target_vals[seismic_counts.index.values-1] = seismic_counts['days'].values\n"
   ]
  },
  {
   "cell_type": "code",
   "execution_count": 13,
   "metadata": {},
   "outputs": [],
   "source": [
    "import math\n",
    "\n",
    "import numpy as np\n",
    "import pandas as pd\n",
    "import torch\n",
    "\n",
    "from torch.utils.data import Dataset\n",
    "\n",
    "from scipy.interpolate import interp1d\n",
    "from sklearn.preprocessing import RobustScaler\n",
    "\n",
    "seismic_start = seismic.epoch.values[0]\n",
    "seismic_end = seismic.epoch.values[-1]\n",
    "    \n",
    "pressure_start = pressure.epoch.values[0]\n",
    "pressure_end = pressure.epoch.values[-1]\n",
    "t0 = max(seismic_start, pressure_start)\n",
    "t1 = min(seismic_end, pressure_end)"
   ]
  },
  {
   "cell_type": "code",
   "execution_count": 14,
   "metadata": {},
   "outputs": [
    {
     "data": {
      "text/html": [
       "<div>\n",
       "<style scoped>\n",
       "    .dataframe tbody tr th:only-of-type {\n",
       "        vertical-align: middle;\n",
       "    }\n",
       "\n",
       "    .dataframe tbody tr th {\n",
       "        vertical-align: top;\n",
       "    }\n",
       "\n",
       "    .dataframe thead th {\n",
       "        text-align: right;\n",
       "    }\n",
       "</style>\n",
       "<table border=\"1\" class=\"dataframe\">\n",
       "  <thead>\n",
       "    <tr style=\"text-align: right;\">\n",
       "      <th></th>\n",
       "      <th>pressure</th>\n",
       "      <th>dpdt</th>\n",
       "      <th>seismic</th>\n",
       "    </tr>\n",
       "  </thead>\n",
       "  <tbody>\n",
       "    <tr>\n",
       "      <th>0</th>\n",
       "      <td>8.599065e+06</td>\n",
       "      <td>0.017439</td>\n",
       "      <td>1.0</td>\n",
       "    </tr>\n",
       "    <tr>\n",
       "      <th>1</th>\n",
       "      <td>8.601838e+06</td>\n",
       "      <td>0.018007</td>\n",
       "      <td>1.0</td>\n",
       "    </tr>\n",
       "    <tr>\n",
       "      <th>2</th>\n",
       "      <td>8.604612e+06</td>\n",
       "      <td>0.018575</td>\n",
       "      <td>2.0</td>\n",
       "    </tr>\n",
       "    <tr>\n",
       "      <th>3</th>\n",
       "      <td>8.607385e+06</td>\n",
       "      <td>0.019143</td>\n",
       "      <td>2.0</td>\n",
       "    </tr>\n",
       "    <tr>\n",
       "      <th>4</th>\n",
       "      <td>8.610158e+06</td>\n",
       "      <td>0.019711</td>\n",
       "      <td>2.0</td>\n",
       "    </tr>\n",
       "    <tr>\n",
       "      <th>...</th>\n",
       "      <td>...</td>\n",
       "      <td>...</td>\n",
       "      <td>...</td>\n",
       "    </tr>\n",
       "    <tr>\n",
       "      <th>1106</th>\n",
       "      <td>8.652984e+06</td>\n",
       "      <td>-0.029754</td>\n",
       "      <td>4886.0</td>\n",
       "    </tr>\n",
       "    <tr>\n",
       "      <th>1107</th>\n",
       "      <td>8.649775e+06</td>\n",
       "      <td>-0.030196</td>\n",
       "      <td>4886.0</td>\n",
       "    </tr>\n",
       "    <tr>\n",
       "      <th>1108</th>\n",
       "      <td>8.646565e+06</td>\n",
       "      <td>-0.030638</td>\n",
       "      <td>4889.0</td>\n",
       "    </tr>\n",
       "    <tr>\n",
       "      <th>1109</th>\n",
       "      <td>8.643355e+06</td>\n",
       "      <td>-0.031079</td>\n",
       "      <td>4890.0</td>\n",
       "    </tr>\n",
       "    <tr>\n",
       "      <th>1110</th>\n",
       "      <td>8.640145e+06</td>\n",
       "      <td>-0.031521</td>\n",
       "      <td>5420.0</td>\n",
       "    </tr>\n",
       "  </tbody>\n",
       "</table>\n",
       "<p>1111 rows × 3 columns</p>\n",
       "</div>"
      ],
      "text/plain": [
       "          pressure      dpdt  seismic\n",
       "0     8.599065e+06  0.017439      1.0\n",
       "1     8.601838e+06  0.018007      1.0\n",
       "2     8.604612e+06  0.018575      2.0\n",
       "3     8.607385e+06  0.019143      2.0\n",
       "4     8.610158e+06  0.019711      2.0\n",
       "...            ...       ...      ...\n",
       "1106  8.652984e+06 -0.029754   4886.0\n",
       "1107  8.649775e+06 -0.030196   4886.0\n",
       "1108  8.646565e+06 -0.030638   4889.0\n",
       "1109  8.643355e+06 -0.031079   4890.0\n",
       "1110  8.640145e+06 -0.031521   5420.0\n",
       "\n",
       "[1111 rows x 3 columns]"
      ]
     },
     "execution_count": 14,
     "metadata": {},
     "output_type": "execute_result"
    }
   ],
   "source": [
    "features[['pressure','dpdt','seismic']]"
   ]
  },
  {
   "cell_type": "markdown",
   "metadata": {},
   "source": [
    "Visualization of the train / test split"
   ]
  },
  {
   "cell_type": "code",
   "execution_count": 15,
   "metadata": {},
   "outputs": [
    {
     "ename": "NameError",
     "evalue": "name 'input_len' is not defined",
     "output_type": "error",
     "traceback": [
      "\u001b[0;31m---------------------------------------------------------------------------\u001b[0m",
      "\u001b[0;31mNameError\u001b[0m                                 Traceback (most recent call last)",
      "\u001b[0;32m/var/folders/9m/pb_xzjh56f147gmywrw4k8nw0000gn/T/ipykernel_25424/4244547271.py\u001b[0m in \u001b[0;36m<cell line: 1>\u001b[0;34m()\u001b[0m\n\u001b[1;32m      1\u001b[0m train_dset, test_dset, x_scaler, y_scaler = construct_time_series_dataset(\n\u001b[1;32m      2\u001b[0m     \u001b[0mfeatures\u001b[0m\u001b[0;34m,\u001b[0m \u001b[0mtarget_vals\u001b[0m\u001b[0;34m,\u001b[0m\u001b[0;34m\u001b[0m\u001b[0;34m\u001b[0m\u001b[0m\n\u001b[0;32m----> 3\u001b[0;31m     \u001b[0minput_len\u001b[0m\u001b[0;34m,\u001b[0m \u001b[0mhorizon\u001b[0m\u001b[0;34m,\u001b[0m \u001b[0mfeatures\u001b[0m\u001b[0;34m.\u001b[0m\u001b[0mcolumns\u001b[0m\u001b[0;34m,\u001b[0m\u001b[0;34m\u001b[0m\u001b[0;34m\u001b[0m\u001b[0m\n\u001b[0m\u001b[1;32m      4\u001b[0m     \u001b[0;31m# train_test_split=0.8, normalize_data=True # try train_test_split=0.75\u001b[0m\u001b[0;34m\u001b[0m\u001b[0;34m\u001b[0m\u001b[0;34m\u001b[0m\u001b[0m\n\u001b[1;32m      5\u001b[0m     \u001b[0mtrain_test_split\u001b[0m\u001b[0;34m=\u001b[0m\u001b[0;36m0.75\u001b[0m\u001b[0;34m,\u001b[0m \u001b[0mnormalize_data\u001b[0m\u001b[0;34m=\u001b[0m\u001b[0;32mTrue\u001b[0m\u001b[0;34m\u001b[0m\u001b[0;34m\u001b[0m\u001b[0m\n",
      "\u001b[0;31mNameError\u001b[0m: name 'input_len' is not defined"
     ]
    }
   ],
   "source": [
    "train_dset, test_dset, x_scaler, y_scaler = construct_time_series_dataset(\n",
    "    features, target_vals, \n",
    "    input_len, horizon, features.columns, \n",
    "    # train_test_split=0.8, normalize_data=True # try train_test_split=0.75\n",
    "    train_test_split=0.75, normalize_data=True\n",
    ")\n",
    "\n",
    "plt.figure()\n",
    "plt.plot(np.arange(len(train_dset.Y)), train_dset.Y, label='training')\n",
    "plt.plot(np.arange(len(test_dset.Y)) + len(train_dset.Y), test_dset.Y, label='test')\n",
    "plt.legend()\n",
    "plt.xlabel('days')\n",
    "plt.ylabel('normalized cumulative counts')"
   ]
  },
  {
   "cell_type": "code",
   "execution_count": 16,
   "metadata": {},
   "outputs": [
    {
     "ename": "NameError",
     "evalue": "name 'train_dset' is not defined",
     "output_type": "error",
     "traceback": [
      "\u001b[0;31m---------------------------------------------------------------------------\u001b[0m",
      "\u001b[0;31mNameError\u001b[0m                                 Traceback (most recent call last)",
      "\u001b[0;32m/var/folders/9m/pb_xzjh56f147gmywrw4k8nw0000gn/T/ipykernel_25424/2357957025.py\u001b[0m in \u001b[0;36m<cell line: 1>\u001b[0;34m()\u001b[0m\n\u001b[0;32m----> 1\u001b[0;31m \u001b[0mlen\u001b[0m\u001b[0;34m(\u001b[0m\u001b[0mtrain_dset\u001b[0m\u001b[0;34m.\u001b[0m\u001b[0mX\u001b[0m\u001b[0;34m)\u001b[0m\u001b[0;34m\u001b[0m\u001b[0;34m\u001b[0m\u001b[0m\n\u001b[0m",
      "\u001b[0;31mNameError\u001b[0m: name 'train_dset' is not defined"
     ]
    }
   ],
   "source": [
    "len(train_dset.X) "
   ]
  },
  {
   "cell_type": "markdown",
   "metadata": {},
   "source": [
    "### Model Architecture"
   ]
  },
  {
   "cell_type": "code",
   "execution_count": 17,
   "metadata": {},
   "outputs": [],
   "source": [
    "class SimpleSCINet(nn.Module):\n",
    "    def __init__(\n",
    "        self, \n",
    "        input_len, output_len,\n",
    "        input_dim, num_levels, kernel_size, dropout, groups, hidden_size\n",
    "    ):\n",
    "        super().__init__()\n",
    "        \n",
    "        self.input_len = input_len\n",
    "        self.output_len = output_len\n",
    "        self.input_dim = input_dim\n",
    "        self.hidden_size = hidden_size\n",
    "        self.num_levels = num_levels\n",
    "        self.groups = groups\n",
    "        self.kernel_size = kernel_size\n",
    "        self.dropout = dropout\n",
    "        \n",
    "        self.bn1 = nn.BatchNorm1d(self.input_dim)\n",
    "        self.bn2 = nn.BatchNorm1d(self.input_dim)\n",
    "        \n",
    "        self.block1 = scinet.EncoderTree(\n",
    "            in_planes=self.input_dim,\n",
    "            num_levels=self.num_levels,\n",
    "            kernel_size=self.kernel_size,\n",
    "            dropout=self.dropout,\n",
    "            groups=self.groups,\n",
    "            hidden_size=self.hidden_size,\n",
    "            INN=True\n",
    "        )\n",
    "        \n",
    "        # I'm a bit iffy on using a projector like this across features\n",
    "        # But this is what they do in scinet\n",
    "        # It should be fine, kernel size is 1, it's essentially just an\n",
    "        # aggregation operation\n",
    "        self.time_projector = nn.Conv1d(\n",
    "            self.input_len, self.output_len,\n",
    "            kernel_size=1, stride=1, bias=False\n",
    "        )\n",
    "        \n",
    "        self.channel_projector = nn.Conv1d(\n",
    "            self.input_dim, 1, kernel_size=1, stride=1, bias=True\n",
    "        )\n",
    "    \n",
    "    def forward(self, x):\n",
    "        out = x.permute(0, 2, 1)\n",
    "        out = self.bn1(out)\n",
    "        out = out.permute(0, 2, 1)\n",
    "        \n",
    "        out = self.block1(out)\n",
    "        out += out\n",
    "        \n",
    "        out = F.relu(out)\n",
    "        out = self.time_projector(out)\n",
    "        \n",
    "        out = out.permute(0, 2, 1)\n",
    "        out = self.bn2(out)\n",
    "        out = F.relu(out)\n",
    "        \n",
    "        out = self.channel_projector(out).squeeze(1)\n",
    "        \n",
    "        #Enforcing monotonicity\n",
    "        #out = torch.exp(out)\n",
    "        #out = F.relu(out)\n",
    "        # Exp has numerical issues, and relu was collapsing.\n",
    "        # Squaring is also a positive operation\n",
    "        out = out ** 2\n",
    "        #out = torch.sigmoid(out)\n",
    "        out = out.cumsum(-1) + x[:, -1, -1, None]\n",
    "        \n",
    "        return out"
   ]
  },
  {
   "cell_type": "markdown",
   "metadata": {},
   "source": [
    "### Hyperparameters"
   ]
  },
  {
   "cell_type": "code",
   "execution_count": 18,
   "metadata": {},
   "outputs": [
    {
     "ename": "NameError",
     "evalue": "name 'train_dset' is not defined",
     "output_type": "error",
     "traceback": [
      "\u001b[0;31m---------------------------------------------------------------------------\u001b[0m",
      "\u001b[0;31mNameError\u001b[0m                                 Traceback (most recent call last)",
      "\u001b[0;32m/var/folders/9m/pb_xzjh56f147gmywrw4k8nw0000gn/T/ipykernel_25424/2055067550.py\u001b[0m in \u001b[0;36m<cell line: 1>\u001b[0;34m()\u001b[0m\n\u001b[0;32m----> 1\u001b[0;31m \u001b[0minput_dim\u001b[0m \u001b[0;34m=\u001b[0m \u001b[0mtrain_dset\u001b[0m\u001b[0;34m.\u001b[0m\u001b[0mX\u001b[0m\u001b[0;34m.\u001b[0m\u001b[0mshape\u001b[0m\u001b[0;34m[\u001b[0m\u001b[0;36m1\u001b[0m\u001b[0;34m]\u001b[0m\u001b[0;34m\u001b[0m\u001b[0;34m\u001b[0m\u001b[0m\n\u001b[0m\u001b[1;32m      2\u001b[0m \u001b[0mnum_levels\u001b[0m \u001b[0;34m=\u001b[0m \u001b[0;36m2\u001b[0m \u001b[0;31m# number of levels in the scinet tree\u001b[0m\u001b[0;34m\u001b[0m\u001b[0;34m\u001b[0m\u001b[0m\n\u001b[1;32m      3\u001b[0m \u001b[0mkernel_size\u001b[0m \u001b[0;34m=\u001b[0m \u001b[0;36m4\u001b[0m \u001b[0;31m# kernel size for the conv1D operations\u001b[0m\u001b[0;34m\u001b[0m\u001b[0;34m\u001b[0m\u001b[0m\n\u001b[1;32m      4\u001b[0m \u001b[0mdropout\u001b[0m \u001b[0;34m=\u001b[0m \u001b[0;36m0.5\u001b[0m \u001b[0;31m# dropout regularization params\u001b[0m\u001b[0;34m\u001b[0m\u001b[0;34m\u001b[0m\u001b[0m\n\u001b[1;32m      5\u001b[0m \u001b[0mgroups\u001b[0m \u001b[0;34m=\u001b[0m \u001b[0;36m1\u001b[0m \u001b[0;31m# number of groups in the conv1D operation\u001b[0m\u001b[0;34m\u001b[0m\u001b[0;34m\u001b[0m\u001b[0m\n",
      "\u001b[0;31mNameError\u001b[0m: name 'train_dset' is not defined"
     ]
    }
   ],
   "source": [
    "input_dim = train_dset.X.shape[1]\n",
    "num_levels = 2 # number of levels in the scinet tree\n",
    "kernel_size = 4 # kernel size for the conv1D operations\n",
    "dropout = 0.5 # dropout regularization params\n",
    "groups = 1 # number of groups in the conv1D operation\n",
    "hidden_size = 3 # scaling factor for the hidden dimension\n",
    "\n",
    "lr = 1e-3 # learning rate\n",
    "n_epoch = 64 # number of epochs\n",
    "\n",
    "# Choose your loss function!\n",
    "# criterion = nn.MSELoss() # L2 loss\n",
    "criterion = nn.HuberLoss() #An alternative, smoother version of the L1 Loss\n",
    "# Less sensitive to outliers, less prone to exploding gradients"
   ]
  },
  {
   "cell_type": "markdown",
   "metadata": {},
   "source": [
    "### Run Training"
   ]
  },
  {
   "cell_type": "code",
   "execution_count": 19,
   "metadata": {},
   "outputs": [],
   "source": [
    "\n",
    "from tqdm.notebook import tqdm"
   ]
  },
  {
   "cell_type": "code",
   "execution_count": 20,
   "metadata": {},
   "outputs": [
    {
     "ename": "NameError",
     "evalue": "name 'train_dset' is not defined",
     "output_type": "error",
     "traceback": [
      "\u001b[0;31m---------------------------------------------------------------------------\u001b[0m",
      "\u001b[0;31mNameError\u001b[0m                                 Traceback (most recent call last)",
      "\u001b[0;32m/var/folders/9m/pb_xzjh56f147gmywrw4k8nw0000gn/T/ipykernel_25424/3409722841.py\u001b[0m in \u001b[0;36m<cell line: 3>\u001b[0;34m()\u001b[0m\n\u001b[1;32m      2\u001b[0m \u001b[0;34m\u001b[0m\u001b[0m\n\u001b[1;32m      3\u001b[0m train_loader = DataLoader(\n\u001b[0;32m----> 4\u001b[0;31m     \u001b[0mtrain_dset\u001b[0m\u001b[0;34m,\u001b[0m\u001b[0;34m\u001b[0m\u001b[0;34m\u001b[0m\u001b[0m\n\u001b[0m\u001b[1;32m      5\u001b[0m     \u001b[0mbatch_size\u001b[0m\u001b[0;34m=\u001b[0m\u001b[0;36m32\u001b[0m\u001b[0;34m,\u001b[0m\u001b[0;34m\u001b[0m\u001b[0;34m\u001b[0m\u001b[0m\n\u001b[1;32m      6\u001b[0m     \u001b[0mshuffle\u001b[0m\u001b[0;34m=\u001b[0m\u001b[0;32mTrue\u001b[0m\u001b[0;34m,\u001b[0m\u001b[0;34m\u001b[0m\u001b[0;34m\u001b[0m\u001b[0m\n",
      "\u001b[0;31mNameError\u001b[0m: name 'train_dset' is not defined"
     ]
    }
   ],
   "source": [
    "torch.manual_seed(0) # Use different seeds for 10 times\n",
    "\n",
    "train_loader = DataLoader(\n",
    "    train_dset,\n",
    "    batch_size=32,\n",
    "    shuffle=True,\n",
    "    num_workers=1\n",
    ")\n",
    "\n",
    "test_loader = DataLoader(\n",
    "    test_dset,\n",
    "    batch_size=32,\n",
    "    shuffle=False,\n",
    "    num_workers=1\n",
    ")\n",
    "\n",
    "model = SimpleSCINet(\n",
    "    input_len, horizon,\n",
    "    input_dim, num_levels, kernel_size, \n",
    "    dropout, groups, hidden_size\n",
    ")\n",
    "\n",
    "optimizer = optim.Adam(model.parameters(), lr=lr)\n",
    "\n",
    "train_loss_vals = []\n",
    "test_loss_vals = []\n",
    "\n",
    "\n",
    "for epoch in tqdm(range(n_epoch)):\n",
    "    #train loop\n",
    "    model.train()\n",
    "    batch_loss_vals = []\n",
    "    for (batch_x, batch_y) in train_loader:\n",
    "        optimizer.zero_grad()\n",
    "        \n",
    "        outputs = model(batch_x)\n",
    "        loss = criterion(outputs, batch_y)\n",
    "        loss.backward()\n",
    "        optimizer.step()\n",
    "        \n",
    "        batch_loss_vals.append(loss.item())\n",
    "    train_loss_vals.append(np.mean(batch_loss_vals))\n",
    "    \n",
    "    #eval loop\n",
    "    model.eval()\n",
    "    batch_loss_vals = []\n",
    "    for (batch_x, batch_y) in test_loader:        \n",
    "        outputs = model(batch_x)\n",
    "        loss = criterion(outputs, batch_y)\n",
    "        batch_loss_vals.append(loss.item())\n",
    "    test_loss_vals.append(np.mean(batch_loss_vals))"
   ]
  },
  {
   "cell_type": "code",
   "execution_count": 21,
   "metadata": {},
   "outputs": [
    {
     "ename": "NameError",
     "evalue": "name 'test_loss_vals' is not defined",
     "output_type": "error",
     "traceback": [
      "\u001b[0;31m---------------------------------------------------------------------------\u001b[0m",
      "\u001b[0;31mNameError\u001b[0m                                 Traceback (most recent call last)",
      "\u001b[0;32m/var/folders/9m/pb_xzjh56f147gmywrw4k8nw0000gn/T/ipykernel_25424/1019809366.py\u001b[0m in \u001b[0;36m<cell line: 2>\u001b[0;34m()\u001b[0m\n\u001b[1;32m      1\u001b[0m \u001b[0;31m# print Huber Loss\u001b[0m\u001b[0;34m\u001b[0m\u001b[0;34m\u001b[0m\u001b[0;34m\u001b[0m\u001b[0m\n\u001b[0;32m----> 2\u001b[0;31m \u001b[0mtest_loss_vals\u001b[0m\u001b[0;34m\u001b[0m\u001b[0;34m\u001b[0m\u001b[0m\n\u001b[0m",
      "\u001b[0;31mNameError\u001b[0m: name 'test_loss_vals' is not defined"
     ]
    }
   ],
   "source": [
    "# print Huber Loss\n",
    "test_loss_vals"
   ]
  },
  {
   "cell_type": "code",
   "execution_count": 22,
   "metadata": {},
   "outputs": [
    {
     "ename": "NameError",
     "evalue": "name 'train_loss_vals' is not defined",
     "output_type": "error",
     "traceback": [
      "\u001b[0;31m---------------------------------------------------------------------------\u001b[0m",
      "\u001b[0;31mNameError\u001b[0m                                 Traceback (most recent call last)",
      "\u001b[0;32m/var/folders/9m/pb_xzjh56f147gmywrw4k8nw0000gn/T/ipykernel_25424/2069807649.py\u001b[0m in \u001b[0;36m<cell line: 1>\u001b[0;34m()\u001b[0m\n\u001b[0;32m----> 1\u001b[0;31m \u001b[0mplt\u001b[0m\u001b[0;34m.\u001b[0m\u001b[0mplot\u001b[0m\u001b[0;34m(\u001b[0m\u001b[0mtrain_loss_vals\u001b[0m\u001b[0;34m,\u001b[0m \u001b[0mcolor\u001b[0m\u001b[0;34m=\u001b[0m\u001b[0;34m'g'\u001b[0m\u001b[0;34m,\u001b[0m \u001b[0mlabel\u001b[0m\u001b[0;34m=\u001b[0m\u001b[0;34m'train'\u001b[0m\u001b[0;34m)\u001b[0m\u001b[0;34m\u001b[0m\u001b[0;34m\u001b[0m\u001b[0m\n\u001b[0m\u001b[1;32m      2\u001b[0m \u001b[0mplt\u001b[0m\u001b[0;34m.\u001b[0m\u001b[0mplot\u001b[0m\u001b[0;34m(\u001b[0m\u001b[0mtest_loss_vals\u001b[0m\u001b[0;34m,\u001b[0m \u001b[0mcolor\u001b[0m\u001b[0;34m=\u001b[0m\u001b[0;34m'r'\u001b[0m\u001b[0;34m,\u001b[0m \u001b[0mlabel\u001b[0m\u001b[0;34m=\u001b[0m\u001b[0;34m'test'\u001b[0m\u001b[0;34m)\u001b[0m\u001b[0;34m\u001b[0m\u001b[0;34m\u001b[0m\u001b[0m\n\u001b[1;32m      3\u001b[0m \u001b[0mplt\u001b[0m\u001b[0;34m.\u001b[0m\u001b[0mlegend\u001b[0m\u001b[0;34m(\u001b[0m\u001b[0;34m)\u001b[0m\u001b[0;34m\u001b[0m\u001b[0;34m\u001b[0m\u001b[0m\n\u001b[1;32m      4\u001b[0m \u001b[0mplt\u001b[0m\u001b[0;34m.\u001b[0m\u001b[0mylabel\u001b[0m\u001b[0;34m(\u001b[0m\u001b[0;34m'Huberloss'\u001b[0m\u001b[0;34m)\u001b[0m\u001b[0;34m\u001b[0m\u001b[0;34m\u001b[0m\u001b[0m\n\u001b[1;32m      5\u001b[0m \u001b[0;31m# plt.ylim([0,2])\u001b[0m\u001b[0;34m\u001b[0m\u001b[0;34m\u001b[0m\u001b[0;34m\u001b[0m\u001b[0m\n",
      "\u001b[0;31mNameError\u001b[0m: name 'train_loss_vals' is not defined"
     ]
    }
   ],
   "source": [
    "plt.plot(train_loss_vals, color='g', label='train')\n",
    "plt.plot(test_loss_vals, color='r', label='test')\n",
    "plt.legend()\n",
    "plt.ylabel('Huberloss')\n",
    "# plt.ylim([0,2])\n",
    "plt.yscale('log')\n",
    "plt.xlabel('Epoch')"
   ]
  },
  {
   "cell_type": "markdown",
   "metadata": {},
   "source": [
    "Visualize the forecast"
   ]
  },
  {
   "cell_type": "code",
   "execution_count": 23,
   "metadata": {},
   "outputs": [
    {
     "ename": "NameError",
     "evalue": "name 'input_len' is not defined",
     "output_type": "error",
     "traceback": [
      "\u001b[0;31m---------------------------------------------------------------------------\u001b[0m",
      "\u001b[0;31mNameError\u001b[0m                                 Traceback (most recent call last)",
      "\u001b[0;32m/var/folders/9m/pb_xzjh56f147gmywrw4k8nw0000gn/T/ipykernel_25424/4104950707.py\u001b[0m in \u001b[0;36m<cell line: 2>\u001b[0;34m()\u001b[0m\n\u001b[1;32m      1\u001b[0m \u001b[0mstart_input\u001b[0m \u001b[0;34m=\u001b[0m \u001b[0;36m0\u001b[0m\u001b[0;34m\u001b[0m\u001b[0;34m\u001b[0m\u001b[0m\n\u001b[0;32m----> 2\u001b[0;31m \u001b[0mend_input\u001b[0m \u001b[0;34m=\u001b[0m \u001b[0mstart_input\u001b[0m \u001b[0;34m+\u001b[0m \u001b[0minput_len\u001b[0m\u001b[0;34m\u001b[0m\u001b[0;34m\u001b[0m\u001b[0m\n\u001b[0m\u001b[1;32m      3\u001b[0m \u001b[0mend_output\u001b[0m \u001b[0;34m=\u001b[0m \u001b[0mend_input\u001b[0m \u001b[0;34m+\u001b[0m \u001b[0mhorizon\u001b[0m\u001b[0;34m\u001b[0m\u001b[0;34m\u001b[0m\u001b[0m\n\u001b[1;32m      4\u001b[0m \u001b[0;34m\u001b[0m\u001b[0m\n\u001b[1;32m      5\u001b[0m \u001b[0msample_x\u001b[0m \u001b[0;34m=\u001b[0m \u001b[0mtest_dset\u001b[0m\u001b[0;34m.\u001b[0m\u001b[0mX\u001b[0m\u001b[0;34m[\u001b[0m\u001b[0mstart_input\u001b[0m\u001b[0;34m:\u001b[0m\u001b[0mend_input\u001b[0m\u001b[0;34m]\u001b[0m\u001b[0;34m\u001b[0m\u001b[0;34m\u001b[0m\u001b[0m\n",
      "\u001b[0;31mNameError\u001b[0m: name 'input_len' is not defined"
     ]
    }
   ],
   "source": [
    "start_input = 0\n",
    "end_input = start_input + input_len\n",
    "end_output = end_input + horizon\n",
    "\n",
    "sample_x = test_dset.X[start_input:end_input]\n",
    "input_y = test_dset.Y[start_input:end_input+1]\n",
    "output_y = test_dset.Y[end_input:end_output]\n"
   ]
  },
  {
   "cell_type": "code",
   "execution_count": 250,
   "metadata": {},
   "outputs": [],
   "source": [
    "def monte_carlo_sample(model, x, n_samples=50, seed=0):\n",
    "    torch.manual_seed(seed)\n",
    "    model.train()\n",
    "    \n",
    "    # We want the model to be in training mode\n",
    "    # Except for the BN.\n",
    "    # There is potentially a more elegant way to do this\n",
    "    # Ex by making a different \"mode\" in our own model groups\n",
    "    model.bn1.training = False\n",
    "    model.bn2.training = False\n",
    "    \n",
    "    samples = []\n",
    "    for _ in range(n_samples):\n",
    "        samples.append(model(x).data)\n",
    "    samples = torch.stack(samples)\n",
    "    \n",
    "    model.eval()\n",
    "    return samples.permute(1, 0, 2)"
   ]
  },
  {
   "cell_type": "code",
   "execution_count": 251,
   "metadata": {},
   "outputs": [],
   "source": [
    "model.eval()\n",
    "pred_y = model(sample_x[None, :, :]).squeeze(0).data"
   ]
  },
  {
   "cell_type": "code",
   "execution_count": 252,
   "metadata": {},
   "outputs": [],
   "source": [
    "samples = monte_carlo_sample(model, sample_x[None, :, :], n_samples=10)\n",
    "samples = samples.squeeze(0).data.numpy()"
   ]
  },
  {
   "cell_type": "code",
   "execution_count": 253,
   "metadata": {},
   "outputs": [],
   "source": [
    "sample_mean = samples.mean(0)\n",
    "sample_std = samples.std(0)\n",
    "\n",
    "## You can use mean +/- std, or percentile, to visualize the distribtion\n",
    "\n",
    "# Uncomment to use mean +/- std\n",
    "#sample_ub = sample_mean + sample_std\n",
    "#sample_lb = sample_mean - sample_std\n",
    "\n",
    "# Use percentiles\n",
    "sample_ub = np.percentile(samples, 90, axis=0)\n",
    "sample_lb = np.percentile(samples, 10, axis=0)\n",
    "\n",
    "sample_max = samples.max(0)\n",
    "sample_min = samples.min(0)"
   ]
  },
  {
   "cell_type": "code",
   "execution_count": 254,
   "metadata": {},
   "outputs": [
    {
     "data": {
      "image/png": "[encoded data removed]",
      "text/plain": [
       "<Figure size 576x576 with 1 Axes>"
      ]
     },
     "metadata": {
      "needs_background": "light"
     },
     "output_type": "display_data"
    }
   ],
   "source": [
    "fig, ax = plt.subplots(1, 1, figsize=(8,8))\n",
    "\n",
    "ax.plot(np.arange(start_input, end_input+1), input_y, 'r', marker='o', label='observed')\n",
    "ax.plot(np.arange(end_input, end_output), output_y, 'r', marker='o')\n",
    "ax.fill_between(np.arange(end_input, end_output), sample_ub, sample_lb, alpha=0.1, color='b')\n",
    "ax.fill_between(np.arange(end_input, end_output), sample_max, sample_min, alpha=0.05, color='b')\n",
    "ax.plot(np.arange(end_input, end_output), pred_y, 'b', marker='o', label='forecast')\n",
    "\n",
    "plt.xlabel('days')\n",
    "plt.ylabel('normalized cumulative counts')\n",
    "plt.legend(loc='lower right')\n",
    "plt.show()"
   ]
  },
  {
   "cell_type": "code",
   "execution_count": 255,
   "metadata": {},
   "outputs": [],
   "source": [
    "criterion = nn.MSELoss() # L2 loss\n"
   ]
  },
  {
   "cell_type": "markdown",
   "metadata": {},
   "source": []
  },
  {
   "cell_type": "markdown",
   "metadata": {},
   "source": [
    "## Trying out new prediction routine "
   ]
  },
  {
   "cell_type": "code",
   "execution_count": 200,
   "metadata": {},
   "outputs": [],
   "source": [
    "model.train()\n",
    "model.bn1.training=False\n",
    "model.bn2.training=False\n",
    "\n",
    "start_input = 0\n",
    "end_input = start_input + input_len\n",
    "end_output = end_input + horizon\n",
    "\n"
   ]
  },
  {
   "cell_type": "code",
   "execution_count": 201,
   "metadata": {},
   "outputs": [
    {
     "data": {
      "text/plain": [
       "tensor([1.1602, 1.1610, 1.1651, 1.1667, 1.1675, 1.1691, 1.1699, 1.1707, 1.1723,\n",
       "        1.1723, 1.1747, 1.1780, 1.1828, 1.1852, 1.1860, 1.1877, 1.1901, 1.1941,\n",
       "        1.1949, 1.1957, 1.2070, 1.2191, 1.2288, 1.2304, 1.2320, 1.2337, 1.2409,\n",
       "        1.2417, 1.2450, 1.2482, 1.2554, 1.2595, 1.2659, 1.2700, 1.2732, 1.2756,\n",
       "        1.2789, 1.2813, 1.2829, 1.2861, 1.2902, 1.2918, 1.2990, 1.3103, 1.3224,\n",
       "        1.3273, 1.3354, 1.3370, 1.3402, 1.3458, 1.3644, 1.3660, 1.3684, 1.3692,\n",
       "        1.3733, 1.3757, 1.3862, 1.3943, 1.3999, 1.4112, 1.4161, 1.4298, 1.4370,\n",
       "        1.4419, 1.4492])"
      ]
     },
     "execution_count": 201,
     "metadata": {},
     "output_type": "execute_result"
    }
   ],
   "source": [
    "sample_x = test_dset.X[start_input:end_input]\n",
    "input_y = test_dset.Y[start_input:end_input+1]\n",
    "output_y = test_dset.Y[end_input:end_output]\n",
    "input_y\n"
   ]
  },
  {
   "cell_type": "code",
   "execution_count": 202,
   "metadata": {},
   "outputs": [
    {
     "data": {
      "text/plain": [
       "tensor([1.1602, 1.1610, 1.1651, 1.1667, 1.1675, 1.1691, 1.1699, 1.1707, 1.1723,\n",
       "        1.1723, 1.1747, 1.1780, 1.1828, 1.1852, 1.1860, 1.1877, 1.1901, 1.1941,\n",
       "        1.1949, 1.1957, 1.2070, 1.2191, 1.2288, 1.2304, 1.2320, 1.2337, 1.2409,\n",
       "        1.2417, 1.2450, 1.2482, 1.2554, 1.2595, 1.2659, 1.2700, 1.2732, 1.2756,\n",
       "        1.2789, 1.2813, 1.2829, 1.2861, 1.2902, 1.2918, 1.2990, 1.3103, 1.3224,\n",
       "        1.3273, 1.3354, 1.3370, 1.3402, 1.3458, 1.3644, 1.3660, 1.3684, 1.3692,\n",
       "        1.3733, 1.3757, 1.3862, 1.3943, 1.3999, 1.4112, 1.4161, 1.4298, 1.4370,\n",
       "        1.4419, 1.4492, 1.4447, 1.4488, 1.4576, 1.4606, 1.4649, 1.4700, 1.4727,\n",
       "        1.4846, 1.4936, 1.4957, 1.5037, 1.5062, 1.5078, 1.5090, 1.5134, 1.5139,\n",
       "        1.5163, 1.5208, 1.5226, 1.5240, 1.5246, 1.5345, 1.5408, 1.5473, 1.5509,\n",
       "        1.5525, 1.5527, 1.5527, 1.5527, 1.5593])"
      ]
     },
     "execution_count": 202,
     "metadata": {},
     "output_type": "execute_result"
    }
   ],
   "source": [
    "torch.cat((input_y,model(sample_x[None,:,:]).data.squeeze(0)))"
   ]
  },
  {
   "cell_type": "code",
   "execution_count": 203,
   "metadata": {},
   "outputs": [
    {
     "data": {
      "text/plain": [
       "tensor([[1.4446, 1.4465, 1.4525, 1.4544, 1.4625, 1.4654, 1.4694, 1.4858, 1.4900,\n",
       "         1.4932, 1.4959, 1.4959, 1.4979, 1.4998, 1.5032, 1.5041, 1.5117, 1.5144,\n",
       "         1.5182, 1.5203, 1.5242, 1.5253, 1.5281, 1.5309, 1.5408, 1.5410, 1.5611,\n",
       "         1.5682, 1.5754, 1.5783]], grad_fn=<AddBackward0>)"
      ]
     },
     "execution_count": 203,
     "metadata": {},
     "output_type": "execute_result"
    }
   ],
   "source": [
    "model(sample_x[None,:,:])"
   ]
  },
  {
   "cell_type": "code",
   "execution_count": 204,
   "metadata": {},
   "outputs": [],
   "source": [
    "samples = []\n",
    "outputs_y = []\n",
    "sample_x = test_dset.X[start_input:end_input]\n",
    "input_y = test_dset.Y[start_input:end_input+1]\n",
    "output_y = test_dset.Y[end_input:end_output]\n",
    "for i in range(2):\n",
    "    outputs_y.append(output_y)\n",
    "    _predict = model(sample_x[None,:,:])\n",
    "    samples.append(_predict.data.squeeze()) # output?\n",
    "    start_input = start_input + horizon\n",
    "    end_input = end_input + horizon\n",
    "    end_output = end_input + horizon\n",
    "    sample_x = test_dset.X[start_input:end_input]\n",
    "    # input_y = torch.cat((input_y,_predict.data.squeeze(0))) # where should I concatenate this to\n",
    "    output_y = test_dset.Y[end_input:end_output]\n",
    "    model.eval()\n",
    "\n"
   ]
  },
  {
   "cell_type": "code",
   "execution_count": 271,
   "metadata": {},
   "outputs": [
    {
     "data": {
      "text/plain": [
       "tensor([[ 4.0322e-01,  4.5870e-01,  4.3339e-03,  2.8017e+00,  3.4823e-01,\n",
       "          1.1365e+00,  5.9061e-02,  1.0631e+00, -6.2446e-01,  3.4811e-01,\n",
       "          1.1760e+00],\n",
       "        [ 4.0702e-01,  2.2134e-01, -7.7560e-02,  2.9069e+00,  4.6616e-01,\n",
       "          2.1942e+00, -4.8688e-01,  2.4710e-01, -6.2287e-01,  5.7241e-01,\n",
       "          1.1811e+00],\n",
       "        [ 2.9332e-01,  8.8411e-01, -2.7254e-01,  6.8453e-01,  6.3574e-01,\n",
       "          1.1224e+00, -2.9783e-01,  6.4228e-01, -6.2128e-01,  7.9671e-01,\n",
       "          1.1861e+00],\n",
       "        [ 2.4605e-01,  4.0982e-01,  9.6903e-04,  3.0313e+00,  3.7001e-01,\n",
       "          1.9485e+00, -2.8016e-01,  1.0086e+00, -6.1968e-01,  1.0210e+00,\n",
       "          1.1953e+00],\n",
       "        [ 2.4298e-01,  1.0477e+00,  1.1718e-01,  2.5176e+00,  1.0119e-01,\n",
       "          1.6585e+00, -4.7097e-01,  4.0375e-01, -6.0000e-01,  1.1005e+00,\n",
       "          1.2020e+00],\n",
       "        [ 6.1501e-01,  1.6528e+00,  3.4631e-01,  7.9426e-02,  1.1549e-01,\n",
       "          4.3062e-02, -5.8970e-01,  9.0873e-01, -5.6615e-01,  1.0665e+00,\n",
       "          1.2062e+00],\n",
       "        [ 4.0156e-01,  2.4009e-01,  2.6727e-01,  8.0299e-01,  7.5557e-02,\n",
       "          3.1264e-01, -2.9606e-01,  5.2745e-01, -5.3229e-01,  1.0326e+00,\n",
       "          1.2096e+00],\n",
       "        [ 2.0379e-01,  1.1740e+00,  2.0352e-01,  2.5167e+00,  1.6890e-01,\n",
       "          1.0312e+00, -7.0596e-01,  1.0508e+00, -4.9844e-01,  9.9861e-01,\n",
       "          1.2146e+00],\n",
       "        [-1.5069e+01, -1.1713e-01, -1.6615e+02, -5.6900e-02, -2.9259e+03,\n",
       "         -2.2151e-02,  6.5270e-01, -2.4620e-01, -4.6458e-01,  9.6464e-01,\n",
       "          1.2146e+00],\n",
       "        [ 6.6739e-01,  1.1081e+00, -9.5492e-02,  2.7667e+00,  5.5164e-01,\n",
       "          2.0649e+00, -5.8758e-01,  1.4365e+00, -4.3073e-01,  9.3067e-01,\n",
       "          1.2179e+00],\n",
       "        [ 8.3566e-01, -1.1713e-01,  2.9092e-01, -5.6900e-02,  1.5020e-01,\n",
       "         -2.2151e-02, -9.4801e-01, -2.4620e-01, -3.9687e-01,  8.9671e-01,\n",
       "          1.2188e+00],\n",
       "        [-1.5069e+01, -1.1713e-01, -1.6615e+02, -5.6900e-02, -2.9259e+03,\n",
       "         -2.2151e-02,  6.5270e-01, -2.4620e-01, -3.6302e-01,  8.6274e-01,\n",
       "          1.2188e+00],\n",
       "        [ 1.3225e+00, -1.1713e-01, -2.8167e-01, -5.6900e-02,  5.4135e-01,\n",
       "         -2.2151e-02, -1.1494e+00, -2.4620e-01, -3.2916e-01,  8.2877e-01,\n",
       "          1.2196e+00],\n",
       "        [ 3.5634e-01,  6.5453e-01, -8.5218e-03,  3.1199e+00,  1.4301e-01,\n",
       "          2.5190e+00, -4.0313e-01,  1.1468e+00, -2.9531e-01,  7.9480e-01,\n",
       "          1.2280e+00],\n",
       "        [ 4.3940e-01,  1.0071e+00, -3.8679e-01,  2.7692e+00,  6.3279e-01,\n",
       "          1.1068e+00, -8.2928e-01,  3.8188e-01, -2.6145e-01,  7.6083e-01,\n",
       "          1.2322e+00],\n",
       "        [ 4.2384e-01, -1.1713e-01,  3.6206e-01, -5.6900e-02,  1.3438e-01,\n",
       "         -2.2151e-02, -1.1812e+00, -2.4620e-01, -2.2760e-01,  7.2687e-01,\n",
       "          1.2330e+00],\n",
       "        [-1.5069e+01, -1.1713e-01, -1.6615e+02, -5.6900e-02, -2.9259e+03,\n",
       "         -2.2151e-02,  6.5270e-01, -2.4620e-01, -1.9374e-01,  6.9290e-01,\n",
       "          1.2330e+00],\n",
       "        [ 9.9282e-03, -1.1713e-01, -2.8625e-01, -5.6900e-02,  5.7013e-01,\n",
       "         -2.2151e-02, -9.3741e-01, -2.4620e-01, -1.5989e-01,  6.5893e-01,\n",
       "          1.2339e+00],\n",
       "        [ 4.6214e-01,  1.3473e+00,  3.2598e-02,  3.0518e+00,  1.7539e-01,\n",
       "          1.7367e+00, -4.6302e-01,  1.1031e+00, -1.2603e-01,  6.2496e-01,\n",
       "          1.2372e+00],\n",
       "        [ 4.9371e-01,  1.6827e+00,  2.0545e-01,  2.0956e+00,  6.5637e-02,\n",
       "          7.7679e-01, -4.9642e-01,  6.7034e-01, -9.2175e-02,  5.9099e-01,\n",
       "          1.2414e+00],\n",
       "        [ 1.6818e-01,  1.6178e+00,  1.0551e-01,  3.3202e+00,  1.7913e-02,\n",
       "          4.0114e+00, -4.6744e-01,  5.2232e-01, -5.8320e-02,  5.5703e-01,\n",
       "          1.2439e+00],\n",
       "        [ 2.5567e-01, -1.1713e-01, -8.9123e-01, -5.6900e-02,  6.1007e-01,\n",
       "         -2.2151e-02,  2.3927e-01, -2.4620e-01, -2.4465e-02,  5.2306e-01,\n",
       "          1.2448e+00],\n",
       "        [-2.4869e-01,  1.2348e+00,  2.1602e-02,  4.3304e+00,  3.5148e-01,\n",
       "          1.6626e+00, -5.2928e-01,  3.7368e-01,  9.3904e-03,  4.8909e-01,\n",
       "          1.2464e+00],\n",
       "        [ 3.1147e-01, -1.1713e-01,  3.2565e-01, -5.6900e-02,  1.2580e-01,\n",
       "         -2.2151e-02, -6.5119e-01, -2.4620e-01,  4.3245e-02,  4.5512e-01,\n",
       "          1.2473e+00],\n",
       "        [ 5.4810e-01,  1.4659e+00,  2.0835e-01,  2.8042e+00,  2.0989e-01,\n",
       "          1.1369e+00, -6.4483e-01,  5.0516e-01,  7.7101e-02,  4.2115e-01,\n",
       "          1.2515e+00],\n",
       "        [ 9.3959e-01,  1.0470e+00,  5.3562e-02,  1.1385e+00,  5.0443e-01,\n",
       "          4.2638e+00, -5.1868e-01, -1.1075e-02,  1.1096e-01,  3.8719e-01,\n",
       "          1.2531e+00],\n",
       "        [-1.5069e+01, -1.1713e-01, -1.6615e+02, -5.6900e-02, -2.9259e+03,\n",
       "         -2.2151e-02,  6.5270e-01, -2.4620e-01,  1.4481e-01,  3.5322e-01,\n",
       "          1.2531e+00],\n",
       "        [-3.0375e-01, -1.1713e-01,  3.4772e-01, -5.6900e-02,  1.5667e-01,\n",
       "         -2.2151e-02, -8.5260e-01, -2.4620e-01,  1.5830e-01,  3.3864e-01,\n",
       "          1.2540e+00],\n",
       "        [-4.4677e-01, -1.1713e-01,  3.5589e-01, -5.6900e-02,  1.1580e-01,\n",
       "         -2.2151e-02,  4.1949e-01, -2.4620e-01,  1.6748e-01,  3.2816e-01,\n",
       "          1.2548e+00],\n",
       "        [-3.5355e-01,  8.6096e-01,  1.1590e-01,  2.3515e+00,  1.0765e-01,\n",
       "          1.1617e+00, -2.3599e-01,  1.9602e+00,  1.7666e-01,  3.1769e-01,\n",
       "          1.2598e+00],\n",
       "        [ 3.3608e-01,  1.0309e+00,  1.5626e-01,  2.3010e+00, -3.9159e-02,\n",
       "          9.1650e-01, -5.1035e-01,  9.5228e-02,  1.8585e-01,  3.0721e-01,\n",
       "          1.2657e+00],\n",
       "        [ 7.1771e-01,  2.9911e-01, -2.7255e-02,  3.2124e+00, -1.7040e-01,\n",
       "          1.7620e+00, -1.6037e-01,  6.5911e-01,  1.9503e-01,  2.9673e-01,\n",
       "          1.2741e+00],\n",
       "        [-3.8817e-01, -7.9185e-02,  4.2028e-01,  7.5009e-02, -2.5899e-01,\n",
       "          5.5086e-02, -2.3776e-01,  1.6649e+00,  2.0421e-01,  2.8625e-01,\n",
       "          1.2766e+00],\n",
       "        [-4.4734e-01,  9.3457e-02,  5.8221e-02,  4.6502e+00,  1.5037e-01,\n",
       "          3.3184e+00, -1.0381e+00,  1.1718e-01,  2.1339e-01,  2.7577e-01,\n",
       "          1.2783e+00],\n",
       "        [ 5.1028e-02, -1.1713e-01, -2.9190e-01, -5.6900e-02,  5.6007e-01,\n",
       "         -2.2151e-02, -6.8299e-01, -2.4620e-01,  2.2258e-01,  2.6530e-01,\n",
       "          1.2791e+00],\n",
       "        [ 1.0251e-01, -1.1713e-01, -2.8841e-01, -5.6900e-02,  5.3881e-01,\n",
       "         -2.2151e-02, -8.3140e-01, -2.4620e-01,  2.3176e-01,  2.5482e-01,\n",
       "          1.2800e+00],\n",
       "        [ 3.6130e-01,  6.8113e-01, -3.2016e-01,  3.0620e-01,  2.6416e-01,\n",
       "          2.8793e+00, -3.7268e-01,  5.9687e-01,  2.4094e-01,  2.4434e-01,\n",
       "          1.2892e+00],\n",
       "        [ 2.1902e-02,  4.3095e-02,  1.0939e-01,  5.0491e-02,  2.1218e-01,\n",
       "          2.7531e-02, -3.9147e-01,  8.0118e-01,  2.5012e-01,  2.3386e-01,\n",
       "          1.2909e+00],\n",
       "        [ 4.5317e-01,  1.1728e-01,  4.4790e-02,  3.5729e+00,  2.4518e-01,\n",
       "          2.2364e+00, -1.5144e-02,  1.6164e+00,  2.5931e-01,  2.2339e-01,\n",
       "          1.2942e+00],\n",
       "        [ 6.6468e-01, -1.1713e-01,  3.4124e-01, -5.6900e-02,  1.2379e-01,\n",
       "         -2.2151e-02, -3.3317e-01, -2.4620e-01,  2.6849e-01,  2.1291e-01,\n",
       "          1.2951e+00],\n",
       "        [-5.0843e-02,  2.0806e+00,  3.0471e-02,  3.3907e+00,  3.4612e-01,\n",
       "          1.4577e+00, -2.5366e-01,  8.9171e-01,  2.7767e-01,  2.0243e-01,\n",
       "          1.2984e+00],\n",
       "        [ 8.1410e-01,  1.1678e+00, -2.9560e-01,  4.1039e-02,  5.5674e-01,\n",
       "          7.8022e-02, -4.1444e-01,  1.6100e+00,  2.8685e-01,  1.9195e-01,\n",
       "          1.3009e+00],\n",
       "        [-1.5069e+01, -1.1713e-01, -1.6615e+02, -5.6900e-02, -2.9259e+03,\n",
       "         -2.2151e-02,  6.5270e-01, -2.4620e-01,  2.9604e-01,  1.8147e-01,\n",
       "          1.3009e+00],\n",
       "        [ 2.6392e-01,  1.1727e+00,  2.1576e-01,  1.9270e+00,  9.5018e-03,\n",
       "          1.0535e+00, -4.3211e-01,  1.5535e+00,  3.0522e-01,  1.7100e-01,\n",
       "          1.3034e+00],\n",
       "        [-4.2926e-02,  2.7648e-01, -4.5166e-01, -3.4618e-02,  4.4226e-01,\n",
       "         -1.3143e-03, -1.7415e-01,  7.6154e-01,  3.1440e-01,  1.6052e-01,\n",
       "          1.3068e+00],\n",
       "        [ 6.0056e-01, -1.1713e-01, -9.9423e-01, -5.6900e-02,  4.8977e-01,\n",
       "         -2.2151e-02, -3.1196e-01, -2.4620e-01,  3.2358e-01,  1.5004e-01,\n",
       "          1.3076e+00],\n",
       "        [-1.5069e+01, -1.1713e-01, -1.6615e+02, -5.6900e-02, -2.9259e+03,\n",
       "         -2.2151e-02,  6.5270e-01, -2.4620e-01,  3.3277e-01,  1.3956e-01,\n",
       "          1.3076e+00],\n",
       "        [ 1.0637e+00, -1.1713e-01,  2.2969e-01, -5.6900e-02,  6.3949e-02,\n",
       "         -2.2151e-02,  2.8168e-01, -2.4620e-01,  3.4195e-01,  1.2909e-01,\n",
       "          1.3085e+00],\n",
       "        [ 5.5291e-01,  2.3749e+00, -4.5283e-02,  2.6653e+00,  2.3094e-01,\n",
       "          4.9507e+00, -3.6850e-01,  8.9847e-01,  3.5113e-01,  1.1861e-01,\n",
       "          1.3135e+00],\n",
       "        [ 4.0448e-01,  3.2541e+00, -1.9182e-01,  2.9246e+00,  5.4786e-01,\n",
       "          1.8449e+00, -2.3564e-01,  1.1806e+00,  3.6063e-01,  1.0835e-01,\n",
       "          1.3177e+00],\n",
       "        [ 3.7735e-01,  4.5816e-01,  3.7341e-01,  3.5442e-01,  4.1652e-02,\n",
       "          1.3524e+00, -5.6991e-01,  3.7356e-01,  3.7329e-01,  1.0025e-01,\n",
       "          1.3202e+00],\n",
       "        [ 4.8409e-01,  1.3399e+00, -7.0183e-02,  3.6949e+00,  7.3933e-01,\n",
       "          4.3510e+00, -6.1585e-01, -1.2403e-01,  3.8596e-01,  9.2158e-02,\n",
       "          1.3227e+00],\n",
       "        [ 8.2592e-01,  2.2622e-01, -5.5916e-01,  2.8135e+00,  5.3252e-01,\n",
       "          4.3585e-01, -7.1681e-02,  3.7796e-01,  3.9862e-01,  8.4065e-02,\n",
       "          1.3252e+00],\n",
       "        [ 1.4284e-01,  1.9072e+00, -9.0400e-02,  6.8482e+00,  2.4189e-01,\n",
       "          1.2270e+00, -5.8758e-01,  1.2295e+00,  4.1129e-01,  7.5971e-02,\n",
       "          1.3277e+00],\n",
       "        [ 7.8043e-01,  1.0169e+00, -3.3366e-02,  3.1363e+00,  7.5312e-01,\n",
       "          4.3886e+00, -4.1090e-01,  1.0785e+00,  4.2396e-01,  6.7878e-02,\n",
       "          1.3303e+00],\n",
       "        [ 5.2263e-01, -1.1713e-01,  4.9789e-01, -5.6900e-02, -4.0486e-01,\n",
       "         -2.2151e-02, -5.0278e-01, -2.4620e-01,  4.3662e-01,  5.9784e-02,\n",
       "          1.3311e+00],\n",
       "        [-3.7829e-02, -1.1713e-01,  3.7739e-01, -5.6900e-02, -2.0400e-01,\n",
       "         -2.2151e-02, -7.3599e-01, -2.4620e-01,  4.4929e-01,  5.1691e-02,\n",
       "          1.3319e+00],\n",
       "        [ 4.6643e-01,  1.3041e+00,  8.2693e-02,  2.5593e+00,  3.3285e-01,\n",
       "          2.7901e+00, -4.5613e-01,  7.4851e-01,  4.6195e-01,  4.3597e-02,\n",
       "          1.3361e+00],\n",
       "        [ 8.6140e-02,  1.2962e+00,  3.8900e-01,  3.2305e-01, -7.1825e-02,\n",
       "          1.6710e+00, -3.1726e-01,  7.5843e-01,  4.7462e-01,  3.5504e-02,\n",
       "          1.3378e+00],\n",
       "        [ 4.0775e-01, -1.1713e-01, -6.6186e-02, -5.6900e-02, -9.2272e-02,\n",
       "         -2.2151e-02, -4.8157e-01, -2.4620e-01,  4.8728e-01,  2.7410e-02,\n",
       "          1.3386e+00],\n",
       "        [ 1.9510e-01,  1.7904e+00, -6.0800e-01,  4.1166e+00,  5.4959e-01,\n",
       "         -1.2708e-02, -4.7097e-01,  1.3855e-01,  4.9995e-01,  1.9317e-02,\n",
       "          1.3403e+00],\n",
       "        [-1.5322e-01, -1.1713e-01, -2.9335e-01, -5.6900e-02,  5.4184e-01,\n",
       "         -2.2151e-02, -4.0737e-01, -2.4620e-01,  5.1261e-01,  1.1223e-02,\n",
       "          1.3412e+00],\n",
       "        [-1.9035e-01, -1.1713e-01,  2.6266e-01, -5.6900e-02, -6.1551e-02,\n",
       "         -2.2151e-02, -1.4235e-01, -2.4620e-01,  5.2528e-01,  3.1299e-03,\n",
       "          1.3420e+00],\n",
       "        [-1.4581e-01,  8.5409e-02,  5.9505e-05,  1.3648e-01,  1.6919e-01,\n",
       "          1.6343e+00, -1.8476e-01,  1.3356e+00,  5.3794e-01, -4.9637e-03,\n",
       "          1.3437e+00]])"
      ]
     },
     "execution_count": 271,
     "metadata": {},
     "output_type": "execute_result"
    }
   ],
   "source": [
    "sample_x"
   ]
  },
  {
   "cell_type": "code",
   "execution_count": 228,
   "metadata": {},
   "outputs": [
    {
     "data": {
      "text/plain": [
       "tensor([[ 5.3988e-01, -1.5483e-01,  6.9377e-01, -5.9819e-02, -4.2693e-01,\n",
       "         -3.3430e-02, -4.5332e-01, -2.7075e-01,  4.3717e-01,  6.2454e-03,\n",
       "          1.1602e+00],\n",
       "        [-7.2690e-02, -1.5483e-01,  5.2570e-01, -5.9819e-02, -2.1967e-01,\n",
       "         -3.3430e-02, -6.7997e-01, -2.7075e-01,  4.5013e-01, -2.1320e-03,\n",
       "          1.1610e+00],\n",
       "        [ 4.7846e-01,  1.2137e+00,  1.1466e-01,  2.3340e+00,  3.3429e-01,\n",
       "          2.5042e+00, -4.0798e-01,  7.0770e-01,  4.6308e-01, -1.0509e-02,\n",
       "          1.1651e+00],\n",
       "        [ 6.2806e-02,  1.2061e+00,  5.4189e-01,  2.8784e-01, -8.3287e-02,\n",
       "          1.4944e+00, -2.7302e-01,  7.1746e-01,  4.7604e-01, -1.8887e-02,\n",
       "          1.1667e+00],\n",
       "        [ 4.1432e-01, -1.5483e-01, -9.2991e-02, -5.9819e-02, -1.0439e-01,\n",
       "         -3.3430e-02, -4.3271e-01, -2.7075e-01,  4.8899e-01, -2.7264e-02,\n",
       "          1.1675e+00],\n",
       "        [ 1.8189e-01,  1.6820e+00, -8.4870e-01,  3.7589e+00,  5.5793e-01,\n",
       "         -2.4908e-02, -4.2241e-01,  1.0771e-01,  5.0194e-01, -3.5641e-02,\n",
       "          1.1691e+00],\n",
       "        [-1.9881e-01, -1.5483e-01, -4.0984e-01, -5.9819e-02,  5.4994e-01,\n",
       "         -3.3430e-02, -3.6059e-01, -2.7075e-01,  5.1490e-01, -4.4019e-02,\n",
       "          1.1699e+00],\n",
       "        [-2.3939e-01, -1.5483e-01,  3.6568e-01, -5.9819e-02, -7.2685e-02,\n",
       "         -3.3430e-02, -1.0303e-01, -2.7075e-01,  5.2785e-01, -5.2396e-02,\n",
       "          1.1707e+00],\n",
       "        [-1.9072e-01,  4.0195e-02, -5.9279e-04,  1.1712e-01,  1.6541e-01,\n",
       "          1.4613e+00, -1.4424e-01,  1.2852e+00,  5.4081e-01, -6.0774e-02,\n",
       "          1.1723e+00],\n",
       "        [-1.6501e+01, -1.5483e-01, -2.3174e+02, -5.9819e-02, -3.0192e+03,\n",
       "         -3.3430e-02,  6.6967e-01, -2.7075e-01,  5.5376e-01, -6.9151e-02,\n",
       "          1.1723e+00],\n",
       "        [ 7.1583e-01,  8.9568e-01, -1.4041e-01,  2.7248e+00,  3.8303e-01,\n",
       "          1.6847e+00, -3.7433e-01,  8.5538e-01,  5.6671e-01, -7.7528e-02,\n",
       "          1.1747e+00],\n",
       "        [ 9.2046e-01,  9.8869e-01, -4.9592e-01,  5.9905e+00,  3.7490e-01,\n",
       "          9.9299e-01,  1.9060e-01,  1.1724e+00,  5.7967e-01, -8.5906e-02,\n",
       "          1.1780e+00],\n",
       "        [ 2.1986e-01,  2.8149e+00, -4.7411e-01,  4.4343e+00,  1.3735e-01,\n",
       "          2.2545e+00, -4.9281e-01,  9.0840e-01,  5.9262e-01, -9.4283e-02,\n",
       "          1.1828e+00],\n",
       "        [-2.0742e-01,  8.8960e-01, -2.2713e-02,  3.5533e+00,  1.3013e-01,\n",
       "          1.6911e+00, -7.6240e-01,  3.3280e-01,  6.0558e-01, -1.0266e-01,\n",
       "          1.1852e+00],\n",
       "        [-1.7903e-01, -1.5483e-01,  3.3421e-01, -5.9819e-02,  3.5950e-01,\n",
       "         -3.3430e-02, -9.9936e-01, -2.7075e-01,  6.1853e-01, -1.1104e-01,\n",
       "          1.1860e+00],\n",
       "        [ 9.7232e-01,  2.4684e+00, -3.6651e-01,  1.7416e+00,  7.7344e-01,\n",
       "          2.1295e+00, -4.6877e-01,  8.0156e-01,  6.3148e-01, -1.1942e-01,\n",
       "          1.1877e+00],\n",
       "        [ 6.0906e-01,  1.1933e+00, -9.0133e-01,  3.2067e+00,  7.9675e-02,\n",
       "          2.7006e+00, -4.3958e-01,  2.9837e-01,  6.4444e-01, -1.2779e-01,\n",
       "          1.1901e+00],\n",
       "        [ 1.1883e+00,  2.6504e-01, -1.4042e-01,  5.4978e+00,  3.5000e-01,\n",
       "          2.1893e+00, -6.9646e-01,  1.1594e+00,  6.5176e-01, -1.3500e-01,\n",
       "          1.1941e+00],\n",
       "        [ 7.7015e-01, -1.5483e-01,  3.5690e-01, -5.9819e-02,  3.3554e-01,\n",
       "         -3.3430e-02, -5.2543e-01, -2.7075e-01,  6.4885e-01, -1.4008e-01,\n",
       "          1.1949e+00],\n",
       "        [ 1.9915e+00, -1.5483e-01,  3.1243e-01, -5.9819e-02,  3.5152e-01,\n",
       "         -3.3430e-02, -2.2666e-01, -2.7075e-01,  6.4594e-01, -1.4515e-01,\n",
       "          1.1957e+00],\n",
       "        [ 1.9993e-01,  4.9732e-01, -2.6089e-02,  3.3978e+00,  3.4278e-01,\n",
       "          1.8600e+00, -6.7482e-01,  3.1202e-01,  6.4303e-01, -1.5023e-01,\n",
       "          1.2070e+00],\n",
       "        [ 3.9005e-01,  1.8132e+00,  2.5876e-01,  1.5775e+00,  3.4108e-01,\n",
       "          1.0392e+00, -6.8135e-01,  3.8716e-01,  6.4012e-01, -1.5531e-01,\n",
       "          1.2191e+00],\n",
       "        [ 1.9514e-01,  9.5365e-01,  3.4863e-01,  1.2297e-01,  2.8245e-01,\n",
       "          1.1105e-01, -6.9199e-01,  2.4331e-01,  6.3721e-01, -1.6039e-01,\n",
       "          1.2288e+00],\n",
       "        [ 7.3411e-01,  1.3303e+00,  3.5333e-01,  5.2698e-01,  2.8384e-01,\n",
       "         -8.0007e-03, -2.6272e-01,  1.0118e+00,  6.3430e-01, -1.6547e-01,\n",
       "          1.2304e+00],\n",
       "        [ 3.1127e-01, -7.6990e-03,  3.8687e-01,  1.8670e-01,  2.8494e-01,\n",
       "         -9.0505e-03, -4.2241e-01,  5.2823e-01,  6.3139e-01, -1.7055e-01,\n",
       "          1.2320e+00],\n",
       "        [ 6.9656e-01,  9.8787e-02,  3.1728e-01,  2.8913e-01,  3.0860e-01,\n",
       "         -3.8799e-04, -1.0457e+00,  8.8566e-01,  6.2849e-01, -1.7562e-01,\n",
       "          1.2337e+00],\n",
       "        [ 6.5383e-01,  1.4531e+00,  1.7733e-01,  3.4826e+00,  2.5117e-01,\n",
       "          9.8616e-01, -2.9305e-01,  1.1593e+00,  6.2558e-01, -1.8070e-01,\n",
       "          1.2409e+00],\n",
       "        [ 1.0647e+00, -1.5483e-01, -1.3907e-01, -5.9819e-02,  1.0707e+00,\n",
       "         -3.3430e-02, -2.4726e-01, -2.7075e-01,  6.2267e-01, -1.8578e-01,\n",
       "          1.2417e+00],\n",
       "        [ 1.1031e+00,  1.5288e+00, -2.4607e-01,  1.3822e+00,  1.4168e-01,\n",
       "          3.9718e+00, -6.7482e-01,  7.2481e-01,  6.1976e-01, -1.9086e-01,\n",
       "          1.2450e+00],\n",
       "        [ 2.7133e-01,  1.1533e+00,  1.7979e-01,  2.4246e+00,  2.1354e-01,\n",
       "          1.4862e+00, -1.2363e-01,  1.9970e+00,  6.1685e-01, -1.9594e-01,\n",
       "          1.2482e+00],\n",
       "        [ 1.0081e-01,  1.2822e+00, -3.5005e-02,  3.6014e+00,  4.1095e-01,\n",
       "          1.6756e+00, -3.3541e-01,  5.4087e-01,  6.1394e-01, -2.0102e-01,\n",
       "          1.2554e+00],\n",
       "        [ 2.2968e-01,  9.8550e-01, -8.5309e-02,  3.0071e+00, -6.5798e-02,\n",
       "          2.4157e+00, -1.2157e-01,  1.2623e+00,  6.1103e-01, -2.0609e-01,\n",
       "          1.2595e+00],\n",
       "        [ 2.4354e-01,  8.5338e-01, -2.1030e-01,  4.2450e+00,  3.4168e-01,\n",
       "          1.5986e+00, -4.1597e-01,  2.9632e-01,  6.0812e-01, -2.1117e-01,\n",
       "          1.2659e+00],\n",
       "        [ 4.7288e-02,  1.1241e+00, -5.7924e-02,  4.0330e+00,  2.8458e-01,\n",
       "          1.4539e+00, -4.8010e-01,  5.3555e-01,  6.0521e-01, -2.1625e-01,\n",
       "          1.2700e+00],\n",
       "        [-6.2799e-02,  9.1998e-01,  3.2658e-01,  1.8394e+00,  1.8457e-02,\n",
       "          9.4302e-01, -4.4044e-01,  9.0953e-01,  6.0230e-01, -2.2133e-01,\n",
       "          1.2732e+00],\n",
       "        [ 8.6722e-01,  1.5575e+00,  4.7597e-01,  6.6447e-02,  9.1542e-02,\n",
       "          1.6975e-02, -5.7008e-01,  6.4686e-01,  5.9940e-01, -2.2641e-01,\n",
       "          1.2756e+00],\n",
       "        [ 4.2461e-01,  1.4594e+00,  3.5200e-02,  2.5477e+00,  4.5675e-01,\n",
       "          2.3349e+00, -4.9710e-01, -4.7737e-02,  5.9649e-01, -2.3148e-01,\n",
       "          1.2789e+00],\n",
       "        [ 3.9700e-01,  2.1170e-01, -1.1578e-02,  5.3153e+00,  6.4716e-02,\n",
       "          3.7765e+00, -7.1432e-01,  8.7484e-01,  5.9358e-01, -2.3656e-01,\n",
       "          1.2813e+00],\n",
       "        [ 1.9922e-01,  2.9075e+00, -9.6909e-01,  3.0453e+00,  4.6329e-01,\n",
       "          3.4818e-01, -2.2151e-01,  4.4637e-02,  5.9067e-01, -2.4164e-01,\n",
       "          1.2829e+00],\n",
       "        [ 7.6513e-01,  1.0651e+00, -4.8027e-01,  6.4719e+00,  2.8932e-01,\n",
       "          7.0047e-01, -3.9923e-01,  8.0310e-01,  5.8776e-01, -2.4672e-01,\n",
       "          1.2861e+00],\n",
       "        [ 7.1639e-01,  1.0606e+00, -1.6245e-01,  4.5563e+00,  2.1653e-01,\n",
       "          1.6301e+00, -5.0277e-01,  2.0966e+00,  5.8744e-01, -2.4640e-01,\n",
       "          1.2902e+00],\n",
       "        [ 7.5463e-02,  1.1968e+00,  2.6223e-01,  1.9473e+00,  3.4142e-01,\n",
       "          1.9062e+00, -6.7482e-01,  6.3335e-01,  5.8872e-01, -2.4277e-01,\n",
       "          1.2918e+00],\n",
       "        [ 2.6669e-01,  1.4044e+00, -6.1933e-02,  3.9176e+00,  7.5749e-02,\n",
       "          2.6895e+00, -4.6820e-01,  6.5308e-01,  5.8999e-01, -2.3915e-01,\n",
       "          1.2990e+00],\n",
       "        [ 6.7122e-01,  7.6162e-01, -1.5721e-02,  1.7921e+00,  4.8639e-01,\n",
       "          2.1847e+00, -1.9428e-01,  1.3833e+00,  5.9126e-01, -2.3552e-01,\n",
       "          1.3103e+00],\n",
       "        [ 7.9525e-01,  8.7004e-01, -2.4050e-01,  1.7203e+00,  5.4554e-01,\n",
       "          1.7642e+00, -3.3724e-01,  1.4288e+00,  5.9254e-01, -2.3189e-01,\n",
       "          1.3224e+00],\n",
       "        [ 8.9391e-01,  9.5218e-01, -1.5934e-01,  8.8897e-01,  7.9342e-01,\n",
       "          2.3198e+00, -3.8635e-01,  1.1350e+00,  5.9381e-01, -2.2827e-01,\n",
       "          1.3273e+00],\n",
       "        [ 9.5754e-01,  5.1569e-01, -1.9757e-01,  6.7580e-01,  9.6681e-01,\n",
       "          1.0289e+00, -2.6787e-01,  1.3865e+00,  5.9508e-01, -2.2464e-01,\n",
       "          1.3354e+00],\n",
       "        [ 4.0459e-01,  3.4264e+00,  8.3170e-02,  1.9970e+00,  4.6218e-01,\n",
       "          4.2178e+00, -8.4997e-01,  2.9694e-01,  5.9636e-01, -2.2101e-01,\n",
       "          1.3370e+00],\n",
       "        [ 1.0351e+00,  4.3204e-01, -1.4103e-01,  3.9554e-02,  1.0721e+00,\n",
       "          1.5399e-02, -3.5029e-01,  7.9557e-01,  5.9763e-01, -2.1738e-01,\n",
       "          1.3402e+00],\n",
       "        [ 8.7116e-01,  1.6297e+00, -1.8873e-01,  5.6829e-01,  9.9811e-01,\n",
       "          9.2385e-01, -7.9625e-01,  1.9395e-01,  5.9890e-01, -2.1376e-01,\n",
       "          1.3458e+00],\n",
       "        [ 1.0053e+00,  4.3247e-01, -1.8227e-01,  9.6549e-01,  9.8079e-01,\n",
       "          1.2892e+00, -5.4962e-01,  7.2870e-01,  6.0018e-01, -2.1013e-01,\n",
       "          1.3644e+00],\n",
       "        [ 1.1822e+00,  5.3243e-02, -1.6125e-01, -5.0918e-02,  1.0687e+00,\n",
       "         -2.2586e-02, -9.3239e-01, -2.0767e-01,  6.0145e-01, -2.0650e-01,\n",
       "          1.3660e+00],\n",
       "        [ 9.3034e-01,  3.5259e-01, -1.6295e-01,  3.7841e-03,  1.0660e+00,\n",
       "         -3.5568e-03, -6.2159e-01,  4.8754e-01,  6.0272e-01, -2.0288e-01,\n",
       "          1.3684e+00],\n",
       "        [ 7.4170e-01, -1.5483e-01, -1.8570e-01, -5.9819e-02,  1.1191e+00,\n",
       "         -3.3430e-02, -8.7572e-01, -2.7075e-01,  6.0400e-01, -1.9925e-01,\n",
       "          1.3692e+00],\n",
       "        [ 7.9699e-01,  1.3809e+00, -1.5208e-01,  4.4499e-02,  1.0820e+00,\n",
       "          1.0959e-01, -4.5744e-01,  8.9662e-01,  6.0527e-01, -1.9562e-01,\n",
       "          1.3733e+00],\n",
       "        [ 5.3064e-01,  2.0495e+00, -2.4473e-01,  8.3357e-01,  9.0606e-01,\n",
       "          1.4406e+00, -6.0099e-01,  8.2434e-01,  6.0654e-01, -1.9200e-01,\n",
       "          1.3757e+00],\n",
       "        [ 8.7458e-01,  5.2261e-01, -1.1933e-01,  9.6081e-01,  8.3767e-01,\n",
       "          2.6199e+00, -4.4935e-01,  5.6840e-01,  6.0781e-01, -1.8837e-01,\n",
       "          1.3862e+00],\n",
       "        [ 7.0744e-01,  1.5004e+00, -4.0151e-02,  1.8725e+00,  7.2643e-01,\n",
       "          2.4021e+00, -3.9562e-01,  1.0245e+00,  6.0909e-01, -1.8474e-01,\n",
       "          1.3943e+00],\n",
       "        [ 1.4799e-01,  1.4232e+00, -6.3354e-02,  1.1809e+00,  9.6165e-01,\n",
       "          1.3389e+00, -5.9608e-01,  7.9438e-01,  6.1036e-01, -1.8111e-01,\n",
       "          1.3999e+00],\n",
       "        [ 5.1206e-01,  1.2193e+00, -3.1435e-01,  4.2534e+00,  5.9956e-01,\n",
       "          2.1492e+00, -1.6484e-01,  1.3385e+00,  6.1163e-01, -1.7749e-01,\n",
       "          1.4112e+00],\n",
       "        [ 1.0056e+00,  5.6792e-01, -4.3375e-01,  2.3936e+00,  7.3468e-01,\n",
       "          1.3772e+00, -4.9968e-01,  1.4652e+00,  6.1291e-01, -1.7386e-01,\n",
       "          1.4161e+00],\n",
       "        [ 1.1330e+00,  7.2845e-01, -3.7116e-01,  2.7482e+00,  8.1987e-01,\n",
       "          1.5478e+00, -6.1876e-01,  9.2413e-01,  6.1418e-01, -1.7023e-01,\n",
       "          1.4298e+00],\n",
       "        [ 7.9008e-01,  9.3555e-01, -3.4735e-01,  3.3412e+00,  7.2989e-01,\n",
       "          2.3492e+00, -6.0099e-01,  8.7972e-01,  6.1545e-01, -1.6661e-01,\n",
       "          1.4370e+00],\n",
       "        [ 2.9254e-01,  1.9818e+00, -9.0961e-02,  2.0071e+00,  6.1874e-01,\n",
       "          2.1923e+00, -4.7392e-01,  1.2516e+00,  6.1446e-01, -1.8041e-01,\n",
       "          1.4419e+00]])"
      ]
     },
     "execution_count": 228,
     "metadata": {},
     "output_type": "execute_result"
    }
   ],
   "source": []
  },
  {
   "cell_type": "code",
   "execution_count": 206,
   "metadata": {},
   "outputs": [
    {
     "data": {
      "text/plain": [
       "tensor([1.4454, 1.4491, 1.4540, 1.4559, 1.4600, 1.4605, 1.4622, 1.4777, 1.4841,\n",
       "        1.4870, 1.4909, 1.4995, 1.5017, 1.5035, 1.5063, 1.5067, 1.5107, 1.5162,\n",
       "        1.5185, 1.5205, 1.5210, 1.5338, 1.5341, 1.5393, 1.5394, 1.5407, 1.5520,\n",
       "        1.5542, 1.5649, 1.5650, 1.6979, 1.7032, 1.7069, 1.7098, 1.7146, 1.7219,\n",
       "        1.7252, 1.7344, 1.7380, 1.7428, 1.7494, 1.7503, 1.7531, 1.7559, 1.7603,\n",
       "        1.7608, 1.7662, 1.7702, 1.7743, 1.7771, 1.7797, 1.7814, 1.7814, 1.7815,\n",
       "        1.7968, 1.7973, 1.7991, 1.7996, 1.8141, 1.8142])"
      ]
     },
     "execution_count": 206,
     "metadata": {},
     "output_type": "execute_result"
    }
   ],
   "source": [
    "torch.cat(samples).squeeze().squeeze()"
   ]
  },
  {
   "cell_type": "code",
   "execution_count": 207,
   "metadata": {},
   "outputs": [
    {
     "data": {
      "text/plain": [
       "tensor([1.4492, 1.4524, 1.4588, 1.4621, 1.4742, 1.4790, 1.4822, 1.4952, 1.4992,\n",
       "        1.5040, 1.5145, 1.5218, 1.5274, 1.5315, 1.5371, 1.5444, 1.5508, 1.5573,\n",
       "        1.5630, 1.5646, 1.5678, 1.6227, 1.6332, 1.6404, 1.6437, 1.6582, 1.6679,\n",
       "        1.6759, 1.6881, 1.6929, 1.6961, 1.7034, 1.7429, 1.7583, 1.7736, 1.7776,\n",
       "        1.7889, 1.8010, 1.8059, 1.8123, 1.8164, 1.8172, 1.8180, 1.8196, 1.8220,\n",
       "        1.8261, 1.8309, 1.8325, 1.8341, 1.8358, 1.8995, 1.9318, 1.9504, 1.9617,\n",
       "        1.9689, 1.9762, 1.9794, 1.9826, 1.9891, 1.9923])"
      ]
     },
     "execution_count": 207,
     "metadata": {},
     "output_type": "execute_result"
    }
   ],
   "source": [
    "torch.cat(outputs_y)"
   ]
  },
  {
   "cell_type": "code",
   "execution_count": 208,
   "metadata": {},
   "outputs": [
    {
     "data": {
      "text/plain": [
       "tensor([1.4454, 1.4491, 1.4540, 1.4559, 1.4600, 1.4605, 1.4622, 1.4777, 1.4841,\n",
       "        1.4870, 1.4909, 1.4995, 1.5017, 1.5035, 1.5063, 1.5067, 1.5107, 1.5162,\n",
       "        1.5185, 1.5205, 1.5210, 1.5338, 1.5341, 1.5393, 1.5394, 1.5407, 1.5520,\n",
       "        1.5542, 1.5649, 1.5650, 1.6979, 1.7032, 1.7069, 1.7098, 1.7146, 1.7219,\n",
       "        1.7252, 1.7344, 1.7380, 1.7428, 1.7494, 1.7503, 1.7531, 1.7559, 1.7603,\n",
       "        1.7608, 1.7662, 1.7702, 1.7743, 1.7771, 1.7797, 1.7814, 1.7814, 1.7815,\n",
       "        1.7968, 1.7973, 1.7991, 1.7996, 1.8141, 1.8142])"
      ]
     },
     "execution_count": 208,
     "metadata": {},
     "output_type": "execute_result"
    }
   ],
   "source": [
    "torch.cat(samples)"
   ]
  },
  {
   "cell_type": "code",
   "execution_count": 209,
   "metadata": {},
   "outputs": [
    {
     "data": {
      "text/plain": [
       "<matplotlib.legend.Legend at 0x16f791220>"
      ]
     },
     "execution_count": 209,
     "metadata": {},
     "output_type": "execute_result"
    },
    {
     "data": {
      "image/png": "[encoded data removed]",
      "text/plain": [
       "<Figure size 432x288 with 1 Axes>"
      ]
     },
     "metadata": {
      "needs_background": "light"
     },
     "output_type": "display_data"
    }
   ],
   "source": [
    "plt.plot(torch.cat(samples),label='predictions')\n",
    "plt.plot(torch.cat(outputs_y),label='observations')\n",
    "plt.legend()"
   ]
  },
  {
   "cell_type": "markdown",
   "metadata": {},
   "source": []
  }
 ],
 "metadata": {
  "kernelspec": {
   "display_name": "Python 3.8.9 64-bit",
   "language": "python",
   "name": "python3"
  },
  "language_info": {
   "codemirror_mode": {
    "name": "ipython",
    "version": 3
   },
   "file_extension": ".py",
   "mimetype": "text/x-python",
   "name": "python",
   "nbconvert_exporter": "python",
   "pygments_lexer": "ipython3",
   "version": "3.8.9"
  },
  "vscode": {
   "interpreter": {
    "hash": "31f2aee4e71d21fbe5cf8b01ff0e069b9275f58929596ceb00d14d90e3e16cd6"
   }
  }
 },
 "nbformat": 4,
 "nbformat_minor": 4
}
