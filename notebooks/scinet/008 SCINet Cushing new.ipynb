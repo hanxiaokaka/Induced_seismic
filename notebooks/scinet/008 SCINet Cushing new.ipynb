{
 "cells": [
  {
   "cell_type": "code",
   "execution_count": null,
   "id": "98bd9511-a273-4a29-be5e-4e90363dc639",
   "metadata": {},
   "outputs": [
    {
     "name": "stderr",
     "output_type": "stream",
     "text": [
      "Failed to detect the name of this notebook, you can set it manually with the WANDB_NOTEBOOK_NAME environment variable to enable code saving.\n",
      "\u001b[34m\u001b[1mwandb\u001b[0m: Currently logged in as: \u001b[33malexandrechen\u001b[0m. Use \u001b[1m`wandb login --relogin`\u001b[0m to force relogin\n"
     ]
    },
    {
     "name": "stdout",
     "output_type": "stream",
     "text": [
      "Create sweep with ID: pukyibc2\n",
      "Sweep URL: https://wandb.ai/fdl2022_team_geomechanics-for-co2-sequestration/scinet-demo-v2/sweeps/pukyibc2\n",
      "sweep_id: pukyibc2\n"
     ]
    },
    {
     "name": "stderr",
     "output_type": "stream",
     "text": [
      "\u001b[34m\u001b[1mwandb\u001b[0m: Agent Starting Run: f7l6mi6p with config:\n",
      "\u001b[34m\u001b[1mwandb\u001b[0m: \tbatch_size: 64\n",
      "\u001b[34m\u001b[1mwandb\u001b[0m: \tdatapath: gs://us-geomechanicsforco2-dev-staging/temporal_datasets/cushing_2014_oklahoma\n",
      "\u001b[34m\u001b[1mwandb\u001b[0m: \tdropout: 0.5\n",
      "\u001b[34m\u001b[1mwandb\u001b[0m: \tfeature_set: full\n",
      "\u001b[34m\u001b[1mwandb\u001b[0m: \thidden_size: 3\n",
      "\u001b[34m\u001b[1mwandb\u001b[0m: \thorizon: 7\n",
      "\u001b[34m\u001b[1mwandb\u001b[0m: \tinput_len: 32\n",
      "\u001b[34m\u001b[1mwandb\u001b[0m: \tkernel_size: 5\n",
      "\u001b[34m\u001b[1mwandb\u001b[0m: \tlr: 0.001\n",
      "\u001b[34m\u001b[1mwandb\u001b[0m: \tmonotonic_activation: quad\n",
      "\u001b[34m\u001b[1mwandb\u001b[0m: \tn_epoch: 128\n",
      "\u001b[34m\u001b[1mwandb\u001b[0m: \tnum_levels: 2\n",
      "\u001b[34m\u001b[1mwandb\u001b[0m: \tseed: 0\n",
      "\u001b[34m\u001b[1mwandb\u001b[0m: \ttrain_test_split: 0.8\n",
      "Failed to detect the name of this notebook, you can set it manually with the WANDB_NOTEBOOK_NAME environment variable to enable code saving.\n",
      "\u001b[34m\u001b[1mwandb\u001b[0m: Currently logged in as: \u001b[33malexandrechen\u001b[0m (\u001b[33mfdl2022_team_geomechanics-for-co2-sequestration\u001b[0m). Use \u001b[1m`wandb login --relogin`\u001b[0m to force relogin\n"
     ]
    },
    {
     "data": {
      "text/html": [
       "Tracking run with wandb version 0.12.21"
      ],
      "text/plain": [
       "<IPython.core.display.HTML object>"
      ]
     },
     "metadata": {},
     "output_type": "display_data"
    },
    {
     "data": {
      "text/html": [
       "Run data is saved locally in <code>/home/jupyter/saif/notebooks/scinet/wandb/run-20220802_201500-f7l6mi6p</code>"
      ],
      "text/plain": [
       "<IPython.core.display.HTML object>"
      ]
     },
     "metadata": {},
     "output_type": "display_data"
    },
    {
     "data": {
      "text/html": [
       "Syncing run <strong><a href=\"https://wandb.ai/fdl2022_team_geomechanics-for-co2-sequestration/scinet-demo-v2/runs/f7l6mi6p\" target=\"_blank\">absurd-sweep-1</a></strong> to <a href=\"https://wandb.ai/fdl2022_team_geomechanics-for-co2-sequestration/scinet-demo-v2\" target=\"_blank\">Weights & Biases</a> (<a href=\"https://wandb.me/run\" target=\"_blank\">docs</a>)<br/>Sweep page:  <a href=\"https://wandb.ai/fdl2022_team_geomechanics-for-co2-sequestration/scinet-demo-v2/sweeps/pukyibc2\" target=\"_blank\">https://wandb.ai/fdl2022_team_geomechanics-for-co2-sequestration/scinet-demo-v2/sweeps/pukyibc2</a>"
      ],
      "text/plain": [
       "<IPython.core.display.HTML object>"
      ]
     },
     "metadata": {},
     "output_type": "display_data"
    },
    {
     "data": {
      "text/html": [
       "Waiting for W&B process to finish... <strong style=\"color:green\">(success).</strong>"
      ],
      "text/plain": [
       "<IPython.core.display.HTML object>"
      ]
     },
     "metadata": {},
     "output_type": "display_data"
    },
    {
     "data": {
      "application/vnd.jupyter.widget-view+json": {
       "model_id": "",
       "version_major": 2,
       "version_minor": 0
      },
      "text/plain": [
       "VBox(children=(Label(value='0.001 MB of 0.001 MB uploaded (0.000 MB deduped)\\r'), FloatProgress(value=1.0, max…"
      ]
     },
     "metadata": {},
     "output_type": "display_data"
    },
    {
     "data": {
      "text/html": [
       "<style>\n",
       "    table.wandb td:nth-child(1) { padding: 0 10px; text-align: left ; width: auto;} td:nth-child(2) {text-align: left ; width: 100%}\n",
       "    .wandb-row { display: flex; flex-direction: row; flex-wrap: wrap; justify-content: flex-start; width: 100% }\n",
       "    .wandb-col { display: flex; flex-direction: column; flex-basis: 100%; flex: 1; padding: 10px; }\n",
       "    </style>\n",
       "<div class=\"wandb-row\"><div class=\"wandb-col\"><h3>Run history:</h3><br/><table class=\"wandb\"><tr><td>epoch</td><td>▁▁▁▁▂▂▂▂▂▃▃▃▃▃▃▄▄▄▄▄▅▅▅▅▅▅▆▆▆▆▆▇▇▇▇▇▇███</td></tr><tr><td>test_loss</td><td>█▅▂▂▁▁▁▁▁▁▁▁▁▁▁▁▁▁▁▁▁▁▁▁▁▁▁▁▁▁▁▁▁▁▁▁▁▁▁▁</td></tr><tr><td>train_loss</td><td>█▂▁▁▁▁▁▁▁▁▁▁▁▁▁▁▁▁▁▁▁▁▁▁▁▁▁▁▁▁▁▁▁▁▁▁▁▁▁▁</td></tr></table><br/></div><div class=\"wandb-col\"><h3>Run summary:</h3><br/><table class=\"wandb\"><tr><td>epoch</td><td>127</td></tr><tr><td>test_loss</td><td>6e-05</td></tr><tr><td>train_loss</td><td>0.00015</td></tr></table><br/></div></div>"
      ],
      "text/plain": [
       "<IPython.core.display.HTML object>"
      ]
     },
     "metadata": {},
     "output_type": "display_data"
    },
    {
     "data": {
      "text/html": [
       "Synced <strong style=\"color:#cdcd00\">absurd-sweep-1</strong>: <a href=\"https://wandb.ai/fdl2022_team_geomechanics-for-co2-sequestration/scinet-demo-v2/runs/f7l6mi6p\" target=\"_blank\">https://wandb.ai/fdl2022_team_geomechanics-for-co2-sequestration/scinet-demo-v2/runs/f7l6mi6p</a><br/>Synced 5 W&B file(s), 0 media file(s), 0 artifact file(s) and 0 other file(s)"
      ],
      "text/plain": [
       "<IPython.core.display.HTML object>"
      ]
     },
     "metadata": {},
     "output_type": "display_data"
    },
    {
     "data": {
      "text/html": [
       "Find logs at: <code>./wandb/run-20220802_201500-f7l6mi6p/logs</code>"
      ],
      "text/plain": [
       "<IPython.core.display.HTML object>"
      ]
     },
     "metadata": {},
     "output_type": "display_data"
    },
    {
     "name": "stderr",
     "output_type": "stream",
     "text": [
      "\u001b[34m\u001b[1mwandb\u001b[0m: Agent Starting Run: klgg2x08 with config:\n",
      "\u001b[34m\u001b[1mwandb\u001b[0m: \tbatch_size: 64\n",
      "\u001b[34m\u001b[1mwandb\u001b[0m: \tdatapath: gs://us-geomechanicsforco2-dev-staging/temporal_datasets/cushing_2014_oklahoma\n",
      "\u001b[34m\u001b[1mwandb\u001b[0m: \tdropout: 0.5\n",
      "\u001b[34m\u001b[1mwandb\u001b[0m: \tfeature_set: injection\n",
      "\u001b[34m\u001b[1mwandb\u001b[0m: \thidden_size: 2\n",
      "\u001b[34m\u001b[1mwandb\u001b[0m: \thorizon: 7\n",
      "\u001b[34m\u001b[1mwandb\u001b[0m: \tinput_len: 32\n",
      "\u001b[34m\u001b[1mwandb\u001b[0m: \tkernel_size: 5\n",
      "\u001b[34m\u001b[1mwandb\u001b[0m: \tlr: 0.001\n",
      "\u001b[34m\u001b[1mwandb\u001b[0m: \tmonotonic_activation: relu\n",
      "\u001b[34m\u001b[1mwandb\u001b[0m: \tn_epoch: 128\n",
      "\u001b[34m\u001b[1mwandb\u001b[0m: \tnum_levels: 2\n",
      "\u001b[34m\u001b[1mwandb\u001b[0m: \tseed: 0\n",
      "\u001b[34m\u001b[1mwandb\u001b[0m: \ttrain_test_split: 0.8\n",
      "Failed to detect the name of this notebook, you can set it manually with the WANDB_NOTEBOOK_NAME environment variable to enable code saving.\n"
     ]
    },
    {
     "data": {
      "text/html": [
       "Tracking run with wandb version 0.12.21"
      ],
      "text/plain": [
       "<IPython.core.display.HTML object>"
      ]
     },
     "metadata": {},
     "output_type": "display_data"
    },
    {
     "data": {
      "text/html": [
       "Run data is saved locally in <code>/home/jupyter/saif/notebooks/scinet/wandb/run-20220802_201646-klgg2x08</code>"
      ],
      "text/plain": [
       "<IPython.core.display.HTML object>"
      ]
     },
     "metadata": {},
     "output_type": "display_data"
    },
    {
     "data": {
      "text/html": [
       "Syncing run <strong><a href=\"https://wandb.ai/fdl2022_team_geomechanics-for-co2-sequestration/scinet-demo-v2/runs/klgg2x08\" target=\"_blank\">firm-sweep-2</a></strong> to <a href=\"https://wandb.ai/fdl2022_team_geomechanics-for-co2-sequestration/scinet-demo-v2\" target=\"_blank\">Weights & Biases</a> (<a href=\"https://wandb.me/run\" target=\"_blank\">docs</a>)<br/>Sweep page:  <a href=\"https://wandb.ai/fdl2022_team_geomechanics-for-co2-sequestration/scinet-demo-v2/sweeps/pukyibc2\" target=\"_blank\">https://wandb.ai/fdl2022_team_geomechanics-for-co2-sequestration/scinet-demo-v2/sweeps/pukyibc2</a>"
      ],
      "text/plain": [
       "<IPython.core.display.HTML object>"
      ]
     },
     "metadata": {},
     "output_type": "display_data"
    },
    {
     "data": {
      "text/html": [
       "Waiting for W&B process to finish... <strong style=\"color:green\">(success).</strong>"
      ],
      "text/plain": [
       "<IPython.core.display.HTML object>"
      ]
     },
     "metadata": {},
     "output_type": "display_data"
    },
    {
     "data": {
      "application/vnd.jupyter.widget-view+json": {
       "model_id": "",
       "version_major": 2,
       "version_minor": 0
      },
      "text/plain": [
       "VBox(children=(Label(value='0.001 MB of 0.001 MB uploaded (0.000 MB deduped)\\r'), FloatProgress(value=1.0, max…"
      ]
     },
     "metadata": {},
     "output_type": "display_data"
    },
    {
     "data": {
      "text/html": [
       "<style>\n",
       "    table.wandb td:nth-child(1) { padding: 0 10px; text-align: left ; width: auto;} td:nth-child(2) {text-align: left ; width: 100%}\n",
       "    .wandb-row { display: flex; flex-direction: row; flex-wrap: wrap; justify-content: flex-start; width: 100% }\n",
       "    .wandb-col { display: flex; flex-direction: column; flex-basis: 100%; flex: 1; padding: 10px; }\n",
       "    </style>\n",
       "<div class=\"wandb-row\"><div class=\"wandb-col\"><h3>Run history:</h3><br/><table class=\"wandb\"><tr><td>epoch</td><td>▁▁▁▁▂▂▂▂▂▃▃▃▃▃▃▄▄▄▄▄▅▅▅▅▅▅▆▆▆▆▆▇▇▇▇▇▇███</td></tr><tr><td>test_loss</td><td>▁▁▁▁▁▁▁▁▁▁▁▁▁▁▁▁▁▁▁▁▁▁▁▁▁▁▁▁▁▁▁▁▁▁▁▁▁▁▁▁</td></tr><tr><td>train_loss</td><td>█▂▁▃▅▃▁▁▁▁▃▁▁▂▁▁▁▃▁▂▂▁▁▁▁▂▄▁▁▄▁▃▁▁▂▃▂▁▁▂</td></tr></table><br/></div><div class=\"wandb-col\"><h3>Run summary:</h3><br/><table class=\"wandb\"><tr><td>epoch</td><td>127</td></tr><tr><td>test_loss</td><td>1e-05</td></tr><tr><td>train_loss</td><td>0.00022</td></tr></table><br/></div></div>"
      ],
      "text/plain": [
       "<IPython.core.display.HTML object>"
      ]
     },
     "metadata": {},
     "output_type": "display_data"
    },
    {
     "data": {
      "text/html": [
       "Synced <strong style=\"color:#cdcd00\">firm-sweep-2</strong>: <a href=\"https://wandb.ai/fdl2022_team_geomechanics-for-co2-sequestration/scinet-demo-v2/runs/klgg2x08\" target=\"_blank\">https://wandb.ai/fdl2022_team_geomechanics-for-co2-sequestration/scinet-demo-v2/runs/klgg2x08</a><br/>Synced 5 W&B file(s), 0 media file(s), 0 artifact file(s) and 0 other file(s)"
      ],
      "text/plain": [
       "<IPython.core.display.HTML object>"
      ]
     },
     "metadata": {},
     "output_type": "display_data"
    },
    {
     "data": {
      "text/html": [
       "Find logs at: <code>./wandb/run-20220802_201646-klgg2x08/logs</code>"
      ],
      "text/plain": [
       "<IPython.core.display.HTML object>"
      ]
     },
     "metadata": {},
     "output_type": "display_data"
    },
    {
     "name": "stderr",
     "output_type": "stream",
     "text": [
      "\u001b[34m\u001b[1mwandb\u001b[0m: Agent Starting Run: kdlfohvs with config:\n",
      "\u001b[34m\u001b[1mwandb\u001b[0m: \tbatch_size: 64\n",
      "\u001b[34m\u001b[1mwandb\u001b[0m: \tdatapath: gs://us-geomechanicsforco2-dev-staging/temporal_datasets/cushing_2014_oklahoma\n",
      "\u001b[34m\u001b[1mwandb\u001b[0m: \tdropout: 0.4\n",
      "\u001b[34m\u001b[1mwandb\u001b[0m: \tfeature_set: seismic\n",
      "\u001b[34m\u001b[1mwandb\u001b[0m: \thidden_size: 3\n",
      "\u001b[34m\u001b[1mwandb\u001b[0m: \thorizon: 7\n",
      "\u001b[34m\u001b[1mwandb\u001b[0m: \tinput_len: 32\n",
      "\u001b[34m\u001b[1mwandb\u001b[0m: \tkernel_size: 5\n",
      "\u001b[34m\u001b[1mwandb\u001b[0m: \tlr: 0.001\n",
      "\u001b[34m\u001b[1mwandb\u001b[0m: \tmonotonic_activation: relu\n",
      "\u001b[34m\u001b[1mwandb\u001b[0m: \tn_epoch: 128\n",
      "\u001b[34m\u001b[1mwandb\u001b[0m: \tnum_levels: 3\n",
      "\u001b[34m\u001b[1mwandb\u001b[0m: \tseed: 0\n",
      "\u001b[34m\u001b[1mwandb\u001b[0m: \ttrain_test_split: 0.8\n",
      "Failed to detect the name of this notebook, you can set it manually with the WANDB_NOTEBOOK_NAME environment variable to enable code saving.\n"
     ]
    },
    {
     "data": {
      "text/html": [
       "Tracking run with wandb version 0.12.21"
      ],
      "text/plain": [
       "<IPython.core.display.HTML object>"
      ]
     },
     "metadata": {},
     "output_type": "display_data"
    },
    {
     "data": {
      "text/html": [
       "Run data is saved locally in <code>/home/jupyter/saif/notebooks/scinet/wandb/run-20220802_201828-kdlfohvs</code>"
      ],
      "text/plain": [
       "<IPython.core.display.HTML object>"
      ]
     },
     "metadata": {},
     "output_type": "display_data"
    },
    {
     "data": {
      "text/html": [
       "Syncing run <strong><a href=\"https://wandb.ai/fdl2022_team_geomechanics-for-co2-sequestration/scinet-demo-v2/runs/kdlfohvs\" target=\"_blank\">driven-sweep-3</a></strong> to <a href=\"https://wandb.ai/fdl2022_team_geomechanics-for-co2-sequestration/scinet-demo-v2\" target=\"_blank\">Weights & Biases</a> (<a href=\"https://wandb.me/run\" target=\"_blank\">docs</a>)<br/>Sweep page:  <a href=\"https://wandb.ai/fdl2022_team_geomechanics-for-co2-sequestration/scinet-demo-v2/sweeps/pukyibc2\" target=\"_blank\">https://wandb.ai/fdl2022_team_geomechanics-for-co2-sequestration/scinet-demo-v2/sweeps/pukyibc2</a>"
      ],
      "text/plain": [
       "<IPython.core.display.HTML object>"
      ]
     },
     "metadata": {},
     "output_type": "display_data"
    },
    {
     "data": {
      "text/html": [
       "Waiting for W&B process to finish... <strong style=\"color:green\">(success).</strong>"
      ],
      "text/plain": [
       "<IPython.core.display.HTML object>"
      ]
     },
     "metadata": {},
     "output_type": "display_data"
    },
    {
     "data": {
      "application/vnd.jupyter.widget-view+json": {
       "model_id": "",
       "version_major": 2,
       "version_minor": 0
      },
      "text/plain": [
       "VBox(children=(Label(value='0.001 MB of 0.001 MB uploaded (0.000 MB deduped)\\r'), FloatProgress(value=1.0, max…"
      ]
     },
     "metadata": {},
     "output_type": "display_data"
    },
    {
     "data": {
      "text/html": [
       "<style>\n",
       "    table.wandb td:nth-child(1) { padding: 0 10px; text-align: left ; width: auto;} td:nth-child(2) {text-align: left ; width: 100%}\n",
       "    .wandb-row { display: flex; flex-direction: row; flex-wrap: wrap; justify-content: flex-start; width: 100% }\n",
       "    .wandb-col { display: flex; flex-direction: column; flex-basis: 100%; flex: 1; padding: 10px; }\n",
       "    </style>\n",
       "<div class=\"wandb-row\"><div class=\"wandb-col\"><h3>Run history:</h3><br/><table class=\"wandb\"><tr><td>epoch</td><td>▁▁▁▁▂▂▂▂▂▃▃▃▃▃▃▄▄▄▄▄▅▅▅▅▅▅▆▆▆▆▆▇▇▇▇▇▇███</td></tr><tr><td>test_loss</td><td>█▂▁▁▁▁▁▁▁▁▁▁▁▁▁▁▁▁▁▁▁▁▁▁▁▁▁▁▁▁▁▁▁▁▁▁▁▁▁▁</td></tr><tr><td>train_loss</td><td>█▂▁▁▁▁▁▁▁▁▁▁▁▁▁▁▁▁▁▁▁▁▁▁▁▁▁▁▁▁▁▁▁▁▁▁▁▁▁▁</td></tr></table><br/></div><div class=\"wandb-col\"><h3>Run summary:</h3><br/><table class=\"wandb\"><tr><td>epoch</td><td>127</td></tr><tr><td>test_loss</td><td>1e-05</td></tr><tr><td>train_loss</td><td>0.00021</td></tr></table><br/></div></div>"
      ],
      "text/plain": [
       "<IPython.core.display.HTML object>"
      ]
     },
     "metadata": {},
     "output_type": "display_data"
    },
    {
     "data": {
      "text/html": [
       "Synced <strong style=\"color:#cdcd00\">driven-sweep-3</strong>: <a href=\"https://wandb.ai/fdl2022_team_geomechanics-for-co2-sequestration/scinet-demo-v2/runs/kdlfohvs\" target=\"_blank\">https://wandb.ai/fdl2022_team_geomechanics-for-co2-sequestration/scinet-demo-v2/runs/kdlfohvs</a><br/>Synced 5 W&B file(s), 0 media file(s), 0 artifact file(s) and 0 other file(s)"
      ],
      "text/plain": [
       "<IPython.core.display.HTML object>"
      ]
     },
     "metadata": {},
     "output_type": "display_data"
    },
    {
     "data": {
      "text/html": [
       "Find logs at: <code>./wandb/run-20220802_201828-kdlfohvs/logs</code>"
      ],
      "text/plain": [
       "<IPython.core.display.HTML object>"
      ]
     },
     "metadata": {},
     "output_type": "display_data"
    },
    {
     "name": "stderr",
     "output_type": "stream",
     "text": [
      "\u001b[34m\u001b[1mwandb\u001b[0m: Agent Starting Run: iv9cwyge with config:\n",
      "\u001b[34m\u001b[1mwandb\u001b[0m: \tbatch_size: 64\n",
      "\u001b[34m\u001b[1mwandb\u001b[0m: \tdatapath: gs://us-geomechanicsforco2-dev-staging/temporal_datasets/cushing_2014_oklahoma\n",
      "\u001b[34m\u001b[1mwandb\u001b[0m: \tdropout: 0.3\n",
      "\u001b[34m\u001b[1mwandb\u001b[0m: \tfeature_set: full\n",
      "\u001b[34m\u001b[1mwandb\u001b[0m: \thidden_size: 2\n",
      "\u001b[34m\u001b[1mwandb\u001b[0m: \thorizon: 7\n",
      "\u001b[34m\u001b[1mwandb\u001b[0m: \tinput_len: 32\n",
      "\u001b[34m\u001b[1mwandb\u001b[0m: \tkernel_size: 3\n",
      "\u001b[34m\u001b[1mwandb\u001b[0m: \tlr: 0.001\n",
      "\u001b[34m\u001b[1mwandb\u001b[0m: \tmonotonic_activation: sigmoid\n",
      "\u001b[34m\u001b[1mwandb\u001b[0m: \tn_epoch: 128\n",
      "\u001b[34m\u001b[1mwandb\u001b[0m: \tnum_levels: 3\n",
      "\u001b[34m\u001b[1mwandb\u001b[0m: \tseed: 0\n",
      "\u001b[34m\u001b[1mwandb\u001b[0m: \ttrain_test_split: 0.8\n",
      "Failed to detect the name of this notebook, you can set it manually with the WANDB_NOTEBOOK_NAME environment variable to enable code saving.\n"
     ]
    },
    {
     "data": {
      "text/html": [
       "Tracking run with wandb version 0.12.21"
      ],
      "text/plain": [
       "<IPython.core.display.HTML object>"
      ]
     },
     "metadata": {},
     "output_type": "display_data"
    },
    {
     "data": {
      "text/html": [
       "Run data is saved locally in <code>/home/jupyter/saif/notebooks/scinet/wandb/run-20220802_202116-iv9cwyge</code>"
      ],
      "text/plain": [
       "<IPython.core.display.HTML object>"
      ]
     },
     "metadata": {},
     "output_type": "display_data"
    },
    {
     "data": {
      "text/html": [
       "Syncing run <strong><a href=\"https://wandb.ai/fdl2022_team_geomechanics-for-co2-sequestration/scinet-demo-v2/runs/iv9cwyge\" target=\"_blank\">happy-sweep-4</a></strong> to <a href=\"https://wandb.ai/fdl2022_team_geomechanics-for-co2-sequestration/scinet-demo-v2\" target=\"_blank\">Weights & Biases</a> (<a href=\"https://wandb.me/run\" target=\"_blank\">docs</a>)<br/>Sweep page:  <a href=\"https://wandb.ai/fdl2022_team_geomechanics-for-co2-sequestration/scinet-demo-v2/sweeps/pukyibc2\" target=\"_blank\">https://wandb.ai/fdl2022_team_geomechanics-for-co2-sequestration/scinet-demo-v2/sweeps/pukyibc2</a>"
      ],
      "text/plain": [
       "<IPython.core.display.HTML object>"
      ]
     },
     "metadata": {},
     "output_type": "display_data"
    },
    {
     "data": {
      "text/html": [
       "Waiting for W&B process to finish... <strong style=\"color:green\">(success).</strong>"
      ],
      "text/plain": [
       "<IPython.core.display.HTML object>"
      ]
     },
     "metadata": {},
     "output_type": "display_data"
    },
    {
     "data": {
      "application/vnd.jupyter.widget-view+json": {
       "model_id": "",
       "version_major": 2,
       "version_minor": 0
      },
      "text/plain": [
       "VBox(children=(Label(value='0.001 MB of 0.001 MB uploaded (0.000 MB deduped)\\r'), FloatProgress(value=1.0, max…"
      ]
     },
     "metadata": {},
     "output_type": "display_data"
    },
    {
     "data": {
      "text/html": [
       "<style>\n",
       "    table.wandb td:nth-child(1) { padding: 0 10px; text-align: left ; width: auto;} td:nth-child(2) {text-align: left ; width: 100%}\n",
       "    .wandb-row { display: flex; flex-direction: row; flex-wrap: wrap; justify-content: flex-start; width: 100% }\n",
       "    .wandb-col { display: flex; flex-direction: column; flex-basis: 100%; flex: 1; padding: 10px; }\n",
       "    </style>\n",
       "<div class=\"wandb-row\"><div class=\"wandb-col\"><h3>Run history:</h3><br/><table class=\"wandb\"><tr><td>epoch</td><td>▁▁▁▁▂▂▂▂▂▃▃▃▃▃▃▄▄▄▄▄▅▅▅▅▅▅▆▆▆▆▆▇▇▇▇▇▇███</td></tr><tr><td>test_loss</td><td>█▇▆▅▄▃▃▂▂▁▁▁▁▁▁▁▁▁▁▁▁▁▁▁▁▁▁▁▁▁▁▁▁▁▁▁▁▁▁▁</td></tr><tr><td>train_loss</td><td>█▆▄▄▃▂▂▁▁▁▁▁▁▁▁▁▁▁▁▁▁▁▁▁▁▁▁▁▁▁▁▁▁▁▁▁▁▁▁▁</td></tr></table><br/></div><div class=\"wandb-col\"><h3>Run summary:</h3><br/><table class=\"wandb\"><tr><td>epoch</td><td>127</td></tr><tr><td>test_loss</td><td>0.0009</td></tr><tr><td>train_loss</td><td>0.00097</td></tr></table><br/></div></div>"
      ],
      "text/plain": [
       "<IPython.core.display.HTML object>"
      ]
     },
     "metadata": {},
     "output_type": "display_data"
    },
    {
     "data": {
      "text/html": [
       "Synced <strong style=\"color:#cdcd00\">happy-sweep-4</strong>: <a href=\"https://wandb.ai/fdl2022_team_geomechanics-for-co2-sequestration/scinet-demo-v2/runs/iv9cwyge\" target=\"_blank\">https://wandb.ai/fdl2022_team_geomechanics-for-co2-sequestration/scinet-demo-v2/runs/iv9cwyge</a><br/>Synced 5 W&B file(s), 0 media file(s), 0 artifact file(s) and 0 other file(s)"
      ],
      "text/plain": [
       "<IPython.core.display.HTML object>"
      ]
     },
     "metadata": {},
     "output_type": "display_data"
    },
    {
     "data": {
      "text/html": [
       "Find logs at: <code>./wandb/run-20220802_202116-iv9cwyge/logs</code>"
      ],
      "text/plain": [
       "<IPython.core.display.HTML object>"
      ]
     },
     "metadata": {},
     "output_type": "display_data"
    },
    {
     "name": "stderr",
     "output_type": "stream",
     "text": [
      "\u001b[34m\u001b[1mwandb\u001b[0m: Agent Starting Run: x1vno3ut with config:\n",
      "\u001b[34m\u001b[1mwandb\u001b[0m: \tbatch_size: 64\n",
      "\u001b[34m\u001b[1mwandb\u001b[0m: \tdatapath: gs://us-geomechanicsforco2-dev-staging/temporal_datasets/cushing_2014_oklahoma\n",
      "\u001b[34m\u001b[1mwandb\u001b[0m: \tdropout: 0.5\n",
      "\u001b[34m\u001b[1mwandb\u001b[0m: \tfeature_set: seismic\n",
      "\u001b[34m\u001b[1mwandb\u001b[0m: \thidden_size: 2\n",
      "\u001b[34m\u001b[1mwandb\u001b[0m: \thorizon: 7\n",
      "\u001b[34m\u001b[1mwandb\u001b[0m: \tinput_len: 32\n",
      "\u001b[34m\u001b[1mwandb\u001b[0m: \tkernel_size: 5\n",
      "\u001b[34m\u001b[1mwandb\u001b[0m: \tlr: 0.001\n",
      "\u001b[34m\u001b[1mwandb\u001b[0m: \tmonotonic_activation: abs\n",
      "\u001b[34m\u001b[1mwandb\u001b[0m: \tn_epoch: 128\n",
      "\u001b[34m\u001b[1mwandb\u001b[0m: \tnum_levels: 3\n",
      "\u001b[34m\u001b[1mwandb\u001b[0m: \tseed: 0\n",
      "\u001b[34m\u001b[1mwandb\u001b[0m: \ttrain_test_split: 0.8\n",
      "Failed to detect the name of this notebook, you can set it manually with the WANDB_NOTEBOOK_NAME environment variable to enable code saving.\n"
     ]
    },
    {
     "data": {
      "text/html": [
       "Tracking run with wandb version 0.12.21"
      ],
      "text/plain": [
       "<IPython.core.display.HTML object>"
      ]
     },
     "metadata": {},
     "output_type": "display_data"
    },
    {
     "data": {
      "text/html": [
       "Run data is saved locally in <code>/home/jupyter/saif/notebooks/scinet/wandb/run-20220802_202353-x1vno3ut</code>"
      ],
      "text/plain": [
       "<IPython.core.display.HTML object>"
      ]
     },
     "metadata": {},
     "output_type": "display_data"
    },
    {
     "data": {
      "text/html": [
       "Syncing run <strong><a href=\"https://wandb.ai/fdl2022_team_geomechanics-for-co2-sequestration/scinet-demo-v2/runs/x1vno3ut\" target=\"_blank\">gallant-sweep-5</a></strong> to <a href=\"https://wandb.ai/fdl2022_team_geomechanics-for-co2-sequestration/scinet-demo-v2\" target=\"_blank\">Weights & Biases</a> (<a href=\"https://wandb.me/run\" target=\"_blank\">docs</a>)<br/>Sweep page:  <a href=\"https://wandb.ai/fdl2022_team_geomechanics-for-co2-sequestration/scinet-demo-v2/sweeps/pukyibc2\" target=\"_blank\">https://wandb.ai/fdl2022_team_geomechanics-for-co2-sequestration/scinet-demo-v2/sweeps/pukyibc2</a>"
      ],
      "text/plain": [
       "<IPython.core.display.HTML object>"
      ]
     },
     "metadata": {},
     "output_type": "display_data"
    },
    {
     "data": {
      "text/html": [
       "Waiting for W&B process to finish... <strong style=\"color:green\">(success).</strong>"
      ],
      "text/plain": [
       "<IPython.core.display.HTML object>"
      ]
     },
     "metadata": {},
     "output_type": "display_data"
    },
    {
     "data": {
      "application/vnd.jupyter.widget-view+json": {
       "model_id": "",
       "version_major": 2,
       "version_minor": 0
      },
      "text/plain": [
       "VBox(children=(Label(value='0.001 MB of 0.001 MB uploaded (0.000 MB deduped)\\r'), FloatProgress(value=1.0, max…"
      ]
     },
     "metadata": {},
     "output_type": "display_data"
    },
    {
     "data": {
      "text/html": [
       "<style>\n",
       "    table.wandb td:nth-child(1) { padding: 0 10px; text-align: left ; width: auto;} td:nth-child(2) {text-align: left ; width: 100%}\n",
       "    .wandb-row { display: flex; flex-direction: row; flex-wrap: wrap; justify-content: flex-start; width: 100% }\n",
       "    .wandb-col { display: flex; flex-direction: column; flex-basis: 100%; flex: 1; padding: 10px; }\n",
       "    </style>\n",
       "<div class=\"wandb-row\"><div class=\"wandb-col\"><h3>Run history:</h3><br/><table class=\"wandb\"><tr><td>epoch</td><td>▁▁▁▁▂▂▂▂▂▃▃▃▃▃▃▄▄▄▄▄▅▅▅▅▅▅▆▆▆▆▆▇▇▇▇▇▇███</td></tr><tr><td>test_loss</td><td>█▄▂▂▂▁▁▁▁▁▁▁▁▁▁▁▁▁▁▁▁▁▁▁▁▁▁▁▁▁▁▁▁▁▁▁▁▁▁▁</td></tr><tr><td>train_loss</td><td>█▃▁▁▁▁▁▁▁▁▁▁▁▁▁▁▁▁▁▁▁▁▁▁▁▁▁▁▁▁▁▁▁▁▁▁▁▁▁▁</td></tr></table><br/></div><div class=\"wandb-col\"><h3>Run summary:</h3><br/><table class=\"wandb\"><tr><td>epoch</td><td>127</td></tr><tr><td>test_loss</td><td>8e-05</td></tr><tr><td>train_loss</td><td>0.00026</td></tr></table><br/></div></div>"
      ],
      "text/plain": [
       "<IPython.core.display.HTML object>"
      ]
     },
     "metadata": {},
     "output_type": "display_data"
    },
    {
     "data": {
      "text/html": [
       "Synced <strong style=\"color:#cdcd00\">gallant-sweep-5</strong>: <a href=\"https://wandb.ai/fdl2022_team_geomechanics-for-co2-sequestration/scinet-demo-v2/runs/x1vno3ut\" target=\"_blank\">https://wandb.ai/fdl2022_team_geomechanics-for-co2-sequestration/scinet-demo-v2/runs/x1vno3ut</a><br/>Synced 5 W&B file(s), 0 media file(s), 0 artifact file(s) and 0 other file(s)"
      ],
      "text/plain": [
       "<IPython.core.display.HTML object>"
      ]
     },
     "metadata": {},
     "output_type": "display_data"
    },
    {
     "data": {
      "text/html": [
       "Find logs at: <code>./wandb/run-20220802_202353-x1vno3ut/logs</code>"
      ],
      "text/plain": [
       "<IPython.core.display.HTML object>"
      ]
     },
     "metadata": {},
     "output_type": "display_data"
    },
    {
     "name": "stderr",
     "output_type": "stream",
     "text": [
      "\u001b[34m\u001b[1mwandb\u001b[0m: Agent Starting Run: htwhb8mt with config:\n",
      "\u001b[34m\u001b[1mwandb\u001b[0m: \tbatch_size: 64\n",
      "\u001b[34m\u001b[1mwandb\u001b[0m: \tdatapath: gs://us-geomechanicsforco2-dev-staging/temporal_datasets/cushing_2014_oklahoma\n",
      "\u001b[34m\u001b[1mwandb\u001b[0m: \tdropout: 0.5\n",
      "\u001b[34m\u001b[1mwandb\u001b[0m: \tfeature_set: seismic\n",
      "\u001b[34m\u001b[1mwandb\u001b[0m: \thidden_size: 3\n",
      "\u001b[34m\u001b[1mwandb\u001b[0m: \thorizon: 7\n",
      "\u001b[34m\u001b[1mwandb\u001b[0m: \tinput_len: 32\n",
      "\u001b[34m\u001b[1mwandb\u001b[0m: \tkernel_size: 5\n",
      "\u001b[34m\u001b[1mwandb\u001b[0m: \tlr: 0.001\n",
      "\u001b[34m\u001b[1mwandb\u001b[0m: \tmonotonic_activation: relu\n",
      "\u001b[34m\u001b[1mwandb\u001b[0m: \tn_epoch: 128\n",
      "\u001b[34m\u001b[1mwandb\u001b[0m: \tnum_levels: 1\n",
      "\u001b[34m\u001b[1mwandb\u001b[0m: \tseed: 0\n",
      "\u001b[34m\u001b[1mwandb\u001b[0m: \ttrain_test_split: 0.8\n",
      "Failed to detect the name of this notebook, you can set it manually with the WANDB_NOTEBOOK_NAME environment variable to enable code saving.\n"
     ]
    },
    {
     "data": {
      "text/html": [
       "Tracking run with wandb version 0.12.21"
      ],
      "text/plain": [
       "<IPython.core.display.HTML object>"
      ]
     },
     "metadata": {},
     "output_type": "display_data"
    },
    {
     "data": {
      "text/html": [
       "Run data is saved locally in <code>/home/jupyter/saif/notebooks/scinet/wandb/run-20220802_202636-htwhb8mt</code>"
      ],
      "text/plain": [
       "<IPython.core.display.HTML object>"
      ]
     },
     "metadata": {},
     "output_type": "display_data"
    },
    {
     "data": {
      "text/html": [
       "Syncing run <strong><a href=\"https://wandb.ai/fdl2022_team_geomechanics-for-co2-sequestration/scinet-demo-v2/runs/htwhb8mt\" target=\"_blank\">decent-sweep-6</a></strong> to <a href=\"https://wandb.ai/fdl2022_team_geomechanics-for-co2-sequestration/scinet-demo-v2\" target=\"_blank\">Weights & Biases</a> (<a href=\"https://wandb.me/run\" target=\"_blank\">docs</a>)<br/>Sweep page:  <a href=\"https://wandb.ai/fdl2022_team_geomechanics-for-co2-sequestration/scinet-demo-v2/sweeps/pukyibc2\" target=\"_blank\">https://wandb.ai/fdl2022_team_geomechanics-for-co2-sequestration/scinet-demo-v2/sweeps/pukyibc2</a>"
      ],
      "text/plain": [
       "<IPython.core.display.HTML object>"
      ]
     },
     "metadata": {},
     "output_type": "display_data"
    },
    {
     "data": {
      "text/html": [
       "Waiting for W&B process to finish... <strong style=\"color:green\">(success).</strong>"
      ],
      "text/plain": [
       "<IPython.core.display.HTML object>"
      ]
     },
     "metadata": {},
     "output_type": "display_data"
    },
    {
     "data": {
      "application/vnd.jupyter.widget-view+json": {
       "model_id": "",
       "version_major": 2,
       "version_minor": 0
      },
      "text/plain": [
       "VBox(children=(Label(value='0.001 MB of 0.001 MB uploaded (0.000 MB deduped)\\r'), FloatProgress(value=1.0, max…"
      ]
     },
     "metadata": {},
     "output_type": "display_data"
    },
    {
     "data": {
      "text/html": [
       "<style>\n",
       "    table.wandb td:nth-child(1) { padding: 0 10px; text-align: left ; width: auto;} td:nth-child(2) {text-align: left ; width: 100%}\n",
       "    .wandb-row { display: flex; flex-direction: row; flex-wrap: wrap; justify-content: flex-start; width: 100% }\n",
       "    .wandb-col { display: flex; flex-direction: column; flex-basis: 100%; flex: 1; padding: 10px; }\n",
       "    </style>\n",
       "<div class=\"wandb-row\"><div class=\"wandb-col\"><h3>Run history:</h3><br/><table class=\"wandb\"><tr><td>epoch</td><td>▁▁▁▁▂▂▂▂▂▃▃▃▃▃▃▄▄▄▄▄▅▅▅▅▅▅▆▆▆▆▆▇▇▇▇▇▇███</td></tr><tr><td>test_loss</td><td>█▁▁▁▁▁▁▁▁▁▁▁▁▁▁▁▁▁▁▁▁▁▁▁▁▁▁▁▁▁▁▁▁▁▁▁▁▁▁▁</td></tr><tr><td>train_loss</td><td>█▂▁▁▁▁▁▁▁▁▁▁▁▁▁▁▁▁▁▁▁▁▁▁▁▁▁▁▁▁▁▁▁▁▁▁▁▁▁▁</td></tr></table><br/></div><div class=\"wandb-col\"><h3>Run summary:</h3><br/><table class=\"wandb\"><tr><td>epoch</td><td>127</td></tr><tr><td>test_loss</td><td>1e-05</td></tr><tr><td>train_loss</td><td>0.00022</td></tr></table><br/></div></div>"
      ],
      "text/plain": [
       "<IPython.core.display.HTML object>"
      ]
     },
     "metadata": {},
     "output_type": "display_data"
    },
    {
     "data": {
      "text/html": [
       "Synced <strong style=\"color:#cdcd00\">decent-sweep-6</strong>: <a href=\"https://wandb.ai/fdl2022_team_geomechanics-for-co2-sequestration/scinet-demo-v2/runs/htwhb8mt\" target=\"_blank\">https://wandb.ai/fdl2022_team_geomechanics-for-co2-sequestration/scinet-demo-v2/runs/htwhb8mt</a><br/>Synced 5 W&B file(s), 0 media file(s), 0 artifact file(s) and 0 other file(s)"
      ],
      "text/plain": [
       "<IPython.core.display.HTML object>"
      ]
     },
     "metadata": {},
     "output_type": "display_data"
    },
    {
     "data": {
      "text/html": [
       "Find logs at: <code>./wandb/run-20220802_202636-htwhb8mt/logs</code>"
      ],
      "text/plain": [
       "<IPython.core.display.HTML object>"
      ]
     },
     "metadata": {},
     "output_type": "display_data"
    },
    {
     "name": "stderr",
     "output_type": "stream",
     "text": [
      "\u001b[34m\u001b[1mwandb\u001b[0m: Agent Starting Run: s9y5usdl with config:\n",
      "\u001b[34m\u001b[1mwandb\u001b[0m: \tbatch_size: 64\n",
      "\u001b[34m\u001b[1mwandb\u001b[0m: \tdatapath: gs://us-geomechanicsforco2-dev-staging/temporal_datasets/cushing_2014_oklahoma\n",
      "\u001b[34m\u001b[1mwandb\u001b[0m: \tdropout: 0.5\n",
      "\u001b[34m\u001b[1mwandb\u001b[0m: \tfeature_set: injection\n",
      "\u001b[34m\u001b[1mwandb\u001b[0m: \thidden_size: 3\n",
      "\u001b[34m\u001b[1mwandb\u001b[0m: \thorizon: 7\n",
      "\u001b[34m\u001b[1mwandb\u001b[0m: \tinput_len: 64\n",
      "\u001b[34m\u001b[1mwandb\u001b[0m: \tkernel_size: 5\n",
      "\u001b[34m\u001b[1mwandb\u001b[0m: \tlr: 0.001\n",
      "\u001b[34m\u001b[1mwandb\u001b[0m: \tmonotonic_activation: abs\n",
      "\u001b[34m\u001b[1mwandb\u001b[0m: \tn_epoch: 128\n",
      "\u001b[34m\u001b[1mwandb\u001b[0m: \tnum_levels: 1\n",
      "\u001b[34m\u001b[1mwandb\u001b[0m: \tseed: 0\n",
      "\u001b[34m\u001b[1mwandb\u001b[0m: \ttrain_test_split: 0.8\n",
      "Failed to detect the name of this notebook, you can set it manually with the WANDB_NOTEBOOK_NAME environment variable to enable code saving.\n"
     ]
    },
    {
     "data": {
      "text/html": [
       "Tracking run with wandb version 0.12.21"
      ],
      "text/plain": [
       "<IPython.core.display.HTML object>"
      ]
     },
     "metadata": {},
     "output_type": "display_data"
    },
    {
     "data": {
      "text/html": [
       "Run data is saved locally in <code>/home/jupyter/saif/notebooks/scinet/wandb/run-20220802_202747-s9y5usdl</code>"
      ],
      "text/plain": [
       "<IPython.core.display.HTML object>"
      ]
     },
     "metadata": {},
     "output_type": "display_data"
    },
    {
     "data": {
      "text/html": [
       "Syncing run <strong><a href=\"https://wandb.ai/fdl2022_team_geomechanics-for-co2-sequestration/scinet-demo-v2/runs/s9y5usdl\" target=\"_blank\">eager-sweep-7</a></strong> to <a href=\"https://wandb.ai/fdl2022_team_geomechanics-for-co2-sequestration/scinet-demo-v2\" target=\"_blank\">Weights & Biases</a> (<a href=\"https://wandb.me/run\" target=\"_blank\">docs</a>)<br/>Sweep page:  <a href=\"https://wandb.ai/fdl2022_team_geomechanics-for-co2-sequestration/scinet-demo-v2/sweeps/pukyibc2\" target=\"_blank\">https://wandb.ai/fdl2022_team_geomechanics-for-co2-sequestration/scinet-demo-v2/sweeps/pukyibc2</a>"
      ],
      "text/plain": [
       "<IPython.core.display.HTML object>"
      ]
     },
     "metadata": {},
     "output_type": "display_data"
    }
   ],
   "source": [
    "import os\n",
    "import json\n",
    "\n",
    "import numpy as np\n",
    "import pandas as pd\n",
    "\n",
    "import torch\n",
    "import torch.nn as nn\n",
    "import torch.nn.functional as F\n",
    "import torch.optim as optim\n",
    "from torch.utils.data import DataLoader\n",
    "\n",
    "from saif.scinet.dataset import daily_seismic_and_interpolated_pressure\n",
    "from saif.scinet.dataset import construct_time_series_dataset\n",
    "import saif.scinet.model as scinet\n",
    "\n",
    "import wandb\n",
    "\n",
    "_FUNCS = {\n",
    "    'abs' : lambda x : x.abs(),\n",
    "    'quad' : lambda x : x ** 2,\n",
    "    'relu' : F.relu,\n",
    "    'exp' : torch.exp,\n",
    "    'sigmoid' : torch.sigmoid,\n",
    "    'no_func' : lambda x : x\n",
    "}\n",
    "\n",
    "class SimpleSCINet(nn.Module):\n",
    "    def __init__(\n",
    "        self, \n",
    "        input_len, output_len,\n",
    "        input_dim, num_levels, kernel_size, dropout, groups, hidden_size,\n",
    "        monotonic_fn=lambda x : x\n",
    "    ):\n",
    "        super().__init__()\n",
    "        \n",
    "        self.input_len = input_len\n",
    "        self.output_len = output_len\n",
    "        self.input_dim = input_dim\n",
    "        self.hidden_size = hidden_size\n",
    "        self.num_levels = num_levels\n",
    "        self.groups = groups\n",
    "        self.kernel_size = kernel_size\n",
    "        self.dropout = dropout\n",
    "        \n",
    "        self.bn1 = nn.BatchNorm1d(self.input_dim)\n",
    "        self.bn2 = nn.BatchNorm1d(self.input_dim)\n",
    "        \n",
    "        self.block1 = scinet.EncoderTree(\n",
    "            in_planes=self.input_dim,\n",
    "            num_levels=self.num_levels,\n",
    "            kernel_size=self.kernel_size,\n",
    "            dropout=self.dropout,\n",
    "            groups=self.groups,\n",
    "            hidden_size=self.hidden_size,\n",
    "            INN=True\n",
    "        )\n",
    "        \n",
    "        # I'm a bit iffy on using a projector like this across features\n",
    "        # But this is what they do in scinet\n",
    "        # It should be fine, kernel size is 1, it's essentially just an\n",
    "        # aggregation operation\n",
    "        self.time_projector = nn.Conv1d(\n",
    "            self.input_len, self.output_len,\n",
    "            kernel_size=1, stride=1, bias=False\n",
    "        )\n",
    "        \n",
    "        self.channel_projector = nn.Conv1d(\n",
    "            self.input_dim, 1, kernel_size=1, stride=1, bias=True\n",
    "        )\n",
    "\n",
    "        self.monotonic_fn = monotonic_fn\n",
    "    \n",
    "    def forward(self, x):\n",
    "        out = x.permute(0, 2, 1)\n",
    "        out = self.bn1(out)\n",
    "        out = out.permute(0, 2, 1)\n",
    "        \n",
    "        out = self.block1(out)\n",
    "        out += out\n",
    "        \n",
    "        out = F.relu(out)\n",
    "        out = self.time_projector(out)\n",
    "        \n",
    "        out = out.permute(0, 2, 1)\n",
    "        out = self.bn2(out)\n",
    "        out = F.relu(out)\n",
    "        \n",
    "        out = self.channel_projector(out).squeeze(1)\n",
    "        \n",
    "        #Enforce monotonicity\n",
    "        out = self.monotonic_fn(out)\n",
    "\n",
    "        out = out.cumsum(-1) + x[:, -1, -1, None]\n",
    "        \n",
    "        return out\n",
    "\n",
    "def load_data(config):\n",
    "    datapath = config.datapath\n",
    "    \n",
    "    seismic = pd.read_csv(os.path.join(datapath, 'seismic.csv'))\n",
    "    pressure = pd.read_csv(os.path.join(datapath, 'pressure.csv'))\n",
    "\n",
    "    features, target_vals = daily_seismic_and_interpolated_pressure(seismic, pressure)\n",
    "\n",
    "    if config.feature_set == 'full':\n",
    "        feature_names = features.columns\n",
    "    elif config.feature_set == 'injection':\n",
    "        feature_names = ['pressure','dpdt','seismic']\n",
    "    else:\n",
    "        feature_names = ['seismic']\n",
    "\n",
    "    train_dset, test_dset, _, _ = construct_time_series_dataset(\n",
    "        features, target_vals, \n",
    "        config.input_len, config.horizon, feature_names, \n",
    "        train_test_split=config.train_test_split, normalize_data=True\n",
    "    )\n",
    "\n",
    "    train_loader = DataLoader(\n",
    "        train_dset,\n",
    "        batch_size=config.batch_size,\n",
    "        shuffle=True,\n",
    "        num_workers=1\n",
    "    )\n",
    "\n",
    "    test_loader = DataLoader(\n",
    "        test_dset,\n",
    "        batch_size=config.batch_size,\n",
    "        shuffle=False,\n",
    "        num_workers=1\n",
    "    )\n",
    "\n",
    "    input_dim = train_dset.X.shape[1]\n",
    "\n",
    "    return input_dim, train_loader, test_loader\n",
    "\n",
    "def build_model(input_dim, config):\n",
    "    _func = _FUNCS.get(config.monotonic_activation)\n",
    "\n",
    "    return SimpleSCINet(\n",
    "        input_len=config.input_len, output_len=config.horizon,\n",
    "        input_dim=input_dim, num_levels=config.num_levels, \n",
    "        kernel_size=config.kernel_size, dropout=config.dropout, \n",
    "        groups=1, hidden_size=config.hidden_size,\n",
    "        monotonic_fn=_func\n",
    "    )\n",
    "\n",
    "def train_step(device, criterion, model, optimizer, train_loader):\n",
    "    model.train()\n",
    "    loss_vals = []\n",
    "    for (batch_x, batch_y) in train_loader:\n",
    "        optimizer.zero_grad()\n",
    "        \n",
    "        batch_x = batch_x.to(device)\n",
    "        batch_y = batch_y.to(device)\n",
    "\n",
    "        outputs = model(batch_x)\n",
    "        loss = criterion(outputs, batch_y)\n",
    "        loss.backward()\n",
    "        optimizer.step()\n",
    "\n",
    "        loss_vals.append(loss.item())\n",
    "\n",
    "    return np.mean(loss_vals)\n",
    "\n",
    "def test_step(device, criterion, model, test_loader):\n",
    "    model.eval()\n",
    "    loss_vals = []\n",
    "    for (batch_x, batch_y) in test_loader:\n",
    "        batch_x = batch_x.to(device)\n",
    "        batch_y = batch_y.to(device)\n",
    "        outputs = model(batch_x)\n",
    "        loss = criterion(outputs, batch_y)\n",
    "        loss_vals.append(loss.item())\n",
    "\n",
    "    return np.mean(loss_vals)\n",
    "\n",
    "def run_exp(config=None):\n",
    "    # Initialize a new wandb run\n",
    "    with wandb.init(config=config):\n",
    "        # If called by wandb.agent, as below,\n",
    "        # this config will be set by Sweep Controller\n",
    "        config = wandb.config\n",
    "\n",
    "        if torch.cuda.is_available():\n",
    "            device = 'cuda'\n",
    "        else:\n",
    "            device = 'cpu'\n",
    "        \n",
    "        torch.manual_seed(config.seed)\n",
    "        input_dim, train_loader, test_loader = load_data(config)\n",
    "        model = build_model(input_dim, config)\n",
    "        model = model.to(device)\n",
    "        optimizer = optim.Adam(model.parameters(), lr=config.lr)\n",
    "        criterion = nn.HuberLoss()\n",
    "\n",
    "        wandb.watch(model)\n",
    "        for epoch in range(config.n_epoch):\n",
    "            train_loss = train_step(device, criterion, model, optimizer, train_loader)\n",
    "            test_loss = test_step(device, criterion, model, test_loader)\n",
    "            \n",
    "            wandb.log({\n",
    "                \"epoch\": epoch, \n",
    "                'train_loss' : train_loss,\n",
    "                \"test_loss\": test_loss\n",
    "            })  \n",
    "\n",
    "\n",
    "def default_val(name, vals):\n",
    "    if isinstance(vals, list):\n",
    "        return {name : {'values' : vals}}\n",
    "    else:\n",
    "        return {name : {'value' : vals}}\n",
    "\n",
    "def make_param_dict():\n",
    "    # Hyperparameters\n",
    "    parameters_dict = {}\n",
    "\n",
    "    parameters_dict.update(\n",
    "        default_val('seed', 0)\n",
    "    )\n",
    "    parameters_dict.update(\n",
    "        default_val('datapath', \"gs://us-geomechanicsforco2-dev-staging/temporal_datasets/cushing_2014_oklahoma\")\n",
    "    )\n",
    "    parameters_dict.update(\n",
    "        default_val('feature_set', ['full', 'injection', 'seismic'])\n",
    "    )\n",
    "    parameters_dict.update(\n",
    "        default_val('input_len', [32, 64])\n",
    "    )\n",
    "    parameters_dict.update(\n",
    "        default_val('horizon', 7)\n",
    "    )\n",
    "    parameters_dict.update(\n",
    "        default_val('train_test_split', 0.8)\n",
    "    )\n",
    "    parameters_dict.update(\n",
    "        default_val('batch_size', [32, 64])\n",
    "    )\n",
    "    parameters_dict.update(\n",
    "        default_val('num_levels', [1, 2, 3])\n",
    "    )\n",
    "    parameters_dict.update(\n",
    "        default_val('kernel_size', [3, 4, 5])\n",
    "    )\n",
    "    parameters_dict.update(\n",
    "        default_val('dropout', [0.2, 0.3, 0.4, 0.5])\n",
    "    )\n",
    "    parameters_dict.update(\n",
    "        default_val('hidden_size', [1, 2, 3])\n",
    "    )\n",
    "    parameters_dict.update(\n",
    "        default_val('monotonic_activation', list(_FUNCS.keys()))\n",
    "    )\n",
    "    parameters_dict.update(\n",
    "        default_val('lr', 1e-3)\n",
    "    )\n",
    "    parameters_dict.update(\n",
    "        default_val('n_epoch', 128)\n",
    "    )\n",
    "\n",
    "    return parameters_dict\n",
    "\n",
    "def make_config():\n",
    "    sweep_config = {\n",
    "        'method': 'bayes'\n",
    "    }\n",
    "\n",
    "    metric = {\n",
    "        'name': 'test_loss',\n",
    "        'goal': 'minimize'\n",
    "    }\n",
    "\n",
    "    sweep_config['metric'] = metric\n",
    "\n",
    "    sweep_config['parameters'] = make_param_dict()\n",
    "\n",
    "    return sweep_config\n",
    "\n",
    "\n",
    "if __name__ == \"__main__\":\n",
    "    wandb.login()\n",
    "    sweep_config = make_config()\n",
    "    sweep_id = wandb.sweep(\n",
    "        sweep_config, \n",
    "        project=\"scinet-demo-v2\", \n",
    "        entity=\"fdl2022_team_geomechanics-for-co2-sequestration\"\n",
    "    )\n",
    "    print(\"sweep_id:\", sweep_id)\n",
    "    # wandb.agent(sweep_id, function=run_exp, count=100)\n",
    "    wandb.agent(sweep_id, function=run_exp)\n"
   ]
  },
  {
   "cell_type": "code",
   "execution_count": null,
   "id": "c4229b93-46fd-4594-bb14-969c132d950a",
   "metadata": {},
   "outputs": [],
   "source": []
  }
 ],
 "metadata": {
  "environment": {
   "kernel": "python3",
   "name": "pytorch-gpu.1-10.m90",
   "type": "gcloud",
   "uri": "gcr.io/deeplearning-platform-release/pytorch-gpu.1-10:m90"
  },
  "kernelspec": {
   "display_name": "Python 3",
   "language": "python",
   "name": "python3"
  },
  "language_info": {
   "codemirror_mode": {
    "name": "ipython",
    "version": 3
   },
   "file_extension": ".py",
   "mimetype": "text/x-python",
   "name": "python",
   "nbconvert_exporter": "python",
   "pygments_lexer": "ipython3",
   "version": "3.7.12"
  }
 },
 "nbformat": 4,
 "nbformat_minor": 5
}
