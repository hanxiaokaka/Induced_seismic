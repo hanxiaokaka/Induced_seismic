{
 "cells": [
  {
   "cell_type": "code",
   "execution_count": 197,
   "metadata": {},
   "outputs": [],
   "source": [
    "import numpy as np\n",
    "import torch\n",
    "import torch.nn as nn\n",
    "import matplotlib.pyplot as plt\n",
    "import torch.nn.functional as F\n",
    "import torch.optim as optim\n",
    "from saif.crs_model.peakdetector import pk_indxs\n",
    "import saif.scinet.model as scinet\n",
    "# plt.style.use('ggplot')\n",
    "\n",
    "%matplotlib inline"
   ]
  },
  {
   "cell_type": "code",
   "execution_count": 196,
   "metadata": {},
   "outputs": [],
   "source": [
    "# from saif.scinet.dataset import daily_seismic_and_interpolated_pressure\n",
    "# from saif.scinet.dataset import construct_time_series_dataset\n",
    "\n",
    "from dataset import daily_seismic_and_interpolated_pressure\n",
    "from dataset import construct_time_series_dataset\n",
    "from dataset import overlap_and_interpolate\n",
    "from dataset import aggregate_seismic\n",
    "\n",
    "from torch.utils.data import DataLoader"
   ]
  },
  {
   "cell_type": "code",
   "execution_count": 3,
   "metadata": {},
   "outputs": [],
   "source": [
    "import pandas as pd\n",
    "# seismic = pd.read_csv(\"../../data/02_intermediate/seismic.csv\", index_col=0)\n",
    "# pressure = pd.read_csv(\"../../data/02_intermediate/pressure.csv\", index_col=0)\n",
    "\n",
    "seismic_original = pd.read_csv(\"seismic.csv\",index_col=0)\n",
    "pressure_original = pd.read_csv(\"pressure.csv\",index_col=0)\n",
    "\n",
    "# seismic = seismic.drop(columns=['kmeans'])\n",
    "\n",
    "seismic = pd.read_csv(\"temporal_datasets_decatur_illinois_seismic_new.csv\",index_col=None)\n",
    "pressure = pd.read_csv(\"temporal_datasets_decatur_illinois_pressure_new.csv\",index_col=None)\n",
    "\n",
    "pressure[\"epoch\"] = pressure[\"epoch\"]\n",
    "\n"
   ]
  },
  {
   "cell_type": "code",
   "execution_count": 4,
   "metadata": {},
   "outputs": [],
   "source": [
    "features_original, target_vals_original = daily_seismic_and_interpolated_pressure(seismic_original, pressure_original)\n"
   ]
  },
  {
   "cell_type": "code",
   "execution_count": 5,
   "metadata": {},
   "outputs": [],
   "source": [
    "features, target_vals = daily_seismic_and_interpolated_pressure(seismic, pressure)\n"
   ]
  },
  {
   "cell_type": "code",
   "execution_count": 6,
   "metadata": {},
   "outputs": [],
   "source": [
    "input_len = 16 # try wider window power of 2\n",
    "horizon = 7 # prediction window\n",
    "\n",
    "# Trying out different input_len and horizon\n",
    "input_len = 64\n",
    "horizon = 7"
   ]
  },
  {
   "cell_type": "code",
   "execution_count": 7,
   "metadata": {},
   "outputs": [],
   "source": [
    "features = features[['pressure','dpdt','seismic']]"
   ]
  },
  {
   "cell_type": "code",
   "execution_count": 8,
   "metadata": {},
   "outputs": [
    {
     "data": {
      "text/html": [
       "<div>\n",
       "<style scoped>\n",
       "    .dataframe tbody tr th:only-of-type {\n",
       "        vertical-align: middle;\n",
       "    }\n",
       "\n",
       "    .dataframe tbody tr th {\n",
       "        vertical-align: top;\n",
       "    }\n",
       "\n",
       "    .dataframe thead th {\n",
       "        text-align: right;\n",
       "    }\n",
       "</style>\n",
       "<table border=\"1\" class=\"dataframe\">\n",
       "  <thead>\n",
       "    <tr style=\"text-align: right;\">\n",
       "      <th></th>\n",
       "      <th>pressure</th>\n",
       "      <th>dpdt</th>\n",
       "      <th>seismic</th>\n",
       "    </tr>\n",
       "  </thead>\n",
       "  <tbody>\n",
       "    <tr>\n",
       "      <th>0</th>\n",
       "      <td>8.599065e+06</td>\n",
       "      <td>0.017439</td>\n",
       "      <td>1.0</td>\n",
       "    </tr>\n",
       "    <tr>\n",
       "      <th>1</th>\n",
       "      <td>8.601838e+06</td>\n",
       "      <td>0.018007</td>\n",
       "      <td>1.0</td>\n",
       "    </tr>\n",
       "    <tr>\n",
       "      <th>2</th>\n",
       "      <td>8.604612e+06</td>\n",
       "      <td>0.018575</td>\n",
       "      <td>2.0</td>\n",
       "    </tr>\n",
       "    <tr>\n",
       "      <th>3</th>\n",
       "      <td>8.607385e+06</td>\n",
       "      <td>0.019143</td>\n",
       "      <td>2.0</td>\n",
       "    </tr>\n",
       "    <tr>\n",
       "      <th>4</th>\n",
       "      <td>8.610158e+06</td>\n",
       "      <td>0.019711</td>\n",
       "      <td>2.0</td>\n",
       "    </tr>\n",
       "    <tr>\n",
       "      <th>...</th>\n",
       "      <td>...</td>\n",
       "      <td>...</td>\n",
       "      <td>...</td>\n",
       "    </tr>\n",
       "    <tr>\n",
       "      <th>1106</th>\n",
       "      <td>8.652984e+06</td>\n",
       "      <td>-0.029754</td>\n",
       "      <td>4886.0</td>\n",
       "    </tr>\n",
       "    <tr>\n",
       "      <th>1107</th>\n",
       "      <td>8.649775e+06</td>\n",
       "      <td>-0.030196</td>\n",
       "      <td>4886.0</td>\n",
       "    </tr>\n",
       "    <tr>\n",
       "      <th>1108</th>\n",
       "      <td>8.646565e+06</td>\n",
       "      <td>-0.030638</td>\n",
       "      <td>4889.0</td>\n",
       "    </tr>\n",
       "    <tr>\n",
       "      <th>1109</th>\n",
       "      <td>8.643355e+06</td>\n",
       "      <td>-0.031079</td>\n",
       "      <td>4890.0</td>\n",
       "    </tr>\n",
       "    <tr>\n",
       "      <th>1110</th>\n",
       "      <td>8.640145e+06</td>\n",
       "      <td>-0.031521</td>\n",
       "      <td>5420.0</td>\n",
       "    </tr>\n",
       "  </tbody>\n",
       "</table>\n",
       "<p>1111 rows × 3 columns</p>\n",
       "</div>"
      ],
      "text/plain": [
       "          pressure      dpdt  seismic\n",
       "0     8.599065e+06  0.017439      1.0\n",
       "1     8.601838e+06  0.018007      1.0\n",
       "2     8.604612e+06  0.018575      2.0\n",
       "3     8.607385e+06  0.019143      2.0\n",
       "4     8.610158e+06  0.019711      2.0\n",
       "...            ...       ...      ...\n",
       "1106  8.652984e+06 -0.029754   4886.0\n",
       "1107  8.649775e+06 -0.030196   4886.0\n",
       "1108  8.646565e+06 -0.030638   4889.0\n",
       "1109  8.643355e+06 -0.031079   4890.0\n",
       "1110  8.640145e+06 -0.031521   5420.0\n",
       "\n",
       "[1111 rows x 3 columns]"
      ]
     },
     "execution_count": 8,
     "metadata": {},
     "output_type": "execute_result"
    }
   ],
   "source": [
    "features"
   ]
  },
  {
   "cell_type": "markdown",
   "metadata": {},
   "source": [
    "Visualization of the train / test split"
   ]
  },
  {
   "cell_type": "code",
   "execution_count": 80,
   "metadata": {},
   "outputs": [
    {
     "data": {
      "text/plain": [
       "Text(0, 0.5, 'normalized cumulative counts')"
      ]
     },
     "execution_count": 80,
     "metadata": {},
     "output_type": "execute_result"
    },
    {
     "data": {
      "image/png": "[encoded data removed]",
      "text/plain": [
       "<Figure size 432x288 with 1 Axes>"
      ]
     },
     "metadata": {
      "needs_background": "light"
     },
     "output_type": "display_data"
    }
   ],
   "source": [
    "train_dset, test_dset, x_scaler, y_scaler = construct_time_series_dataset(\n",
    "    features, target_vals, \n",
    "    input_len, horizon, features.columns, \n",
    "    train_test_split=0.8, normalize_data=True # try train_test_split=0.75\n",
    "    # train_test_split=0.75, normalize_data=True\n",
    ")\n",
    "\n",
    "plt.figure()\n",
    "plt.plot(np.arange(len(train_dset.Y)), train_dset.Y, label='training')\n",
    "plt.plot(np.arange(len(test_dset.Y)) + len(train_dset.Y), test_dset.Y, label='test')\n",
    "plt.legend()\n",
    "plt.xlabel('days')\n",
    "plt.ylabel('normalized cumulative counts')"
   ]
  },
  {
   "cell_type": "markdown",
   "metadata": {},
   "source": [
    "### Model Architecture"
   ]
  },
  {
   "cell_type": "code",
   "execution_count": 10,
   "metadata": {},
   "outputs": [],
   "source": [
    "class SimpleSCINet(nn.Module):\n",
    "    def __init__(\n",
    "        self, \n",
    "        input_len, output_len,\n",
    "        input_dim, num_levels, kernel_size, dropout, groups, hidden_size\n",
    "    ):\n",
    "        super().__init__()\n",
    "        \n",
    "        self.input_len = input_len\n",
    "        self.output_len = output_len\n",
    "        self.input_dim = input_dim\n",
    "        self.hidden_size = hidden_size\n",
    "        self.num_levels = num_levels\n",
    "        self.groups = groups\n",
    "        self.kernel_size = kernel_size\n",
    "        self.dropout = dropout\n",
    "        \n",
    "        self.bn1 = nn.BatchNorm1d(self.input_dim)\n",
    "        self.bn2 = nn.BatchNorm1d(self.input_dim)\n",
    "        \n",
    "        self.block1 = scinet.EncoderTree(\n",
    "            in_planes=self.input_dim,\n",
    "            num_levels=self.num_levels,\n",
    "            kernel_size=self.kernel_size,\n",
    "            dropout=self.dropout,\n",
    "            groups=self.groups,\n",
    "            hidden_size=self.hidden_size,\n",
    "            INN=True\n",
    "        )\n",
    "        \n",
    "        # I'm a bit iffy on using a projector like this across features\n",
    "        # But this is what they do in scinet\n",
    "        # It should be fine, kernel size is 1, it's essentially just an\n",
    "        # aggregation operation\n",
    "        self.time_projector = nn.Conv1d(\n",
    "            self.input_len, self.output_len,\n",
    "            kernel_size=1, stride=1, bias=False\n",
    "        )\n",
    "        \n",
    "        self.channel_projector = nn.Conv1d(\n",
    "            self.input_dim, 1, kernel_size=1, stride=1, bias=True\n",
    "        )\n",
    "    \n",
    "    def forward(self, x):\n",
    "        out = x.permute(0, 2, 1)\n",
    "        out = self.bn1(out)\n",
    "        out = out.permute(0, 2, 1)\n",
    "        \n",
    "        out = self.block1(out)\n",
    "        out += out\n",
    "        \n",
    "        out = F.relu(out)\n",
    "        out = self.time_projector(out)\n",
    "        \n",
    "        out = out.permute(0, 2, 1)\n",
    "        out = self.bn2(out)\n",
    "        out = F.relu(out)\n",
    "        \n",
    "        out = self.channel_projector(out).squeeze(1)\n",
    "        \n",
    "        #Enforcing monotonicity\n",
    "        #out = torch.exp(out)\n",
    "        #out = F.relu(out)\n",
    "        # Exp has numerical issues, and relu was collapsing.\n",
    "        # Squaring is also a positive operation\n",
    "        out = out ** 2\n",
    "        #out = torch.sigmoid(out)\n",
    "        out = out.cumsum(-1) + x[:, -1, -1, None]\n",
    "        \n",
    "        return out"
   ]
  },
  {
   "cell_type": "markdown",
   "metadata": {},
   "source": [
    "### Hyperparameters"
   ]
  },
  {
   "cell_type": "code",
   "execution_count": 11,
   "metadata": {},
   "outputs": [],
   "source": [
    "input_dim = train_dset.X.shape[1]\n",
    "num_levels = 2 # number of levels in the scinet tree\n",
    "kernel_size = 4 # kernel size for the conv1D operations\n",
    "dropout = 0.5 # dropout regularization params\n",
    "groups = 1 # number of groups in the conv1D operation\n",
    "hidden_size = 3 # scaling factor for the hidden dimension\n",
    "\n",
    "lr = 1e-3 # learning rate\n",
    "# n_epoch = 64 # number of epochs\n",
    "n_epoch = 64\n",
    "\n",
    "# Choose your loss function!/\n",
    "# criterion = nn.MSELoss() # L2 loss\n",
    "criterion = nn.HuberLoss() #An alternative, smoother version of the L1 Loss\n",
    "# Less sensitive to outliers, less prone to exploding gradients"
   ]
  },
  {
   "cell_type": "markdown",
   "metadata": {},
   "source": [
    "### Run Training"
   ]
  },
  {
   "cell_type": "code",
   "execution_count": 12,
   "metadata": {},
   "outputs": [],
   "source": [
    "\n",
    "from tqdm.notebook import tqdm"
   ]
  },
  {
   "cell_type": "code",
   "execution_count": 13,
   "metadata": {},
   "outputs": [
    {
     "data": {
      "application/vnd.jupyter.widget-view+json": {
       "model_id": "c12cce9becf343f0af0efd00e4fd5926",
       "version_major": 2,
       "version_minor": 0
      },
      "text/plain": [
       "  0%|          | 0/64 [00:00<?, ?it/s]"
      ]
     },
     "metadata": {},
     "output_type": "display_data"
    }
   ],
   "source": [
    "torch.manual_seed(0) # Use different seeds for 10 times\n",
    "\n",
    "train_loader = DataLoader(\n",
    "    train_dset,\n",
    "    batch_size=32,\n",
    "    shuffle=True,\n",
    "    num_workers=1\n",
    ")\n",
    "\n",
    "test_loader = DataLoader(\n",
    "    test_dset,\n",
    "    batch_size=32,\n",
    "    shuffle=False,\n",
    "    num_workers=1\n",
    ")\n",
    "\n",
    "model = SimpleSCINet(\n",
    "    input_len, horizon,\n",
    "    input_dim, num_levels, kernel_size, \n",
    "    dropout, groups, hidden_size\n",
    ")\n",
    "\n",
    "optimizer = optim.Adam(model.parameters(), lr=lr)\n",
    "\n",
    "train_loss_vals = []\n",
    "test_loss_vals = []\n",
    "\n",
    "\n",
    "for epoch in tqdm(range(n_epoch)):\n",
    "    #train loop\n",
    "    model.train()\n",
    "    batch_loss_vals = []\n",
    "    for (batch_x, batch_y) in train_loader:\n",
    "        optimizer.zero_grad()\n",
    "        \n",
    "        outputs = model(batch_x)\n",
    "        loss = criterion(outputs, batch_y)\n",
    "        loss.backward()\n",
    "        optimizer.step()\n",
    "        \n",
    "        batch_loss_vals.append(loss.item())\n",
    "    train_loss_vals.append(np.mean(batch_loss_vals))\n",
    "    \n",
    "    #eval loop\n",
    "    model.eval()\n",
    "    batch_loss_vals = []\n",
    "    for (batch_x, batch_y) in test_loader:        \n",
    "        outputs = model(batch_x)\n",
    "        loss = criterion(outputs, batch_y)\n",
    "        batch_loss_vals.append(loss.item())\n",
    "    test_loss_vals.append(np.mean(batch_loss_vals))"
   ]
  },
  {
   "cell_type": "code",
   "execution_count": 14,
   "metadata": {},
   "outputs": [
    {
     "data": {
      "text/plain": [
       "[0.02121907230466604,\n",
       " 0.011216092389076948,\n",
       " 0.0036151260952465235,\n",
       " 0.0019868467934429646,\n",
       " 0.0012910275196190923,\n",
       " 0.0008611781406216324,\n",
       " 0.0008153581293299794,\n",
       " 0.0006570254394318908,\n",
       " 0.0006174041453050449,\n",
       " 0.0006498607312096283,\n",
       " 0.0005657352652633562,\n",
       " 0.0005425499490229413,\n",
       " 0.0005994760867906734,\n",
       " 0.0005485319357831031,\n",
       " 0.0005253418261418119,\n",
       " 0.0005494867829838768,\n",
       " 0.000514112004020717,\n",
       " 0.0005395178770413623,\n",
       " 0.0005481574866280425,\n",
       " 0.0004986188912880607,\n",
       " 0.000517509356723167,\n",
       " 0.0005570879995502765,\n",
       " 0.0005339737286703894,\n",
       " 0.0005767142924014479,\n",
       " 0.0005423267020887579,\n",
       " 0.0005930806564720115,\n",
       " 0.0005546873198909452,\n",
       " 0.0005902206074097193,\n",
       " 0.0005926412603002972,\n",
       " 0.0005847632244694978,\n",
       " 0.0005834336072439328,\n",
       " 0.0005983779723464977,\n",
       " 0.0005690267134923488,\n",
       " 0.0006001991403536521,\n",
       " 0.0005943776610365603,\n",
       " 0.000576672176248394,\n",
       " 0.0005820262602355796,\n",
       " 0.0005624245357466861,\n",
       " 0.0005743078349041752,\n",
       " 0.0005768570903455838,\n",
       " 0.0005428458694950678,\n",
       " 0.0005479761384776793,\n",
       " 0.0005702850212401245,\n",
       " 0.0005946123706962681,\n",
       " 0.0005675537802744656,\n",
       " 0.0005656486831867369,\n",
       " 0.0005315461748978123,\n",
       " 0.0005213103970163502,\n",
       " 0.0004929134229314514,\n",
       " 0.0005269984612823464,\n",
       " 0.0005398117304139305,\n",
       " 0.0005523431143956258,\n",
       " 0.000544981822167756,\n",
       " 0.0005142126086866483,\n",
       " 0.0005292680056300014,\n",
       " 0.0005190692652831785,\n",
       " 0.0005560344259720295,\n",
       " 0.0005365868186345324,\n",
       " 0.0005405974930908997,\n",
       " 0.0005664968142809812,\n",
       " 0.0005461578115500742,\n",
       " 0.0005104885502078104,\n",
       " 0.0005256958182144444,\n",
       " 0.0005035881913499907]"
      ]
     },
     "execution_count": 14,
     "metadata": {},
     "output_type": "execute_result"
    }
   ],
   "source": [
    "# print Huber Loss\n",
    "test_loss_vals"
   ]
  },
  {
   "cell_type": "code",
   "execution_count": 15,
   "metadata": {},
   "outputs": [
    {
     "data": {
      "text/plain": [
       "Text(0.5, 0, 'Epoch')"
      ]
     },
     "execution_count": 15,
     "metadata": {},
     "output_type": "execute_result"
    },
    {
     "data": {
      "image/png": "[encoded data removed]",
      "text/plain": [
       "<Figure size 432x288 with 1 Axes>"
      ]
     },
     "metadata": {
      "needs_background": "light"
     },
     "output_type": "display_data"
    }
   ],
   "source": [
    "plt.plot(train_loss_vals, color='g', label='train')\n",
    "plt.plot(test_loss_vals, color='r', label='test')\n",
    "plt.legend()\n",
    "plt.ylabel('Huberloss')\n",
    "# plt.ylim([0,2])\n",
    "plt.yscale('log')\n",
    "plt.xlabel('Epoch')"
   ]
  },
  {
   "cell_type": "code",
   "execution_count": 18,
   "metadata": {},
   "outputs": [
    {
     "data": {
      "image/png": "[encoded data removed]",
      "text/plain": [
       "<Figure size 576x576 with 1 Axes>"
      ]
     },
     "metadata": {
      "needs_background": "light"
     },
     "output_type": "display_data"
    }
   ],
   "source": [
    "start_input = 0\n",
    "end_input = start_input + input_len\n",
    "end_output = end_input + horizon\n",
    "\n",
    "sample_x = torch.clone(test_dset.X[start_input:end_input])\n",
    "input_y = torch.clone(test_dset.Y[start_input:end_input+1])\n",
    "output_y = torch.clone(test_dset.Y[end_input:end_output])\n",
    "\n",
    "def monte_carlo_sample(model, x, n_samples=50, seed=0):\n",
    "    torch.manual_seed(seed)\n",
    "    model.train()\n",
    "    \n",
    "    # We want the model to be in training mode\n",
    "    # Except for the BN.\n",
    "    # There is potentially a more elegant way to do this\n",
    "    # Ex by making a different \"mode\" in our own model groups\n",
    "    model.bn1.training = False\n",
    "    model.bn2.training = False\n",
    "    \n",
    "    samples = []\n",
    "    for _ in range(n_samples):\n",
    "        samples.append(model(x).data)\n",
    "    samples = torch.stack(samples)\n",
    "    \n",
    "    model.eval()\n",
    "    return samples.permute(1, 0, 2)\n",
    "\n",
    "model.eval()\n",
    "pred_y = model(sample_x[None, :, :]).squeeze(0).data\n",
    "\n",
    "samples = monte_carlo_sample(model, sample_x[None, :, :], n_samples=10)\n",
    "samples = samples.squeeze(0).data.numpy()\n",
    "\n",
    "sample_mean = samples.mean(0)\n",
    "sample_std = samples.std(0)\n",
    "\n",
    "## You can use mean +/- std, or percentile, to visualize the distribtion\n",
    "\n",
    "# Uncomment to use mean +/- std\n",
    "#sample_ub = sample_mean + sample_std\n",
    "#sample_lb = sample_mean - sample_std\n",
    "\n",
    "# Use percentiles\n",
    "sample_ub = np.percentile(samples, 90, axis=0)\n",
    "sample_lb = np.percentile(samples, 10, axis=0)\n",
    "\n",
    "sample_max = samples.max(0)\n",
    "sample_min = samples.min(0)\n",
    "\n",
    "fig, ax = plt.subplots(1, 1, figsize=(8,8))\n",
    "\n",
    "ax.plot(np.arange(start_input, end_input+1), input_y, 'r', marker='o', label='observed')\n",
    "ax.plot(np.arange(end_input, end_output), output_y, 'r', marker='o')\n",
    "ax.fill_between(np.arange(end_input, end_output), sample_ub, sample_lb, alpha=0.1, color='b')\n",
    "ax.fill_between(np.arange(end_input, end_output), sample_max, sample_min, alpha=0.05, color='b')\n",
    "ax.plot(np.arange(end_input, end_output), pred_y, 'b', marker='o', label='forecast')\n",
    "\n",
    "plt.xlabel('days')\n",
    "plt.ylabel('normalized cumulative counts')\n",
    "plt.legend(loc='lower right')\n",
    "plt.show()"
   ]
  },
  {
   "cell_type": "markdown",
   "metadata": {},
   "source": [
    "Visualize the forecast"
   ]
  },
  {
   "cell_type": "markdown",
   "metadata": {},
   "source": []
  },
  {
   "cell_type": "markdown",
   "metadata": {},
   "source": [
    "## Trying out new prediction routine "
   ]
  },
  {
   "cell_type": "code",
   "execution_count": 139,
   "metadata": {},
   "outputs": [],
   "source": [
    "n_horizons_forcast = 32\n",
    "start_input = 0\n",
    "end_input = start_input + input_len\n",
    "end_output = end_input + n_horizons_forcast*horizon\n",
    "\n",
    "# sample_x = torch.clone(test_dset.X[start_input:end_input])\n",
    "# input_y = torch.clone(test_dset.Y[start_input:end_input+1])\n",
    "# output_y = torch.clone(test_dset.Y[end_input:end_output])\n",
    "\n",
    "sample_x = torch.clone(train_dset.X[-input_len:])\n",
    "input_y = torch.clone(train_dset.Y[-input_len:])\n",
    "# output_y = torch.clone(test_dset.Y[start_input:start_input+n_horizons_forcast*horizon])\n",
    "\n",
    "\n",
    "# forecast_X = torch.clone(train_dset.X[-input_len:])\n",
    "forecast_X = torch.cat((torch.clone(train_dset.X[-input_len:]),torch.clone(test_dset.X)))\n",
    "# output_y = torch.cat((\n",
    "#     # torch.clone(train_dset.Y[-input_len:]),\n",
    "#     torch.clone(test_dset.Y)\n",
    "# ))\n",
    "output_y = torch.clone(test_dset.Y[:-1])\n"
   ]
  },
  {
   "cell_type": "code",
   "execution_count": 140,
   "metadata": {},
   "outputs": [
    {
     "data": {
      "text/plain": [
       "tensor([1.1563, 1.1604, 1.1620, 1.1628, 1.1644, 1.1652, 1.1660, 1.1676, 1.1676,\n",
       "        1.1701, 1.1733, 1.1781, 1.1806, 1.1814, 1.1830, 1.1854, 1.1894, 1.1902,\n",
       "        1.1910, 1.2023, 1.2144, 1.2241, 1.2257, 1.2274, 1.2290, 1.2362, 1.2370,\n",
       "        1.2403, 1.2435, 1.2508, 1.2548, 1.2612, 1.2653, 1.2685, 1.2709, 1.2742,\n",
       "        1.2766, 1.2782, 1.2814, 1.2855, 1.2871, 1.2943, 1.3056, 1.3177, 1.3226,\n",
       "        1.3306, 1.3323, 1.3355, 1.3411, 1.3597, 1.3613, 1.3637, 1.3645, 1.3686,\n",
       "        1.3710, 1.3815, 1.3896, 1.3952, 1.4065, 1.4113, 1.4251, 1.4323, 1.4372,\n",
       "        1.4444, 1.4476, 1.4541, 1.4573, 1.4694, 1.4743, 1.4775, 1.4904, 1.4945,\n",
       "        1.4993, 1.5098, 1.5170, 1.5227, 1.5267, 1.5324, 1.5396, 1.5461, 1.5526,\n",
       "        1.5582, 1.5598, 1.5630, 1.6179, 1.6284, 1.6357, 1.6389, 1.6534, 1.6631,\n",
       "        1.6712, 1.6833, 1.6881, 1.6913, 1.6986, 1.7381, 1.7535, 1.7688, 1.7728,\n",
       "        1.7841, 1.7962, 1.8011, 1.8075, 1.8116, 1.8124, 1.8132, 1.8148, 1.8172,\n",
       "        1.8213, 1.8261, 1.8277, 1.8293, 1.8309, 1.8947, 1.9270, 1.9455, 1.9568,\n",
       "        1.9641, 1.9714, 1.9746, 1.9778, 1.9843, 1.9875, 1.9899, 1.9980, 2.0004,\n",
       "        2.0044, 2.0077, 2.0101, 2.0133, 2.0182, 2.0190, 2.0206, 2.0214, 2.0222,\n",
       "        2.0254, 2.0286, 2.0311, 2.0327, 2.0343, 2.0383, 2.0391, 2.0399, 2.0440,\n",
       "        2.0504, 2.0561, 2.0601, 2.0682, 2.0803, 2.0843, 2.0964, 2.1093, 2.1134,\n",
       "        2.1182, 2.1206, 2.1231, 2.1263, 2.1327, 2.1368, 2.1368, 2.1368, 2.1384,\n",
       "        2.1392, 2.1416, 2.1440, 2.1448, 2.1457, 2.1457, 2.1481, 2.1489, 2.1489,\n",
       "        2.1497, 2.1505, 2.1505, 2.1529, 2.1545, 2.1561, 2.1561, 2.1578, 2.1594,\n",
       "        2.1618, 2.1626, 2.1626, 2.1642, 2.1650, 2.1699, 2.1715, 2.1731, 2.1731,\n",
       "        2.1731, 2.1731, 2.1747, 2.1763, 2.1771, 2.1787, 2.1795, 2.1836, 2.1844,\n",
       "        2.1860, 2.1876, 2.1876, 2.1941, 2.1949, 2.1957, 2.1965, 2.1981, 2.1997,\n",
       "        2.1997, 2.2021, 2.2038, 2.2046, 2.2054, 2.2070, 2.2078, 2.2086, 2.2102,\n",
       "        2.2126, 2.2134, 2.2167, 2.2167, 2.2191, 2.2199, 2.6476])"
      ]
     },
     "execution_count": 140,
     "metadata": {},
     "output_type": "execute_result"
    }
   ],
   "source": [
    "test_dset.Y"
   ]
  },
  {
   "cell_type": "code",
   "execution_count": 141,
   "metadata": {},
   "outputs": [],
   "source": [
    "torch.manual_seed(0)\n",
    "model.eval()\n",
    "predictions = []\n",
    "outputs_y = []\n",
    "sample_x = torch.clone(forecast_X[start_input:end_input])\n",
    "for i in range(n_horizons_forcast):\n",
    "    _predict = model(sample_x[None,:,:])\n",
    "    predictions.append(_predict.data.squeeze()) # output?\n",
    "    sample_x = torch.clone(forecast_X[start_input+i*horizon:end_input+i*horizon])\n",
    "    sample_x[None,-horizon:,-1] = _predict.data.squeeze() # replacing last seismic data with the prediction\n",
    "    # model.eval()\n",
    "\n",
    "\n",
    "\n",
    "# outputs_y.append(output_y)\n",
    "# _predict = model(sample_x[None,:,:])\n",
    "# predictions.append(_predict.data.squeeze())"
   ]
  },
  {
   "cell_type": "code",
   "execution_count": 142,
   "metadata": {},
   "outputs": [
    {
     "data": {
      "text/plain": [
       "<matplotlib.legend.Legend at 0x295afbcd0>"
      ]
     },
     "execution_count": 142,
     "metadata": {},
     "output_type": "execute_result"
    },
    {
     "data": {
      "image/png": "[encoded data removed]",
      "text/plain": [
       "<Figure size 432x288 with 1 Axes>"
      ]
     },
     "metadata": {
      "needs_background": "light"
     },
     "output_type": "display_data"
    }
   ],
   "source": [
    "plt.plot(np.arange(0,len(train_dset.Y)),train_dset.Y,'r',label='observations')\n",
    "plt.plot(np.arange(len(train_dset.Y),len(train_dset.Y)+len(torch.cat(predictions))),torch.cat(predictions).squeeze(),'b',label='predictions')\n",
    "plt.plot(np.arange(len(train_dset.Y),len(train_dset.Y)+len(output_y)),output_y,'r')\n",
    "plt.legend()"
   ]
  },
  {
   "cell_type": "markdown",
   "metadata": {},
   "source": []
  },
  {
   "cell_type": "code",
   "execution_count": 127,
   "metadata": {},
   "outputs": [],
   "source": [
    "predictions_array = np.array(torch.cat(predictions))"
   ]
  },
  {
   "cell_type": "code",
   "execution_count": 144,
   "metadata": {},
   "outputs": [],
   "source": [
    "forecast_df = pd.DataFrame({\n",
    "    'days':np.arange(len(train_dset.Y),len(train_dset.Y)+len(output_y)),\n",
    "    'predictions':predictions_array[0:len(output_y)],\n",
    "    'observations': output_y\n",
    "})"
   ]
  },
  {
   "cell_type": "code",
   "execution_count": 146,
   "metadata": {},
   "outputs": [],
   "source": [
    "forecast_df.to_csv('forecasting.csv',index=None)"
   ]
  },
  {
   "cell_type": "code",
   "execution_count": 167,
   "metadata": {},
   "outputs": [],
   "source": [
    "predictions_cumulative = y_scaler.inverse_transform(np.array(torch.cat(predictions)).reshape(-1,1)).squeeze()"
   ]
  },
  {
   "cell_type": "code",
   "execution_count": 161,
   "metadata": {},
   "outputs": [],
   "source": [
    "output_y_cumulative = y_scaler.inverse_transform(np.array(output_y).reshape(-1,1))"
   ]
  },
  {
   "cell_type": "code",
   "execution_count": 163,
   "metadata": {},
   "outputs": [],
   "source": [
    "train_y_cumulative = y_scaler.inverse_transform(np.array(train_dset.Y).reshape(-1,1))"
   ]
  },
  {
   "cell_type": "code",
   "execution_count": 175,
   "metadata": {},
   "outputs": [
    {
     "data": {
      "text/plain": [
       "array([0.        , 0.00273785, 0.0054757 , 0.00821355, 0.0109514 ,\n",
       "       0.01368925, 0.0164271 , 0.01916496, 0.02190281, 0.02464066,\n",
       "       0.02737851, 0.03011636, 0.03285421, 0.03559206, 0.03832991,\n",
       "       0.04106776, 0.04380561, 0.04654346, 0.04928131, 0.05201916,\n",
       "       0.05475702, 0.05749487, 0.06023272, 0.06297057, 0.06570842,\n",
       "       0.06844627, 0.07118412, 0.07392197, 0.07665982, 0.07939767,\n",
       "       0.08213552, 0.08487337, 0.08761123, 0.09034908, 0.09308693,\n",
       "       0.09582478, 0.09856263, 0.10130048, 0.10403833, 0.10677618,\n",
       "       0.10951403, 0.11225188, 0.11498973, 0.11772758, 0.12046543,\n",
       "       0.12320329, 0.12594114, 0.12867899, 0.13141684, 0.13415469,\n",
       "       0.13689254, 0.13963039, 0.14236824, 0.14510609, 0.14784394,\n",
       "       0.15058179, 0.15331964, 0.15605749, 0.15879535, 0.1615332 ,\n",
       "       0.16427105, 0.1670089 , 0.16974675, 0.1724846 , 0.17522245,\n",
       "       0.1779603 , 0.18069815, 0.183436  , 0.18617385, 0.1889117 ,\n",
       "       0.19164956, 0.19438741, 0.19712526, 0.19986311, 0.20260096,\n",
       "       0.20533881, 0.20807666, 0.21081451, 0.21355236, 0.21629021,\n",
       "       0.21902806, 0.22176591, 0.22450376, 0.22724162, 0.22997947,\n",
       "       0.23271732, 0.23545517, 0.23819302, 0.24093087, 0.24366872,\n",
       "       0.24640657, 0.24914442, 0.25188227, 0.25462012, 0.25735797,\n",
       "       0.26009582, 0.26283368, 0.26557153, 0.26830938, 0.27104723,\n",
       "       0.27378508, 0.27652293, 0.27926078, 0.28199863, 0.28473648,\n",
       "       0.28747433, 0.29021218, 0.29295003, 0.29568789, 0.29842574,\n",
       "       0.30116359, 0.30390144, 0.30663929, 0.30937714, 0.31211499,\n",
       "       0.31485284, 0.31759069, 0.32032854, 0.32306639, 0.32580424,\n",
       "       0.32854209, 0.33127995, 0.3340178 , 0.33675565, 0.3394935 ,\n",
       "       0.34223135, 0.3449692 , 0.34770705, 0.3504449 , 0.35318275,\n",
       "       0.3559206 , 0.35865845, 0.3613963 , 0.36413415, 0.36687201,\n",
       "       0.36960986, 0.37234771, 0.37508556, 0.37782341, 0.38056126,\n",
       "       0.38329911, 0.38603696, 0.38877481, 0.39151266, 0.39425051,\n",
       "       0.39698836, 0.39972621, 0.40246407, 0.40520192, 0.40793977,\n",
       "       0.41067762, 0.41341547, 0.41615332, 0.41889117, 0.42162902,\n",
       "       0.42436687, 0.42710472, 0.42984257, 0.43258042, 0.43531828,\n",
       "       0.43805613, 0.44079398, 0.44353183, 0.44626968, 0.44900753,\n",
       "       0.45174538, 0.45448323, 0.45722108, 0.45995893, 0.46269678,\n",
       "       0.46543463, 0.46817248, 0.47091034, 0.47364819, 0.47638604,\n",
       "       0.47912389, 0.48186174, 0.48459959, 0.48733744, 0.49007529,\n",
       "       0.49281314, 0.49555099, 0.49828884, 0.50102669, 0.50376454,\n",
       "       0.5065024 , 0.50924025, 0.5119781 , 0.51471595, 0.5174538 ,\n",
       "       0.52019165, 0.5229295 , 0.52566735, 0.5284052 , 0.53114305,\n",
       "       0.5338809 , 0.53661875, 0.53935661, 0.54209446, 0.54483231,\n",
       "       0.54757016, 0.55030801, 0.55304586, 0.55578371, 0.55852156,\n",
       "       0.56125941, 0.56399726, 0.56673511, 0.56947296, 0.57221081,\n",
       "       0.57494867, 0.57768652, 0.58042437, 0.58316222, 0.58590007,\n",
       "       0.58863792, 0.59137577, 0.59411362, 0.59685147, 0.59958932,\n",
       "       0.60232717, 0.60506502, 0.60780287, 0.61054073, 0.61327858,\n",
       "       0.61601643, 0.61875428, 0.62149213, 0.62422998, 0.62696783,\n",
       "       0.62970568, 0.63244353, 0.63518138, 0.63791923, 0.64065708,\n",
       "       0.64339493, 0.64613279, 0.64887064, 0.65160849, 0.65434634,\n",
       "       0.65708419, 0.65982204, 0.66255989, 0.66529774, 0.66803559,\n",
       "       0.67077344, 0.67351129, 0.67624914, 0.678987  , 0.68172485,\n",
       "       0.6844627 , 0.68720055, 0.6899384 , 0.69267625, 0.6954141 ,\n",
       "       0.69815195, 0.7008898 , 0.70362765, 0.7063655 , 0.70910335,\n",
       "       0.7118412 , 0.71457906, 0.71731691, 0.72005476, 0.72279261,\n",
       "       0.72553046, 0.72826831, 0.73100616, 0.73374401, 0.73648186,\n",
       "       0.73921971, 0.74195756, 0.74469541, 0.74743326, 0.75017112,\n",
       "       0.75290897, 0.75564682, 0.75838467, 0.76112252, 0.76386037,\n",
       "       0.76659822, 0.76933607, 0.77207392, 0.77481177, 0.77754962,\n",
       "       0.78028747, 0.78302533, 0.78576318, 0.78850103, 0.79123888,\n",
       "       0.79397673, 0.79671458, 0.79945243, 0.80219028, 0.80492813,\n",
       "       0.80766598, 0.81040383, 0.81314168, 0.81587953, 0.81861739,\n",
       "       0.82135524, 0.82409309, 0.82683094, 0.82956879, 0.83230664,\n",
       "       0.83504449, 0.83778234, 0.84052019, 0.84325804, 0.84599589,\n",
       "       0.84873374, 0.85147159, 0.85420945, 0.8569473 , 0.85968515,\n",
       "       0.862423  , 0.86516085, 0.8678987 , 0.87063655, 0.8733744 ,\n",
       "       0.87611225, 0.8788501 , 0.88158795, 0.8843258 , 0.88706366,\n",
       "       0.88980151, 0.89253936, 0.89527721, 0.89801506, 0.90075291,\n",
       "       0.90349076, 0.90622861, 0.90896646, 0.91170431, 0.91444216,\n",
       "       0.91718001, 0.91991786, 0.92265572, 0.92539357, 0.92813142,\n",
       "       0.93086927, 0.93360712, 0.93634497, 0.93908282, 0.94182067,\n",
       "       0.94455852, 0.94729637, 0.95003422, 0.95277207, 0.95550992,\n",
       "       0.95824778, 0.96098563, 0.96372348, 0.96646133, 0.96919918,\n",
       "       0.97193703, 0.97467488, 0.97741273, 0.98015058, 0.98288843,\n",
       "       0.98562628, 0.98836413, 0.99110198, 0.99383984, 0.99657769,\n",
       "       0.99931554, 1.00205339, 1.00479124, 1.00752909, 1.01026694,\n",
       "       1.01300479, 1.01574264, 1.01848049, 1.02121834, 1.02395619,\n",
       "       1.02669405, 1.0294319 , 1.03216975, 1.0349076 , 1.03764545,\n",
       "       1.0403833 , 1.04312115, 1.045859  , 1.04859685, 1.0513347 ,\n",
       "       1.05407255, 1.0568104 , 1.05954825, 1.06228611, 1.06502396,\n",
       "       1.06776181, 1.07049966, 1.07323751, 1.07597536, 1.07871321,\n",
       "       1.08145106, 1.08418891, 1.08692676, 1.08966461, 1.09240246,\n",
       "       1.09514031, 1.09787817, 1.10061602, 1.10335387, 1.10609172,\n",
       "       1.10882957, 1.11156742, 1.11430527, 1.11704312, 1.11978097,\n",
       "       1.12251882, 1.12525667, 1.12799452, 1.13073238, 1.13347023,\n",
       "       1.13620808, 1.13894593, 1.14168378, 1.14442163, 1.14715948,\n",
       "       1.14989733, 1.15263518, 1.15537303, 1.15811088, 1.16084873,\n",
       "       1.16358658, 1.16632444, 1.16906229, 1.17180014, 1.17453799,\n",
       "       1.17727584, 1.18001369, 1.18275154, 1.18548939, 1.18822724,\n",
       "       1.19096509, 1.19370294, 1.19644079, 1.19917864, 1.2019165 ,\n",
       "       1.20465435, 1.2073922 , 1.21013005, 1.2128679 , 1.21560575,\n",
       "       1.2183436 , 1.22108145, 1.2238193 , 1.22655715, 1.229295  ,\n",
       "       1.23203285, 1.2347707 , 1.23750856, 1.24024641, 1.24298426,\n",
       "       1.24572211, 1.24845996, 1.25119781, 1.25393566, 1.25667351,\n",
       "       1.25941136, 1.26214921, 1.26488706, 1.26762491, 1.27036277,\n",
       "       1.27310062, 1.27583847, 1.27857632, 1.28131417, 1.28405202,\n",
       "       1.28678987, 1.28952772, 1.29226557, 1.29500342, 1.29774127,\n",
       "       1.30047912, 1.30321697, 1.30595483, 1.30869268, 1.31143053,\n",
       "       1.31416838, 1.31690623, 1.31964408, 1.32238193, 1.32511978,\n",
       "       1.32785763, 1.33059548, 1.33333333, 1.33607118, 1.33880903,\n",
       "       1.34154689, 1.34428474, 1.34702259, 1.34976044, 1.35249829,\n",
       "       1.35523614, 1.35797399, 1.36071184, 1.36344969, 1.36618754,\n",
       "       1.36892539, 1.37166324, 1.3744011 , 1.37713895, 1.3798768 ,\n",
       "       1.38261465, 1.3853525 , 1.38809035, 1.3908282 , 1.39356605,\n",
       "       1.3963039 , 1.39904175, 1.4017796 , 1.40451745, 1.4072553 ,\n",
       "       1.40999316, 1.41273101, 1.41546886, 1.41820671, 1.42094456,\n",
       "       1.42368241, 1.42642026, 1.42915811, 1.43189596, 1.43463381,\n",
       "       1.43737166, 1.44010951, 1.44284736, 1.44558522, 1.44832307,\n",
       "       1.45106092, 1.45379877, 1.45653662, 1.45927447, 1.46201232,\n",
       "       1.46475017, 1.46748802, 1.47022587, 1.47296372, 1.47570157,\n",
       "       1.47843943, 1.48117728, 1.48391513, 1.48665298, 1.48939083,\n",
       "       1.49212868, 1.49486653, 1.49760438, 1.50034223, 1.50308008,\n",
       "       1.50581793, 1.50855578, 1.51129363, 1.51403149, 1.51676934,\n",
       "       1.51950719, 1.52224504, 1.52498289, 1.52772074, 1.53045859,\n",
       "       1.53319644, 1.53593429, 1.53867214, 1.54140999, 1.54414784,\n",
       "       1.54688569, 1.54962355, 1.5523614 , 1.55509925, 1.5578371 ,\n",
       "       1.56057495, 1.5633128 , 1.56605065, 1.5687885 , 1.57152635,\n",
       "       1.5742642 , 1.57700205, 1.5797399 , 1.58247775, 1.58521561,\n",
       "       1.58795346, 1.59069131, 1.59342916, 1.59616701, 1.59890486,\n",
       "       1.60164271, 1.60438056, 1.60711841, 1.60985626, 1.61259411,\n",
       "       1.61533196, 1.61806982, 1.62080767, 1.62354552, 1.62628337,\n",
       "       1.62902122, 1.63175907, 1.63449692, 1.63723477, 1.63997262,\n",
       "       1.64271047, 1.64544832, 1.64818617, 1.65092402, 1.65366188,\n",
       "       1.65639973, 1.65913758, 1.66187543, 1.66461328, 1.66735113,\n",
       "       1.67008898, 1.67282683, 1.67556468, 1.67830253, 1.68104038,\n",
       "       1.68377823, 1.68651608, 1.68925394, 1.69199179, 1.69472964,\n",
       "       1.69746749, 1.70020534, 1.70294319, 1.70568104, 1.70841889,\n",
       "       1.71115674, 1.71389459, 1.71663244, 1.71937029, 1.72210815,\n",
       "       1.724846  , 1.72758385, 1.7303217 , 1.73305955, 1.7357974 ,\n",
       "       1.73853525, 1.7412731 , 1.74401095, 1.7467488 , 1.74948665,\n",
       "       1.7522245 , 1.75496235, 1.75770021, 1.76043806, 1.76317591,\n",
       "       1.76591376, 1.76865161, 1.77138946, 1.77412731, 1.77686516,\n",
       "       1.77960301, 1.78234086, 1.78507871, 1.78781656, 1.79055441,\n",
       "       1.79329227, 1.79603012, 1.79876797, 1.80150582, 1.80424367,\n",
       "       1.80698152, 1.80971937, 1.81245722, 1.81519507, 1.81793292,\n",
       "       1.82067077, 1.82340862, 1.82614648, 1.82888433, 1.83162218,\n",
       "       1.83436003, 1.83709788, 1.83983573, 1.84257358, 1.84531143,\n",
       "       1.84804928, 1.85078713, 1.85352498, 1.85626283, 1.85900068,\n",
       "       1.86173854, 1.86447639, 1.86721424, 1.86995209, 1.87268994,\n",
       "       1.87542779, 1.87816564, 1.88090349, 1.88364134, 1.88637919,\n",
       "       1.88911704, 1.89185489, 1.89459274, 1.8973306 , 1.90006845,\n",
       "       1.9028063 , 1.90554415, 1.908282  , 1.91101985, 1.9137577 ,\n",
       "       1.91649555, 1.9192334 , 1.92197125, 1.9247091 , 1.92744695,\n",
       "       1.9301848 , 1.93292266, 1.93566051, 1.93839836, 1.94113621,\n",
       "       1.94387406, 1.94661191, 1.94934976, 1.95208761, 1.95482546,\n",
       "       1.95756331, 1.96030116, 1.96303901, 1.96577687, 1.96851472,\n",
       "       1.97125257, 1.97399042, 1.97672827, 1.97946612, 1.98220397,\n",
       "       1.98494182, 1.98767967, 1.99041752, 1.99315537, 1.99589322,\n",
       "       1.99863107, 2.00136893, 2.00410678, 2.00684463, 2.00958248,\n",
       "       2.01232033, 2.01505818, 2.01779603, 2.02053388, 2.02327173,\n",
       "       2.02600958, 2.02874743, 2.03148528, 2.03422313, 2.03696099,\n",
       "       2.03969884, 2.04243669, 2.04517454, 2.04791239, 2.05065024,\n",
       "       2.05338809, 2.05612594, 2.05886379, 2.06160164, 2.06433949,\n",
       "       2.06707734, 2.0698152 , 2.07255305, 2.0752909 , 2.07802875,\n",
       "       2.0807666 , 2.08350445, 2.0862423 , 2.08898015, 2.091718  ,\n",
       "       2.09445585, 2.0971937 , 2.09993155, 2.1026694 , 2.10540726,\n",
       "       2.10814511, 2.11088296, 2.11362081, 2.11635866, 2.11909651,\n",
       "       2.12183436, 2.12457221, 2.12731006, 2.13004791, 2.13278576,\n",
       "       2.13552361, 2.13826146, 2.14099932, 2.14373717, 2.14647502,\n",
       "       2.14921287, 2.15195072, 2.15468857, 2.15742642, 2.16016427,\n",
       "       2.16290212, 2.16563997, 2.16837782, 2.17111567, 2.17385352,\n",
       "       2.17659138, 2.17932923, 2.18206708, 2.18480493, 2.18754278,\n",
       "       2.19028063, 2.19301848, 2.19575633, 2.19849418, 2.20123203,\n",
       "       2.20396988, 2.20670773, 2.20944559, 2.21218344, 2.21492129,\n",
       "       2.21765914, 2.22039699, 2.22313484, 2.22587269, 2.22861054,\n",
       "       2.23134839, 2.23408624, 2.23682409, 2.23956194, 2.24229979,\n",
       "       2.24503765, 2.2477755 , 2.25051335, 2.2532512 , 2.25598905,\n",
       "       2.2587269 , 2.26146475, 2.2642026 , 2.26694045, 2.2696783 ,\n",
       "       2.27241615, 2.275154  , 2.27789185, 2.28062971, 2.28336756,\n",
       "       2.28610541, 2.28884326, 2.29158111, 2.29431896, 2.29705681,\n",
       "       2.29979466, 2.30253251, 2.30527036, 2.30800821, 2.31074606,\n",
       "       2.31348392, 2.31622177, 2.31895962, 2.32169747, 2.32443532,\n",
       "       2.32717317, 2.32991102, 2.33264887, 2.33538672, 2.33812457,\n",
       "       2.34086242, 2.34360027, 2.34633812, 2.34907598, 2.35181383,\n",
       "       2.35455168, 2.35728953, 2.36002738, 2.36276523, 2.36550308,\n",
       "       2.36824093, 2.37097878, 2.37371663, 2.37645448, 2.37919233,\n",
       "       2.38193018, 2.38466804, 2.38740589, 2.39014374, 2.39288159,\n",
       "       2.39561944, 2.39835729, 2.40109514, 2.40383299, 2.40657084,\n",
       "       2.40930869, 2.41204654, 2.41478439, 2.41752225, 2.4202601 ,\n",
       "       2.42299795, 2.4257358 , 2.42847365])"
      ]
     },
     "execution_count": 175,
     "metadata": {},
     "output_type": "execute_result"
    }
   ],
   "source": [
    "train_days = np.arange(0,len(train_dset.Y))\n",
    "train_years = train_days / 365.25"
   ]
  },
  {
   "cell_type": "code",
   "execution_count": 199,
   "metadata": {},
   "outputs": [
    {
     "data": {
      "image/png": "[encoded data removed]",
      "text/plain": [
       "<Figure size 432x288 with 1 Axes>"
      ]
     },
     "metadata": {
      "needs_background": "light"
     },
     "output_type": "display_data"
    }
   ],
   "source": [
    "# plt.style.use('classic')\n",
    "# plt.rcParams[\"figure.figsize\"] = (8,6)\n",
    "fig = plt.figure()\n",
    "# plt.plot(np.arange(0,len(train_dset.Y)) / 365.25,train_y_cumulative,'-k',label='observations')\n",
    "plt.plot(np.arange(0,len(train_dset.Y)) / 365.25,train_y_cumulative,'-k')\n",
    "# plt.plot(np.arange(len(train_dset.Y),len(train_dset.Y)+len(torch.cat(predictions))) / 365.25 ,predictions_cumulative,':r',label='predictions')\n",
    "plt.plot(np.arange(len(train_dset.Y),len(train_dset.Y)+len(torch.cat(predictions))) / 365.25 ,predictions_cumulative,':r')\n",
    "plt.plot(np.arange(len(train_dset.Y),len(train_dset.Y)+len(output_y)) / 365.25,output_y_cumulative,'r')\n",
    "# plt.legend()\n",
    "plt.ylabel('Cumulative earthquake count', fontsize=14)\n",
    "plt.xlabel('Time (years)', fontsize=14)\n",
    "plt.grid(linestyle=':', alpha=0.7)\n",
    "# plt.tight_layout()"
   ]
  },
  {
   "cell_type": "code",
   "execution_count": 171,
   "metadata": {},
   "outputs": [
    {
     "data": {
      "text/plain": [
       "tensor([[-5.1091,  1.3078, -1.7252],\n",
       "        [-4.9977,  1.3624, -1.7252],\n",
       "        [-4.8863,  1.4170, -1.7244],\n",
       "        ...,\n",
       "        [ 0.3983,  0.0314,  1.1523],\n",
       "        [ 0.4113,  0.0230,  1.1547],\n",
       "        [ 0.4242,  0.0146,  1.1555]])"
      ]
     },
     "execution_count": 171,
     "metadata": {},
     "output_type": "execute_result"
    }
   ],
   "source": []
  },
  {
   "cell_type": "code",
   "execution_count": null,
   "metadata": {},
   "outputs": [],
   "source": []
  }
 ],
 "metadata": {
  "kernelspec": {
   "display_name": "Python 3.8.9 64-bit",
   "language": "python",
   "name": "python3"
  },
  "language_info": {
   "codemirror_mode": {
    "name": "ipython",
    "version": 3
   },
   "file_extension": ".py",
   "mimetype": "text/x-python",
   "name": "python",
   "nbconvert_exporter": "python",
   "pygments_lexer": "ipython3",
   "version": "3.8.9"
  },
  "vscode": {
   "interpreter": {
    "hash": "31f2aee4e71d21fbe5cf8b01ff0e069b9275f58929596ceb00d14d90e3e16cd6"
   }
  }
 },
 "nbformat": 4,
 "nbformat_minor": 4
}
