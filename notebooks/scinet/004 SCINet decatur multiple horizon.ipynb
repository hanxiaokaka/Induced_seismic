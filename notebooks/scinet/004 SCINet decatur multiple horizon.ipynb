{
 "cells": [
  {
   "cell_type": "code",
   "execution_count": 79,
   "metadata": {},
   "outputs": [],
   "source": [
    "import numpy as np\n",
    "import torch\n",
    "import torch.nn as nn\n",
    "import matplotlib.pyplot as plt\n",
    "import torch.nn.functional as F\n",
    "import torch.optim as optim\n",
    "from saif.crs_model.peakdetector import pk_indxs\n",
    "import saif.scinet.model as scinet\n",
    "plt.style.use('ggplot')\n",
    "\n",
    "%matplotlib inline"
   ]
  },
  {
   "cell_type": "code",
   "execution_count": 80,
   "metadata": {},
   "outputs": [],
   "source": [
    "# from saif.scinet.dataset import daily_seismic_and_interpolated_pressure\n",
    "# from saif.scinet.dataset import construct_time_series_dataset\n",
    "\n",
    "from dataset import daily_seismic_and_interpolated_pressure\n",
    "from dataset import construct_time_series_dataset\n",
    "from dataset import overlap_and_interpolate\n",
    "from dataset import aggregate_seismic\n",
    "\n",
    "from torch.utils.data import DataLoader"
   ]
  },
  {
   "cell_type": "code",
   "execution_count": 81,
   "metadata": {},
   "outputs": [],
   "source": [
    "import pandas as pd\n",
    "# seismic = pd.read_csv(\"../../data/02_intermediate/seismic.csv\", index_col=0)\n",
    "# pressure = pd.read_csv(\"../../data/02_intermediate/pressure.csv\", index_col=0)\n",
    "\n",
    "seismic_original = pd.read_csv(\"seismic.csv\",index_col=0)\n",
    "pressure_original = pd.read_csv(\"pressure.csv\",index_col=0)\n",
    "\n",
    "# seismic = seismic.drop(columns=['kmeans'])\n",
    "\n",
    "seismic = pd.read_csv(\"temporal_datasets_decatur_illinois_seismic_new.csv\",index_col=None)\n",
    "pressure = pd.read_csv(\"temporal_datasets_decatur_illinois_pressure_new.csv\",index_col=None)\n",
    "\n",
    "pressure[\"epoch\"] = pressure[\"epoch\"]\n",
    "\n"
   ]
  },
  {
   "cell_type": "code",
   "execution_count": 82,
   "metadata": {},
   "outputs": [],
   "source": [
    "features_original, target_vals_original = daily_seismic_and_interpolated_pressure(seismic_original, pressure_original)\n"
   ]
  },
  {
   "cell_type": "code",
   "execution_count": 83,
   "metadata": {},
   "outputs": [],
   "source": [
    "features, target_vals = daily_seismic_and_interpolated_pressure(seismic, pressure)\n"
   ]
  },
  {
   "cell_type": "code",
   "execution_count": 469,
   "metadata": {},
   "outputs": [],
   "source": [
    "input_len = 16 # try wider window power of 2\n",
    "horizon = 7 # prediction window\n",
    "\n",
    "# Trying out different input_len and horizon\n",
    "input_len = 32\n",
    "horizon = 7"
   ]
  },
  {
   "cell_type": "code",
   "execution_count": 470,
   "metadata": {},
   "outputs": [],
   "source": [
    "features = features[['pressure','dpdt','seismic']]"
   ]
  },
  {
   "cell_type": "code",
   "execution_count": 471,
   "metadata": {},
   "outputs": [
    {
     "data": {
      "text/html": [
       "<div>\n",
       "<style scoped>\n",
       "    .dataframe tbody tr th:only-of-type {\n",
       "        vertical-align: middle;\n",
       "    }\n",
       "\n",
       "    .dataframe tbody tr th {\n",
       "        vertical-align: top;\n",
       "    }\n",
       "\n",
       "    .dataframe thead th {\n",
       "        text-align: right;\n",
       "    }\n",
       "</style>\n",
       "<table border=\"1\" class=\"dataframe\">\n",
       "  <thead>\n",
       "    <tr style=\"text-align: right;\">\n",
       "      <th></th>\n",
       "      <th>pressure</th>\n",
       "      <th>dpdt</th>\n",
       "      <th>seismic</th>\n",
       "    </tr>\n",
       "  </thead>\n",
       "  <tbody>\n",
       "    <tr>\n",
       "      <th>0</th>\n",
       "      <td>8.599065e+06</td>\n",
       "      <td>0.017439</td>\n",
       "      <td>1.0</td>\n",
       "    </tr>\n",
       "    <tr>\n",
       "      <th>1</th>\n",
       "      <td>8.601838e+06</td>\n",
       "      <td>0.018007</td>\n",
       "      <td>1.0</td>\n",
       "    </tr>\n",
       "    <tr>\n",
       "      <th>2</th>\n",
       "      <td>8.604612e+06</td>\n",
       "      <td>0.018575</td>\n",
       "      <td>2.0</td>\n",
       "    </tr>\n",
       "    <tr>\n",
       "      <th>3</th>\n",
       "      <td>8.607385e+06</td>\n",
       "      <td>0.019143</td>\n",
       "      <td>2.0</td>\n",
       "    </tr>\n",
       "    <tr>\n",
       "      <th>4</th>\n",
       "      <td>8.610158e+06</td>\n",
       "      <td>0.019711</td>\n",
       "      <td>2.0</td>\n",
       "    </tr>\n",
       "    <tr>\n",
       "      <th>...</th>\n",
       "      <td>...</td>\n",
       "      <td>...</td>\n",
       "      <td>...</td>\n",
       "    </tr>\n",
       "    <tr>\n",
       "      <th>1106</th>\n",
       "      <td>8.652984e+06</td>\n",
       "      <td>-0.029754</td>\n",
       "      <td>4886.0</td>\n",
       "    </tr>\n",
       "    <tr>\n",
       "      <th>1107</th>\n",
       "      <td>8.649775e+06</td>\n",
       "      <td>-0.030196</td>\n",
       "      <td>4886.0</td>\n",
       "    </tr>\n",
       "    <tr>\n",
       "      <th>1108</th>\n",
       "      <td>8.646565e+06</td>\n",
       "      <td>-0.030638</td>\n",
       "      <td>4889.0</td>\n",
       "    </tr>\n",
       "    <tr>\n",
       "      <th>1109</th>\n",
       "      <td>8.643355e+06</td>\n",
       "      <td>-0.031079</td>\n",
       "      <td>4890.0</td>\n",
       "    </tr>\n",
       "    <tr>\n",
       "      <th>1110</th>\n",
       "      <td>8.640145e+06</td>\n",
       "      <td>-0.031521</td>\n",
       "      <td>5420.0</td>\n",
       "    </tr>\n",
       "  </tbody>\n",
       "</table>\n",
       "<p>1111 rows × 3 columns</p>\n",
       "</div>"
      ],
      "text/plain": [
       "          pressure      dpdt  seismic\n",
       "0     8.599065e+06  0.017439      1.0\n",
       "1     8.601838e+06  0.018007      1.0\n",
       "2     8.604612e+06  0.018575      2.0\n",
       "3     8.607385e+06  0.019143      2.0\n",
       "4     8.610158e+06  0.019711      2.0\n",
       "...            ...       ...      ...\n",
       "1106  8.652984e+06 -0.029754   4886.0\n",
       "1107  8.649775e+06 -0.030196   4886.0\n",
       "1108  8.646565e+06 -0.030638   4889.0\n",
       "1109  8.643355e+06 -0.031079   4890.0\n",
       "1110  8.640145e+06 -0.031521   5420.0\n",
       "\n",
       "[1111 rows x 3 columns]"
      ]
     },
     "execution_count": 471,
     "metadata": {},
     "output_type": "execute_result"
    }
   ],
   "source": [
    "features"
   ]
  },
  {
   "cell_type": "markdown",
   "metadata": {},
   "source": [
    "Visualization of the train / test split"
   ]
  },
  {
   "cell_type": "code",
   "execution_count": 472,
   "metadata": {},
   "outputs": [
    {
     "data": {
      "text/plain": [
       "Text(0, 0.5, 'normalized cumulative counts')"
      ]
     },
     "execution_count": 472,
     "metadata": {},
     "output_type": "execute_result"
    },
    {
     "data": {
      "image/png": "[encoded data removed]",
      "text/plain": [
       "<Figure size 432x288 with 1 Axes>"
      ]
     },
     "metadata": {
      "needs_background": "light"
     },
     "output_type": "display_data"
    }
   ],
   "source": [
    "train_dset, test_dset, x_scaler, y_scaler = construct_time_series_dataset(\n",
    "    features, target_vals, \n",
    "    input_len, horizon, features.columns, \n",
    "    train_test_split=0.8, normalize_data=True # try train_test_split=0.75\n",
    "    # train_test_split=0.75, normalize_data=True\n",
    ")\n",
    "\n",
    "plt.figure()\n",
    "plt.plot(np.arange(len(train_dset.Y)), train_dset.Y, label='training')\n",
    "plt.plot(np.arange(len(test_dset.Y)) + len(train_dset.Y), test_dset.Y, label='test')\n",
    "plt.legend()\n",
    "plt.xlabel('days')\n",
    "plt.ylabel('normalized cumulative counts')"
   ]
  },
  {
   "cell_type": "markdown",
   "metadata": {},
   "source": [
    "### Model Architecture"
   ]
  },
  {
   "cell_type": "code",
   "execution_count": 473,
   "metadata": {},
   "outputs": [],
   "source": [
    "class SimpleSCINet(nn.Module):\n",
    "    def __init__(\n",
    "        self, \n",
    "        input_len, output_len,\n",
    "        input_dim, num_levels, kernel_size, dropout, groups, hidden_size\n",
    "    ):\n",
    "        super().__init__()\n",
    "        \n",
    "        self.input_len = input_len\n",
    "        self.output_len = output_len\n",
    "        self.input_dim = input_dim\n",
    "        self.hidden_size = hidden_size\n",
    "        self.num_levels = num_levels\n",
    "        self.groups = groups\n",
    "        self.kernel_size = kernel_size\n",
    "        self.dropout = dropout\n",
    "        \n",
    "        self.bn1 = nn.BatchNorm1d(self.input_dim)\n",
    "        self.bn2 = nn.BatchNorm1d(self.input_dim)\n",
    "        \n",
    "        self.block1 = scinet.EncoderTree(\n",
    "            in_planes=self.input_dim,\n",
    "            num_levels=self.num_levels,\n",
    "            kernel_size=self.kernel_size,\n",
    "            dropout=self.dropout,\n",
    "            groups=self.groups,\n",
    "            hidden_size=self.hidden_size,\n",
    "            INN=True\n",
    "        )\n",
    "        \n",
    "        # I'm a bit iffy on using a projector like this across features\n",
    "        # But this is what they do in scinet\n",
    "        # It should be fine, kernel size is 1, it's essentially just an\n",
    "        # aggregation operation\n",
    "        self.time_projector = nn.Conv1d(\n",
    "            self.input_len, self.output_len,\n",
    "            kernel_size=1, stride=1, bias=False\n",
    "        )\n",
    "        \n",
    "        self.channel_projector = nn.Conv1d(\n",
    "            self.input_dim, 1, kernel_size=1, stride=1, bias=True\n",
    "        )\n",
    "    \n",
    "    def forward(self, x):\n",
    "        out = x.permute(0, 2, 1)\n",
    "        out = self.bn1(out)\n",
    "        out = out.permute(0, 2, 1)\n",
    "        \n",
    "        out = self.block1(out)\n",
    "        out += out\n",
    "        \n",
    "        out = F.relu(out)\n",
    "        out = self.time_projector(out)\n",
    "        \n",
    "        out = out.permute(0, 2, 1)\n",
    "        out = self.bn2(out)\n",
    "        out = F.relu(out)\n",
    "        \n",
    "        out = self.channel_projector(out).squeeze(1)\n",
    "        \n",
    "        #Enforcing monotonicity\n",
    "        #out = torch.exp(out)\n",
    "        #out = F.relu(out)\n",
    "        # Exp has numerical issues, and relu was collapsing.\n",
    "        # Squaring is also a positive operation\n",
    "        out = out ** 2\n",
    "        #out = torch.sigmoid(out)\n",
    "        out = out.cumsum(-1) + x[:, -1, -1, None]\n",
    "        \n",
    "        return out"
   ]
  },
  {
   "cell_type": "markdown",
   "metadata": {},
   "source": [
    "### Hyperparameters"
   ]
  },
  {
   "cell_type": "code",
   "execution_count": 474,
   "metadata": {},
   "outputs": [],
   "source": [
    "input_dim = train_dset.X.shape[1]\n",
    "num_levels = 2 # number of levels in the scinet tree\n",
    "kernel_size = 4 # kernel size for the conv1D operations\n",
    "dropout = 0.5 # dropout regularization params\n",
    "groups = 1 # number of groups in the conv1D operation\n",
    "hidden_size = 3 # scaling factor for the hidden dimension\n",
    "\n",
    "lr = 1e-3 # learning rate\n",
    "n_epoch = 64 # number of epochs\n",
    "\n",
    "# Choose your loss function!\n",
    "# criterion = nn.MSELoss() # L2 loss\n",
    "criterion = nn.HuberLoss() #An alternative, smoother version of the L1 Loss\n",
    "# Less sensitive to outliers, less prone to exploding gradients"
   ]
  },
  {
   "cell_type": "markdown",
   "metadata": {},
   "source": [
    "### Run Training"
   ]
  },
  {
   "cell_type": "code",
   "execution_count": 475,
   "metadata": {},
   "outputs": [],
   "source": [
    "\n",
    "from tqdm.notebook import tqdm"
   ]
  },
  {
   "cell_type": "code",
   "execution_count": 476,
   "metadata": {},
   "outputs": [
    {
     "data": {
      "application/vnd.jupyter.widget-view+json": {
       "model_id": "6ca6f741d89e445baa29079369097f10",
       "version_major": 2,
       "version_minor": 0
      },
      "text/plain": [
       "  0%|          | 0/64 [00:00<?, ?it/s]"
      ]
     },
     "metadata": {},
     "output_type": "display_data"
    }
   ],
   "source": [
    "torch.manual_seed(0) # Use different seeds for 10 times\n",
    "\n",
    "train_loader = DataLoader(\n",
    "    train_dset,\n",
    "    batch_size=32,\n",
    "    shuffle=True,\n",
    "    num_workers=1\n",
    ")\n",
    "\n",
    "test_loader = DataLoader(\n",
    "    test_dset,\n",
    "    batch_size=32,\n",
    "    shuffle=False,\n",
    "    num_workers=1\n",
    ")\n",
    "\n",
    "model = SimpleSCINet(\n",
    "    input_len, horizon,\n",
    "    input_dim, num_levels, kernel_size, \n",
    "    dropout, groups, hidden_size\n",
    ")\n",
    "\n",
    "optimizer = optim.Adam(model.parameters(), lr=lr)\n",
    "\n",
    "train_loss_vals = []\n",
    "test_loss_vals = []\n",
    "\n",
    "\n",
    "for epoch in tqdm(range(n_epoch)):\n",
    "    #train loop\n",
    "    model.train()\n",
    "    batch_loss_vals = []\n",
    "    for (batch_x, batch_y) in train_loader:\n",
    "        optimizer.zero_grad()\n",
    "        \n",
    "        outputs = model(batch_x)\n",
    "        loss = criterion(outputs, batch_y)\n",
    "        loss.backward()\n",
    "        optimizer.step()\n",
    "        \n",
    "        batch_loss_vals.append(loss.item())\n",
    "    train_loss_vals.append(np.mean(batch_loss_vals))\n",
    "    \n",
    "    #eval loop\n",
    "    model.eval()\n",
    "    batch_loss_vals = []\n",
    "    for (batch_x, batch_y) in test_loader:        \n",
    "        outputs = model(batch_x)\n",
    "        loss = criterion(outputs, batch_y)\n",
    "        batch_loss_vals.append(loss.item())\n",
    "    test_loss_vals.append(np.mean(batch_loss_vals))"
   ]
  },
  {
   "cell_type": "code",
   "execution_count": 485,
   "metadata": {},
   "outputs": [
    {
     "data": {
      "text/plain": [
       "[0.0047503925452474505,\n",
       " 0.0023748600360704586,\n",
       " 0.0014825137671626483,\n",
       " 0.0010299258428858593,\n",
       " 0.0009156771169121688,\n",
       " 0.0008753044482242937,\n",
       " 0.0007876828991963217,\n",
       " 0.0006780377880204469,\n",
       " 0.0006110947482132664,\n",
       " 0.0005883833218831569,\n",
       " 0.0005460496662029376,\n",
       " 0.0005360952345654368,\n",
       " 0.0005154988927339824,\n",
       " 0.0004882176484291752,\n",
       " 0.0004820152510850069,\n",
       " 0.00047794971032999456,\n",
       " 0.00045973378291819245,\n",
       " 0.00043502628735344234,\n",
       " 0.000441842731864502,\n",
       " 0.0004189029981110555,\n",
       " 0.00040820319069704664,\n",
       " 0.00040248475852422416,\n",
       " 0.0004008197793154977,\n",
       " 0.0004059799199846263,\n",
       " 0.0004012232930108439,\n",
       " 0.0004101321780278037,\n",
       " 0.0003958181090032061,\n",
       " 0.0003996660040381054,\n",
       " 0.0004040519088448491,\n",
       " 0.00039460881089325994,\n",
       " 0.0003954931817133911,\n",
       " 0.00039317247743989964,\n",
       " 0.0003990575933130458,\n",
       " 0.00039810520199049887,\n",
       " 0.00039117352450072457,\n",
       " 0.00039753228944997926,\n",
       " 0.0003901908130501397,\n",
       " 0.00039372791798086837,\n",
       " 0.0004096692452246013,\n",
       " 0.0004076245398512886,\n",
       " 0.0003979676973055272,\n",
       " 0.00040214212519155507,\n",
       " 0.00040954884025268257,\n",
       " 0.00040706113456205156,\n",
       " 0.0004152896569091051,\n",
       " 0.0004068709264781016,\n",
       " 0.0004077258260319165,\n",
       " 0.0004084883573038193,\n",
       " 0.0004044565381870295,\n",
       " 0.0003997812133699578,\n",
       " 0.00041801957255908445,\n",
       " 0.00041349015252005,\n",
       " 0.0004204744570112477,\n",
       " 0.00041587513260310516,\n",
       " 0.0004189254007845496,\n",
       " 0.0004058424953351884,\n",
       " 0.00041237813275074586,\n",
       " 0.00042654880780901294,\n",
       " 0.0004180567902949406,\n",
       " 0.00042890072836598847,\n",
       " 0.0004292945692820164,\n",
       " 0.00041049591345654335,\n",
       " 0.0004299479654340151,\n",
       " 0.0004098013717642364]"
      ]
     },
     "execution_count": 485,
     "metadata": {},
     "output_type": "execute_result"
    }
   ],
   "source": [
    "# print Huber Loss\n",
    "test_loss_vals"
   ]
  },
  {
   "cell_type": "code",
   "execution_count": 486,
   "metadata": {},
   "outputs": [
    {
     "data": {
      "text/plain": [
       "Text(0.5, 0, 'Epoch')"
      ]
     },
     "execution_count": 486,
     "metadata": {},
     "output_type": "execute_result"
    },
    {
     "data": {
      "image/png": "[encoded data removed]",
      "text/plain": [
       "<Figure size 432x288 with 1 Axes>"
      ]
     },
     "metadata": {
      "needs_background": "light"
     },
     "output_type": "display_data"
    }
   ],
   "source": [
    "plt.plot(train_loss_vals, color='g', label='train')\n",
    "plt.plot(test_loss_vals, color='r', label='test')\n",
    "plt.legend()\n",
    "plt.ylabel('Huberloss')\n",
    "# plt.ylim([0,2])\n",
    "plt.yscale('log')\n",
    "plt.xlabel('Epoch')"
   ]
  },
  {
   "cell_type": "code",
   "execution_count": 487,
   "metadata": {},
   "outputs": [
    {
     "data": {
      "image/png": "[encoded data removed]",
      "text/plain": [
       "<Figure size 576x576 with 1 Axes>"
      ]
     },
     "metadata": {
      "needs_background": "light"
     },
     "output_type": "display_data"
    }
   ],
   "source": [
    "start_input = 0\n",
    "end_input = start_input + input_len\n",
    "end_output = end_input + horizon\n",
    "\n",
    "sample_x = test_dset.X[start_input:end_input]\n",
    "input_y = test_dset.Y[start_input:end_input+1]\n",
    "output_y = test_dset.Y[end_input:end_output]\n",
    "\n",
    "def monte_carlo_sample(model, x, n_samples=50, seed=0):\n",
    "    torch.manual_seed(seed)\n",
    "    model.train()\n",
    "    \n",
    "    # We want the model to be in training mode\n",
    "    # Except for the BN.\n",
    "    # There is potentially a more elegant way to do this\n",
    "    # Ex by making a different \"mode\" in our own model groups\n",
    "    model.bn1.training = False\n",
    "    model.bn2.training = False\n",
    "    \n",
    "    samples = []\n",
    "    for _ in range(n_samples):\n",
    "        samples.append(model(x).data)\n",
    "    samples = torch.stack(samples)\n",
    "    \n",
    "    model.eval()\n",
    "    return samples.permute(1, 0, 2)\n",
    "\n",
    "model.eval()\n",
    "pred_y = model(sample_x[None, :, :]).squeeze(0).data\n",
    "\n",
    "samples = monte_carlo_sample(model, sample_x[None, :, :], n_samples=10)\n",
    "samples = samples.squeeze(0).data.numpy()\n",
    "\n",
    "sample_mean = samples.mean(0)\n",
    "sample_std = samples.std(0)\n",
    "\n",
    "## You can use mean +/- std, or percentile, to visualize the distribtion\n",
    "\n",
    "# Uncomment to use mean +/- std\n",
    "#sample_ub = sample_mean + sample_std\n",
    "#sample_lb = sample_mean - sample_std\n",
    "\n",
    "# Use percentiles\n",
    "sample_ub = np.percentile(samples, 90, axis=0)\n",
    "sample_lb = np.percentile(samples, 10, axis=0)\n",
    "\n",
    "sample_max = samples.max(0)\n",
    "sample_min = samples.min(0)\n",
    "\n",
    "fig, ax = plt.subplots(1, 1, figsize=(8,8))\n",
    "\n",
    "ax.plot(np.arange(start_input, end_input+1), input_y, 'r', marker='o', label='observed')\n",
    "ax.plot(np.arange(end_input, end_output), output_y, 'r', marker='o')\n",
    "ax.fill_between(np.arange(end_input, end_output), sample_ub, sample_lb, alpha=0.1, color='b')\n",
    "ax.fill_between(np.arange(end_input, end_output), sample_max, sample_min, alpha=0.05, color='b')\n",
    "ax.plot(np.arange(end_input, end_output), pred_y, 'b', marker='o', label='forecast')\n",
    "\n",
    "plt.xlabel('days')\n",
    "plt.ylabel('normalized cumulative counts')\n",
    "plt.legend(loc='lower right')\n",
    "plt.show()"
   ]
  },
  {
   "cell_type": "markdown",
   "metadata": {},
   "source": [
    "Visualize the forecast"
   ]
  },
  {
   "cell_type": "markdown",
   "metadata": {},
   "source": []
  },
  {
   "cell_type": "markdown",
   "metadata": {},
   "source": [
    "## Trying out new prediction routine "
   ]
  },
  {
   "cell_type": "code",
   "execution_count": 502,
   "metadata": {},
   "outputs": [],
   "source": [
    "model.train()\n",
    "model.bn1.training=False\n",
    "model.bn2.training=False\n",
    "n_horizons_forcast = 10\n",
    "start_input = 0\n",
    "end_input = start_input + input_len\n",
    "end_output = end_input + n_horizons_forcast*horizon\n",
    "\n",
    "sample_x = test_dset.X[start_input:end_input]\n",
    "input_y = test_dset.Y[start_input:end_input+1]\n",
    "output_y = test_dset.Y[end_input:end_output]\n",
    "\n"
   ]
  },
  {
   "cell_type": "code",
   "execution_count": 503,
   "metadata": {},
   "outputs": [],
   "source": [
    "predictions = []\n",
    "outputs_y = []\n",
    "\n",
    "for i in range(n_horizons_forcast):\n",
    "    model.train()\n",
    "    model.bn1.training = False\n",
    "    model.bn2.training = False\n",
    "    _predict = model(sample_x[None,:,:])\n",
    "    predictions.append(_predict.data.squeeze()) # output?\n",
    "    sample_x = test_dset.X[start_input+i*horizon:end_input+i*horizon]\n",
    "    sample_x[None,-horizon:,-1] = _predict.data.squeeze() # replacing last seismic data with the prediction\n",
    "    model.eval()\n",
    "\n",
    "\n",
    "\n",
    "# outputs_y.append(output_y)\n",
    "# _predict = model(sample_x[None,:,:])\n",
    "# predictions.append(_predict.data.squeeze())"
   ]
  },
  {
   "cell_type": "code",
   "execution_count": 504,
   "metadata": {},
   "outputs": [
    {
     "data": {
      "text/plain": [
       "<matplotlib.legend.Legend at 0x2acc0bcd0>"
      ]
     },
     "execution_count": 504,
     "metadata": {},
     "output_type": "execute_result"
    },
    {
     "data": {
      "image/png": "[encoded data removed]",
      "text/plain": [
       "<Figure size 432x288 with 1 Axes>"
      ]
     },
     "metadata": {
      "needs_background": "light"
     },
     "output_type": "display_data"
    }
   ],
   "source": [
    "plt.plot(torch.cat(predictions),label='predictions')\n",
    "plt.plot(output_y,label='observations')\n",
    "plt.legend()"
   ]
  },
  {
   "cell_type": "markdown",
   "metadata": {},
   "source": []
  },
  {
   "cell_type": "code",
   "execution_count": 505,
   "metadata": {},
   "outputs": [
    {
     "data": {
      "text/plain": [
       "[<matplotlib.lines.Line2D at 0x2acca1190>]"
      ]
     },
     "execution_count": 505,
     "metadata": {},
     "output_type": "execute_result"
    },
    {
     "data": {
      "image/png": "[encoded data removed]",
      "text/plain": [
       "<Figure size 576x576 with 1 Axes>"
      ]
     },
     "metadata": {
      "needs_background": "light"
     },
     "output_type": "display_data"
    }
   ],
   "source": [
    "fig, ax = plt.subplots(1, 1, figsize=(8,8))\n",
    "\n",
    "ax.plot(np.arange(start_input, end_input+1), input_y, 'r', marker='o', label='observed')\n",
    "ax.plot(np.arange(end_input,end_output),output_y, 'r', marker='o')\n",
    "ax.plot(np.arange(end_input,end_output), torch.cat(predictions), 'b', marker='o', label='forecast')"
   ]
  },
  {
   "cell_type": "code",
   "execution_count": 506,
   "metadata": {},
   "outputs": [
    {
     "data": {
      "text/plain": [
       "[tensor([1.3342, 1.3377, 1.3463, 1.3648, 1.3682, 1.3762, 1.3913]),\n",
       " tensor([1.3917, 1.3944, 1.3992, 1.4177, 1.4183, 1.4284, 1.4469]),\n",
       " tensor([1.4474, 1.4488, 1.4550, 1.4735, 1.4748, 1.4880, 1.4917]),\n",
       " tensor([1.4917, 1.4918, 1.4937, 1.5122, 1.5122, 1.5156, 1.5341]),\n",
       " tensor([1.5344, 1.5344, 1.5538, 1.5720, 1.5727, 1.5757, 1.5772]),\n",
       " tensor([1.5795, 1.5928, 1.6007, 1.6192, 1.6215, 1.6256, 1.6348]),\n",
       " tensor([1.6349, 1.6380, 1.6423, 1.6608, 1.6612, 1.6629, 1.6802]),\n",
       " tensor([1.6802, 1.6973, 1.6987, 1.7172, 1.7172, 1.7225, 1.7266]),\n",
       " tensor([1.7266, 1.7290, 1.7290, 1.7475, 1.7476, 1.7488, 1.7673]),\n",
       " tensor([1.7673, 1.7699, 1.7711, 1.7896, 1.7913, 1.7922, 1.8106])]"
      ]
     },
     "execution_count": 506,
     "metadata": {},
     "output_type": "execute_result"
    }
   ],
   "source": [
    "predictions"
   ]
  },
  {
   "cell_type": "code",
   "execution_count": 501,
   "metadata": {},
   "outputs": [
    {
     "data": {
      "text/plain": [
       "array([32, 33, 34, 35, 36, 37, 38, 39, 40, 41, 42, 43, 44, 45, 46, 47, 48,\n",
       "       49, 50, 51, 52, 53, 54, 55, 56, 57, 58, 59, 60, 61, 62, 63, 64, 65,\n",
       "       66, 67, 68, 69, 70, 71, 72, 73, 74, 75, 76, 77, 78, 79, 80, 81, 82,\n",
       "       83, 84, 85, 86, 87])"
      ]
     },
     "execution_count": 501,
     "metadata": {},
     "output_type": "execute_result"
    }
   ],
   "source": [
    "np.arange(end_input,end_output)"
   ]
  },
  {
   "cell_type": "code",
   "execution_count": null,
   "metadata": {},
   "outputs": [],
   "source": []
  }
 ],
 "metadata": {
  "kernelspec": {
   "display_name": "Python 3.8.9 64-bit",
   "language": "python",
   "name": "python3"
  },
  "language_info": {
   "codemirror_mode": {
    "name": "ipython",
    "version": 3
   },
   "file_extension": ".py",
   "mimetype": "text/x-python",
   "name": "python",
   "nbconvert_exporter": "python",
   "pygments_lexer": "ipython3",
   "version": "3.8.9"
  },
  "vscode": {
   "interpreter": {
    "hash": "31f2aee4e71d21fbe5cf8b01ff0e069b9275f58929596ceb00d14d90e3e16cd6"
   }
  }
 },
 "nbformat": 4,
 "nbformat_minor": 4
}
