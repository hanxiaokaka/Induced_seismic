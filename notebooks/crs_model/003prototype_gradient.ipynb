{
 "cells": [
  {
   "cell_type": "code",
   "execution_count": 1,
   "metadata": {},
   "outputs": [],
   "source": [
    "import numpy as np\n",
    "import torch\n",
    "import torch.nn as nn\n",
    "import matplotlib.pyplot as plt\n",
    "from saif.crs_model.peakdetector import pk_indxs\n",
    "plt.style.use('ggplot')\n",
    "\n",
    "%matplotlib inline"
   ]
  },
  {
   "cell_type": "markdown",
   "metadata": {},
   "source": [
    "### Load Data"
   ]
  },
  {
   "cell_type": "code",
   "execution_count": 54,
   "metadata": {},
   "outputs": [],
   "source": [
    "SEISMIC_DATA = '/Users/pmh/Desktop/cushingSeismic.hdf5'\n",
    "PRESSURE_DATA = '/Users/pmh/Desktop/cushingPressure.hdf5'"
   ]
  },
  {
   "cell_type": "code",
   "execution_count": 55,
   "metadata": {},
   "outputs": [],
   "source": [
    "from orion_light import seismic_catalog\n",
    "from orion_light import pressure_table"
   ]
  },
  {
   "cell_type": "code",
   "execution_count": 56,
   "metadata": {},
   "outputs": [],
   "source": [
    "catalog = seismic_catalog.SeismicCatalog()\n",
    "catalog.load_catalog_hdf5(SEISMIC_DATA)"
   ]
  },
  {
   "cell_type": "code",
   "execution_count": 57,
   "metadata": {},
   "outputs": [
    {
     "name": "stdout",
     "output_type": "stream",
     "text": [
      "Loading pressure table from hdf5 file: /Users/pmh/Desktop/cushingPressure.hdf5\n"
     ]
    }
   ],
   "source": [
    "pressure_model = pressure_table.PressureTableModel()\n",
    "pressure_model.load_table(PRESSURE_DATA)"
   ]
  },
  {
   "cell_type": "markdown",
   "metadata": {},
   "source": [
    "### Process $N(t)$"
   ]
  },
  {
   "cell_type": "markdown",
   "metadata": {},
   "source": [
    "- Pressure data and seismic events are recorded at different times.\n",
    "    - First goal: Clip all data to the time interval where we have samples for both pressure and seismic activity\n",
    "    - Second goal: linearly interpolate the seismic data so that the event times align with the pressure data.\n",
    "    - Third goal: empirically compute the rate (numerical derivative), in order to define R0.\n",
    "- Partition the data into **main shock** and **interseismic** regions.\n",
    "    - This should be done by a peak detector, but right now it is done manually (by visual inspection)."
   ]
  },
  {
   "cell_type": "code",
   "execution_count": 58,
   "metadata": {},
   "outputs": [],
   "source": [
    "from scipy.interpolate import interp1d"
   ]
  },
  {
   "cell_type": "markdown",
   "metadata": {},
   "source": [
    "Obtain the time intervals for the seismic data, and creating the interpolator."
   ]
  },
  {
   "cell_type": "code",
   "execution_count": 59,
   "metadata": {},
   "outputs": [],
   "source": [
    "Mc = 1.6\n",
    "catalog.set_slice(magnitude_range = [Mc, 10])\n",
    "event_times = catalog.get_epoch_slice() \n",
    "start_t = event_times[0]\n",
    "end_t = event_times[-1]\n",
    "event_times = event_times / 86400 / 365.25\n",
    "\n",
    "t_n = event_times - event_times[0]\n",
    "n_cnts = np.arange(len(t_n))\n",
    "n_func = interp1d(t_n, n_cnts, kind='linear')"
   ]
  },
  {
   "cell_type": "markdown",
   "metadata": {},
   "source": [
    "Obtain the time intervals for the pressure data, and interpolate the seismic data"
   ]
  },
  {
   "cell_type": "code",
   "execution_count": 60,
   "metadata": {},
   "outputs": [],
   "source": [
    "t_p = pressure_epoch = pressure_model.table_data['t']\n",
    "start_idx = np.where(t_p > start_t)[0][0]\n",
    "end_idx = np.where(t_p > end_t)[0][0] - 1\n",
    "\n",
    "t_p = t_p[start_idx:end_idx]\n",
    "p = pressure_model.table_data['pressure'][1:][start_idx+1:end_idx]\n",
    "dpdt = pressure_model.table_data['dpdt'][1:][start_idx+1:end_idx]\n",
    "\n",
    "delta_t = t_p[1:] - t_p[:-1]\n",
    "\n",
    "p = torch.FloatTensor(p)\n",
    "dpdt = torch.FloatTensor(dpdt)\n",
    "delta_t = torch.FloatTensor(delta_t)\n",
    "\n",
    "t_p_interpolated = t_p / 86400 / 365.25 - event_times[0]\n",
    "n_interpolated = n_func(t_p_interpolated)"
   ]
  },
  {
   "cell_type": "code",
   "execution_count": 61,
   "metadata": {},
   "outputs": [
    {
     "data": {
      "text/plain": [
       "[<matplotlib.lines.Line2D at 0x135df4dd8>]"
      ]
     },
     "execution_count": 61,
     "metadata": {},
     "output_type": "execute_result"
    },
    {
     "data": {
      "image/png": "[encoded data removed]",
      "text/plain": [
       "<Figure size 432x288 with 1 Axes>"
      ]
     },
     "metadata": {
      "needs_background": "light"
     },
     "output_type": "display_data"
    }
   ],
   "source": [
    "empirical_rate = np.gradient(n_interpolated, t_p_interpolated)\n",
    "peak_indexs=pk_indxs(empirical_rate,trshd=0.2, min_dist=150)\n",
    "plt.plot(t_p_interpolated, empirical_rate)\n",
    "plt.plot(t_p_interpolated[peak_indexs],empirical_rate[peak_indexs],'o',color='b')"
   ]
  },
  {
   "cell_type": "code",
   "execution_count": 63,
   "metadata": {},
   "outputs": [
    {
     "data": {
      "text/plain": [
       "[<matplotlib.lines.Line2D at 0x135f3b5c0>]"
      ]
     },
     "execution_count": 63,
     "metadata": {},
     "output_type": "execute_result"
    },
    {
     "data": {
      "image/png": "[encoded data removed]",
      "text/plain": [
       "<Figure size 432x288 with 1 Axes>"
      ]
     },
     "metadata": {
      "needs_background": "light"
     },
     "output_type": "display_data"
    }
   ],
   "source": [
    "plt.plot(t_p_interpolated, n_interpolated)"
   ]
  },
  {
   "cell_type": "markdown",
   "metadata": {},
   "source": [
    "Examining the first interseismic chunk (from t=0 years to t=1.3 years)"
   ]
  },
  {
   "cell_type": "code",
   "execution_count": 48,
   "metadata": {},
   "outputs": [],
   "source": [
    "train_end = np.where(t_p_interpolated > 1.3)[0][0]"
   ]
  },
  {
   "cell_type": "code",
   "execution_count": 49,
   "metadata": {},
   "outputs": [],
   "source": [
    "n_target = torch.FloatTensor(n_interpolated)[:train_end]\n",
    "p = torch.FloatTensor(p)[:train_end]\n",
    "dpdt = torch.FloatTensor(dpdt)[:train_end]\n",
    "delta_t = torch.FloatTensor(delta_t)[:train_end]"
   ]
  },
  {
   "cell_type": "markdown",
   "metadata": {},
   "source": [
    "### Define site constants"
   ]
  },
  {
   "cell_type": "code",
   "execution_count": 50,
   "metadata": {},
   "outputs": [],
   "source": [
    "mpa_yr2pa_s = 1e6 / 365.25 / 86400\n",
    "\n",
    "site_info = {\n",
    "    'tectonic_shear_stressing_rate' : 3.5e-4 * mpa_yr2pa_s, # Pa / s\n",
    "    'tectonic_normal_stressing_rate' : 0, # Pa/s\n",
    "    'sigma' : 30 * 1e6, # Pa\n",
    "    'biot' : 0.3, # dimensionless\n",
    "    #'background_rate' : 1.36 / 365.25 / 86400, # event/second,\n",
    "    'background_rate' : empirical_rate[0] / 365.25 / 86400, # event/second,\n",
    "    'init_delta_t' : delta_t[0].item()\n",
    "}"
   ]
  },
  {
   "cell_type": "markdown",
   "metadata": {},
   "source": [
    "### Sampling the grid"
   ]
  },
  {
   "cell_type": "markdown",
   "metadata": {},
   "source": [
    "We keep the rate factor fixed, and examine the landscape for mu_minus_alpha and rate_coeff."
   ]
  },
  {
   "cell_type": "code",
   "execution_count": 52,
   "metadata": {},
   "outputs": [
    {
     "data": {
      "text/plain": [
       "tensor([[5.0000e-01, 1.0000e-02, 1.0000e-04]], requires_grad=True)"
      ]
     },
     "execution_count": 52,
     "metadata": {},
     "output_type": "execute_result"
    }
   ],
   "source": [
    "params = torch.FloatTensor([[0.5,1e-2,1e-4]])\n",
    "params.requires_grad_()\n",
    "\n"
   ]
  },
  {
   "cell_type": "markdown",
   "metadata": {},
   "source": [
    "### Run Model"
   ]
  },
  {
   "cell_type": "code",
   "execution_count": 64,
   "metadata": {},
   "outputs": [],
   "source": [
    "from saif.crs_model.model import CRSModel"
   ]
  },
  {
   "cell_type": "code",
   "execution_count": 65,
   "metadata": {},
   "outputs": [],
   "source": [
    "model = CRSModel(site_info)"
   ]
  },
  {
   "cell_type": "code",
   "execution_count": 66,
   "metadata": {},
   "outputs": [],
   "source": [
    "Rt, Nt = model(params, p, dpdt, delta_t)"
   ]
  },
  {
   "cell_type": "markdown",
   "metadata": {},
   "source": [
    "Visualize a sample"
   ]
  },
  {
   "cell_type": "markdown",
   "metadata": {},
   "source": [
    "Define the criterion: MSELoss.\n",
    "\n",
    "- Be careful: we may need to normalize the data before using MSELoss.\n",
    "- In future, we might forecast rate (or, $\\Delta N(t)$) since this is easier to bound than total number."
   ]
  },
  {
   "cell_type": "code",
   "execution_count": 69,
   "metadata": {},
   "outputs": [],
   "source": [
    "criterion = nn.MSELoss(reduction='sum')"
   ]
  },
  {
   "cell_type": "code",
   "execution_count": 73,
   "metadata": {},
   "outputs": [
    {
     "data": {
      "text/plain": [
       "tensor(364100.9375, grad_fn=<MseLossBackward0>)"
      ]
     },
     "execution_count": 73,
     "metadata": {},
     "output_type": "execute_result"
    }
   ],
   "source": [
    "loss = criterion(Nt[:,1:], n_target[None,:])\n",
    "loss"
   ]
  },
  {
   "cell_type": "code",
   "execution_count": 74,
   "metadata": {},
   "outputs": [],
   "source": [
    "loss.backward()"
   ]
  },
  {
   "cell_type": "code",
   "execution_count": 76,
   "metadata": {},
   "outputs": [
    {
     "data": {
      "text/plain": [
       "tensor([[  -102693.2266,   4769295.0000, -37133152.0000]])"
      ]
     },
     "execution_count": 76,
     "metadata": {},
     "output_type": "execute_result"
    }
   ],
   "source": [
    "params.grad.data"
   ]
  },
  {
   "cell_type": "code",
   "execution_count": null,
   "metadata": {},
   "outputs": [],
   "source": []
  }
 ],
 "metadata": {
  "kernelspec": {
   "display_name": "Python 3 (ipykernel)",
   "language": "python",
   "name": "python3"
  },
  "language_info": {
   "codemirror_mode": {
    "name": "ipython",
    "version": 3
   },
   "file_extension": ".py",
   "mimetype": "text/x-python",
   "name": "python",
   "nbconvert_exporter": "python",
   "pygments_lexer": "ipython3",
   "version": "3.7.1"
  }
 },
 "nbformat": 4,
 "nbformat_minor": 4
}
