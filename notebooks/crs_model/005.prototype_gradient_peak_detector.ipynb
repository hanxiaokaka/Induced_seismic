{
 "cells": [
  {
   "cell_type": "code",
   "execution_count": 23,
   "metadata": {},
   "outputs": [],
   "source": [
    "import numpy as np\n",
    "import torch\n",
    "import torch.nn as nn\n",
    "import matplotlib.pyplot as plt\n",
    "from saif.crs_model.peakdetector import pk_indxs\n",
    "plt.style.use('ggplot')\n"
   ]
  },
  {
   "cell_type": "markdown",
   "metadata": {},
   "source": [
    "### Load Data"
   ]
  },
  {
   "cell_type": "code",
   "execution_count": 24,
   "metadata": {},
   "outputs": [],
   "source": [
    "SEISMIC_DATA = '/Users/pmh/Desktop/cushingSeismic.hdf5'\n",
    "PRESSURE_DATA = '/Users/pmh/Desktop/cushingPressure.hdf5'"
   ]
  },
  {
   "cell_type": "code",
   "execution_count": 25,
   "metadata": {},
   "outputs": [],
   "source": [
    "from orion_light import seismic_catalog\n",
    "from orion_light import pressure_table"
   ]
  },
  {
   "cell_type": "code",
   "execution_count": 26,
   "metadata": {},
   "outputs": [],
   "source": [
    "catalog = seismic_catalog.SeismicCatalog()\n",
    "catalog.load_catalog_hdf5(SEISMIC_DATA)"
   ]
  },
  {
   "cell_type": "code",
   "execution_count": 27,
   "metadata": {},
   "outputs": [
    {
     "name": "stdout",
     "output_type": "stream",
     "text": [
      "Loading pressure table from hdf5 file: /Users/pmh/Desktop/cushingPressure.hdf5\n"
     ]
    }
   ],
   "source": [
    "pressure_model = pressure_table.PressureTableModel()\n",
    "pressure_model.load_table(PRESSURE_DATA)"
   ]
  },
  {
   "cell_type": "markdown",
   "metadata": {},
   "source": [
    "### Process $N(t)$"
   ]
  },
  {
   "cell_type": "markdown",
   "metadata": {},
   "source": [
    "- Pressure data and seismic events are recorded at different times.\n",
    "    - First goal: Clip all data to the time interval where we have samples for both pressure and seismic activity\n",
    "    - Second goal: linearly interpolate the seismic data so that the event times align with the pressure data.\n",
    "    - Third goal: empirically compute the rate (numerical derivative), in order to define R0.\n",
    "- Partition the data into **main shock** and **interseismic** regions.\n",
    "    - This should be done by a peak detector, but right now it is done manually (by visual inspection)."
   ]
  },
  {
   "cell_type": "code",
   "execution_count": 28,
   "metadata": {},
   "outputs": [],
   "source": [
    "from scipy.interpolate import interp1d"
   ]
  },
  {
   "cell_type": "markdown",
   "metadata": {},
   "source": [
    "Obtain the time intervals for the seismic data, and creating the interpolator."
   ]
  },
  {
   "cell_type": "code",
   "execution_count": 29,
   "metadata": {},
   "outputs": [],
   "source": [
    "Mc = 1.6\n",
    "catalog.set_slice(magnitude_range = [Mc, 10])\n",
    "event_times = catalog.get_epoch_slice() \n",
    "start_t = event_times[0]\n",
    "end_t = event_times[-1]\n",
    "event_times = event_times / 86400 / 365.25\n",
    "\n",
    "t_n = event_times - event_times[0]\n",
    "n_cnts = np.arange(len(t_n))\n",
    "n_func = interp1d(t_n, n_cnts, kind='linear')"
   ]
  },
  {
   "cell_type": "markdown",
   "metadata": {},
   "source": [
    "Obtain the time intervals for the pressure data, and interpolate the seismic data"
   ]
  },
  {
   "cell_type": "code",
   "execution_count": 30,
   "metadata": {},
   "outputs": [],
   "source": [
    "t_p = pressure_epoch = pressure_model.table_data['t']\n",
    "start_idx = np.where(t_p > start_t)[0][0]\n",
    "end_idx = np.where(t_p > end_t)[0][0] - 1\n",
    "\n",
    "t_p = t_p[start_idx:end_idx]\n",
    "p = pressure_model.table_data['pressure'][1:][start_idx+1:end_idx]\n",
    "dpdt = pressure_model.table_data['dpdt'][1:][start_idx+1:end_idx]\n",
    "\n",
    "delta_t = t_p[1:] - t_p[:-1]\n",
    "\n",
    "p = torch.FloatTensor(p)\n",
    "dpdt = torch.FloatTensor(dpdt)\n",
    "delta_t = torch.FloatTensor(delta_t)\n",
    "\n",
    "t_p_interpolated = t_p / 86400 / 365.25 - event_times[0]\n",
    "n_interpolated = n_func(t_p_interpolated) # interpolated number of earthquakes "
   ]
  },
  {
   "cell_type": "code",
   "execution_count": 31,
   "metadata": {},
   "outputs": [
    {
     "name": "stdout",
     "output_type": "stream",
     "text": [
      "[   0 1087 1162 1237 1371 1445 1550 1609 1972 2100 2192 2391 2521 3071\n",
      " 3163 3251 3497 3668]\n",
      "18\n"
     ]
    },
    {
     "data": {
      "image/png": "[encoded data removed]",
      "text/plain": [
       "<Figure size 432x288 with 1 Axes>"
      ]
     },
     "metadata": {},
     "output_type": "display_data"
    }
   ],
   "source": [
    "empirical_rate = np.gradient(n_interpolated, t_p_interpolated)\n",
    "peak_indexs=pk_indxs(empirical_rate,trshd=0.08, min_dist=50)\n",
    "plt.plot(t_p_interpolated, empirical_rate)\n",
    "plt.plot(t_p_interpolated[peak_indexs],empirical_rate[peak_indexs],'o',color='b')\n",
    "peak_indexs=np.insert(peak_indexs,0,0)\n",
    "peak_indexs=np.insert(peak_indexs,np.size(peak_indexs),np.size(t_p_interpolated)-1)\n",
    "print(peak_indexs)\n",
    "print(np.size(peak_indexs))"
   ]
  },
  {
   "cell_type": "code",
   "execution_count": 32,
   "metadata": {},
   "outputs": [
    {
     "data": {
      "text/plain": [
       "[<matplotlib.lines.Line2D at 0x1385e2ef0>]"
      ]
     },
     "execution_count": 32,
     "metadata": {},
     "output_type": "execute_result"
    },
    {
     "data": {
      "image/png": "[encoded data removed]",
      "text/plain": [
       "<Figure size 432x288 with 1 Axes>"
      ]
     },
     "metadata": {},
     "output_type": "display_data"
    }
   ],
   "source": [
    "plt.plot(t_p_interpolated, n_interpolated)"
   ]
  },
  {
   "cell_type": "markdown",
   "metadata": {},
   "source": [
    "Examining the first interseismic chunk (from t=0 years to t=1.3 years)"
   ]
  },
  {
   "cell_type": "code",
   "execution_count": 33,
   "metadata": {},
   "outputs": [],
   "source": [
    "train_end = np.where(t_p_interpolated > 1.3)[0][0]"
   ]
  },
  {
   "cell_type": "code",
   "execution_count": null,
   "metadata": {},
   "outputs": [],
   "source": []
  },
  {
   "cell_type": "markdown",
   "metadata": {},
   "source": [
    "### Define site constants"
   ]
  },
  {
   "cell_type": "code",
   "execution_count": null,
   "metadata": {},
   "outputs": [],
   "source": []
  },
  {
   "cell_type": "markdown",
   "metadata": {},
   "source": [
    "### Sampling the grid"
   ]
  },
  {
   "cell_type": "markdown",
   "metadata": {},
   "source": [
    "We keep the rate factor fixed, and examine the landscape for mu_minus_alpha and rate_coeff."
   ]
  },
  {
   "cell_type": "code",
   "execution_count": 34,
   "metadata": {},
   "outputs": [],
   "source": [
    "params = torch.FloatTensor([[0.5,1e-2,1e-4]])\n",
    "\n",
    "\n",
    "# mu_minus_alpha_mesh = torch.linspace(0.1,1.0,101)\n",
    "# rate_coeff_mesh = 10 ** torch.linspace(-4,-1,101)\n",
    "# grid_mu, grid_rate = torch.meshgrid(mu_minus_alpha_mesh, rate_coeff_mesh, indexing='ij')\n",
    "\n",
    "# params = torch.stack([\n",
    "#     grid_mu.flatten(),\n",
    "#     grid_rate.flatten(),\n",
    "#     163.7424 / 1e6 * torch.ones_like(grid_rate.flatten()), # rate_factor \n",
    "# ]).T\n",
    "\n",
    "# params.requires_grad_()\n",
    "\n"
   ]
  },
  {
   "cell_type": "markdown",
   "metadata": {},
   "source": [
    "### Run Model"
   ]
  },
  {
   "cell_type": "code",
   "execution_count": 35,
   "metadata": {},
   "outputs": [],
   "source": [
    "from model import CRSModel"
   ]
  },
  {
   "cell_type": "code",
   "execution_count": null,
   "metadata": {},
   "outputs": [],
   "source": []
  },
  {
   "cell_type": "code",
   "execution_count": 36,
   "metadata": {},
   "outputs": [],
   "source": [
    "Rt, Nt = model(params, p, dpdt, delta_t)"
   ]
  },
  {
   "cell_type": "code",
   "execution_count": 37,
   "metadata": {},
   "outputs": [
    {
     "data": {
      "text/plain": [
       "tensor([[3.1680e-05, 3.0733e-05, 2.9842e-05,  ..., 2.9649e-06, 2.9651e-06,\n",
       "         2.9653e-06]])"
      ]
     },
     "execution_count": 37,
     "metadata": {},
     "output_type": "execute_result"
    }
   ],
   "source": [
    "Rt"
   ]
  },
  {
   "cell_type": "code",
   "execution_count": 38,
   "metadata": {},
   "outputs": [
    {
     "data": {
      "text/plain": [
       "torch.Size([1, 3669])"
      ]
     },
     "execution_count": 38,
     "metadata": {},
     "output_type": "execute_result"
    }
   ],
   "source": [
    "Nt.shape"
   ]
  },
  {
   "cell_type": "markdown",
   "metadata": {},
   "source": [
    "Visualize a sample"
   ]
  },
  {
   "cell_type": "markdown",
   "metadata": {},
   "source": [
    "Define the criterion: MSELoss.\n",
    "\n",
    "- Be careful: we may need to normalize the data before using MSELoss.\n",
    "- In future, we might forecast rate (or, $\\Delta N(t)$) since this is easier to bound than total number."
   ]
  },
  {
   "cell_type": "code",
   "execution_count": 39,
   "metadata": {},
   "outputs": [],
   "source": [
    "#criterion = nn.MSELoss(reduction='sum')"
   ]
  },
  {
   "cell_type": "code",
   "execution_count": 40,
   "metadata": {},
   "outputs": [],
   "source": [
    "#loss = criterion(Nt[:,1:], n_target[None,:])\n",
    "#loss.item()"
   ]
  },
  {
   "cell_type": "code",
   "execution_count": 41,
   "metadata": {},
   "outputs": [],
   "source": [
    "#loss.backward()"
   ]
  },
  {
   "cell_type": "code",
   "execution_count": 42,
   "metadata": {},
   "outputs": [],
   "source": [
    "mpa_yr2pa_s = 1e6 / 365.25 / 86400\n",
    "site_info = {\n",
    "    'tectonic_shear_stressing_rate' : 3.5e-4 * mpa_yr2pa_s, # Pa / s\n",
    "    'tectonic_normal_stressing_rate' : 0, # Pa/s\n",
    "    'sigma' : 30 * 1e6, # Pa\n",
    "    'biot' : 0.3, # dimensionless\n",
    "    #'background_rate' : 1.36 / 365.25 / 86400, # event/second,\n",
    "    'background_rate' : empirical_rate[0] / 365.25 / 86400, # event/second,\n",
    "    'init_delta_t' : delta_t[0].item() }"
   ]
  },
  {
   "cell_type": "code",
   "execution_count": 43,
   "metadata": {},
   "outputs": [],
   "source": [
    "from model import CRSModel\n",
    "import torch.optim as optim\n",
    "import torch.nn.functional as F\n",
    "model = CRSModel(site_info)\n",
    "\n",
    "params = torch.FloatTensor([[0.5,1e-2,0.0005]])\n",
    "params.requires_grad=True\n",
    "params.register_hook(lambda g: F.normalize(g))\n",
    "optimizer = optim.SGD(params=[params],lr=0.000001,momentum=0.1)\n",
    "\n",
    "criterion = nn.MSELoss(reduction='sum')\n",
    "R0, N0 , n_target0 = torch.ones(1, 1),torch.ones(1, 1),torch.FloatTensor([])\n",
    "for i in range(np.size(peak_indexs)-1):\n",
    "   mpa_yr2pa_s = 1e6 / 365.25 / 86400\n",
    "   site_info = {\n",
    "    'tectonic_shear_stressing_rate' : 3.5e-4 * mpa_yr2pa_s, # Pa / s\n",
    "    'tectonic_normal_stressing_rate' : 0, # Pa/s\n",
    "    'sigma' : 30 * 1e6, # Pa\n",
    "    'biot' : 0.3, # dimensionless\n",
    "    #'background_rate' : 1.36 / 365.25 / 86400, # event/second,\n",
    "    'background_rate' : empirical_rate[peak_indexs[i]+1] / 365.25 / 86400, # event/second,\n",
    "    'init_delta_t' : delta_t[0].item() }\n",
    "   model = CRSModel(site_info)\n",
    "   p0 = torch.FloatTensor(p)[peak_indexs[i]+1:peak_indexs[i+1]]\n",
    "   dpdt0 = torch.FloatTensor(dpdt)[peak_indexs[i]+1:peak_indexs[i+1]]\n",
    "   delta_t0 = torch.FloatTensor(delta_t)[peak_indexs[i]+1:peak_indexs[i+1]]\n",
    "   Rt, Nt = model(params, p0, dpdt0, delta_t0)\n",
    "   R0=torch.cat((R0,Rt),dim=-1)\n",
    "   #print(N0.detach()[0][-1])\n",
    "   Nt=torch.add(Nt,N0.detach()[0][-1])\n",
    "   #print(N0.detach())\n",
    "   N0=torch.cat((N0,Nt),dim=-1)\n",
    "   n_target= torch.FloatTensor(n_interpolated)[peak_indexs[i]:peak_indexs[i+1]]\n",
    "   n_target0=torch.cat((n_target0,n_target),dim=-1)\n"
   ]
  },
  {
   "cell_type": "code",
   "execution_count": 45,
   "metadata": {},
   "outputs": [
    {
     "name": "stdout",
     "output_type": "stream",
     "text": [
      "loss is 3029412352.0\n",
      "loss is 3020320256.0\n",
      "loss is 3011226624.0\n",
      "loss is 3002131456.0\n",
      "loss is 2993038080.0\n",
      "loss is 2983943936.0\n",
      "loss is 2974844928.0\n",
      "loss is 2965744640.0\n",
      "loss is 2956648448.0\n",
      "loss is 2947545600.0\n",
      "loss is 2938447616.0\n",
      "loss is 2929345536.0\n",
      "loss is 2920244736.0\n",
      "loss is 2911138816.0\n",
      "loss is 2902033152.0\n",
      "loss is 2892925696.0\n",
      "loss is 2883820032.0\n",
      "loss is 2874716160.0\n",
      "loss is 2865604096.0\n",
      "loss is 2856494336.0\n",
      "loss is 2847386368.0\n",
      "loss is 2838277120.0\n",
      "loss is 2829167872.0\n",
      "loss is 2820054528.0\n",
      "loss is 2810938368.0\n",
      "loss is 2801824768.0\n",
      "loss is 2792713472.0\n",
      "loss is 2783597056.0\n",
      "loss is 2774482944.0\n",
      "loss is 2765365760.0\n",
      "loss is 2756249344.0\n",
      "loss is 2747133952.0\n",
      "loss is 2738014976.0\n",
      "loss is 2728895488.0\n",
      "loss is 2719779840.0\n",
      "loss is 2710659584.0\n",
      "loss is 2701538304.0\n",
      "loss is 2692417536.0\n",
      "loss is 2683294976.0\n",
      "loss is 2674175488.0\n",
      "loss is 2665056768.0\n",
      "loss is 2655932928.0\n",
      "loss is 2646809600.0\n",
      "loss is 2637687296.0\n",
      "loss is 2628564992.0\n",
      "loss is 2619444224.0\n",
      "loss is 2610320384.0\n",
      "loss is 2601194496.0\n",
      "loss is 2592068864.0\n",
      "loss is 2582946304.0\n",
      "loss is 2573820160.0\n",
      "loss is 2564700160.0\n",
      "loss is 2555577344.0\n",
      "loss is 2546449152.0\n",
      "loss is 2537324544.0\n",
      "loss is 2528200960.0\n",
      "loss is 2519073280.0\n",
      "loss is 2509948416.0\n",
      "loss is 2500823040.0\n",
      "loss is 2491696896.0\n",
      "loss is 2482574080.0\n",
      "loss is 2473450240.0\n",
      "loss is 2464324864.0\n",
      "loss is 2455202560.0\n",
      "loss is 2446081536.0\n",
      "loss is 2436955136.0\n",
      "loss is 2427829504.0\n",
      "loss is 2418703360.0\n",
      "loss is 2409580544.0\n",
      "loss is 2400455680.0\n",
      "loss is 2391337216.0\n",
      "loss is 2382215936.0\n",
      "loss is 2373094656.0\n",
      "loss is 2363970816.0\n",
      "loss is 2354850048.0\n",
      "loss is 2345732096.0\n",
      "loss is 2336613120.0\n",
      "loss is 2327491328.0\n",
      "loss is 2318370816.0\n",
      "loss is 2309250304.0\n",
      "loss is 2300133376.0\n",
      "loss is 2291017216.0\n",
      "loss is 2281902592.0\n",
      "loss is 2272788480.0\n",
      "loss is 2263674624.0\n",
      "loss is 2254561024.0\n",
      "loss is 2245446912.0\n",
      "loss is 2236334336.0\n",
      "loss is 2227222528.0\n",
      "loss is 2218108672.0\n",
      "loss is 2208998656.0\n",
      "loss is 2199887872.0\n",
      "loss is 2190783488.0\n",
      "loss is 2181678848.0\n",
      "loss is 2172573696.0\n",
      "loss is 2163470336.0\n",
      "loss is 2154369536.0\n",
      "loss is 2145268224.0\n",
      "loss is 2136166272.0\n",
      "loss is 2127065216.0\n",
      "loss is 2117966080.0\n",
      "loss is 2108866816.0\n",
      "loss is 2099770624.0\n",
      "loss is 2090679808.0\n",
      "loss is 2081588224.0\n",
      "loss is 2072498944.0\n",
      "loss is 2063411456.0\n",
      "loss is 2054323328.0\n",
      "loss is 2045236224.0\n",
      "loss is 2036152832.0\n",
      "loss is 2027068288.0\n",
      "loss is 2017987584.0\n",
      "loss is 2008906752.0\n",
      "loss is 1999827328.0\n",
      "loss is 1990752000.0\n",
      "loss is 1981680512.0\n",
      "loss is 1972608256.0\n",
      "loss is 1963542016.0\n",
      "loss is 1954478336.0\n",
      "loss is 1945409792.0\n",
      "loss is 1936346752.0\n",
      "loss is 1927285888.0\n",
      "loss is 1918225408.0\n",
      "loss is 1909168384.0\n",
      "loss is 1900112128.0\n",
      "loss is 1891062144.0\n",
      "loss is 1882011648.0\n",
      "loss is 1872966528.0\n",
      "loss is 1863922688.0\n",
      "loss is 1854882048.0\n",
      "loss is 1845843456.0\n",
      "loss is 1836807296.0\n",
      "loss is 1827773440.0\n",
      "loss is 1818742016.0\n",
      "loss is 1809713024.0\n",
      "loss is 1800686592.0\n",
      "loss is 1791663872.0\n",
      "loss is 1782644992.0\n",
      "loss is 1773626880.0\n",
      "loss is 1764614784.0\n",
      "loss is 1755607808.0\n",
      "loss is 1746602240.0\n",
      "loss is 1737598976.0\n",
      "loss is 1728599552.0\n",
      "loss is 1719601664.0\n",
      "loss is 1710608000.0\n",
      "loss is 1701616128.0\n",
      "loss is 1692630784.0\n",
      "loss is 1683648768.0\n",
      "loss is 1674667648.0\n",
      "loss is 1665692544.0\n",
      "loss is 1656719872.0\n",
      "loss is 1647756032.0\n",
      "loss is 1638791552.0\n",
      "loss is 1629833856.0\n",
      "loss is 1620878976.0\n",
      "loss is 1611928832.0\n",
      "loss is 1602981888.0\n",
      "loss is 1594038400.0\n",
      "loss is 1585099136.0\n",
      "loss is 1576162816.0\n",
      "loss is 1567233024.0\n",
      "loss is 1558306944.0\n",
      "loss is 1549386624.0\n",
      "loss is 1540470400.0\n",
      "loss is 1531559168.0\n",
      "loss is 1522656512.0\n",
      "loss is 1513757440.0\n",
      "loss is 1504860928.0\n",
      "loss is 1495970944.0\n",
      "loss is 1487083776.0\n",
      "loss is 1478202624.0\n",
      "loss is 1469326720.0\n",
      "loss is 1460457600.0\n",
      "loss is 1451591296.0\n",
      "loss is 1442731136.0\n",
      "loss is 1433875584.0\n",
      "loss is 1425028224.0\n",
      "loss is 1416185472.0\n",
      "loss is 1407349120.0\n",
      "loss is 1398521728.0\n",
      "loss is 1389698816.0\n",
      "loss is 1380881408.0\n",
      "loss is 1372070784.0\n",
      "loss is 1363264000.0\n",
      "loss is 1354464640.0\n",
      "loss is 1345672064.0\n",
      "loss is 1336885632.0\n",
      "loss is 1328106624.0\n",
      "loss is 1319332608.0\n",
      "loss is 1310566144.0\n",
      "loss is 1301807488.0\n",
      "loss is 1293055104.0\n",
      "loss is 1284309760.0\n",
      "loss is 1275571840.0\n",
      "loss is 1266845184.0\n",
      "loss is 1258123904.0\n",
      "loss is 1249408256.0\n",
      "loss is 1240700928.0\n",
      "loss is 1232001024.0\n",
      "loss is 1223310720.0\n",
      "loss is 1214626048.0\n",
      "loss is 1205950720.0\n",
      "loss is 1197282944.0\n",
      "loss is 1188623488.0\n",
      "loss is 1179972480.0\n",
      "loss is 1171328768.0\n",
      "loss is 1162695808.0\n",
      "loss is 1154071296.0\n",
      "loss is 1145455488.0\n",
      "loss is 1136849280.0\n",
      "loss is 1128253952.0\n",
      "loss is 1119666688.0\n",
      "loss is 1111087616.0\n",
      "loss is 1102518144.0\n",
      "loss is 1093958144.0\n",
      "loss is 1085408256.0\n",
      "loss is 1076868224.0\n",
      "loss is 1068338304.0\n",
      "loss is 1059818240.0\n",
      "loss is 1051308672.0\n",
      "loss is 1042811072.0\n",
      "loss is 1034321664.0\n",
      "loss is 1025843456.0\n",
      "loss is 1017376320.0\n",
      "loss is 1008920832.0\n",
      "loss is 1000475904.0\n",
      "loss is 992045056.0\n",
      "loss is 983623808.0\n",
      "loss is 975214976.0\n",
      "loss is 966817280.0\n",
      "loss is 958431104.0\n",
      "loss is 950056512.0\n",
      "loss is 941694272.0\n",
      "loss is 933344896.0\n",
      "loss is 925007104.0\n",
      "loss is 916682880.0\n",
      "loss is 908371392.0\n",
      "loss is 900073024.0\n",
      "loss is 891787968.0\n",
      "loss is 883516992.0\n",
      "loss is 875259456.0\n",
      "loss is 867015744.0\n",
      "loss is 858785536.0\n",
      "loss is 850570048.0\n",
      "loss is 842369856.0\n",
      "loss is 834183680.0\n",
      "loss is 826011904.0\n",
      "loss is 817855104.0\n",
      "loss is 809713344.0\n",
      "loss is 801586560.0\n",
      "loss is 793475904.0\n",
      "loss is 785380160.0\n",
      "loss is 777300352.0\n",
      "loss is 769237952.0\n",
      "loss is 761190016.0\n",
      "loss is 753160320.0\n",
      "loss is 745146880.0\n",
      "loss is 737150592.0\n",
      "loss is 729171776.0\n",
      "loss is 721210368.0\n",
      "loss is 713266880.0\n",
      "loss is 705341440.0\n",
      "loss is 697433600.0\n",
      "loss is 689545600.0\n",
      "loss is 681676864.0\n",
      "loss is 673826368.0\n",
      "loss is 665994816.0\n",
      "loss is 658182848.0\n",
      "loss is 650390208.0\n",
      "loss is 642617664.0\n",
      "loss is 634865408.0\n",
      "loss is 627133440.0\n",
      "loss is 619422848.0\n",
      "loss is 611733120.0\n",
      "loss is 604065088.0\n",
      "loss is 596418368.0\n",
      "loss is 588794368.0\n",
      "loss is 581191936.0\n",
      "loss is 573613056.0\n",
      "loss is 566056064.0\n",
      "loss is 558522880.0\n",
      "loss is 551013056.0\n",
      "loss is 543528128.0\n",
      "loss is 536066464.0\n",
      "loss is 528629728.0\n",
      "loss is 521217696.0\n",
      "loss is 513832320.0\n",
      "loss is 506471616.0\n",
      "loss is 499136768.0\n",
      "loss is 491828608.0\n",
      "loss is 484546240.0\n",
      "loss is 477291712.0\n",
      "loss is 470064960.0\n",
      "loss is 462865248.0\n",
      "loss is 455694080.0\n",
      "loss is 448551200.0\n",
      "loss is 441437824.0\n",
      "loss is 434353984.0\n",
      "loss is 427299968.0\n",
      "loss is 420276160.0\n",
      "loss is 413283040.0\n",
      "loss is 406321600.0\n",
      "loss is 399391520.0\n",
      "loss is 392493952.0\n",
      "loss is 385628736.0\n",
      "loss is 378796480.0\n",
      "loss is 371997824.0\n",
      "loss is 365233472.0\n",
      "loss is 358504128.0\n",
      "loss is 351809472.0\n",
      "loss is 345149952.0\n",
      "loss is 338527456.0\n",
      "loss is 331941312.0\n",
      "loss is 325392448.0\n",
      "loss is 318881376.0\n",
      "loss is 312408608.0\n",
      "loss is 305974368.0\n",
      "loss is 299580064.0\n",
      "loss is 293225856.0\n",
      "loss is 286912256.0\n",
      "loss is 280640320.0\n",
      "loss is 274410144.0\n",
      "loss is 268222768.0\n",
      "loss is 262079056.0\n",
      "loss is 255979008.0\n",
      "loss is 249923952.0\n",
      "loss is 243914544.0\n",
      "loss is 237950976.0\n",
      "loss is 232034208.0\n",
      "loss is 226165280.0\n",
      "loss is 220344464.0\n",
      "loss is 214573296.0\n",
      "loss is 208851776.0\n",
      "loss is 203181328.0\n",
      "loss is 197562464.0\n",
      "loss is 191996368.0\n",
      "loss is 186483328.0\n",
      "loss is 181024768.0\n",
      "loss is 175621440.0\n",
      "loss is 170274112.0\n",
      "loss is 164983664.0\n",
      "loss is 159751504.0\n",
      "loss is 154578816.0\n",
      "loss is 149465744.0\n",
      "loss is 144413856.0\n",
      "loss is 139424048.0\n",
      "loss is 134497520.0\n",
      "loss is 129635368.0\n",
      "loss is 124838608.0\n",
      "loss is 120108576.0\n",
      "loss is 115446368.0\n",
      "loss is 110853304.0\n",
      "loss is 106330688.0\n",
      "loss is 101879664.0\n",
      "loss is 97501696.0\n",
      "loss is 93198104.0\n",
      "loss is 88970184.0\n",
      "loss is 84819440.0\n",
      "loss is 80747384.0\n",
      "loss is 76755360.0\n",
      "loss is 72845016.0\n",
      "loss is 69018080.0\n",
      "loss is 65275908.0\n",
      "loss is 61620424.0\n",
      "loss is 58053216.0\n",
      "loss is 54575992.0\n",
      "loss is 51190788.0\n",
      "loss is 47899272.0\n",
      "loss is 44703512.0\n",
      "loss is 41605468.0\n",
      "loss is 38607144.0\n",
      "loss is 35710644.0\n",
      "loss is 32918162.0\n",
      "loss is 30231966.0\n",
      "loss is 27654232.0\n",
      "loss is 25187536.0\n",
      "loss is 22834216.0\n",
      "loss is 20596870.0\n",
      "loss is 18478104.0\n",
      "loss is 16480687.0\n",
      "loss is 14607349.0\n",
      "loss is 12861053.0\n",
      "loss is 11244760.0\n",
      "loss is 9761592.0\n",
      "loss is 8414772.0\n",
      "loss is 7207648.0\n",
      "loss is 6143709.0\n",
      "loss is 5226572.0\n",
      "loss is 4459939.0\n",
      "loss is 3847687.25\n",
      "loss is 3393860.0\n",
      "loss is 3102664.25\n",
      "loss is 2978481.5\n",
      "loss is 3025864.25\n",
      "loss is 3249561.5\n",
      "loss is 3654530.5\n",
      "loss is 3315891.5\n",
      "loss is 3059878.25\n",
      "loss is 3256696.75\n",
      "loss is 3655939.25\n",
      "loss is 3316182.5\n",
      "loss is 3059972.0\n",
      "loss is 3256866.0\n",
      "loss is 3656206.0\n",
      "loss is 3316371.75\n",
      "loss is 3060060.75\n",
      "loss is 3257025.75\n",
      "loss is 3656456.0\n",
      "loss is 3316546.5\n",
      "loss is 3060143.5\n",
      "loss is 3257181.0\n",
      "loss is 3656697.75\n",
      "loss is 3316712.75\n",
      "loss is 3060222.25\n",
      "loss is 3257321.0\n",
      "loss is 3656925.0\n",
      "loss is 3316873.5\n",
      "loss is 3060294.0\n",
      "loss is 3257461.5\n",
      "loss is 3657131.25\n",
      "loss is 3317020.0\n",
      "loss is 3060369.5\n",
      "loss is 3257591.25\n",
      "loss is 3657339.75\n",
      "loss is 3317164.5\n",
      "loss is 3060436.25\n",
      "loss is 3257715.5\n",
      "loss is 3657535.0\n",
      "loss is 3317303.25\n",
      "loss is 3060508.25\n",
      "loss is 3257837.5\n",
      "loss is 3657726.0\n",
      "loss is 3317441.5\n",
      "loss is 3060569.75\n",
      "loss is 3257953.5\n",
      "loss is 3657912.5\n",
      "loss is 3317569.25\n",
      "loss is 3060634.75\n",
      "loss is 3258076.75\n",
      "loss is 3658106.0\n",
      "loss is 3317703.75\n",
      "loss is 3060694.25\n",
      "loss is 3258183.25\n",
      "loss is 3658275.0\n",
      "loss is 3317814.0\n",
      "loss is 3060751.25\n",
      "loss is 3258289.75\n",
      "loss is 3658443.5\n",
      "loss is 3317939.0\n",
      "loss is 3060809.25\n",
      "loss is 3258391.5\n",
      "loss is 3658604.0\n",
      "loss is 3318051.0\n",
      "loss is 3060865.5\n",
      "loss is 3258495.5\n",
      "loss is 3658757.0\n",
      "loss is 3318162.25\n",
      "loss is 3060919.75\n",
      "loss is 3258589.5\n",
      "loss is 3658915.0\n",
      "loss is 3318265.0\n",
      "loss is 3060964.0\n",
      "loss is 3258678.25\n",
      "loss is 3659057.0\n",
      "loss is 3318367.0\n",
      "loss is 3061012.75\n",
      "loss is 3258770.25\n",
      "loss is 3659203.5\n",
      "loss is 3318467.0\n",
      "loss is 3061063.0\n",
      "loss is 3258855.5\n",
      "loss is 3659334.25\n",
      "loss is 3318560.0\n",
      "loss is 3061111.5\n",
      "loss is 3258944.75\n",
      "loss is 3659479.25\n",
      "loss is 3318660.75\n",
      "loss is 3061158.75\n",
      "loss is 3259031.0\n",
      "loss is 3659609.0\n",
      "loss is 3318760.5\n",
      "loss is 3061209.25\n",
      "loss is 3259125.5\n",
      "loss is 3659755.75\n",
      "loss is 3318860.0\n",
      "loss is 3061252.5\n",
      "loss is 3259202.25\n",
      "loss is 3659884.0\n",
      "loss is 3318948.0\n",
      "loss is 3061296.25\n",
      "loss is 3259286.75\n",
      "loss is 3660014.5\n",
      "loss is 3319035.75\n",
      "loss is 3061338.5\n",
      "loss is 3259362.75\n",
      "loss is 3660137.5\n",
      "loss is 3319117.0\n",
      "loss is 3061378.0\n",
      "loss is 3259435.25\n"
     ]
    }
   ],
   "source": [
    "for epoch in range(500):\n",
    "    R0, N0 , n_target0 = torch.ones(1, 1),torch.ones(1, 1),torch.FloatTensor([])\n",
    "    for i in range(np.size(peak_indexs)-1):\n",
    "             mpa_yr2pa_s = 1e6 / 365.25 / 86400\n",
    "             site_info = {\n",
    "                          'tectonic_shear_stressing_rate' : 3.5e-4 * mpa_yr2pa_s, # Pa / s\n",
    "                          'tectonic_normal_stressing_rate' : 0, # Pa/s\n",
    "                          'sigma' : 30 * 1e6, # Pa\n",
    "                          'biot' : 0.3, # dimensionless\n",
    "                          #'background_rate' : 1.36 / 365.25 / 86400, # event/second,\n",
    "                          'background_rate' : empirical_rate[peak_indexs[i]+1] / 365.25 / 86400, # event/second,\n",
    "                          'init_delta_t' : delta_t[0].item() }\n",
    "             model = CRSModel(site_info)\n",
    "             p0 = torch.FloatTensor(p)[peak_indexs[i]+1:peak_indexs[i+1]]\n",
    "             dpdt0 = torch.FloatTensor(dpdt)[peak_indexs[i]+1:peak_indexs[i+1]]\n",
    "             delta_t0 = torch.FloatTensor(delta_t)[peak_indexs[i]+1:peak_indexs[i+1]]\n",
    "             \n",
    "             Rt, Nt = model(params, p0, dpdt0, delta_t0)\n",
    "             #print(empirical_rate[peak_indexs[i]],)\n",
    "             R0=torch.cat((R0,Rt),dim=-1)\n",
    "             #print(N0.detach()[0][-1])\n",
    "             Nt=torch.add(Nt,N0.detach()[0][-1])\n",
    "             #print(N0.detach())\n",
    "             N0=torch.cat((N0,Nt),dim=-1)\n",
    "             n_target= torch.FloatTensor(n_interpolated)[peak_indexs[i]:peak_indexs[i+1]]\n",
    "             n_target0=torch.cat((n_target0,n_target),dim=-1)\n",
    "             #print(n_target0.detach().size(),(N0[:,1:]).squeeze().detach().size())\n",
    "\n",
    "    # loss = criterion(Nt[:,1:], n_target[None,:]) # Need to define a loss function that compares with the real data\n",
    "    # Define a MSE of forecasted number Nt with the ground truth\n",
    "    \n",
    "    \n",
    "    #print((N0[:,1:]).squeeze().detach().numpy(),n_target0.detach().numpy())\n",
    "    loss = criterion((N0[:,1:]).squeeze(), n_target0)\n",
    "    print('loss is ' + str(loss.item()))\n",
    "    optimizer.zero_grad()\n",
    "    loss.backward()\n",
    "    optimizer.step()\n",
    "    Nt.shape"
   ]
  },
  {
   "cell_type": "code",
   "execution_count": 46,
   "metadata": {},
   "outputs": [
    {
     "name": "stdout",
     "output_type": "stream",
     "text": [
      "tensor([[5.0000e-01, 9.9910e-03, 5.1348e-05]], requires_grad=True)\n"
     ]
    },
    {
     "data": {
      "image/png": "[encoded data removed]",
      "text/plain": [
       "<Figure size 432x288 with 1 Axes>"
      ]
     },
     "metadata": {},
     "output_type": "display_data"
    }
   ],
   "source": [
    "plt.plot((N0[:,1:]).squeeze().detach().numpy())\n",
    "plt.plot(n_target0)\n",
    "print(params)"
   ]
  },
  {
   "cell_type": "code",
   "execution_count": null,
   "metadata": {},
   "outputs": [],
   "source": [
    "params = torch.FloatTensor([[5.0009e-01,2.7316e-03,3.0530e-04,5.0000e-04]])\n",
    "Rt, Nt = model(params, p, dpdt, delta_t)\n",
    "plt.plot(Nt.data.detach().numpy()[0])\n",
    "plt.plot(n_target)\n",
    "params = torch.FloatTensor([[5.0009e-01,2.7316e-03,163.7424,5.0000e-04]])\n",
    "Rt, Nt = model(params, p, dpdt, delta_t)\n",
    "plt.plot(Nt.data.detach().numpy()[0])"
   ]
  },
  {
   "cell_type": "code",
   "execution_count": null,
   "metadata": {},
   "outputs": [],
   "source": [
    "print(Rt,Nt)"
   ]
  },
  {
   "cell_type": "code",
   "execution_count": null,
   "metadata": {},
   "outputs": [],
   "source": []
  },
  {
   "cell_type": "code",
   "execution_count": null,
   "metadata": {},
   "outputs": [],
   "source": []
  },
  {
   "cell_type": "code",
   "execution_count": null,
   "metadata": {},
   "outputs": [],
   "source": []
  },
  {
   "cell_type": "code",
   "execution_count": null,
   "metadata": {},
   "outputs": [],
   "source": []
  },
  {
   "cell_type": "code",
   "execution_count": null,
   "metadata": {},
   "outputs": [],
   "source": []
  },
  {
   "cell_type": "code",
   "execution_count": null,
   "metadata": {},
   "outputs": [],
   "source": []
  },
  {
   "cell_type": "code",
   "execution_count": null,
   "metadata": {},
   "outputs": [],
   "source": []
  },
  {
   "cell_type": "code",
   "execution_count": null,
   "metadata": {},
   "outputs": [],
   "source": []
  }
 ],
 "metadata": {
  "kernelspec": {
   "display_name": "Python 3 (ipykernel)",
   "language": "python",
   "name": "python3"
  },
  "language_info": {
   "codemirror_mode": {
    "name": "ipython",
    "version": 3
   },
   "file_extension": ".py",
   "mimetype": "text/x-python",
   "name": "python",
   "nbconvert_exporter": "python",
   "pygments_lexer": "ipython3",
   "version": "3.7.1"
  },
  "vscode": {
   "interpreter": {
    "hash": "2beab4f37da7cd4415782296c8eb22a3553443b6202cb34c77e531d87231817b"
   }
  }
 },
 "nbformat": 4,
 "nbformat_minor": 4
}
