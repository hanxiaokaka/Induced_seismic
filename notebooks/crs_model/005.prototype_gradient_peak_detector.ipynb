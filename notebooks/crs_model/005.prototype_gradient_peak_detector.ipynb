{
 "cells": [
  {
   "cell_type": "code",
   "execution_count": 54,
   "metadata": {},
   "outputs": [],
   "source": [
    "import numpy as np\n",
    "import torch\n",
    "import torch.nn as nn\n",
    "import matplotlib.pyplot as plt\n",
    "from saif.crs_model.peakdetector import pk_indxs\n",
    "plt.style.use('ggplot')\n"
   ]
  },
  {
   "cell_type": "markdown",
   "metadata": {},
   "source": [
    "### Load Data"
   ]
  },
  {
   "cell_type": "code",
   "execution_count": 55,
   "metadata": {},
   "outputs": [],
   "source": [
    "SEISMIC_DATA = '../../../dataset_preparing/datasets_Jul_7/cushing_oklahoma/cushingSeismic.hdf5'\n",
    "PRESSURE_DATA = '../../../dataset_preparing/datasets_Jul_7/cushing_oklahoma/cushingPressure.hdf5'"
   ]
  },
  {
   "cell_type": "code",
   "execution_count": 56,
   "metadata": {},
   "outputs": [],
   "source": [
    "from orion_light import seismic_catalog\n",
    "from orion_light import pressure_table"
   ]
  },
  {
   "cell_type": "code",
   "execution_count": 57,
   "metadata": {},
   "outputs": [],
   "source": [
    "catalog = seismic_catalog.SeismicCatalog()\n",
    "catalog.load_catalog_hdf5(SEISMIC_DATA)"
   ]
  },
  {
   "cell_type": "code",
   "execution_count": 58,
   "metadata": {},
   "outputs": [
    {
     "name": "stdout",
     "output_type": "stream",
     "text": [
      "Loading pressure table from hdf5 file: ../../../dataset_preparing/datasets_Jul_7/cushing_oklahoma/cushingPressure.hdf5\n"
     ]
    }
   ],
   "source": [
    "pressure_model = pressure_table.PressureTableModel()\n",
    "pressure_model.load_table(PRESSURE_DATA)"
   ]
  },
  {
   "cell_type": "markdown",
   "metadata": {},
   "source": [
    "### Process $N(t)$"
   ]
  },
  {
   "cell_type": "markdown",
   "metadata": {},
   "source": [
    "- Pressure data and seismic events are recorded at different times.\n",
    "    - First goal: Clip all data to the time interval where we have samples for both pressure and seismic activity\n",
    "    - Second goal: linearly interpolate the seismic data so that the event times align with the pressure data.\n",
    "    - Third goal: empirically compute the rate (numerical derivative), in order to define R0.\n",
    "- Partition the data into **main shock** and **interseismic** regions.\n",
    "    - This should be done by a peak detector, but right now it is done manually (by visual inspection)."
   ]
  },
  {
   "cell_type": "code",
   "execution_count": 59,
   "metadata": {},
   "outputs": [],
   "source": [
    "from scipy.interpolate import interp1d"
   ]
  },
  {
   "cell_type": "markdown",
   "metadata": {},
   "source": [
    "Obtain the time intervals for the seismic data, and creating the interpolator."
   ]
  },
  {
   "cell_type": "code",
   "execution_count": 60,
   "metadata": {},
   "outputs": [],
   "source": [
    "Mc = 1.6\n",
    "catalog.set_slice(magnitude_range = [Mc, 10])\n",
    "event_times = catalog.get_epoch_slice() \n",
    "start_t = event_times[0]\n",
    "end_t = event_times[-1]\n",
    "event_times = event_times / 86400 / 365.25\n",
    "\n",
    "t_n = event_times - event_times[0]\n",
    "n_cnts = np.arange(len(t_n))\n",
    "n_func = interp1d(t_n, n_cnts, kind='linear')"
   ]
  },
  {
   "cell_type": "markdown",
   "metadata": {},
   "source": [
    "Obtain the time intervals for the pressure data, and interpolate the seismic data"
   ]
  },
  {
   "cell_type": "code",
   "execution_count": 61,
   "metadata": {},
   "outputs": [],
   "source": [
    "t_p = pressure_epoch = pressure_model.table_data['t']\n",
    "start_idx = np.where(t_p > start_t)[0][0]\n",
    "end_idx = np.where(t_p > end_t)[0][0] - 1\n",
    "\n",
    "t_p = t_p[start_idx:end_idx]\n",
    "p = pressure_model.table_data['pressure'][1:][start_idx+1:end_idx]\n",
    "dpdt = pressure_model.table_data['dpdt'][1:][start_idx+1:end_idx]\n",
    "\n",
    "delta_t = t_p[1:] - t_p[:-1]\n",
    "\n",
    "p = torch.FloatTensor(p)\n",
    "dpdt = torch.FloatTensor(dpdt)\n",
    "delta_t = torch.FloatTensor(delta_t)\n",
    "\n",
    "t_p_interpolated = t_p / 86400 / 365.25 - event_times[0]\n",
    "n_interpolated = n_func(t_p_interpolated) # interpolated number of earthquakes "
   ]
  },
  {
   "cell_type": "code",
   "execution_count": 62,
   "metadata": {},
   "outputs": [
    {
     "name": "stdout",
     "output_type": "stream",
     "text": [
      "[   0 1087 1550 1972 2192 2521 3163 3668]\n",
      "8\n"
     ]
    },
    {
     "data": {
      "image/png": "[encoded data removed]",
      "text/plain": [
       "<Figure size 432x288 with 1 Axes>"
      ]
     },
     "metadata": {},
     "output_type": "display_data"
    }
   ],
   "source": [
    "empirical_rate = np.gradient(n_interpolated, t_p_interpolated)\n",
    "peak_indexs=pk_indxs(empirical_rate,trshd=0.2, min_dist=100)\n",
    "plt.plot(t_p_interpolated, empirical_rate)\n",
    "plt.plot(t_p_interpolated[peak_indexs],empirical_rate[peak_indexs],'o',color='b')\n",
    "peak_indexs=np.insert(peak_indexs,0,0)\n",
    "peak_indexs=np.insert(peak_indexs,np.size(peak_indexs),np.size(t_p_interpolated)-1)\n",
    "print(peak_indexs)\n",
    "print(np.size(peak_indexs))"
   ]
  },
  {
   "cell_type": "code",
   "execution_count": 63,
   "metadata": {},
   "outputs": [
    {
     "data": {
      "text/plain": [
       "[<matplotlib.lines.Line2D at 0x7f89e32ed6d0>]"
      ]
     },
     "execution_count": 63,
     "metadata": {},
     "output_type": "execute_result"
    },
    {
     "data": {
      "image/png": "[encoded data removed]",
      "text/plain": [
       "<Figure size 432x288 with 1 Axes>"
      ]
     },
     "metadata": {},
     "output_type": "display_data"
    }
   ],
   "source": [
    "plt.plot(t_p_interpolated, n_interpolated)"
   ]
  },
  {
   "cell_type": "markdown",
   "metadata": {},
   "source": [
    "Examining the first interseismic chunk (from t=0 years to t=1.3 years)"
   ]
  },
  {
   "cell_type": "code",
   "execution_count": 64,
   "metadata": {},
   "outputs": [],
   "source": [
    "train_end = np.where(t_p_interpolated > 1.3)[0][0]"
   ]
  },
  {
   "cell_type": "markdown",
   "metadata": {},
   "source": [
    "### Define site constants"
   ]
  },
  {
   "cell_type": "code",
   "execution_count": null,
   "metadata": {},
   "outputs": [],
   "source": []
  },
  {
   "cell_type": "markdown",
   "metadata": {},
   "source": [
    "### Sampling the grid"
   ]
  },
  {
   "cell_type": "markdown",
   "metadata": {},
   "source": [
    "We keep the rate factor fixed, and examine the landscape for mu_minus_alpha and rate_coeff."
   ]
  },
  {
   "cell_type": "code",
   "execution_count": 65,
   "metadata": {},
   "outputs": [],
   "source": [
    "params = torch.FloatTensor([[0.5,1e-2,1e-4]])\n",
    "\n",
    "\n",
    "# mu_minus_alpha_mesh = torch.linspace(0.1,1.0,101)\n",
    "# rate_coeff_mesh = 10 ** torch.linspace(-4,-1,101)\n",
    "# grid_mu, grid_rate = torch.meshgrid(mu_minus_alpha_mesh, rate_coeff_mesh, indexing='ij')\n",
    "\n",
    "# params = torch.stack([\n",
    "#     grid_mu.flatten(),\n",
    "#     grid_rate.flatten(),\n",
    "#     163.7424 / 1e6 * torch.ones_like(grid_rate.flatten()), # rate_factor \n",
    "# ]).T\n",
    "\n",
    "# params.requires_grad_()\n",
    "\n"
   ]
  },
  {
   "cell_type": "markdown",
   "metadata": {},
   "source": [
    "### Run Model"
   ]
  },
  {
   "cell_type": "code",
   "execution_count": 75,
   "metadata": {},
   "outputs": [],
   "source": [
    "mpa_yr2pa_s = 1e6 / 365.25 / 86400\n",
    "site_info = {\n",
    "    'tectonic_shear_stressing_rate' : 3.5e-4 * mpa_yr2pa_s, # Pa / s\n",
    "    'tectonic_normal_stressing_rate' : 0, # Pa/s\n",
    "    'sigma' : 30 * 1e6, # Pa\n",
    "    'biot' : 0.3, # dimensionless\n",
    "    #'background_rate' : 1.36 / 365.25 / 86400, # event/second,\n",
    "    'background_rate' : empirical_rate[0] / 365.25 / 86400, # event/second,\n",
    "    'init_delta_t' : delta_t[0].item() }\n",
    "# from model import CRSModel\n",
    "from model_v2 import CRSModel\n",
    "model = CRSModel(site_info)"
   ]
  },
  {
   "cell_type": "markdown",
   "metadata": {},
   "source": [
    "Visualize a sample"
   ]
  },
  {
   "cell_type": "markdown",
   "metadata": {},
   "source": [
    "Define the criterion: MSELoss.\n",
    "\n",
    "- Be careful: we may need to normalize the data before using MSELoss.\n",
    "- In future, we might forecast rate (or, $\\Delta N(t)$) since this is easier to bound than total number."
   ]
  },
  {
   "cell_type": "code",
   "execution_count": 39,
   "metadata": {},
   "outputs": [],
   "source": [
    "#criterion = nn.MSELoss(reduction='sum')"
   ]
  },
  {
   "cell_type": "code",
   "execution_count": 40,
   "metadata": {},
   "outputs": [],
   "source": [
    "#loss = criterion(Nt[:,1:], n_target[None,:])\n",
    "#loss.item()"
   ]
  },
  {
   "cell_type": "code",
   "execution_count": 41,
   "metadata": {},
   "outputs": [],
   "source": [
    "#loss.backward()"
   ]
  },
  {
   "cell_type": "code",
   "execution_count": 79,
   "metadata": {},
   "outputs": [],
   "source": [
    "mpa_yr2pa_s = 1e6 / 365.25 / 86400\n",
    "site_info = {\n",
    "    'tectonic_shear_stressing_rate' : 3.5e-4 * mpa_yr2pa_s, # Pa / s\n",
    "    'tectonic_normal_stressing_rate' : 0, # Pa/s\n",
    "    'sigma' : 30 * 1e6, # Pa\n",
    "    'biot' : 0.3, # dimensionless\n",
    "    #'background_rate' : 1.36 / 365.25 / 86400, # event/second,\n",
    "    'background_rate' : empirical_rate[0] / 365.25 / 86400, # event/second,\n",
    "    'init_delta_t' : delta_t[0].item() }"
   ]
  },
  {
   "cell_type": "code",
   "execution_count": 170,
   "metadata": {},
   "outputs": [
    {
     "data": {
      "text/plain": [
       "8"
      ]
     },
     "execution_count": 170,
     "metadata": {},
     "output_type": "execute_result"
    }
   ],
   "source": [
    "np.size(peak_indexs)\n",
    "\n"
   ]
  },
  {
   "cell_type": "code",
   "execution_count": 164,
   "metadata": {},
   "outputs": [
    {
     "name": "stdout",
     "output_type": "stream",
     "text": [
      "step: 0 loss is 316785568.0 lr is 5e-05\n"
     ]
    },
    {
     "data": {
      "text/plain": [
       "None"
      ]
     },
     "metadata": {},
     "output_type": "display_data"
    },
    {
     "name": "stdout",
     "output_type": "stream",
     "text": [
      "step: 5 loss is 2205231.75 lr is 1e-06\n"
     ]
    },
    {
     "data": {
      "text/plain": [
       "tensor([[6.6360e-05, 1.6085e-02, 9.9987e-01]])"
      ]
     },
     "metadata": {},
     "output_type": "display_data"
    },
    {
     "name": "stdout",
     "output_type": "stream",
     "text": [
      "step: 10 loss is 1660393.75 lr is 1e-06\n"
     ]
    },
    {
     "data": {
      "text/plain": [
       "tensor([[2.6704e-05, 7.9796e-03, 9.9997e-01]])"
      ]
     },
     "metadata": {},
     "output_type": "display_data"
    },
    {
     "name": "stdout",
     "output_type": "stream",
     "text": [
      "step: 15 loss is 1538065.25 lr is 1e-07\n"
     ]
    },
    {
     "data": {
      "text/plain": [
       "tensor([[2.6128e-05, 7.7783e-03, 9.9997e-01]])"
      ]
     },
     "metadata": {},
     "output_type": "display_data"
    },
    {
     "name": "stdout",
     "output_type": "stream",
     "text": [
      "step: 20 loss is 1497657.25 lr is 1e-07\n"
     ]
    },
    {
     "data": {
      "text/plain": [
       "tensor([[2.6010e-05, 7.7341e-03, 9.9997e-01]])"
      ]
     },
     "metadata": {},
     "output_type": "display_data"
    },
    {
     "name": "stdout",
     "output_type": "stream",
     "text": [
      "step: 25 loss is 1458976.875 lr is 1e-07\n"
     ]
    },
    {
     "data": {
      "text/plain": [
       "tensor([[2.5896e-05, 7.6898e-03, 9.9997e-01]])"
      ]
     },
     "metadata": {},
     "output_type": "display_data"
    },
    {
     "name": "stdout",
     "output_type": "stream",
     "text": [
      "step: 30 loss is 1422051.375 lr is 1e-07\n"
     ]
    },
    {
     "data": {
      "text/plain": [
       "tensor([[2.5785e-05, 7.6453e-03, 9.9997e-01]])"
      ]
     },
     "metadata": {},
     "output_type": "display_data"
    },
    {
     "name": "stdout",
     "output_type": "stream",
     "text": [
      "step: 35 loss is 1386871.75 lr is 1e-07\n"
     ]
    },
    {
     "data": {
      "text/plain": [
       "tensor([[2.5677e-05, 7.6006e-03, 9.9997e-01]])"
      ]
     },
     "metadata": {},
     "output_type": "display_data"
    },
    {
     "name": "stdout",
     "output_type": "stream",
     "text": [
      "step: 40 loss is 1353456.75 lr is 1e-07\n"
     ]
    },
    {
     "data": {
      "text/plain": [
       "tensor([[2.5574e-05, 7.5558e-03, 9.9997e-01]])"
      ]
     },
     "metadata": {},
     "output_type": "display_data"
    },
    {
     "name": "stdout",
     "output_type": "stream",
     "text": [
      "step: 45 loss is 1321814.75 lr is 1e-07\n"
     ]
    },
    {
     "data": {
      "text/plain": [
       "tensor([[2.5474e-05, 7.5107e-03, 9.9997e-01]])"
      ]
     },
     "metadata": {},
     "output_type": "display_data"
    },
    {
     "name": "stdout",
     "output_type": "stream",
     "text": [
      "step: 50 loss is 1291949.25 lr is 1e-07\n"
     ]
    },
    {
     "data": {
      "text/plain": [
       "tensor([[2.5380e-05, 7.4654e-03, 9.9997e-01]])"
      ]
     },
     "metadata": {},
     "output_type": "display_data"
    },
    {
     "name": "stdout",
     "output_type": "stream",
     "text": [
      "step: 55 loss is 1263874.375 lr is 1e-07\n"
     ]
    },
    {
     "data": {
      "text/plain": [
       "tensor([[2.5290e-05, 7.4198e-03, 9.9997e-01]])"
      ]
     },
     "metadata": {},
     "output_type": "display_data"
    },
    {
     "name": "stdout",
     "output_type": "stream",
     "text": [
      "step: 60 loss is 1237597.75 lr is 1e-07\n"
     ]
    },
    {
     "data": {
      "text/plain": [
       "tensor([[2.5206e-05, 7.3739e-03, 9.9997e-01]])"
      ]
     },
     "metadata": {},
     "output_type": "display_data"
    },
    {
     "name": "stdout",
     "output_type": "stream",
     "text": [
      "step: 65 loss is 1213126.0 lr is 1e-07\n"
     ]
    },
    {
     "data": {
      "text/plain": [
       "tensor([[2.5128e-05, 7.3278e-03, 9.9997e-01]])"
      ]
     },
     "metadata": {},
     "output_type": "display_data"
    },
    {
     "name": "stdout",
     "output_type": "stream",
     "text": [
      "step: 70 loss is 1190472.0 lr is 1e-07\n"
     ]
    },
    {
     "data": {
      "text/plain": [
       "tensor([[2.5057e-05, 7.2813e-03, 9.9997e-01]])"
      ]
     },
     "metadata": {},
     "output_type": "display_data"
    },
    {
     "name": "stdout",
     "output_type": "stream",
     "text": [
      "step: 75 loss is 1169643.5 lr is 1e-07\n"
     ]
    },
    {
     "data": {
      "text/plain": [
       "tensor([[2.4993e-05, 7.2345e-03, 9.9997e-01]])"
      ]
     },
     "metadata": {},
     "output_type": "display_data"
    },
    {
     "name": "stdout",
     "output_type": "stream",
     "text": [
      "step: 80 loss is 1150647.75 lr is 1e-07\n"
     ]
    },
    {
     "data": {
      "text/plain": [
       "tensor([[2.4937e-05, 7.1872e-03, 9.9997e-01]])"
      ]
     },
     "metadata": {},
     "output_type": "display_data"
    },
    {
     "name": "stdout",
     "output_type": "stream",
     "text": [
      "step: 85 loss is 1133497.0 lr is 1e-07\n"
     ]
    },
    {
     "data": {
      "text/plain": [
       "tensor([[2.4890e-05, 7.1395e-03, 9.9997e-01]])"
      ]
     },
     "metadata": {},
     "output_type": "display_data"
    },
    {
     "name": "stdout",
     "output_type": "stream",
     "text": [
      "step: 90 loss is 1118201.125 lr is 1e-07\n"
     ]
    },
    {
     "data": {
      "text/plain": [
       "tensor([[2.4853e-05, 7.0913e-03, 9.9997e-01]])"
      ]
     },
     "metadata": {},
     "output_type": "display_data"
    },
    {
     "name": "stdout",
     "output_type": "stream",
     "text": [
      "step: 95 loss is 1104767.625 lr is 1e-07\n"
     ]
    },
    {
     "data": {
      "text/plain": [
       "tensor([[2.4828e-05, 7.0425e-03, 9.9998e-01]])"
      ]
     },
     "metadata": {},
     "output_type": "display_data"
    },
    {
     "name": "stdout",
     "output_type": "stream",
     "text": [
      "step: 100 loss is 1093205.5 lr is 1e-07\n"
     ]
    },
    {
     "data": {
      "text/plain": [
       "tensor([[2.4815e-05, 6.9931e-03, 9.9998e-01]])"
      ]
     },
     "metadata": {},
     "output_type": "display_data"
    },
    {
     "name": "stdout",
     "output_type": "stream",
     "text": [
      "step: 105 loss is 1083525.375 lr is 1e-07\n"
     ]
    },
    {
     "data": {
      "text/plain": [
       "tensor([[2.4816e-05, 6.9430e-03, 9.9998e-01]])"
      ]
     },
     "metadata": {},
     "output_type": "display_data"
    },
    {
     "name": "stdout",
     "output_type": "stream",
     "text": [
      "step: 110 loss is 1075739.375 lr is 1e-07\n"
     ]
    },
    {
     "data": {
      "text/plain": [
       "tensor([[2.4834e-05, 6.8920e-03, 9.9998e-01]])"
      ]
     },
     "metadata": {},
     "output_type": "display_data"
    },
    {
     "name": "stdout",
     "output_type": "stream",
     "text": [
      "step: 115 loss is 1069851.0 lr is 1e-07\n"
     ]
    },
    {
     "data": {
      "text/plain": [
       "tensor([[2.4871e-05, 6.8401e-03, 9.9998e-01]])"
      ]
     },
     "metadata": {},
     "output_type": "display_data"
    },
    {
     "name": "stdout",
     "output_type": "stream",
     "text": [
      "step: 120 loss is 1065878.125 lr is 1e-07\n"
     ]
    },
    {
     "data": {
      "text/plain": [
       "tensor([[2.4931e-05, 6.7871e-03, 9.9998e-01]])"
      ]
     },
     "metadata": {},
     "output_type": "display_data"
    },
    {
     "name": "stdout",
     "output_type": "stream",
     "text": [
      "step: 125 loss is 1063827.5 lr is 1e-07\n"
     ]
    },
    {
     "data": {
      "text/plain": [
       "tensor([[2.5015e-05, 6.7328e-03, 9.9998e-01]])"
      ]
     },
     "metadata": {},
     "output_type": "display_data"
    },
    {
     "name": "stdout",
     "output_type": "stream",
     "text": [
      "step: 130 loss is 1063710.125 lr is 1e-07\n"
     ]
    },
    {
     "data": {
      "text/plain": [
       "tensor([[2.5130e-05, 6.6770e-03, 9.9998e-01]])"
      ]
     },
     "metadata": {},
     "output_type": "display_data"
    },
    {
     "name": "stdout",
     "output_type": "stream",
     "text": [
      "step: 135 loss is 1065533.25 lr is 1e-07\n"
     ]
    },
    {
     "data": {
      "text/plain": [
       "tensor([[2.5281e-05, 6.6194e-03, 9.9998e-01]])"
      ]
     },
     "metadata": {},
     "output_type": "display_data"
    },
    {
     "name": "stdout",
     "output_type": "stream",
     "text": [
      "step: 140 loss is 1069311.25 lr is 1e-07\n"
     ]
    },
    {
     "data": {
      "text/plain": [
       "tensor([[2.5475e-05, 6.5596e-03, 9.9998e-01]])"
      ]
     },
     "metadata": {},
     "output_type": "display_data"
    },
    {
     "name": "stdout",
     "output_type": "stream",
     "text": [
      "step: 145 loss is 1075053.75 lr is 1e-07\n"
     ]
    },
    {
     "data": {
      "text/plain": [
       "tensor([[2.5723e-05, 6.4972e-03, 9.9998e-01]])"
      ]
     },
     "metadata": {},
     "output_type": "display_data"
    },
    {
     "ename": "KeyboardInterrupt",
     "evalue": "",
     "output_type": "error",
     "traceback": [
      "\u001b[0;31m---------------------------------------------------------------------------\u001b[0m",
      "\u001b[0;31mKeyboardInterrupt\u001b[0m                         Traceback (most recent call last)",
      "\u001b[0;32m/var/folders/9m/pb_xzjh56f147gmywrw4k8nw0000gn/T/ipykernel_22759/1912882728.py\u001b[0m in \u001b[0;36m<module>\u001b[0;34m\u001b[0m\n\u001b[1;32m     29\u001b[0m              \u001b[0mdelta_t0\u001b[0m \u001b[0;34m=\u001b[0m \u001b[0mtorch\u001b[0m\u001b[0;34m.\u001b[0m\u001b[0mFloatTensor\u001b[0m\u001b[0;34m(\u001b[0m\u001b[0mdelta_t\u001b[0m\u001b[0;34m)\u001b[0m\u001b[0;34m[\u001b[0m\u001b[0mpeak_indexs\u001b[0m\u001b[0;34m[\u001b[0m\u001b[0mi\u001b[0m\u001b[0;34m]\u001b[0m\u001b[0;34m+\u001b[0m\u001b[0;36m1\u001b[0m\u001b[0;34m:\u001b[0m\u001b[0mpeak_indexs\u001b[0m\u001b[0;34m[\u001b[0m\u001b[0mi\u001b[0m\u001b[0;34m+\u001b[0m\u001b[0;36m1\u001b[0m\u001b[0;34m]\u001b[0m\u001b[0;34m]\u001b[0m\u001b[0;34m\u001b[0m\u001b[0;34m\u001b[0m\u001b[0m\n\u001b[1;32m     30\u001b[0m \u001b[0;34m\u001b[0m\u001b[0m\n\u001b[0;32m---> 31\u001b[0;31m              \u001b[0mRt\u001b[0m\u001b[0;34m,\u001b[0m \u001b[0mNt\u001b[0m \u001b[0;34m=\u001b[0m \u001b[0mmodel\u001b[0m\u001b[0;34m(\u001b[0m\u001b[0mparams\u001b[0m\u001b[0;34m,\u001b[0m \u001b[0mp0\u001b[0m\u001b[0;34m,\u001b[0m \u001b[0mdpdt0\u001b[0m\u001b[0;34m,\u001b[0m \u001b[0mdelta_t0\u001b[0m\u001b[0;34m)\u001b[0m\u001b[0;34m\u001b[0m\u001b[0;34m\u001b[0m\u001b[0m\n\u001b[0m\u001b[1;32m     32\u001b[0m              \u001b[0;31m#print(empirical_rate[peak_indexs[i]],)\u001b[0m\u001b[0;34m\u001b[0m\u001b[0;34m\u001b[0m\u001b[0;34m\u001b[0m\u001b[0m\n\u001b[1;32m     33\u001b[0m              \u001b[0mR0\u001b[0m\u001b[0;34m=\u001b[0m\u001b[0mtorch\u001b[0m\u001b[0;34m.\u001b[0m\u001b[0mcat\u001b[0m\u001b[0;34m(\u001b[0m\u001b[0;34m(\u001b[0m\u001b[0mR0\u001b[0m\u001b[0;34m,\u001b[0m\u001b[0mRt\u001b[0m\u001b[0;34m)\u001b[0m\u001b[0;34m,\u001b[0m\u001b[0mdim\u001b[0m\u001b[0;34m=\u001b[0m\u001b[0;34m-\u001b[0m\u001b[0;36m1\u001b[0m\u001b[0;34m)\u001b[0m\u001b[0;34m\u001b[0m\u001b[0;34m\u001b[0m\u001b[0m\n",
      "\u001b[0;32m/opt/anaconda3/envs/kedro-environment/lib/python3.7/site-packages/torch/nn/modules/module.py\u001b[0m in \u001b[0;36m_call_impl\u001b[0;34m(self, *input, **kwargs)\u001b[0m\n\u001b[1;32m   1128\u001b[0m         if not (self._backward_hooks or self._forward_hooks or self._forward_pre_hooks or _global_backward_hooks\n\u001b[1;32m   1129\u001b[0m                 or _global_forward_hooks or _global_forward_pre_hooks):\n\u001b[0;32m-> 1130\u001b[0;31m             \u001b[0;32mreturn\u001b[0m \u001b[0mforward_call\u001b[0m\u001b[0;34m(\u001b[0m\u001b[0;34m*\u001b[0m\u001b[0minput\u001b[0m\u001b[0;34m,\u001b[0m \u001b[0;34m**\u001b[0m\u001b[0mkwargs\u001b[0m\u001b[0;34m)\u001b[0m\u001b[0;34m\u001b[0m\u001b[0;34m\u001b[0m\u001b[0m\n\u001b[0m\u001b[1;32m   1131\u001b[0m         \u001b[0;31m# Do not call functions when jit is used\u001b[0m\u001b[0;34m\u001b[0m\u001b[0;34m\u001b[0m\u001b[0;34m\u001b[0m\u001b[0m\n\u001b[1;32m   1132\u001b[0m         \u001b[0mfull_backward_hooks\u001b[0m\u001b[0;34m,\u001b[0m \u001b[0mnon_full_backward_hooks\u001b[0m \u001b[0;34m=\u001b[0m \u001b[0;34m[\u001b[0m\u001b[0;34m]\u001b[0m\u001b[0;34m,\u001b[0m \u001b[0;34m[\u001b[0m\u001b[0;34m]\u001b[0m\u001b[0;34m\u001b[0m\u001b[0;34m\u001b[0m\u001b[0m\n",
      "\u001b[0;32m~/Github/GeomechanicsForCO2/saif/notebooks/crs_model/model.py\u001b[0m in \u001b[0;36mforward\u001b[0;34m(self, params, p, dpdt, delta_t)\u001b[0m\n\u001b[1;32m     84\u001b[0m                \u001b[0mdenom\u001b[0m \u001b[0;34m=\u001b[0m \u001b[0;36m1\u001b[0m \u001b[0;34m-\u001b[0m \u001b[0mscaled_R\u001b[0m \u001b[0;34m*\u001b[0m \u001b[0;34m(\u001b[0m\u001b[0;36m1\u001b[0m \u001b[0;34m-\u001b[0m \u001b[0mexp_term\u001b[0m\u001b[0;34m[\u001b[0m\u001b[0;34m:\u001b[0m\u001b[0;34m,\u001b[0m \u001b[0mi\u001b[0m\u001b[0;34m,\u001b[0m \u001b[0;32mNone\u001b[0m\u001b[0;34m]\u001b[0m\u001b[0;34m)\u001b[0m\u001b[0;34m\u001b[0m\u001b[0;34m\u001b[0m\u001b[0m\n\u001b[1;32m     85\u001b[0m                \u001b[0mR\u001b[0m \u001b[0;34m=\u001b[0m \u001b[0mR\u001b[0m \u001b[0;34m*\u001b[0m \u001b[0mexp_term\u001b[0m\u001b[0;34m[\u001b[0m\u001b[0;34m:\u001b[0m\u001b[0;34m,\u001b[0m \u001b[0mi\u001b[0m\u001b[0;34m,\u001b[0m \u001b[0;32mNone\u001b[0m\u001b[0;34m]\u001b[0m \u001b[0;34m/\u001b[0m \u001b[0mdenom\u001b[0m\u001b[0;34m\u001b[0m\u001b[0;34m\u001b[0m\u001b[0m\n\u001b[0;32m---> 86\u001b[0;31m                \u001b[0mN\u001b[0m \u001b[0;34m=\u001b[0m \u001b[0masigma\u001b[0m\u001b[0;34m[\u001b[0m\u001b[0;34m:\u001b[0m\u001b[0;34m,\u001b[0m \u001b[0mi\u001b[0m\u001b[0;34m,\u001b[0m \u001b[0;32mNone\u001b[0m\u001b[0;34m]\u001b[0m \u001b[0;34m/\u001b[0m \u001b[0meta\u001b[0m \u001b[0;34m*\u001b[0m \u001b[0mtorch\u001b[0m\u001b[0;34m.\u001b[0m\u001b[0mlog\u001b[0m\u001b[0;34m(\u001b[0m\u001b[0mdenom\u001b[0m\u001b[0;34m)\u001b[0m\u001b[0;34m\u001b[0m\u001b[0;34m\u001b[0m\u001b[0m\n\u001b[0m\u001b[1;32m     87\u001b[0m                \u001b[0mRt\u001b[0m\u001b[0;34m.\u001b[0m\u001b[0mappend\u001b[0m\u001b[0;34m(\u001b[0m\u001b[0mR\u001b[0m\u001b[0;34m)\u001b[0m\u001b[0;34m\u001b[0m\u001b[0;34m\u001b[0m\u001b[0m\n\u001b[1;32m     88\u001b[0m                \u001b[0mNt\u001b[0m\u001b[0;34m.\u001b[0m\u001b[0mappend\u001b[0m\u001b[0;34m(\u001b[0m\u001b[0mN\u001b[0m\u001b[0;34m)\u001b[0m\u001b[0;34m\u001b[0m\u001b[0;34m\u001b[0m\u001b[0m\n",
      "\u001b[0;31mKeyboardInterrupt\u001b[0m: "
     ]
    }
   ],
   "source": [
    "from model import CRSModel\n",
    "import torch.optim as optim\n",
    "import torch.nn.functional as F\n",
    "model = CRSModel(site_info)\n",
    "\n",
    "params = torch.FloatTensor([[0.5,1e-2,0.0005]])\n",
    "# params = torch.FloatTensor([[5.0000e-01, 9.9910e-03, 5.1348e-05]])\n",
    "params.requires_grad=True\n",
    "params.register_hook(lambda g: F.normalize(g))\n",
    "\n",
    "initial_lr = 0.00005\n",
    "criterion = nn.MSELoss(reduction='sum')\n",
    "optimizer = optim.SGD(params=[params],lr=initial_lr,momentum=0.5)\n",
    "for epoch in range(500):\n",
    "    R0, N0 , n_target0 = torch.ones(1, 1),torch.ones(1, 1),torch.FloatTensor([])\n",
    "    # for i in range(np.size(peak_indexs)-4): # only using partial data for training\n",
    "    for i in range(0,4): # only using the first 5 peaks for training\n",
    "             mpa_yr2pa_s = 1e6 / 365.25 / 86400\n",
    "             site_info = {\n",
    "                          'tectonic_shear_stressing_rate' : 3.5e-4 * mpa_yr2pa_s, # Pa / s\n",
    "                          'tectonic_normal_stressing_rate' : 0, # Pa/s\n",
    "                          'sigma' : 30 * 1e6, # Pa\n",
    "                          'biot' : 0.3, # dimensionless\n",
    "                          #'background_rate' : 1.36 / 365.25 / 86400, # event/second,\n",
    "                          'background_rate' : empirical_rate[peak_indexs[i]+1] / 365.25 / 86400, # event/second,\n",
    "                          'init_delta_t' : delta_t[0].item() }\n",
    "             model = CRSModel(site_info)\n",
    "             p0 = torch.FloatTensor(p)[peak_indexs[i]+1:peak_indexs[i+1]]\n",
    "             dpdt0 = torch.FloatTensor(dpdt)[peak_indexs[i]+1:peak_indexs[i+1]]\n",
    "             delta_t0 = torch.FloatTensor(delta_t)[peak_indexs[i]+1:peak_indexs[i+1]]\n",
    "             \n",
    "             Rt, Nt = model(params, p0, dpdt0, delta_t0)\n",
    "             #print(empirical_rate[peak_indexs[i]],)\n",
    "             R0=torch.cat((R0,Rt),dim=-1)\n",
    "             #print(N0.detach()[0][-1])\n",
    "             Nt=torch.add(Nt,N0.detach()[0][-1])\n",
    "             #print(N0.detach())\n",
    "             N0=torch.cat((N0,Nt),dim=-1)\n",
    "             n_target= torch.FloatTensor(n_interpolated)[peak_indexs[i]:peak_indexs[i+1]]\n",
    "             n_target0=torch.cat((n_target0,n_target),dim=-1)\n",
    "             #print(n_target0.detach().size(),(N0[:,1:]).squeeze().detach().size())\n",
    "             \n",
    "\n",
    "    # loss = criterion(Nt[:,1:], n_target[None,:]) # Need to define a loss function that compares with the real data\n",
    "    # Define a MSE of forecasted number Nt with the ground truth\n",
    "    \n",
    "    \n",
    "    #print((N0[:,1:]).squeeze().detach().numpy(),n_target0.detach().numpy())\n",
    "    loss = criterion((N0[:,1:]).squeeze(), n_target0)\n",
    "    lr = initial_lr\n",
    "    if epoch == 0:\n",
    "        initial_loss = loss\n",
    "    if loss < 0.01*initial_loss:\n",
    "        lr = 0.000001\n",
    "        optimizer = optim.SGD(params=[params],lr=lr,momentum=0.1)\n",
    "        # print('switching to smaller lr')\n",
    "    if loss < 0.005* initial_loss:\n",
    "        lr = 0.0000001\n",
    "        optimizer = optim.SGD(params=[params],lr=lr,momentum=0.01)\n",
    "    if epoch % 5 == 0:\n",
    "        # print('initial_loss: ' + str(initial_loss))\n",
    "        print('step: ' + str(epoch) + ' loss is ' + str(loss.item()) + ' lr is ' + str(lr))\n",
    "        # print(params.grad)\n",
    "        display(params.grad)\n",
    "    optimizer.zero_grad()\n",
    "    loss.backward()\n",
    "    optimizer.step()\n",
    "    Nt.shape"
   ]
  },
  {
   "cell_type": "code",
   "execution_count": 46,
   "metadata": {},
   "outputs": [
    {
     "name": "stdout",
     "output_type": "stream",
     "text": [
      "tensor([[5.0000e-01, 9.9910e-03, 5.1348e-05]], requires_grad=True)\n"
     ]
    },
    {
     "data": {
      "image/png": "[encoded data removed]",
      "text/plain": [
       "<Figure size 432x288 with 1 Axes>"
      ]
     },
     "metadata": {},
     "output_type": "display_data"
    }
   ],
   "source": [
    "# Using Han's output, don't run this cell\n",
    "plt.plot((N0[:,1:]).squeeze().detach().numpy())\n",
    "plt.plot(n_target0)\n",
    "print(params)"
   ]
  },
  {
   "cell_type": "code",
   "execution_count": 169,
   "metadata": {},
   "outputs": [
    {
     "data": {
      "image/png": "[encoded data removed]",
      "text/plain": [
       "<Figure size 432x288 with 1 Axes>"
      ]
     },
     "metadata": {},
     "output_type": "display_data"
    }
   ],
   "source": [
    "# params = torch.FloatTensor([[5.0009e-01,2.7316e-03,3.0530e-04,5.0000e-04]])\n",
    "# Rt, Nt = model(params, p, dpdt, delta_t)\n",
    "# plt.plot(Nt.data.detach().numpy()[0])\n",
    "# # params = torch.FloatTensor([[5.0009e-01,2.7316e-03,163.7424,5.0000e-04]])\n",
    "# Rt, Nt = model(params, p, dpdt, delta_t)\n",
    "# plt.plot(Nt.data.detach().numpy()[0])\n",
    "R0, N0 = torch.ones(1, 1),torch.ones(1, 1),\n",
    "for i in range(np.size(peak_indexs)-1):\n",
    "    mpa_yr2pa_s = 1e6 / 365.25 / 86400\n",
    "    site_info = {\n",
    "        'tectonic_shear_stressing_rate' : 3.5e-4 * mpa_yr2pa_s, # Pa / s\n",
    "        'tectonic_normal_stressing_rate' : 0, # Pa/s\n",
    "        'sigma' : 30 * 1e6, # Pa\n",
    "        'biot' : 0.3, # dimensionless\n",
    "        #'background_rate' : 1.36 / 365.25 / 86400, # event/second,\n",
    "        'background_rate' : empirical_rate[peak_indexs[min(i,2)]+1] / 365.25 / 86400, # event/second,\n",
    "        'init_delta_t' : delta_t[0].item() }\n",
    "    model = CRSModel(site_info)\n",
    "    p0 = torch.FloatTensor(p)[peak_indexs[i]+1:peak_indexs[i+1]]\n",
    "    dpdt0 = torch.FloatTensor(dpdt)[peak_indexs[i]+1:peak_indexs[i+1]]\n",
    "    delta_t0 = torch.FloatTensor(delta_t)[peak_indexs[i]+1:peak_indexs[i+1]]\n",
    "             \n",
    "    Rt, Nt = model(params, p0, dpdt0, delta_t0)\n",
    "    #print(empirical_rate[peak_indexs[i]],)\n",
    "    R0=torch.cat((R0,Rt),dim=-1)\n",
    "    #print(N0.detach()[0][-1])\n",
    "    Nt=torch.add(Nt,N0.detach()[0][-1])\n",
    "    #print(N0.detach())\n",
    "    N0=torch.cat((N0,Nt),dim=-1)\n",
    "    # n_target= torch.FloatTensor(n_interpolated)[peak_indexs[i]:peak_indexs[i+1]]\n",
    "    # n_target0=torch.cat((n_target0,n_target),dim=-1)\n",
    "plt.plot(n_interpolated,label=\"n_interpolated\")\n",
    "plt.plot((N0[:,1:]).squeeze().detach().numpy(),label=\"n_prediction\")\n",
    "plt.legend(loc=\"upper left\")\n",
    "plt.show()"
   ]
  },
  {
   "cell_type": "code",
   "execution_count": 166,
   "metadata": {},
   "outputs": [
    {
     "data": {
      "text/plain": [
       "tensor([[5.0000e-01, 9.9879e-03, 7.7161e-05]], requires_grad=True)"
      ]
     },
     "execution_count": 166,
     "metadata": {},
     "output_type": "execute_result"
    }
   ],
   "source": [
    "params"
   ]
  },
  {
   "cell_type": "code",
   "execution_count": null,
   "metadata": {},
   "outputs": [],
   "source": []
  },
  {
   "cell_type": "code",
   "execution_count": null,
   "metadata": {},
   "outputs": [],
   "source": []
  },
  {
   "cell_type": "code",
   "execution_count": null,
   "metadata": {},
   "outputs": [],
   "source": []
  },
  {
   "cell_type": "code",
   "execution_count": null,
   "metadata": {},
   "outputs": [],
   "source": []
  },
  {
   "cell_type": "code",
   "execution_count": null,
   "metadata": {},
   "outputs": [],
   "source": []
  },
  {
   "cell_type": "code",
   "execution_count": null,
   "metadata": {},
   "outputs": [],
   "source": []
  },
  {
   "cell_type": "code",
   "execution_count": null,
   "metadata": {},
   "outputs": [],
   "source": []
  },
  {
   "cell_type": "code",
   "execution_count": null,
   "metadata": {},
   "outputs": [],
   "source": []
  }
 ],
 "metadata": {
  "kernelspec": {
   "display_name": "Python 3 (ipykernel)",
   "language": "python",
   "name": "python3"
  },
  "language_info": {
   "codemirror_mode": {
    "name": "ipython",
    "version": 3
   },
   "file_extension": ".py",
   "mimetype": "text/x-python",
   "name": "python",
   "nbconvert_exporter": "python",
   "pygments_lexer": "ipython3",
   "version": "3.7.13"
  },
  "vscode": {
   "interpreter": {
    "hash": "2beab4f37da7cd4415782296c8eb22a3553443b6202cb34c77e531d87231817b"
   }
  }
 },
 "nbformat": 4,
 "nbformat_minor": 4
}
