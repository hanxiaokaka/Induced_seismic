{
 "cells": [
  {
   "cell_type": "code",
   "execution_count": 54,
   "metadata": {},
   "outputs": [],
   "source": [
    "import numpy as np\n",
    "import torch\n",
    "import torch.nn as nn\n",
    "import matplotlib.pyplot as plt\n",
    "from saif.crs_model.peakdetector import pk_indxs\n",
    "plt.style.use('ggplot')\n"
   ]
  },
  {
   "cell_type": "markdown",
   "metadata": {},
   "source": [
    "### Load Data"
   ]
  },
  {
   "cell_type": "code",
   "execution_count": 55,
   "metadata": {},
   "outputs": [],
   "source": [
    "SEISMIC_DATA = '../../../dataset_preparing/datasets_Jul_7/cushing_oklahoma/cushingSeismic.hdf5'\n",
    "PRESSURE_DATA = '../../../dataset_preparing/datasets_Jul_7/cushing_oklahoma/cushingPressure.hdf5'"
   ]
  },
  {
   "cell_type": "code",
   "execution_count": 56,
   "metadata": {},
   "outputs": [],
   "source": [
    "from orion_light import seismic_catalog\n",
    "from orion_light import pressure_table"
   ]
  },
  {
   "cell_type": "code",
   "execution_count": 57,
   "metadata": {},
   "outputs": [],
   "source": [
    "catalog = seismic_catalog.SeismicCatalog()\n",
    "catalog.load_catalog_hdf5(SEISMIC_DATA)"
   ]
  },
  {
   "cell_type": "code",
   "execution_count": 58,
   "metadata": {},
   "outputs": [
    {
     "name": "stdout",
     "output_type": "stream",
     "text": [
      "Loading pressure table from hdf5 file: ../../../dataset_preparing/datasets_Jul_7/cushing_oklahoma/cushingPressure.hdf5\n"
     ]
    }
   ],
   "source": [
    "pressure_model = pressure_table.PressureTableModel()\n",
    "pressure_model.load_table(PRESSURE_DATA)"
   ]
  },
  {
   "cell_type": "markdown",
   "metadata": {},
   "source": [
    "### Process $N(t)$"
   ]
  },
  {
   "cell_type": "markdown",
   "metadata": {},
   "source": [
    "- Pressure data and seismic events are recorded at different times.\n",
    "    - First goal: Clip all data to the time interval where we have samples for both pressure and seismic activity\n",
    "    - Second goal: linearly interpolate the seismic data so that the event times align with the pressure data.\n",
    "    - Third goal: empirically compute the rate (numerical derivative), in order to define R0.\n",
    "- Partition the data into **main shock** and **interseismic** regions.\n",
    "    - This should be done by a peak detector, but right now it is done manually (by visual inspection)."
   ]
  },
  {
   "cell_type": "code",
   "execution_count": 59,
   "metadata": {},
   "outputs": [],
   "source": [
    "from scipy.interpolate import interp1d"
   ]
  },
  {
   "cell_type": "markdown",
   "metadata": {},
   "source": [
    "Obtain the time intervals for the seismic data, and creating the interpolator."
   ]
  },
  {
   "cell_type": "code",
   "execution_count": 60,
   "metadata": {},
   "outputs": [],
   "source": [
    "Mc = 1.6\n",
    "catalog.set_slice(magnitude_range = [Mc, 10])\n",
    "event_times = catalog.get_epoch_slice() \n",
    "start_t = event_times[0]\n",
    "end_t = event_times[-1]\n",
    "event_times = event_times / 86400 / 365.25\n",
    "\n",
    "t_n = event_times - event_times[0]\n",
    "n_cnts = np.arange(len(t_n))\n",
    "n_func = interp1d(t_n, n_cnts, kind='linear')"
   ]
  },
  {
   "cell_type": "markdown",
   "metadata": {},
   "source": [
    "Obtain the time intervals for the pressure data, and interpolate the seismic data"
   ]
  },
  {
   "cell_type": "code",
   "execution_count": 61,
   "metadata": {},
   "outputs": [],
   "source": [
    "t_p = pressure_epoch = pressure_model.table_data['t']\n",
    "start_idx = np.where(t_p > start_t)[0][0]\n",
    "end_idx = np.where(t_p > end_t)[0][0] - 1\n",
    "\n",
    "t_p = t_p[start_idx:end_idx]\n",
    "p = pressure_model.table_data['pressure'][1:][start_idx+1:end_idx]\n",
    "dpdt = pressure_model.table_data['dpdt'][1:][start_idx+1:end_idx]\n",
    "\n",
    "delta_t = t_p[1:] - t_p[:-1]\n",
    "\n",
    "p = torch.FloatTensor(p)\n",
    "dpdt = torch.FloatTensor(dpdt)\n",
    "delta_t = torch.FloatTensor(delta_t)\n",
    "\n",
    "t_p_interpolated = t_p / 86400 / 365.25 - event_times[0]\n",
    "n_interpolated = n_func(t_p_interpolated) # interpolated number of earthquakes "
   ]
  },
  {
   "cell_type": "code",
   "execution_count": 62,
   "metadata": {},
   "outputs": [
    {
     "name": "stdout",
     "output_type": "stream",
     "text": [
      "[   0 1087 1550 1972 2192 2521 3163 3668]\n",
      "8\n"
     ]
    },
    {
     "data": {
      "image/png": "[encoded data removed]",
      "text/plain": [
       "<Figure size 432x288 with 1 Axes>"
      ]
     },
     "metadata": {},
     "output_type": "display_data"
    }
   ],
   "source": [
    "empirical_rate = np.gradient(n_interpolated, t_p_interpolated)\n",
    "peak_indexs=pk_indxs(empirical_rate,trshd=0.2, min_dist=100)\n",
    "plt.plot(t_p_interpolated, empirical_rate)\n",
    "plt.plot(t_p_interpolated[peak_indexs],empirical_rate[peak_indexs],'o',color='b')\n",
    "peak_indexs=np.insert(peak_indexs,0,0)\n",
    "peak_indexs=np.insert(peak_indexs,np.size(peak_indexs),np.size(t_p_interpolated)-1)\n",
    "print(peak_indexs)\n",
    "print(np.size(peak_indexs))"
   ]
  },
  {
   "cell_type": "code",
   "execution_count": 63,
   "metadata": {},
   "outputs": [
    {
     "data": {
      "text/plain": [
       "[<matplotlib.lines.Line2D at 0x7f89e32ed6d0>]"
      ]
     },
     "execution_count": 63,
     "metadata": {},
     "output_type": "execute_result"
    },
    {
     "data": {
      "image/png": "[encoded data removed]",
      "text/plain": [
       "<Figure size 432x288 with 1 Axes>"
      ]
     },
     "metadata": {},
     "output_type": "display_data"
    }
   ],
   "source": [
    "plt.plot(t_p_interpolated, n_interpolated)"
   ]
  },
  {
   "cell_type": "markdown",
   "metadata": {},
   "source": [
    "Examining the first interseismic chunk (from t=0 years to t=1.3 years)"
   ]
  },
  {
   "cell_type": "code",
   "execution_count": 64,
   "metadata": {},
   "outputs": [],
   "source": [
    "train_end = np.where(t_p_interpolated > 1.3)[0][0]"
   ]
  },
  {
   "cell_type": "markdown",
   "metadata": {},
   "source": [
    "### Define site constants"
   ]
  },
  {
   "cell_type": "code",
   "execution_count": null,
   "metadata": {},
   "outputs": [],
   "source": []
  },
  {
   "cell_type": "markdown",
   "metadata": {},
   "source": [
    "### Sampling the grid"
   ]
  },
  {
   "cell_type": "markdown",
   "metadata": {},
   "source": [
    "We keep the rate factor fixed, and examine the landscape for mu_minus_alpha and rate_coeff."
   ]
  },
  {
   "cell_type": "code",
   "execution_count": 65,
   "metadata": {},
   "outputs": [],
   "source": [
    "params = torch.FloatTensor([[0.5,1e-2,1e-4]])\n",
    "\n",
    "\n",
    "# mu_minus_alpha_mesh = torch.linspace(0.1,1.0,101)\n",
    "# rate_coeff_mesh = 10 ** torch.linspace(-4,-1,101)\n",
    "# grid_mu, grid_rate = torch.meshgrid(mu_minus_alpha_mesh, rate_coeff_mesh, indexing='ij')\n",
    "\n",
    "# params = torch.stack([\n",
    "#     grid_mu.flatten(),\n",
    "#     grid_rate.flatten(),\n",
    "#     163.7424 / 1e6 * torch.ones_like(grid_rate.flatten()), # rate_factor \n",
    "# ]).T\n",
    "\n",
    "# params.requires_grad_()\n",
    "\n"
   ]
  },
  {
   "cell_type": "markdown",
   "metadata": {},
   "source": [
    "### Run Model"
   ]
  },
  {
   "cell_type": "code",
   "execution_count": 75,
   "metadata": {},
   "outputs": [],
   "source": [
    "mpa_yr2pa_s = 1e6 / 365.25 / 86400\n",
    "site_info = {\n",
    "    'tectonic_shear_stressing_rate' : 3.5e-4 * mpa_yr2pa_s, # Pa / s\n",
    "    'tectonic_normal_stressing_rate' : 0, # Pa/s\n",
    "    'sigma' : 30 * 1e6, # Pa\n",
    "    'biot' : 0.3, # dimensionless\n",
    "    #'background_rate' : 1.36 / 365.25 / 86400, # event/second,\n",
    "    'background_rate' : empirical_rate[0] / 365.25 / 86400, # event/second,\n",
    "    'init_delta_t' : delta_t[0].item() }\n",
    "# from model import CRSModel\n",
    "from model_v2 import CRSModel\n",
    "model = CRSModel(site_info)"
   ]
  },
  {
   "cell_type": "markdown",
   "metadata": {},
   "source": [
    "Visualize a sample"
   ]
  },
  {
   "cell_type": "markdown",
   "metadata": {},
   "source": [
    "Define the criterion: MSELoss.\n",
    "\n",
    "- Be careful: we may need to normalize the data before using MSELoss.\n",
    "- In future, we might forecast rate (or, $\\Delta N(t)$) since this is easier to bound than total number."
   ]
  },
  {
   "cell_type": "code",
   "execution_count": 39,
   "metadata": {},
   "outputs": [],
   "source": [
    "#criterion = nn.MSELoss(reduction='sum')"
   ]
  },
  {
   "cell_type": "code",
   "execution_count": 40,
   "metadata": {},
   "outputs": [],
   "source": [
    "#loss = criterion(Nt[:,1:], n_target[None,:])\n",
    "#loss.item()"
   ]
  },
  {
   "cell_type": "code",
   "execution_count": 41,
   "metadata": {},
   "outputs": [],
   "source": [
    "#loss.backward()"
   ]
  },
  {
   "cell_type": "code",
   "execution_count": 79,
   "metadata": {},
   "outputs": [],
   "source": [
    "mpa_yr2pa_s = 1e6 / 365.25 / 86400\n",
    "site_info = {\n",
    "    'tectonic_shear_stressing_rate' : 3.5e-4 * mpa_yr2pa_s, # Pa / s\n",
    "    'tectonic_normal_stressing_rate' : 0, # Pa/s\n",
    "    'sigma' : 30 * 1e6, # Pa\n",
    "    'biot' : 0.3, # dimensionless\n",
    "    #'background_rate' : 1.36 / 365.25 / 86400, # event/second,\n",
    "    'background_rate' : empirical_rate[0] / 365.25 / 86400, # event/second,\n",
    "    'init_delta_t' : delta_t[0].item() }"
   ]
  },
  {
   "cell_type": "code",
   "execution_count": 170,
   "metadata": {},
   "outputs": [
    {
     "data": {
      "text/plain": [
       "8"
      ]
     },
     "execution_count": 170,
     "metadata": {},
     "output_type": "execute_result"
    }
   ],
   "source": [
    "np.size(peak_indexs)\n",
    "\n"
   ]
  },
  {
   "cell_type": "code",
   "execution_count": 200,
   "metadata": {},
   "outputs": [
    {
     "name": "stdout",
     "output_type": "stream",
     "text": [
      "step: 0 loss is 316785568.0 lr is 5e-05\n"
     ]
    },
    {
     "data": {
      "text/plain": [
       "tensor([[0.5000, 0.0100, 0.0005]])"
      ]
     },
     "metadata": {},
     "output_type": "display_data"
    },
    {
     "name": "stdout",
     "output_type": "stream",
     "text": [
      "step: 5 loss is 2205231.75 lr is 1e-06\n"
     ]
    },
    {
     "data": {
      "text/plain": [
       "tensor([[5.0000e-01, 9.9881e-03, 9.7061e-05]])"
      ]
     },
     "metadata": {},
     "output_type": "display_data"
    },
    {
     "name": "stdout",
     "output_type": "stream",
     "text": [
      "step: 10 loss is 1660393.75 lr is 1e-06\n"
     ]
    },
    {
     "data": {
      "text/plain": [
       "tensor([[5.0000e-01, 9.9881e-03, 9.2061e-05]])"
      ]
     },
     "metadata": {},
     "output_type": "display_data"
    },
    {
     "name": "stdout",
     "output_type": "stream",
     "text": [
      "step: 15 loss is 1538065.25 lr is 1e-07\n"
     ]
    },
    {
     "data": {
      "text/plain": [
       "tensor([[5.0000e-01, 9.9880e-03, 9.0661e-05]])"
      ]
     },
     "metadata": {},
     "output_type": "display_data"
    },
    {
     "name": "stdout",
     "output_type": "stream",
     "text": [
      "step: 20 loss is 1497657.25 lr is 1e-07\n"
     ]
    },
    {
     "data": {
      "text/plain": [
       "tensor([[5.0000e-01, 9.9880e-03, 9.0161e-05]])"
      ]
     },
     "metadata": {},
     "output_type": "display_data"
    },
    {
     "name": "stdout",
     "output_type": "stream",
     "text": [
      "step: 25 loss is 1458976.875 lr is 1e-07\n"
     ]
    },
    {
     "data": {
      "text/plain": [
       "tensor([[5.0000e-01, 9.9880e-03, 8.9661e-05]])"
      ]
     },
     "metadata": {},
     "output_type": "display_data"
    },
    {
     "name": "stdout",
     "output_type": "stream",
     "text": [
      "step: 30 loss is 1422051.375 lr is 1e-07\n"
     ]
    },
    {
     "data": {
      "text/plain": [
       "tensor([[5.0000e-01, 9.9880e-03, 8.9161e-05]])"
      ]
     },
     "metadata": {},
     "output_type": "display_data"
    },
    {
     "name": "stdout",
     "output_type": "stream",
     "text": [
      "step: 35 loss is 1386871.75 lr is 1e-07\n"
     ]
    },
    {
     "data": {
      "text/plain": [
       "tensor([[5.0000e-01, 9.9880e-03, 8.8661e-05]])"
      ]
     },
     "metadata": {},
     "output_type": "display_data"
    },
    {
     "name": "stdout",
     "output_type": "stream",
     "text": [
      "step: 40 loss is 1353456.75 lr is 1e-07\n"
     ]
    },
    {
     "data": {
      "text/plain": [
       "tensor([[5.0000e-01, 9.9880e-03, 8.8161e-05]])"
      ]
     },
     "metadata": {},
     "output_type": "display_data"
    },
    {
     "name": "stdout",
     "output_type": "stream",
     "text": [
      "step: 45 loss is 1321814.75 lr is 1e-07\n"
     ]
    },
    {
     "data": {
      "text/plain": [
       "tensor([[5.0000e-01, 9.9880e-03, 8.7661e-05]])"
      ]
     },
     "metadata": {},
     "output_type": "display_data"
    },
    {
     "name": "stdout",
     "output_type": "stream",
     "text": [
      "step: 50 loss is 1291949.25 lr is 1e-07\n"
     ]
    },
    {
     "data": {
      "text/plain": [
       "tensor([[5.0000e-01, 9.9880e-03, 8.7161e-05]])"
      ]
     },
     "metadata": {},
     "output_type": "display_data"
    },
    {
     "name": "stdout",
     "output_type": "stream",
     "text": [
      "step: 55 loss is 1263874.375 lr is 1e-07\n"
     ]
    },
    {
     "data": {
      "text/plain": [
       "tensor([[5.0000e-01, 9.9880e-03, 8.6661e-05]])"
      ]
     },
     "metadata": {},
     "output_type": "display_data"
    },
    {
     "name": "stdout",
     "output_type": "stream",
     "text": [
      "step: 60 loss is 1237597.75 lr is 1e-07\n"
     ]
    },
    {
     "data": {
      "text/plain": [
       "tensor([[5.0000e-01, 9.9880e-03, 8.6161e-05]])"
      ]
     },
     "metadata": {},
     "output_type": "display_data"
    },
    {
     "name": "stdout",
     "output_type": "stream",
     "text": [
      "step: 65 loss is 1213126.0 lr is 1e-07\n"
     ]
    },
    {
     "data": {
      "text/plain": [
       "tensor([[5.0000e-01, 9.9880e-03, 8.5661e-05]])"
      ]
     },
     "metadata": {},
     "output_type": "display_data"
    },
    {
     "name": "stdout",
     "output_type": "stream",
     "text": [
      "step: 70 loss is 1190472.0 lr is 1e-07\n"
     ]
    },
    {
     "data": {
      "text/plain": [
       "tensor([[5.0000e-01, 9.9880e-03, 8.5161e-05]])"
      ]
     },
     "metadata": {},
     "output_type": "display_data"
    },
    {
     "name": "stdout",
     "output_type": "stream",
     "text": [
      "step: 75 loss is 1169643.5 lr is 1e-07\n"
     ]
    },
    {
     "data": {
      "text/plain": [
       "tensor([[5.0000e-01, 9.9880e-03, 8.4661e-05]])"
      ]
     },
     "metadata": {},
     "output_type": "display_data"
    },
    {
     "name": "stdout",
     "output_type": "stream",
     "text": [
      "step: 80 loss is 1150647.75 lr is 1e-07\n"
     ]
    },
    {
     "data": {
      "text/plain": [
       "tensor([[5.0000e-01, 9.9880e-03, 8.4161e-05]])"
      ]
     },
     "metadata": {},
     "output_type": "display_data"
    },
    {
     "name": "stdout",
     "output_type": "stream",
     "text": [
      "step: 85 loss is 1133497.0 lr is 1e-07\n"
     ]
    },
    {
     "data": {
      "text/plain": [
       "tensor([[5.0000e-01, 9.9880e-03, 8.3661e-05]])"
      ]
     },
     "metadata": {},
     "output_type": "display_data"
    },
    {
     "name": "stdout",
     "output_type": "stream",
     "text": [
      "step: 90 loss is 1118201.125 lr is 1e-07\n"
     ]
    },
    {
     "data": {
      "text/plain": [
       "tensor([[5.0000e-01, 9.9880e-03, 8.3161e-05]])"
      ]
     },
     "metadata": {},
     "output_type": "display_data"
    },
    {
     "name": "stdout",
     "output_type": "stream",
     "text": [
      "step: 95 loss is 1104767.625 lr is 1e-07\n"
     ]
    },
    {
     "data": {
      "text/plain": [
       "tensor([[5.0000e-01, 9.9880e-03, 8.2661e-05]])"
      ]
     },
     "metadata": {},
     "output_type": "display_data"
    },
    {
     "name": "stdout",
     "output_type": "stream",
     "text": [
      "step: 100 loss is 1093205.5 lr is 1e-07\n"
     ]
    },
    {
     "data": {
      "text/plain": [
       "tensor([[5.0000e-01, 9.9880e-03, 8.2161e-05]])"
      ]
     },
     "metadata": {},
     "output_type": "display_data"
    },
    {
     "name": "stdout",
     "output_type": "stream",
     "text": [
      "step: 105 loss is 1083525.375 lr is 1e-07\n"
     ]
    },
    {
     "data": {
      "text/plain": [
       "tensor([[5.0000e-01, 9.9880e-03, 8.1661e-05]])"
      ]
     },
     "metadata": {},
     "output_type": "display_data"
    },
    {
     "name": "stdout",
     "output_type": "stream",
     "text": [
      "step: 110 loss is 1075739.375 lr is 1e-07\n"
     ]
    },
    {
     "data": {
      "text/plain": [
       "tensor([[5.0000e-01, 9.9880e-03, 8.1161e-05]])"
      ]
     },
     "metadata": {},
     "output_type": "display_data"
    },
    {
     "name": "stdout",
     "output_type": "stream",
     "text": [
      "step: 115 loss is 1069851.0 lr is 1e-07\n"
     ]
    },
    {
     "data": {
      "text/plain": [
       "tensor([[5.0000e-01, 9.9879e-03, 8.0661e-05]])"
      ]
     },
     "metadata": {},
     "output_type": "display_data"
    },
    {
     "name": "stdout",
     "output_type": "stream",
     "text": [
      "step: 120 loss is 1065878.125 lr is 1e-07\n"
     ]
    },
    {
     "data": {
      "text/plain": [
       "tensor([[5.0000e-01, 9.9879e-03, 8.0161e-05]])"
      ]
     },
     "metadata": {},
     "output_type": "display_data"
    },
    {
     "name": "stdout",
     "output_type": "stream",
     "text": [
      "step: 125 loss is 1063827.5 lr is 1e-07\n"
     ]
    },
    {
     "data": {
      "text/plain": [
       "tensor([[5.0000e-01, 9.9879e-03, 7.9661e-05]])"
      ]
     },
     "metadata": {},
     "output_type": "display_data"
    },
    {
     "name": "stdout",
     "output_type": "stream",
     "text": [
      "step: 130 loss is 1063710.125 lr is 1e-07\n"
     ]
    },
    {
     "data": {
      "text/plain": [
       "tensor([[5.0000e-01, 9.9879e-03, 7.9161e-05]])"
      ]
     },
     "metadata": {},
     "output_type": "display_data"
    },
    {
     "name": "stdout",
     "output_type": "stream",
     "text": [
      "step: 135 loss is 1065533.25 lr is 1e-07\n"
     ]
    },
    {
     "data": {
      "text/plain": [
       "tensor([[5.0000e-01, 9.9879e-03, 7.8661e-05]])"
      ]
     },
     "metadata": {},
     "output_type": "display_data"
    },
    {
     "name": "stdout",
     "output_type": "stream",
     "text": [
      "step: 140 loss is 1069311.25 lr is 1e-07\n"
     ]
    },
    {
     "data": {
      "text/plain": [
       "tensor([[5.0000e-01, 9.9879e-03, 7.8161e-05]])"
      ]
     },
     "metadata": {},
     "output_type": "display_data"
    },
    {
     "name": "stdout",
     "output_type": "stream",
     "text": [
      "step: 145 loss is 1075053.75 lr is 1e-07\n"
     ]
    },
    {
     "data": {
      "text/plain": [
       "tensor([[5.0000e-01, 9.9879e-03, 7.7661e-05]])"
      ]
     },
     "metadata": {},
     "output_type": "display_data"
    },
    {
     "name": "stdout",
     "output_type": "stream",
     "text": [
      "step: 150 loss is 1082769.25 lr is 1e-07\n"
     ]
    },
    {
     "data": {
      "text/plain": [
       "tensor([[5.0000e-01, 9.9879e-03, 7.7161e-05]])"
      ]
     },
     "metadata": {},
     "output_type": "display_data"
    },
    {
     "name": "stdout",
     "output_type": "stream",
     "text": [
      "step: 155 loss is 1092470.375 lr is 1e-07\n"
     ]
    },
    {
     "data": {
      "text/plain": [
       "tensor([[5.0000e-01, 9.9879e-03, 7.6661e-05]])"
      ]
     },
     "metadata": {},
     "output_type": "display_data"
    },
    {
     "name": "stdout",
     "output_type": "stream",
     "text": [
      "step: 160 loss is 1104169.875 lr is 1e-07\n"
     ]
    },
    {
     "data": {
      "text/plain": [
       "tensor([[5.0000e-01, 9.9879e-03, 7.6161e-05]])"
      ]
     },
     "metadata": {},
     "output_type": "display_data"
    },
    {
     "name": "stdout",
     "output_type": "stream",
     "text": [
      "step: 165 loss is 1117876.375 lr is 1e-07\n"
     ]
    },
    {
     "data": {
      "text/plain": [
       "tensor([[5.0000e-01, 9.9879e-03, 7.5661e-05]])"
      ]
     },
     "metadata": {},
     "output_type": "display_data"
    },
    {
     "name": "stdout",
     "output_type": "stream",
     "text": [
      "step: 170 loss is 1133601.875 lr is 1e-07\n"
     ]
    },
    {
     "data": {
      "text/plain": [
       "tensor([[5.0000e-01, 9.9879e-03, 7.5161e-05]])"
      ]
     },
     "metadata": {},
     "output_type": "display_data"
    },
    {
     "name": "stdout",
     "output_type": "stream",
     "text": [
      "step: 175 loss is 1151356.25 lr is 1e-07\n"
     ]
    },
    {
     "data": {
      "text/plain": [
       "tensor([[5.0000e-01, 9.9879e-03, 7.4661e-05]])"
      ]
     },
     "metadata": {},
     "output_type": "display_data"
    },
    {
     "name": "stdout",
     "output_type": "stream",
     "text": [
      "step: 180 loss is 1171152.125 lr is 1e-07\n"
     ]
    },
    {
     "data": {
      "text/plain": [
       "tensor([[5.0000e-01, 9.9879e-03, 7.4161e-05]])"
      ]
     },
     "metadata": {},
     "output_type": "display_data"
    },
    {
     "name": "stdout",
     "output_type": "stream",
     "text": [
      "step: 185 loss is 1193001.75 lr is 1e-07\n"
     ]
    },
    {
     "data": {
      "text/plain": [
       "tensor([[5.0000e-01, 9.9879e-03, 7.3661e-05]])"
      ]
     },
     "metadata": {},
     "output_type": "display_data"
    },
    {
     "name": "stdout",
     "output_type": "stream",
     "text": [
      "step: 190 loss is 1216915.75 lr is 1e-07\n"
     ]
    },
    {
     "data": {
      "text/plain": [
       "tensor([[5.0000e-01, 9.9879e-03, 7.3161e-05]])"
      ]
     },
     "metadata": {},
     "output_type": "display_data"
    },
    {
     "name": "stdout",
     "output_type": "stream",
     "text": [
      "step: 195 loss is 1242904.875 lr is 1e-07\n"
     ]
    },
    {
     "data": {
      "text/plain": [
       "tensor([[5.0000e-01, 9.9879e-03, 7.2661e-05]])"
      ]
     },
     "metadata": {},
     "output_type": "display_data"
    },
    {
     "name": "stdout",
     "output_type": "stream",
     "text": [
      "step: 200 loss is 1270985.125 lr is 1e-07\n"
     ]
    },
    {
     "data": {
      "text/plain": [
       "tensor([[5.0000e-01, 9.9879e-03, 7.2161e-05]])"
      ]
     },
     "metadata": {},
     "output_type": "display_data"
    },
    {
     "name": "stdout",
     "output_type": "stream",
     "text": [
      "step: 205 loss is 1279221.875 lr is 1e-08\n"
     ]
    },
    {
     "data": {
      "text/plain": [
       "tensor([[5.0000e-01, 9.9879e-03, 7.2021e-05]])"
      ]
     },
     "metadata": {},
     "output_type": "display_data"
    },
    {
     "name": "stdout",
     "output_type": "stream",
     "text": [
      "step: 210 loss is 1282203.0 lr is 1e-08\n"
     ]
    },
    {
     "data": {
      "text/plain": [
       "tensor([[5.0000e-01, 9.9879e-03, 7.1971e-05]])"
      ]
     },
     "metadata": {},
     "output_type": "display_data"
    },
    {
     "name": "stdout",
     "output_type": "stream",
     "text": [
      "step: 215 loss is 1285204.125 lr is 1e-08\n"
     ]
    },
    {
     "data": {
      "text/plain": [
       "tensor([[5.0000e-01, 9.9879e-03, 7.1921e-05]])"
      ]
     },
     "metadata": {},
     "output_type": "display_data"
    },
    {
     "name": "stdout",
     "output_type": "stream",
     "text": [
      "step: 220 loss is 1288228.875 lr is 1e-08\n"
     ]
    },
    {
     "data": {
      "text/plain": [
       "tensor([[5.0000e-01, 9.9879e-03, 7.1871e-05]])"
      ]
     },
     "metadata": {},
     "output_type": "display_data"
    },
    {
     "name": "stdout",
     "output_type": "stream",
     "text": [
      "step: 225 loss is 1291272.375 lr is 1e-08\n"
     ]
    },
    {
     "data": {
      "text/plain": [
       "tensor([[5.0000e-01, 9.9879e-03, 7.1821e-05]])"
      ]
     },
     "metadata": {},
     "output_type": "display_data"
    },
    {
     "name": "stdout",
     "output_type": "stream",
     "text": [
      "step: 230 loss is 1294337.625 lr is 1e-08\n"
     ]
    },
    {
     "data": {
      "text/plain": [
       "tensor([[5.0000e-01, 9.9879e-03, 7.1771e-05]])"
      ]
     },
     "metadata": {},
     "output_type": "display_data"
    },
    {
     "name": "stdout",
     "output_type": "stream",
     "text": [
      "step: 235 loss is 1297424.75 lr is 1e-08\n"
     ]
    },
    {
     "data": {
      "text/plain": [
       "tensor([[5.0000e-01, 9.9879e-03, 7.1721e-05]])"
      ]
     },
     "metadata": {},
     "output_type": "display_data"
    },
    {
     "name": "stdout",
     "output_type": "stream",
     "text": [
      "step: 240 loss is 1300531.25 lr is 1e-08\n"
     ]
    },
    {
     "data": {
      "text/plain": [
       "tensor([[5.0000e-01, 9.9879e-03, 7.1671e-05]])"
      ]
     },
     "metadata": {},
     "output_type": "display_data"
    },
    {
     "name": "stdout",
     "output_type": "stream",
     "text": [
      "step: 245 loss is 1303659.625 lr is 1e-08\n"
     ]
    },
    {
     "data": {
      "text/plain": [
       "tensor([[5.0000e-01, 9.9879e-03, 7.1621e-05]])"
      ]
     },
     "metadata": {},
     "output_type": "display_data"
    },
    {
     "name": "stdout",
     "output_type": "stream",
     "text": [
      "step: 250 loss is 1306810.5 lr is 1e-08\n"
     ]
    },
    {
     "data": {
      "text/plain": [
       "tensor([[5.0000e-01, 9.9879e-03, 7.1571e-05]])"
      ]
     },
     "metadata": {},
     "output_type": "display_data"
    },
    {
     "name": "stdout",
     "output_type": "stream",
     "text": [
      "step: 255 loss is 1309981.75 lr is 1e-08\n"
     ]
    },
    {
     "data": {
      "text/plain": [
       "tensor([[5.0000e-01, 9.9879e-03, 7.1521e-05]])"
      ]
     },
     "metadata": {},
     "output_type": "display_data"
    },
    {
     "name": "stdout",
     "output_type": "stream",
     "text": [
      "step: 260 loss is 1313173.0 lr is 1e-08\n"
     ]
    },
    {
     "data": {
      "text/plain": [
       "tensor([[5.0000e-01, 9.9879e-03, 7.1471e-05]])"
      ]
     },
     "metadata": {},
     "output_type": "display_data"
    },
    {
     "name": "stdout",
     "output_type": "stream",
     "text": [
      "step: 265 loss is 1316386.375 lr is 1e-08\n"
     ]
    },
    {
     "data": {
      "text/plain": [
       "tensor([[5.0000e-01, 9.9879e-03, 7.1421e-05]])"
      ]
     },
     "metadata": {},
     "output_type": "display_data"
    },
    {
     "name": "stdout",
     "output_type": "stream",
     "text": [
      "step: 270 loss is 1319621.375 lr is 1e-08\n"
     ]
    },
    {
     "data": {
      "text/plain": [
       "tensor([[5.0000e-01, 9.9879e-03, 7.1371e-05]])"
      ]
     },
     "metadata": {},
     "output_type": "display_data"
    },
    {
     "name": "stdout",
     "output_type": "stream",
     "text": [
      "step: 275 loss is 1322876.125 lr is 1e-08\n"
     ]
    },
    {
     "data": {
      "text/plain": [
       "tensor([[5.0000e-01, 9.9879e-03, 7.1321e-05]])"
      ]
     },
     "metadata": {},
     "output_type": "display_data"
    },
    {
     "name": "stdout",
     "output_type": "stream",
     "text": [
      "step: 280 loss is 1326152.75 lr is 1e-08\n"
     ]
    },
    {
     "data": {
      "text/plain": [
       "tensor([[5.0000e-01, 9.9879e-03, 7.1271e-05]])"
      ]
     },
     "metadata": {},
     "output_type": "display_data"
    },
    {
     "name": "stdout",
     "output_type": "stream",
     "text": [
      "step: 285 loss is 1329451.375 lr is 1e-08\n"
     ]
    },
    {
     "data": {
      "text/plain": [
       "tensor([[5.0000e-01, 9.9879e-03, 7.1221e-05]])"
      ]
     },
     "metadata": {},
     "output_type": "display_data"
    },
    {
     "name": "stdout",
     "output_type": "stream",
     "text": [
      "step: 290 loss is 1332770.0 lr is 1e-08\n"
     ]
    },
    {
     "data": {
      "text/plain": [
       "tensor([[5.0000e-01, 9.9879e-03, 7.1171e-05]])"
      ]
     },
     "metadata": {},
     "output_type": "display_data"
    },
    {
     "name": "stdout",
     "output_type": "stream",
     "text": [
      "step: 295 loss is 1336110.125 lr is 1e-08\n"
     ]
    },
    {
     "data": {
      "text/plain": [
       "tensor([[5.0000e-01, 9.9879e-03, 7.1121e-05]])"
      ]
     },
     "metadata": {},
     "output_type": "display_data"
    }
   ],
   "source": [
    "from model import CRSModel\n",
    "import torch.optim as optim\n",
    "import torch.nn.functional as F\n",
    "model = CRSModel(site_info)\n",
    "\n",
    "params = torch.FloatTensor([[0.5,1e-2,0.0005]])\n",
    "# params = torch.FloatTensor([[5.0000e-01, 9.9910e-03, 5.1348e-05]])\n",
    "params.requires_grad=True\n",
    "params.register_hook(lambda g: F.normalize(g))\n",
    "\n",
    "initial_lr = 0.00005\n",
    "criterion = nn.MSELoss(reduction='sum')\n",
    "optimizer = optim.SGD(params=[params],lr=initial_lr,momentum=0.5)\n",
    "for epoch in range(300):\n",
    "    R0, N0 , n_target0 = torch.ones(1, 1),torch.ones(1, 1),torch.FloatTensor([])\n",
    "    # for i in range(np.size(peak_indexs)-4): # only using partial data for training\n",
    "    for i in range(0,4): # only using the first 5 peaks for training\n",
    "             mpa_yr2pa_s = 1e6 / 365.25 / 86400\n",
    "             site_info = {\n",
    "                          'tectonic_shear_stressing_rate' : 3.5e-4 * mpa_yr2pa_s, # Pa / s\n",
    "                          'tectonic_normal_stressing_rate' : 0, # Pa/s\n",
    "                          'sigma' : 30 * 1e6, # Pa\n",
    "                          'biot' : 0.3, # dimensionless\n",
    "                          #'background_rate' : 1.36 / 365.25 / 86400, # event/second,\n",
    "                          'background_rate' : empirical_rate[peak_indexs[i]+1] / 365.25 / 86400, # event/second,\n",
    "                          'init_delta_t' : delta_t[0].item() }\n",
    "             model = CRSModel(site_info)\n",
    "             p0 = torch.FloatTensor(p)[peak_indexs[i]+1:peak_indexs[i+1]]\n",
    "             dpdt0 = torch.FloatTensor(dpdt)[peak_indexs[i]+1:peak_indexs[i+1]]\n",
    "             delta_t0 = torch.FloatTensor(delta_t)[peak_indexs[i]+1:peak_indexs[i+1]]\n",
    "             \n",
    "             Rt, Nt = model(params, p0, dpdt0, delta_t0)\n",
    "             #print(empirical_rate[peak_indexs[i]],)\n",
    "             R0=torch.cat((R0,Rt),dim=-1)\n",
    "             #print(N0.detach()[0][-1])\n",
    "             Nt=torch.add(Nt,N0.detach()[0][-1])\n",
    "             #print(N0.detach())\n",
    "             N0=torch.cat((N0,Nt),dim=-1)\n",
    "             n_target= torch.FloatTensor(n_interpolated)[peak_indexs[i]:peak_indexs[i+1]]\n",
    "             n_target0=torch.cat((n_target0,n_target),dim=-1)\n",
    "             #print(n_target0.detach().size(),(N0[:,1:]).squeeze().detach().size())\n",
    "             \n",
    "\n",
    "    # loss = criterion(Nt[:,1:], n_target[None,:]) # Need to define a loss function that compares with the real data\n",
    "    # Define a MSE of forecasted number Nt with the ground truth\n",
    "    \n",
    "    \n",
    "    #print((N0[:,1:]).squeeze().detach().numpy(),n_target0.detach().numpy())\n",
    "    loss = criterion((N0[:,1:]).squeeze(), n_target0)\n",
    "    lr = initial_lr\n",
    "    if epoch == 0:\n",
    "        initial_loss = loss\n",
    "    if loss < 0.01*initial_loss:\n",
    "        lr = 0.000001\n",
    "        optimizer = optim.SGD(params=[params],lr=lr,momentum=0.1)\n",
    "        # print('switching to smaller lr')\n",
    "    if loss < 0.005* initial_loss:\n",
    "        lr = 0.0000001\n",
    "        optimizer = optim.SGD(params=[params],lr=lr,momentum=0.1)\n",
    "    if epoch > 200:\n",
    "        lr = 0.00000001\n",
    "        optimizer = optim.SGD(params=[params],lr=lr,momentum=0)\n",
    "    if epoch % 5 == 0:\n",
    "        # print('initial_loss: ' + str(initial_loss))\n",
    "        print('step: ' + str(epoch) + ' loss is ' + str(loss.item()) + ' lr is ' + str(lr))\n",
    "        # print(params.grad)\n",
    "        display(params.data)\n",
    "    optimizer.zero_grad()\n",
    "    loss.backward()\n",
    "    optimizer.step()\n",
    "    Nt.shape"
   ]
  },
  {
   "cell_type": "code",
   "execution_count": 46,
   "metadata": {},
   "outputs": [
    {
     "name": "stdout",
     "output_type": "stream",
     "text": [
      "tensor([[5.0000e-01, 9.9910e-03, 5.1348e-05]], requires_grad=True)\n"
     ]
    },
    {
     "data": {
      "image/png": "[encoded data removed]",
      "text/plain": [
       "<Figure size 432x288 with 1 Axes>"
      ]
     },
     "metadata": {},
     "output_type": "display_data"
    }
   ],
   "source": [
    "# Using Han's output, don't run this cell\n",
    "plt.plot((N0[:,1:]).squeeze().detach().numpy())\n",
    "plt.plot(n_target0)\n",
    "print(params)"
   ]
  },
  {
   "cell_type": "code",
   "execution_count": 220,
   "metadata": {},
   "outputs": [
    {
     "data": {
      "image/png": "[encoded data removed]",
      "text/plain": [
       "<Figure size 432x288 with 1 Axes>"
      ]
     },
     "metadata": {},
     "output_type": "display_data"
    }
   ],
   "source": [
    "# params = torch.FloatTensor([[5.0009e-01,2.7316e-03,3.0530e-04,5.0000e-04]])\n",
    "# Rt, Nt = model(params, p, dpdt, delta_t)\n",
    "# plt.plot(Nt.data.detach().numpy()[0])\n",
    "# # params = torch.FloatTensor([[5.0009e-01,2.7316e-03,163.7424,5.0000e-04]]) \n",
    "\n",
    "# params = torch.FloatTensor([[5.0000e-01, 9.9879e-03, 7.1121e-05]]) # manually setting params from loss history\n",
    "\n",
    "R, N = torch.ones(1, 1),torch.ones(1, 1),\n",
    "for i in range(np.size(peak_indexs)-1):\n",
    "    mpa_yr2pa_s = 1e6 / 365.25 / 86400\n",
    "    site_info = {\n",
    "        'tectonic_shear_stressing_rate' : 3.5e-4 * mpa_yr2pa_s, # Pa / s\n",
    "        'tectonic_normal_stressing_rate' : 0, # Pa/s\n",
    "        'sigma' : 30 * 1e6, # Pa\n",
    "        'biot' : 0.3, # dimensionless\n",
    "        #'background_rate' : 1.36 / 365.25 / 86400, # event/second,\n",
    "        # 'background_rate' : empirical_rate[peak_indexs[min(i,4)]+1] / 365.25 / 86400, # event/second,\n",
    "        'background_rate' : empirical_rate[peak_indexs[i]+1] / 365.25 / 86400, # event/second,\n",
    "        'init_delta_t' : delta_t[0].item() }\n",
    "    model = CRSModel(site_info)\n",
    "    p0 = torch.FloatTensor(p)[peak_indexs[i]+1:peak_indexs[i+1]]\n",
    "    dpdt0 = torch.FloatTensor(dpdt)[peak_indexs[i]+1:peak_indexs[i+1]]\n",
    "    delta_t0 = torch.FloatTensor(delta_t)[peak_indexs[i]+1:peak_indexs[i+1]]\n",
    "             \n",
    "    Rt, Nt = model(params, p0, dpdt0, delta_t0)\n",
    "    #print(empirical_rate[peak_indexs[i]],)\n",
    "    R=torch.cat((R,Rt),dim=-1)\n",
    "    #print(N0.detach()[0][-1])\n",
    "    Nt=torch.add(Nt,N.detach()[0][-1])\n",
    "    #print(N0.detach())\n",
    "    N=torch.cat((N,Nt),dim=-1)\n",
    "    # n_target= torch.FloatTensor(n_interpolated)[peak_indexs[i]:peak_indexs[i+1]]\n",
    "    # n_target0=torch.cat((n_target0,n_target),dim=-1)\n",
    "plt.plot((N[:,1:]).squeeze().detach().numpy(),label=\"n_prediction\")\n",
    "plt.plot(n_interpolated,label=\"n_interpolated\")\n",
    "plt.plot(N0[:,1:].squeeze().detach().numpy(),label='n_fitting')\n",
    "plt.legend(loc=\"upper left\")\n",
    "plt.show()"
   ]
  },
  {
   "cell_type": "code",
   "execution_count": 204,
   "metadata": {},
   "outputs": [
    {
     "data": {
      "text/plain": [
       "[<matplotlib.lines.Line2D at 0x7f89f18cb690>]"
      ]
     },
     "execution_count": 204,
     "metadata": {},
     "output_type": "execute_result"
    },
    {
     "data": {
      "image/png": "[encoded data removed]",
      "text/plain": [
       "<Figure size 432x288 with 1 Axes>"
      ]
     },
     "metadata": {},
     "output_type": "display_data"
    }
   ],
   "source": [
    "plt.plot(N0[:,1:].squeeze().detach().numpy())"
   ]
  },
  {
   "cell_type": "code",
   "execution_count": null,
   "metadata": {},
   "outputs": [],
   "source": []
  },
  {
   "cell_type": "code",
   "execution_count": null,
   "metadata": {},
   "outputs": [],
   "source": []
  },
  {
   "cell_type": "code",
   "execution_count": null,
   "metadata": {},
   "outputs": [],
   "source": []
  },
  {
   "cell_type": "code",
   "execution_count": null,
   "metadata": {},
   "outputs": [],
   "source": []
  },
  {
   "cell_type": "code",
   "execution_count": null,
   "metadata": {},
   "outputs": [],
   "source": []
  },
  {
   "cell_type": "code",
   "execution_count": null,
   "metadata": {},
   "outputs": [],
   "source": []
  },
  {
   "cell_type": "code",
   "execution_count": null,
   "metadata": {},
   "outputs": [],
   "source": []
  },
  {
   "cell_type": "code",
   "execution_count": null,
   "metadata": {},
   "outputs": [],
   "source": []
  }
 ],
 "metadata": {
  "kernelspec": {
   "display_name": "Python 3 (ipykernel)",
   "language": "python",
   "name": "python3"
  },
  "language_info": {
   "codemirror_mode": {
    "name": "ipython",
    "version": 3
   },
   "file_extension": ".py",
   "mimetype": "text/x-python",
   "name": "python",
   "nbconvert_exporter": "python",
   "pygments_lexer": "ipython3",
   "version": "3.7.13"
  },
  "vscode": {
   "interpreter": {
    "hash": "2beab4f37da7cd4415782296c8eb22a3553443b6202cb34c77e531d87231817b"
   }
  }
 },
 "nbformat": 4,
 "nbformat_minor": 4
}
