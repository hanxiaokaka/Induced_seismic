{
 "cells": [
  {
   "cell_type": "code",
   "execution_count": 32,
   "metadata": {},
   "outputs": [],
   "source": [
    "import numpy as np\n",
    "import torch\n",
    "import torch.nn as nn\n",
    "import matplotlib.pyplot as plt\n",
    "plt.style.use('ggplot')\n",
    "\n",
    "%matplotlib inline"
   ]
  },
  {
   "cell_type": "markdown",
   "metadata": {},
   "source": [
    "### Load Data"
   ]
  },
  {
   "cell_type": "code",
   "execution_count": 33,
   "metadata": {},
   "outputs": [],
   "source": [
    "SEISMIC_DATA = '../../../dataset_preparing/datasets_Jul_7/cushing_oklahoma/cushingSeismic.hdf5'\n",
    "PRESSURE_DATA = '../../../dataset_preparing/datasets_Jul_7/cushing_oklahoma/cushingPressure.hdf5'"
   ]
  },
  {
   "cell_type": "code",
   "execution_count": 34,
   "metadata": {},
   "outputs": [],
   "source": [
    "from orion_light import seismic_catalog\n",
    "from orion_light import pressure_table"
   ]
  },
  {
   "cell_type": "code",
   "execution_count": 35,
   "metadata": {},
   "outputs": [],
   "source": [
    "catalog = seismic_catalog.SeismicCatalog()\n",
    "catalog.load_catalog_hdf5(SEISMIC_DATA)"
   ]
  },
  {
   "cell_type": "code",
   "execution_count": 36,
   "metadata": {},
   "outputs": [
    {
     "name": "stdout",
     "output_type": "stream",
     "text": [
      "Loading pressure table from hdf5 file: ../../../dataset_preparing/datasets_Jul_7/cushing_oklahoma/cushingPressure.hdf5\n"
     ]
    }
   ],
   "source": [
    "pressure_model = pressure_table.PressureTableModel()\n",
    "pressure_model.load_table(PRESSURE_DATA)"
   ]
  },
  {
   "cell_type": "markdown",
   "metadata": {},
   "source": [
    "### Process $N(t)$"
   ]
  },
  {
   "cell_type": "markdown",
   "metadata": {},
   "source": [
    "- Pressure data and seismic events are recorded at different times.\n",
    "    - First goal: Clip all data to the time interval where we have samples for both pressure and seismic activity\n",
    "    - Second goal: linearly interpolate the seismic data so that the event times align with the pressure data.\n",
    "    - Third goal: empirically compute the rate (numerical derivative), in order to define R0.\n",
    "- Partition the data into **main shock** and **interseismic** regions.\n",
    "    - This should be done by a peak detector, but right now it is done manually (by visual inspection)."
   ]
  },
  {
   "cell_type": "code",
   "execution_count": 37,
   "metadata": {},
   "outputs": [],
   "source": [
    "from scipy.interpolate import interp1d"
   ]
  },
  {
   "cell_type": "markdown",
   "metadata": {},
   "source": [
    "Obtain the time intervals for the seismic data, and creating the interpolator."
   ]
  },
  {
   "cell_type": "code",
   "execution_count": 38,
   "metadata": {},
   "outputs": [],
   "source": [
    "Mc = 1.6\n",
    "catalog.set_slice(magnitude_range = [Mc, 10])\n",
    "event_times = catalog.get_epoch_slice() \n",
    "start_t = event_times[0]\n",
    "end_t = event_times[-1]\n",
    "event_times = event_times / 86400 / 365.25\n",
    "\n",
    "t_n = event_times - event_times[0]\n",
    "n_cnts = np.arange(len(t_n))\n",
    "n_func = interp1d(t_n, n_cnts, kind='linear')"
   ]
  },
  {
   "cell_type": "markdown",
   "metadata": {},
   "source": [
    "Obtain the time intervals for the pressure data, and interpolate the seismic data"
   ]
  },
  {
   "cell_type": "code",
   "execution_count": 49,
   "metadata": {},
   "outputs": [],
   "source": [
    "t_p = pressure_epoch = pressure_model.table_data['t']\n",
    "start_idx = np.where(t_p > start_t)[0][0]\n",
    "end_idx = np.where(t_p > end_t)[0][0] - 1\n",
    "\n",
    "t_p = t_p[start_idx:end_idx]\n",
    "p = pressure_model.table_data['pressure'][1:][start_idx+1:end_idx]\n",
    "dpdt = pressure_model.table_data['dpdt'][1:][start_idx+1:end_idx]\n",
    "\n",
    "delta_t = t_p[1:] - t_p[:-1]\n",
    "\n",
    "p = torch.FloatTensor(p)\n",
    "dpdt = torch.FloatTensor(dpdt)\n",
    "delta_t = torch.FloatTensor(delta_t)\n",
    "\n",
    "t_p_interpolated = t_p / 86400 / 365.25 - event_times[0]\n",
    "n_interpolated = n_func(t_p_interpolated)"
   ]
  },
  {
   "cell_type": "code",
   "execution_count": 50,
   "metadata": {},
   "outputs": [],
   "source": [
    "empirical_rate = np.gradient(n_interpolated, t_p_interpolated)"
   ]
  },
  {
   "cell_type": "code",
   "execution_count": 51,
   "metadata": {},
   "outputs": [
    {
     "data": {
      "text/plain": [
       "[<matplotlib.lines.Line2D at 0x7f9de8b80ed0>]"
      ]
     },
     "execution_count": 51,
     "metadata": {},
     "output_type": "execute_result"
    },
    {
     "data": {
      "image/png": "[encoded data removed]",
      "text/plain": [
       "<Figure size 432x288 with 1 Axes>"
      ]
     },
     "metadata": {
      "needs_background": "light"
     },
     "output_type": "display_data"
    }
   ],
   "source": [
    "plt.plot(t_p_interpolated, n_interpolated)"
   ]
  },
  {
   "cell_type": "markdown",
   "metadata": {},
   "source": [
    "Examining the first interseismic chunk (from t=0 years to t=1.3 years)"
   ]
  },
  {
   "cell_type": "code",
   "execution_count": 52,
   "metadata": {},
   "outputs": [],
   "source": [
    "train_end = np.where(t_p_interpolated > 1.3)[0][0]"
   ]
  },
  {
   "cell_type": "code",
   "execution_count": 53,
   "metadata": {},
   "outputs": [],
   "source": [
    "n_target = torch.FloatTensor(n_interpolated)[:train_end]\n",
    "p = torch.FloatTensor(p)[:train_end]\n",
    "dpdt = torch.FloatTensor(dpdt)[:train_end]\n",
    "delta_t = torch.FloatTensor(delta_t)[:train_end]"
   ]
  },
  {
   "cell_type": "markdown",
   "metadata": {},
   "source": [
    "### Define site constants"
   ]
  },
  {
   "cell_type": "code",
   "execution_count": 13,
   "metadata": {},
   "outputs": [],
   "source": [
    "mpa_yr2pa_s = 1e6 / 365.25 / 86400\n",
    "\n",
    "site_info = {\n",
    "    'tectonic_shear_stressing_rate' : 3.5e-4 * mpa_yr2pa_s, # Pa / s\n",
    "    'tectonic_normal_stressing_rate' : 0, # Pa/s\n",
    "    'sigma' : 30 * 1e6, # Pa\n",
    "    'biot' : 0.3, # dimensionless\n",
    "    #'background_rate' : 1.36 / 365.25 / 86400, # event/second,\n",
    "    'background_rate' : empirical_rate[0] / 365.25 / 86400, # event/second,\n",
    "    'init_delta_t' : delta_t[0].item()\n",
    "}"
   ]
  },
  {
   "cell_type": "markdown",
   "metadata": {},
   "source": [
    "### Sampling the grid"
   ]
  },
  {
   "cell_type": "markdown",
   "metadata": {},
   "source": [
    "We keep the rate factor fixed, and examine the landscape for mu_minus_alpha and rate_coeff."
   ]
  },
  {
   "cell_type": "code",
   "execution_count": 14,
   "metadata": {},
   "outputs": [],
   "source": [
    "mu_minus_alpha_mesh = torch.linspace(0.1, 1.0, 101)\n",
    "rate_coeff_mesh = 10 ** torch.linspace(-4, -1, 101)\n",
    "grid_mu, grid_rate = torch.meshgrid(mu_minus_alpha_mesh, rate_coeff_mesh, indexing='ij')\n",
    "\n",
    "params = torch.stack([\n",
    "    grid_mu.flatten(),\n",
    "    grid_rate.flatten(),\n",
    "    163.7424 / 1e6 * torch.ones_like(grid_rate.flatten()), # rate_factor \n",
    "]).T\n",
    "\n",
    "#We will test gradient functionality later\n",
    "params.requires_grad_();"
   ]
  },
  {
   "cell_type": "code",
   "execution_count": 61,
   "metadata": {},
   "outputs": [
    {
     "data": {
      "text/plain": [
       "10201"
      ]
     },
     "execution_count": 61,
     "metadata": {},
     "output_type": "execute_result"
    }
   ],
   "source": [
    "len(grid_mu.flatten())"
   ]
  },
  {
   "cell_type": "markdown",
   "metadata": {},
   "source": [
    "### Run Model"
   ]
  },
  {
   "cell_type": "code",
   "execution_count": 26,
   "metadata": {},
   "outputs": [],
   "source": [
    "from saif.crs_model.model import CRSModel"
   ]
  },
  {
   "cell_type": "code",
   "execution_count": 27,
   "metadata": {},
   "outputs": [],
   "source": [
    "model = CRSModel(site_info)"
   ]
  },
  {
   "cell_type": "code",
   "execution_count": 28,
   "metadata": {},
   "outputs": [],
   "source": [
    "Rt, Nt = model(params, p, dpdt, delta_t)"
   ]
  },
  {
   "cell_type": "markdown",
   "metadata": {},
   "source": [
    "Visualize a sample"
   ]
  },
  {
   "cell_type": "code",
   "execution_count": 29,
   "metadata": {},
   "outputs": [
    {
     "data": {
      "text/plain": [
       "[<matplotlib.lines.Line2D at 0x7f9ddd4c5250>]"
      ]
     },
     "execution_count": 29,
     "metadata": {},
     "output_type": "execute_result"
    },
    {
     "data": {
      "image/png": "[encoded data removed]",
      "text/plain": [
       "<Figure size 432x288 with 1 Axes>"
      ]
     },
     "metadata": {
      "needs_background": "light"
     },
     "output_type": "display_data"
    }
   ],
   "source": [
    "plt.plot(n_target)\n",
    "plt.plot(Nt[5500].data)"
   ]
  },
  {
   "cell_type": "markdown",
   "metadata": {},
   "source": [
    "Define the criterion: MSELoss.\n",
    "\n",
    "- Be careful: we may need to normalize the data before using MSELoss.\n",
    "- In future, we might forecast rate (or, $\\Delta N(t)$) since this is easier to bound than total number."
   ]
  },
  {
   "cell_type": "code",
   "execution_count": 19,
   "metadata": {},
   "outputs": [],
   "source": [
    "criterion = nn.MSELoss(reduction='none')"
   ]
  },
  {
   "cell_type": "code",
   "execution_count": 20,
   "metadata": {},
   "outputs": [],
   "source": [
    "mse_vals = criterion(\n",
    "    Nt[:,1:], \n",
    "    n_target.repeat(Nt.shape[0], 1)\n",
    ").mean(-1)\n",
    "\n",
    "losses = mse_vals.data.numpy()"
   ]
  },
  {
   "cell_type": "markdown",
   "metadata": {},
   "source": [
    "Plot the landscape"
   ]
  },
  {
   "cell_type": "code",
   "execution_count": 30,
   "metadata": {},
   "outputs": [],
   "source": [
    "from mpl_toolkits.axes_grid1 import make_axes_locatable\n"
   ]
  },
  {
   "cell_type": "code",
   "execution_count": 22,
   "metadata": {},
   "outputs": [
    {
     "data": {
      "text/plain": [
       "Text(0, 0.5, '$\\\\mathrm{log}(a)$')"
      ]
     },
     "execution_count": 22,
     "metadata": {},
     "output_type": "execute_result"
    },
    {
     "data": {
      "image/png": "[encoded data removed]",
      "text/plain": [
       "<Figure size 720x864 with 2 Axes>"
      ]
     },
     "metadata": {
      "needs_background": "light"
     },
     "output_type": "display_data"
    }
   ],
   "source": [
    "\n",
    "fig, ax = plt.subplots(1,1,figsize=(10,12))\n",
    "plt.title('2D loss landscape')\n",
    "\n",
    "c = ax.contourf(\n",
    "    grid_mu.numpy(), np.log(grid_rate.numpy()) / np.log(10),\n",
    "    np.log(losses.reshape(grid_mu.numpy().shape))\n",
    ")\n",
    "\n",
    "\n",
    "divider = make_axes_locatable(ax)\n",
    "cax = divider.append_axes('bottom', size='10%', pad=0.6)\n",
    "cb = fig.colorbar(c, cax=cax, orientation='horizontal')\n",
    "cax.set_xlabel('log(MSE)')  # cax == cb.ax\n",
    "\n",
    "\n",
    "\n",
    "ax.set_xlabel(r'$\\mu - \\alpha$')\n",
    "ax.set_ylabel(r'$\\mathrm{log}(a)$')\n",
    "\n"
   ]
  },
  {
   "cell_type": "markdown",
   "metadata": {},
   "source": [
    "Test gradient"
   ]
  },
  {
   "cell_type": "markdown",
   "metadata": {},
   "source": [
    "This takes a while to run on my tiny tablet."
   ]
  },
  {
   "cell_type": "code",
   "execution_count": 31,
   "metadata": {},
   "outputs": [
    {
     "data": {
      "text/plain": [
       "tensor([[-1.4039e+03,  1.1702e+05, -7.8591e+05],\n",
       "        [-1.4108e+03,  1.1821e+05, -7.8423e+05],\n",
       "        [-1.4181e+03,  1.1946e+05, -7.8227e+05],\n",
       "        ...,\n",
       "        [-3.8116e+00,  4.2277e+01, -7.9007e+02],\n",
       "        [-3.4993e+00,  3.5731e+01, -1.0054e+03],\n",
       "        [-3.2179e+00,  3.1538e+01, -3.9146e+02]])"
      ]
     },
     "execution_count": 31,
     "metadata": {},
     "output_type": "execute_result"
    }
   ],
   "source": [
    "total_loss = mse_vals.sum()\n",
    "total_loss.backward()\n",
    "params.grad.data"
   ]
  },
  {
   "cell_type": "code",
   "execution_count": null,
   "metadata": {},
   "outputs": [],
   "source": []
  }
 ],
 "metadata": {
  "kernelspec": {
   "display_name": "Python 3.7.13",
   "language": "python",
   "name": "python3"
  },
  "language_info": {
   "codemirror_mode": {
    "name": "ipython",
    "version": 3
   },
   "file_extension": ".py",
   "mimetype": "text/x-python",
   "name": "python",
   "nbconvert_exporter": "python",
   "pygments_lexer": "ipython3",
   "version": "3.7.13"
  },
  "vscode": {
   "interpreter": {
    "hash": "2beab4f37da7cd4415782296c8eb22a3553443b6202cb34c77e531d87231817b"
   }
  }
 },
 "nbformat": 4,
 "nbformat_minor": 4
}
