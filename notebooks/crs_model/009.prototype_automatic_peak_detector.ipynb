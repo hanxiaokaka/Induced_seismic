{
 "cells": [
  {
   "cell_type": "code",
   "execution_count": 1,
   "id": "f451ec9b-8c06-44cd-84ed-97f82bee25b2",
   "metadata": {},
   "outputs": [],
   "source": [
    "import numpy as np\n",
    "import torch\n",
    "import torch.nn as nn\n",
    "import matplotlib.pyplot as plt\n",
    "from saif.crs_model.peakdetector import pk_indxs\n",
    "import pandas as pd"
   ]
  },
  {
   "cell_type": "code",
   "execution_count": 2,
   "id": "eada53c0-acfd-401f-a4a1-694822ecc4bb",
   "metadata": {},
   "outputs": [],
   "source": [
    "seismic = pd.read_csv(\"/Users/pmh/Desktop/temporal_datasets/decatur_illinois/seismic.csv\",index_col=None)\n",
    "pressure = pd.read_csv(\"/Users/pmh/Desktop/temporal_datasets/decatur_illinois/pressure.csv\",index_col=None)"
   ]
  },
  {
   "cell_type": "code",
   "execution_count": 3,
   "id": "6fd058c2-8b82-4d4e-b075-75d2e2526605",
   "metadata": {},
   "outputs": [],
   "source": [
    "from scipy.interpolate import interp1d\n",
    "magnitude=pd.DataFrame(seismic['magnitude']).to_numpy().squeeze()\n",
    "event_times = pd.DataFrame(seismic['epoch']).to_numpy().squeeze()\n",
    "start_t = event_times[0]\n",
    "end_t = event_times[-1]\n",
    "event_times = event_times/86400\n",
    "\n",
    "t_n = (event_times - event_times[0])\n",
    "t_n=t_n.squeeze()\n",
    "n_cnts = np.arange(len(t_n))\n",
    "\n",
    "n_func1 = interp1d(t_n, n_cnts, kind='linear')"
   ]
  },
  {
   "cell_type": "code",
   "execution_count": 4,
   "id": "eb727055-bae0-496c-83c1-992d11c9b980",
   "metadata": {},
   "outputs": [],
   "source": [
    "t_p = pd.DataFrame(pressure['epoch']).to_numpy().squeeze()\n",
    "start_idx = np.where(t_p > start_t)[0][0]\n",
    "end_idx = len(t_p)\n",
    "\n",
    "end_t=np.where(event_times*86400 > t_p[end_idx-1])[0][0]\n",
    "\n",
    "t_p=(t_p[start_idx+1:end_idx]-t_p[start_idx+1])/86400\n",
    "p = pd.DataFrame(pressure['pressure']).to_numpy()[start_idx+1:end_idx].squeeze()\n",
    "dpdt = pd.DataFrame(pressure['dpdt']).to_numpy()[start_idx+1:end_idx].squeeze()\n",
    "\n",
    "t_new = np.arange(0,t_p[-1])\n",
    "\n",
    "delta_t = (t_new[1:] - t_new[:-1])*86400\n",
    "\n",
    "n_func2 = interp1d(t_p, p, kind='linear')\n",
    "n_func3 = interp1d(t_p, dpdt, kind='linear')\n",
    "\n",
    "n_interpolated = n_func1(t_new) # interpolated number of earthquakes \n",
    "p_interpolated = n_func2(t_new) # interpolated number of earthquakes \n",
    "dpdt_interpolated = n_func3(t_new) # interpolated number of earthquakes \n",
    "\n",
    "p_interpolated = torch.FloatTensor(p_interpolated)\n",
    "dpdt_interpolated = torch.FloatTensor(dpdt_interpolated)\n",
    "delta_t = torch.FloatTensor(delta_t)\n",
    "empirical_rate = np.gradient(n_interpolated, t_new)"
   ]
  },
  {
   "cell_type": "code",
   "execution_count": 5,
   "id": "8861df28-96dc-4460-89f5-bc9699904222",
   "metadata": {},
   "outputs": [],
   "source": [
    "mpa_yr2pa_s = 1e6 / 365.25 / 86400\n",
    "site_info = {\n",
    "    'tectonic_shear_stressing_rate' : 3.5e-4 * mpa_yr2pa_s, # Pa / s\n",
    "    'tectonic_normal_stressing_rate' : 0, # Pa/s\n",
    "    'sigma' : 30 * 1e6, # Pa\n",
    "    'biot' : 0.3, # dimensionless\n",
    "    #'background_rate' : 1.36 / 365.25 / 86400, # event/second,\n",
    "    'background_rate' : empirical_rate[0] / 365.25 / 86400, # event/second,\n",
    "    'init_delta_t' : delta_t[0].item(), \n",
    "    'mu_minus_alpha_up_limit' : 0.5,\n",
    "    'rate_coeff_up_limit' : 0.1,\n",
    "    'rate_factor_up_limit' : 0.002}\n",
    "train_p=888"
   ]
  },
  {
   "cell_type": "code",
   "execution_count": 6,
   "id": "7326f672-9c18-48af-a53b-47bda387846b",
   "metadata": {},
   "outputs": [
    {
     "name": "stdout",
     "output_type": "stream",
     "text": [
      "[ 76 193 211 226 278 366 429 441 535 586 641 659 670 701 767]\n"
     ]
    },
    {
     "data": {
      "image/png": "[encoded data removed]",
      "text/plain": [
       "<Figure size 432x288 with 1 Axes>"
      ]
     },
     "metadata": {
      "needs_background": "light"
     },
     "output_type": "display_data"
    }
   ],
   "source": [
    "peak_indexs=pk_indxs(empirical_rate[0:train_p],trshd=0.05, min_dist=10)\n",
    "plt.plot(empirical_rate)\n",
    "plt.plot(peak_indexs,empirical_rate[peak_indexs],'o',color='b')\n",
    "print(peak_indexs)"
   ]
  },
  {
   "cell_type": "code",
   "execution_count": 7,
   "id": "b14236aa-4245-4ccb-9a5d-e2d9b4d2de96",
   "metadata": {},
   "outputs": [
    {
     "name": "stdout",
     "output_type": "stream",
     "text": [
      "[array([  0,  76, 193, 211, 226, 278, 366, 429, 441, 535, 586, 641, 659,\n",
      "       701, 767, 888]), array([  0,  76, 193, 211, 226, 278, 366, 429, 441, 535, 586, 641, 659,\n",
      "       701, 767, 888]), array([  0,  76, 193, 211, 226, 278, 586, 641, 767, 888]), array([  0,  76, 193, 211, 226, 641, 888])]\n"
     ]
    }
   ],
   "source": [
    "#plt.plot((event_times-event_times[0]), magnitude)\n",
    "peak_all=[[]*1]*4\n",
    "count=0\n",
    "for trshd in np.arange(0.6,0.9,0.1):\n",
    "     peak_indexs=pk_indxs(empirical_rate[0:train_p],trshd=0.05, min_dist=10)\n",
    "     tem=[0]\n",
    "     for i in peak_indexs:\n",
    "         low_limit=((np.where(event_times- event_times[0]>i-1)[0][0]))\n",
    "         high_limit=((np.where(event_times- event_times[0]>i+1)[0][0]))\n",
    "         if np.max(magnitude[low_limit:high_limit])>((np.max(magnitude)-np.min(magnitude))*trshd+np.min(magnitude)):\n",
    "            tem.append(i)\n",
    "     peak_all[count]=np.insert(tem,np.size(tem),train_p)\n",
    "     count=count+1\n",
    "print(peak_all)"
   ]
  },
  {
   "cell_type": "code",
   "execution_count": 8,
   "id": "fe2c90c0-b906-4f51-9938-93aa51579ad4",
   "metadata": {},
   "outputs": [],
   "source": [
    "from model import CRSModel\n",
    "import torch.optim as optim\n",
    "import torch.nn.functional as F\n",
    "model = CRSModel(site_info)"
   ]
  },
  {
   "cell_type": "code",
   "execution_count": 9,
   "id": "7ccfb6b1-f10a-44bb-a617-7cd650572988",
   "metadata": {},
   "outputs": [],
   "source": [
    "total_loss=[1000000]\n",
    "params_k=[]\n",
    "N_k=torch.ones(1, 1)\n",
    "\n",
    "for peak_use in peak_all:\n",
    " params = torch.FloatTensor([[1,0.01,0.01]])\n",
    " params.requires_grad=True\n",
    " params.register_hook(lambda g: F.normalize(g))\n",
    " optimizer = optim.SGD(params=[params],lr=1,momentum=0.1)\n",
    " criterion = nn.HuberLoss(reduction='mean')\n",
    " R0, N0 , n_target0 = torch.ones(1, 1),torch.ones(1, 1),torch.FloatTensor([])\n",
    " train_loss = []\n",
    " eval_loss = []\n",
    " optimizer = optim.SGD(params=[params],lr=0.01,momentum=0.1)\n",
    " for epoch in range(500):\n",
    "    R0, N0 , n_target0 = torch.ones(1, 1),torch.ones(1, 1),torch.FloatTensor([])\n",
    "    for i in range(np.size(peak_use)-1):\n",
    "             mpa_yr2pa_s = 1e6 / 365.25 / 86400\n",
    "             site_info = {\n",
    "                          'tectonic_shear_stressing_rate' : 3.5e-4 * mpa_yr2pa_s, # Pa / s\n",
    "                          'tectonic_normal_stressing_rate' : 0, # Pa/s\n",
    "                          'sigma' : 30 * 1e6, # Pa\n",
    "                          'biot' : 0.3, # dimensionless\n",
    "                          #'background_rate' : 1.36 / 365.25 / 86400, # event/second,\n",
    "                          'background_rate' : empirical_rate[peak_use[i]]/ 86400, # event/second,\n",
    "                          'init_delta_t' : delta_t[0].item(),    \n",
    "                          'mu_minus_alpha_up_limit':0.5,\n",
    "                          'rate_coeff_up_limit': 0.1,\n",
    "                          'rate_factor_up_limit': 0.002}\n",
    "             model = CRSModel(site_info)\n",
    "             p0 = torch.FloatTensor(p_interpolated)[peak_use[i]+1:peak_use[i+1]]\n",
    "             dpdt0 = torch.FloatTensor(dpdt_interpolated)[peak_use[i]+1:peak_use[i+1]]\n",
    "             delta_t0 = torch.FloatTensor(delta_t)[peak_use[i]+1:peak_use[i+1]]\n",
    "             Rt, Nt = model(params, p0, dpdt0, delta_t0)\n",
    "             R0=torch.cat((R0,Rt),dim=-1)\n",
    "             #print(N0.detach()[0][-1])\n",
    "             Nt=torch.add(Nt,N0.detach()[0][-1])\n",
    "             #print(N0.detach())\n",
    "             N0=torch.cat((N0,Nt),dim=-1)\n",
    "             n_target= torch.FloatTensor(n_interpolated)[peak_use[i]:peak_use[i+1]]\n",
    "             n_target0=torch.cat((n_target0,n_target),dim=-1)\n",
    "             #print(n_target0.detach().size(),(N0[:,1:]).squeeze().detach().size())\n",
    "\n",
    "    # loss = criterion(Nt[:,1:], n_target[None,:]) # Need to define a loss function that compares with the real data\n",
    "    # Define a MSE of forecasted number Nt with the ground truth\n",
    "    \n",
    "    loss1 = criterion((N0[:,1:]).squeeze(), n_target0)  \n",
    "    #print('loss is ' + str(loss1.item()))\n",
    "    train_loss.append(loss1.item())\n",
    "    optimizer.zero_grad()\n",
    "    loss1.backward()\n",
    "    optimizer.step()\n",
    "    Nt.shape\n",
    "    #######\n",
    "    p_eval = torch.FloatTensor(p_interpolated)[train_p:len(delta_t)]\n",
    "    dpdt_eval = torch.FloatTensor(dpdt_interpolated)[train_p:len(delta_t)]\n",
    "    delta_eval = torch.FloatTensor(delta_t)[train_p:len(delta_t)]\n",
    "    n_target_eval= torch.FloatTensor(n_interpolated)[train_p:len(delta_t)]\n",
    "    \n",
    "    R_eval, N_eval = model(params.data, p_eval, dpdt_eval, delta_eval)\n",
    "    loss2 = criterion((N_eval[:,1:]).squeeze()+N0.detach()[0][-1], n_target_eval)\n",
    "    eval_loss.append(loss2.item())\n",
    " if train_loss[-1]<np.min(total_loss):\n",
    "    params_k=params.data\n",
    "    peak_k=peak_use\n",
    " total_loss.append(train_loss[-1])"
   ]
  },
  {
   "cell_type": "code",
   "execution_count": 10,
   "id": "dd1e9ef0-95b6-425d-a866-140b65ded806",
   "metadata": {},
   "outputs": [],
   "source": [
    "R0, N0 , n_target0 = torch.ones(1, 1),torch.ones(1, 1),torch.FloatTensor([])\n",
    "for i in range(np.size(peak_k)-1):\n",
    "             mpa_yr2pa_s = 1e6 / 365.25 / 86400\n",
    "             site_info = {\n",
    "                          'tectonic_shear_stressing_rate' : 3.5e-4 * mpa_yr2pa_s, # Pa / s\n",
    "                          'tectonic_normal_stressing_rate' : 0, # Pa/s\n",
    "                          'sigma' : 30 * 1e6, # Pa\n",
    "                          'biot' : 0.3, # dimensionless\n",
    "                          #'background_rate' : 1.36 / 365.25 / 86400, # event/second,\n",
    "                          'background_rate' : empirical_rate[peak_k[i]]/ 86400, # event/second,\n",
    "                          'init_delta_t' : delta_t[0].item(),    \n",
    "                          'mu_minus_alpha_up_limit':0.5,\n",
    "                          'rate_coeff_up_limit': 0.1,\n",
    "                          'rate_factor_up_limit': 0.002}\n",
    "             model = CRSModel(site_info)\n",
    "             p0 = torch.FloatTensor(p_interpolated)[peak_k[i]+1:peak_k[i+1]]\n",
    "             dpdt0 = torch.FloatTensor(dpdt_interpolated)[peak_k[i]+1:peak_k[i+1]]\n",
    "             delta_t0 = torch.FloatTensor(delta_t)[peak_k[i]+1:peak_k[i+1]]\n",
    "             Rt, Nt = model(params_k, p0, dpdt0, delta_t0)\n",
    "             R0=torch.cat((R0,Rt),dim=-1)\n",
    "             #print(N0.detach()[0][-1])\n",
    "             Nt=torch.add(Nt,N0.detach()[0][-1])\n",
    "             #print(N0.detach())\n",
    "             N0=torch.cat((N0,Nt),dim=-1)\n",
    "             n_target= torch.FloatTensor(n_interpolated)[peak_k[i]:peak_k[i+1]]\n",
    "             n_target0=torch.cat((n_target0,n_target),dim=-1)"
   ]
  },
  {
   "cell_type": "code",
   "execution_count": 11,
   "id": "5c22ccd1-0e25-499a-ab33-c2307f154b60",
   "metadata": {},
   "outputs": [],
   "source": [
    "p0 = torch.FloatTensor(p_interpolated)[peak_k[i+1]+1:]\n",
    "dpdt0 = torch.FloatTensor(dpdt_interpolated)[peak_k[i+1]+1:]\n",
    "delta_t0 = torch.FloatTensor(delta_t)[peak_k[i+1]:]\n",
    "Rt_pre, Nt_pre = model(params, p0, dpdt0, delta_t0)"
   ]
  },
  {
   "cell_type": "code",
   "execution_count": 12,
   "id": "34c82d3e-32a0-452c-9c40-4644a04baa1f",
   "metadata": {},
   "outputs": [
    {
     "name": "stdout",
     "output_type": "stream",
     "text": [
      "tensor(0.3753) tensor(0.0152) tensor(0.0004)\n"
     ]
    },
    {
     "data": {
      "image/png": "[encoded data removed]",
      "text/plain": [
       "<Figure size 432x288 with 1 Axes>"
      ]
     },
     "metadata": {
      "needs_background": "light"
     },
     "output_type": "display_data"
    }
   ],
   "source": [
    "plt.plot(t_new[0:train_p]/365.25,(N0[:,1:]).squeeze().detach().numpy(),':k')\n",
    "plt.plot(t_new[train_p+1:]/365.25,(Nt_pre[:,1:]+N0.detach()[0][-1]).squeeze().detach().numpy(),':r')\n",
    "plt.plot(t_new[0:train_p]/365.25,n_interpolated[0:train_p],'-k')\n",
    "plt.plot(t_new[train_p+1:]/365.25,n_interpolated[train_p+1:],'-r')\n",
    "plt.xlabel(\"Time (years)\")\n",
    "plt.ylabel(\"Number of Earthquakes\")\n",
    "print((torch.sigmoid(params.data[0][0])*0.5),(torch.sigmoid(params.data[0][1])*0.1),(torch.sigmoid(params.data[0][2])*0.002))"
   ]
  },
  {
   "cell_type": "code",
   "execution_count": 13,
   "id": "84a1e4a6-5967-4096-bd32-90760c8a4ca7",
   "metadata": {},
   "outputs": [
    {
     "name": "stdout",
     "output_type": "stream",
     "text": [
      "[  0  76 193 211 226 278 586 641 767 888]\n"
     ]
    }
   ],
   "source": [
    "print(peak_k)"
   ]
  },
  {
   "cell_type": "code",
   "execution_count": null,
   "id": "4980ff0b-f0e4-4c1a-8430-7808ae95d95e",
   "metadata": {},
   "outputs": [],
   "source": []
  }
 ],
 "metadata": {
  "kernelspec": {
   "display_name": "Python 3 (ipykernel)",
   "language": "python",
   "name": "python3"
  },
  "language_info": {
   "codemirror_mode": {
    "name": "ipython",
    "version": 3
   },
   "file_extension": ".py",
   "mimetype": "text/x-python",
   "name": "python",
   "nbconvert_exporter": "python",
   "pygments_lexer": "ipython3",
   "version": "3.7.1"
  }
 },
 "nbformat": 4,
 "nbformat_minor": 5
}
